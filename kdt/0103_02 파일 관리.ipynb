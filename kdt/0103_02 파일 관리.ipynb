{
 "cells": [
  {
   "cell_type": "markdown",
   "id": "3786c790",
   "metadata": {},
   "source": [
    "## Python기반의 Process Automation :  파일,  폴더 관리 자동화\n",
    "- 파일명 변경, 폴더 옮기기, 파일 분류  등 파일에 관한 작업을 자동화\n",
    "- os : 운영체제와 관련된 함수, 클래스 등을 제공 라이브러리 (파일, 폴더와 관련된 함수, 클래스 포함)\n",
    "- shutil : 파일, 폴더와 관련된 함수 , 클래스 제공 라이브러리\n",
    "- glob 모듈 :  디렉터리 와일드카드 검색으로 파일 목록을 만드는 함수를 제공"
   ]
  },
  {
   "cell_type": "code",
   "execution_count": 5,
   "id": "eaa4f68a",
   "metadata": {},
   "outputs": [
    {
     "ename": "FileNotFoundError",
     "evalue": "[WinError 3] 지정된 경로를 찾을 수 없습니다: 'C:\\\\workspace'",
     "output_type": "error",
     "traceback": [
      "\u001b[1;31m---------------------------------------------------------------------------\u001b[0m",
      "\u001b[1;31mFileNotFoundError\u001b[0m                         Traceback (most recent call last)",
      "\u001b[1;32m~\\AppData\\Local\\Temp/ipykernel_540/2754250447.py\u001b[0m in \u001b[0;36m<module>\u001b[1;34m\u001b[0m\n\u001b[0;32m      5\u001b[0m \u001b[1;32mimport\u001b[0m \u001b[0mos\u001b[0m\u001b[1;33m\u001b[0m\u001b[1;33m\u001b[0m\u001b[0m\n\u001b[0;32m      6\u001b[0m \u001b[1;33m\u001b[0m\u001b[0m\n\u001b[1;32m----> 7\u001b[1;33m \u001b[1;32mfor\u001b[0m \u001b[0mfname\u001b[0m \u001b[1;32min\u001b[0m \u001b[0mos\u001b[0m\u001b[1;33m.\u001b[0m\u001b[0mlistdir\u001b[0m\u001b[1;33m(\u001b[0m\u001b[1;34m'C:\\workspace'\u001b[0m\u001b[1;33m)\u001b[0m \u001b[1;33m:\u001b[0m\u001b[1;33m\u001b[0m\u001b[1;33m\u001b[0m\u001b[0m\n\u001b[0m\u001b[0;32m      8\u001b[0m     \u001b[0mprint\u001b[0m\u001b[1;33m(\u001b[0m\u001b[0mfname\u001b[0m\u001b[1;33m)\u001b[0m\u001b[1;33m\u001b[0m\u001b[1;33m\u001b[0m\u001b[0m\n",
      "\u001b[1;31mFileNotFoundError\u001b[0m: [WinError 3] 지정된 경로를 찾을 수 없습니다: 'C:\\\\workspace'"
     ]
    }
   ],
   "source": [
    "import glob\n",
    "glob.glob('*.py')   # 작업디렉토리 workspace\n",
    "\n",
    "# os.listdir(directory_path) : 인수로 전달한 디렉토리 아래 저장된 파일 목록들을 반환\n",
    "import os\n",
    "\n",
    "for fname in os.listdir('C:\\workspace') :\n",
    "    print(fname)"
   ]
  },
  {
   "cell_type": "code",
   "execution_count": 4,
   "id": "6d88c5f9",
   "metadata": {},
   "outputs": [
    {
     "name": "stdout",
     "output_type": "stream",
     "text": [
      "current directory= .\n",
      "directorys= ['.ipynb_checkpoints']\n",
      "filess= ['0103_01 각종 예제.ipynb', '0103_02 파일 관리.ipynb']\n",
      "------------------------------------------------------------\n",
      "current directory= .\\.ipynb_checkpoints\n",
      "directorys= []\n",
      "filess= ['0103_01 각종 예제-checkpoint.ipynb', '0103_02 파일 관리-checkpoint.ipynb']\n",
      "------------------------------------------------------------\n"
     ]
    }
   ],
   "source": [
    "#os.walk() : 디렉토리의 하위 디렉토리의 트리 구조를 재귀적으로 검색 수행,  디렉토리 목록, 파일 목록 반환import os\n",
    "for (curdir, dirs, files) in os.walk('.') :\n",
    "    print('current directory=', curdir)\n",
    "    print('directorys=', dirs[:])             # 디렉토리 목록 출력\n",
    "    print('filess=', files[:])                # 파일 목록 출력\n",
    "    print('-'*60)"
   ]
  },
  {
   "cell_type": "markdown",
   "id": "c5f67a36",
   "metadata": {},
   "source": [
    "- os.path.isfile(path) - 일반 파일인지 검사\n",
    "- os.path.isdir(path) - 디렉토리인지 검사\n",
    "- os.path.exists(path) - 경로의 파일이 존재하는지 검사\n",
    "- os.path.getsize(path) - 파일의 크기 확인\n",
    "- os.access(path, 검사할 권한) - F_OK(파일 존재 검사), R_OK(읽기 권한 검사), W_OK(쓰기 권한 검사), X_OK(실행 권한검사)"
   ]
  },
  {
   "cell_type": "code",
   "execution_count": 4,
   "id": "49d13a4d",
   "metadata": {
    "scrolled": true
   },
   "outputs": [
    {
     "name": "stdout",
     "output_type": "stream",
     "text": [
      "True\n",
      "False\n",
      "True\n",
      "208384\n",
      "True\n"
     ]
    }
   ],
   "source": [
    "import os\n",
    "fpath = \"C:\\\\Windows\\\\notepad.exe\"\n",
    "print(os.path.isfile(fpath))              # 일반 파일인지를 검사한다\n",
    "print(os.path.isdir(fpath))               # 디렉토리인지 검사한다\n",
    "print(os.path.exists(fpath))              # 주어진 경로의 파일이 존재하는지 검사한다\n",
    "print(os.path.getsize(fpath))             # 파일의 크기를 얻는다\n",
    "print(os.access(fpath, os.X_OK))          # 파일의 실행 권한을 확인해본다"
   ]
  },
  {
   "cell_type": "code",
   "execution_count": 2,
   "id": "808f0d9a",
   "metadata": {},
   "outputs": [
    {
     "name": "stdout",
     "output_type": "stream",
     "text": [
      "creating.. test/py_a_a_0.txt\n",
      "creating.. test/py_a_a_1.txt\n",
      "creating.. test/py_a_a_2.txt\n",
      "creating.. test/py_a_a_3.txt\n",
      "creating.. test/py_a_a_4.txt\n",
      "creating.. test/py_a_a_5.txt\n",
      "creating.. test/py_a_a_6.txt\n",
      "creating.. test/py_a_a_7.txt\n",
      "creating.. test/py_a_a_8.txt\n",
      "creating.. test/py_a_a_9.txt\n",
      "creating.. test/py_a_a_10.txt\n",
      "creating.. test/py_a_a_11.txt\n",
      "creating.. test/py_a_a_12.txt\n",
      "creating.. test/py_a_a_13.txt\n",
      "creating.. test/py_a_a_14.txt\n",
      "creating.. test/py_a_a_15.txt\n",
      "creating.. test/py_a_a_16.txt\n",
      "creating.. test/py_a_a_17.txt\n",
      "creating.. test/py_a_a_18.txt\n",
      "creating.. test/py_a_a_19.txt\n"
     ]
    }
   ],
   "source": [
    "import os\n",
    "\n",
    "if not os.path.exists('test'):\n",
    "    os.mkdir('test')\n",
    "\n",
    "for k in range(20):\n",
    "    fname = 'test/py_a_a_{}.txt'.format(k)\n",
    "    open(fname, 'w').write(fname + ' testing...')  #writelines()\n",
    "    print('creating..', fname)"
   ]
  },
  {
   "cell_type": "code",
   "execution_count": 5,
   "id": "02d81743",
   "metadata": {},
   "outputs": [
    {
     "name": "stdout",
     "output_type": "stream",
     "text": [
      "('c:\\\\workspace\\test', 'py_a_a_1.txt', 'py_a_a_1', '.txt')\n"
     ]
    }
   ],
   "source": [
    "def split_file_path(fpath) :\n",
    "    folder, fname = os.path.split(fpath)      # 경로로부터 디렉토리, 파일을 분리\n",
    "    head, tail = os.path.splitext(fname)      # 파일이름과 확장자 분리\n",
    "    return folder, fname, head, tail\n",
    "\n",
    "item = split_file_path('c:\\workspace\\test\\py_a_a_1.txt')\n",
    "print(item)"
   ]
  },
  {
   "cell_type": "code",
   "execution_count": 7,
   "id": "8b6f3ecf",
   "metadata": {},
   "outputs": [
    {
     "name": "stdout",
     "output_type": "stream",
     "text": [
      "['py', 'a', 'a', '19']\n"
     ]
    }
   ],
   "source": [
    "head = 'py_a_a_19'\n",
    "fname_list = head.split('_')\n",
    "print(fname_list)                             # [py, a, a, 1]"
   ]
  },
  {
   "cell_type": "code",
   "execution_count": 8,
   "id": "9e152d59",
   "metadata": {},
   "outputs": [
    {
     "name": "stdout",
     "output_type": "stream",
     "text": [
      "['py', 'a', 'a', '019']\n",
      "py_a_a_019\n"
     ]
    }
   ],
   "source": [
    "fname_list[-1] = '{:03d}'.format(int(fname_list[-1]))\n",
    "print(fname_list)                             # [py, a, a, 001]\n",
    "print('_'.join(fname_list))"
   ]
  },
  {
   "cell_type": "code",
   "execution_count": 3,
   "id": "a24fabce",
   "metadata": {
    "scrolled": false
   },
   "outputs": [
    {
     "ename": "NameError",
     "evalue": "name 'glob' is not defined",
     "output_type": "error",
     "traceback": [
      "\u001b[1;31m---------------------------------------------------------------------------\u001b[0m",
      "\u001b[1;31mNameError\u001b[0m                                 Traceback (most recent call last)",
      "\u001b[1;32m~\\AppData\\Local\\Temp/ipykernel_2008/749888217.py\u001b[0m in \u001b[0;36m<module>\u001b[1;34m\u001b[0m\n\u001b[0;32m      1\u001b[0m \u001b[0mtarget_string\u001b[0m \u001b[1;33m=\u001b[0m \u001b[1;34m\"py_a_a_\"\u001b[0m                                 \u001b[1;31m# py_a_a_로 시작하는 파일의 list를 glob.glob()을 사용해 받아옴\u001b[0m\u001b[1;33m\u001b[0m\u001b[1;33m\u001b[0m\u001b[0m\n\u001b[1;32m----> 2\u001b[1;33m \u001b[0mtarget_list\u001b[0m \u001b[1;33m=\u001b[0m \u001b[0mglob\u001b[0m\u001b[1;33m(\u001b[0m\u001b[1;34m\"./test/\"\u001b[0m \u001b[1;33m+\u001b[0m \u001b[0mtarget_string\u001b[0m \u001b[1;33m+\u001b[0m \u001b[1;34m\"*.txt\"\u001b[0m\u001b[1;33m)\u001b[0m\u001b[1;33m\u001b[0m\u001b[1;33m\u001b[0m\u001b[0m\n\u001b[0m\u001b[0;32m      3\u001b[0m \u001b[1;33m\u001b[0m\u001b[0m\n\u001b[0;32m      4\u001b[0m \u001b[1;32mfor\u001b[0m \u001b[0mt\u001b[0m \u001b[1;32min\u001b[0m \u001b[0mtarget_list\u001b[0m \u001b[1;33m:\u001b[0m\u001b[1;33m\u001b[0m\u001b[1;33m\u001b[0m\u001b[0m\n\u001b[0;32m      5\u001b[0m     \u001b[0mfdir\u001b[0m\u001b[1;33m,\u001b[0m \u001b[0mname\u001b[0m\u001b[1;33m,\u001b[0m \u001b[0mhead\u001b[0m\u001b[1;33m,\u001b[0m \u001b[0mtails\u001b[0m \u001b[1;33m=\u001b[0m \u001b[0msplit_file_path\u001b[0m\u001b[1;33m(\u001b[0m\u001b[0mt\u001b[0m\u001b[1;33m)\u001b[0m          \u001b[1;31m# 위에서 정의한 함수의 return값을 4개의 변수에 저장\u001b[0m\u001b[1;33m\u001b[0m\u001b[1;33m\u001b[0m\u001b[0m\n",
      "\u001b[1;31mNameError\u001b[0m: name 'glob' is not defined"
     ]
    }
   ],
   "source": [
    "target_string = \"py_a_a_\"                                 # py_a_a_로 시작하는 파일의 list를 glob.glob()을 사용해 받아옴\n",
    "target_list = glob(\"./test/\" + target_string + \"*.txt\")\n",
    "\n",
    "for t in target_list :\n",
    "    fdir, name, head, tails = split_file_path(t)          # 위에서 정의한 함수의 return값을 4개의 변수에 저장\n",
    "    head_split = head.split(\"_\")                          # 파일의 이름을 \"_\" 기준으로 나눈 후 list로 반환\n",
    "    head_split[-1] = \"{:03d}\".format(int(head_split[-1])) # 반환된 list의 마지막 요소의 형식 변경\n",
    "    temp = \"_\".join(head_split)                           # 변경한 부분을 포함한 list를 하나의 문자열로 합침\n",
    "    result = fdir + \"\\\\\" + temp + tails                  # 경로\\이름.확장자\n",
    "    os.rename(t, result)                                  # 이름 변경\n",
    "    print(t,\"-->\",result)"
   ]
  },
  {
   "cell_type": "code",
   "execution_count": 1,
   "id": "76c58765",
   "metadata": {},
   "outputs": [],
   "source": [
    "import tkinter\n",
    "window = tkinter.Tk()          # 화면을 구성하는 객체를 만든다?\n",
    "window.title(\"윈도 창 연습\")\n",
    "window.mainloop()"
   ]
  },
  {
   "cell_type": "code",
   "execution_count": 2,
   "id": "1e1efb5c",
   "metadata": {},
   "outputs": [],
   "source": [
    "import tkinter\n",
    "window = tkinter.Tk()\n",
    "window.title(\"윈도 창 연습\")\n",
    "window.geometry(\"400x100\")     # 사이즈 고정, 변경 안 된다!\n",
    "window.resizable(width = False, height = False)\n",
    "\n",
    "window.mainloop()"
   ]
  },
  {
   "cell_type": "code",
   "execution_count": 4,
   "id": "f3194ae3",
   "metadata": {},
   "outputs": [],
   "source": [
    "from tkinter import *\n",
    "window = tkinter.Tk()\n",
    "\n",
    "label1 = Label(window, text = \"GUI python은\")\n",
    "label2 = Label(window, text = \"맛보기용\", font = ('궁서체', 30), fg = 'blue')\n",
    "label3 = Label(window, text = \"공부해보세요\", bg = 'green', width = 20, height = 5, anchor = SE)\n",
    "\n",
    "label1.pack()\n",
    "label2.pack()\n",
    "label3.pack()\n",
    "window.mainloop()"
   ]
  },
  {
   "cell_type": "code",
   "execution_count": 5,
   "id": "28eb7c25",
   "metadata": {},
   "outputs": [],
   "source": [
    "from tkinter import *\n",
    "window = Tk() \n",
    "button1 = Button(window, text = \"파이썬 종료\", fg = \"red\", command = quit)\n",
    "button1.pack()\n",
    "window.mainloop()"
   ]
  },
  {
   "cell_type": "code",
   "execution_count": 4,
   "id": "a65915cb",
   "metadata": {},
   "outputs": [
    {
     "ename": "TclError",
     "evalue": "image \"pyimage2\" doesn't exist",
     "output_type": "error",
     "traceback": [
      "\u001b[1;31m---------------------------------------------------------------------------\u001b[0m",
      "\u001b[1;31mTclError\u001b[0m                                  Traceback (most recent call last)",
      "\u001b[1;32m~\\AppData\\Local\\Temp/ipykernel_8016/3116410133.py\u001b[0m in \u001b[0;36m<module>\u001b[1;34m\u001b[0m\n\u001b[0;32m      8\u001b[0m \u001b[0mwindow\u001b[0m \u001b[1;33m=\u001b[0m \u001b[0mTk\u001b[0m\u001b[1;33m(\u001b[0m\u001b[1;33m)\u001b[0m\u001b[1;33m\u001b[0m\u001b[1;33m\u001b[0m\u001b[0m\n\u001b[0;32m      9\u001b[0m \u001b[0mphoto\u001b[0m \u001b[1;33m=\u001b[0m \u001b[0mPhotoImage\u001b[0m\u001b[1;33m(\u001b[0m\u001b[0mfile\u001b[0m \u001b[1;33m=\u001b[0m \u001b[1;34m\"\"\u001b[0m\u001b[1;33m)\u001b[0m\u001b[1;33m\u001b[0m\u001b[1;33m\u001b[0m\u001b[0m\n\u001b[1;32m---> 10\u001b[1;33m \u001b[0mbutton1\u001b[0m \u001b[1;33m=\u001b[0m \u001b[0mButton\u001b[0m\u001b[1;33m(\u001b[0m\u001b[0mwindow\u001b[0m\u001b[1;33m,\u001b[0m \u001b[0mimage\u001b[0m \u001b[1;33m=\u001b[0m \u001b[0mphoto\u001b[0m\u001b[1;33m,\u001b[0m \u001b[0mcommand\u001b[0m \u001b[1;33m=\u001b[0m \u001b[0mmyFunc\u001b[0m\u001b[1;33m)\u001b[0m\u001b[1;33m\u001b[0m\u001b[1;33m\u001b[0m\u001b[0m\n\u001b[0m\u001b[0;32m     11\u001b[0m \u001b[0mbutton1\u001b[0m\u001b[1;33m.\u001b[0m\u001b[0mpack\u001b[0m\u001b[1;33m(\u001b[0m\u001b[1;33m)\u001b[0m\u001b[1;33m\u001b[0m\u001b[1;33m\u001b[0m\u001b[0m\n\u001b[0;32m     12\u001b[0m \u001b[0mwindow\u001b[0m\u001b[1;33m.\u001b[0m\u001b[0mmainloop\u001b[0m\u001b[1;33m(\u001b[0m\u001b[1;33m)\u001b[0m\u001b[1;33m\u001b[0m\u001b[1;33m\u001b[0m\u001b[0m\n",
      "\u001b[1;32m~\\anaconda3\\lib\\tkinter\\__init__.py\u001b[0m in \u001b[0;36m__init__\u001b[1;34m(self, master, cnf, **kw)\u001b[0m\n\u001b[0;32m   2648\u001b[0m             \u001b[0moverrelief\u001b[0m\u001b[1;33m,\u001b[0m \u001b[0mstate\u001b[0m\u001b[1;33m,\u001b[0m \u001b[0mwidth\u001b[0m\u001b[1;33m\u001b[0m\u001b[1;33m\u001b[0m\u001b[0m\n\u001b[0;32m   2649\u001b[0m         \"\"\"\n\u001b[1;32m-> 2650\u001b[1;33m         \u001b[0mWidget\u001b[0m\u001b[1;33m.\u001b[0m\u001b[0m__init__\u001b[0m\u001b[1;33m(\u001b[0m\u001b[0mself\u001b[0m\u001b[1;33m,\u001b[0m \u001b[0mmaster\u001b[0m\u001b[1;33m,\u001b[0m \u001b[1;34m'button'\u001b[0m\u001b[1;33m,\u001b[0m \u001b[0mcnf\u001b[0m\u001b[1;33m,\u001b[0m \u001b[0mkw\u001b[0m\u001b[1;33m)\u001b[0m\u001b[1;33m\u001b[0m\u001b[1;33m\u001b[0m\u001b[0m\n\u001b[0m\u001b[0;32m   2651\u001b[0m \u001b[1;33m\u001b[0m\u001b[0m\n\u001b[0;32m   2652\u001b[0m     \u001b[1;32mdef\u001b[0m \u001b[0mflash\u001b[0m\u001b[1;33m(\u001b[0m\u001b[0mself\u001b[0m\u001b[1;33m)\u001b[0m\u001b[1;33m:\u001b[0m\u001b[1;33m\u001b[0m\u001b[1;33m\u001b[0m\u001b[0m\n",
      "\u001b[1;32m~\\anaconda3\\lib\\tkinter\\__init__.py\u001b[0m in \u001b[0;36m__init__\u001b[1;34m(self, master, widgetName, cnf, kw, extra)\u001b[0m\n\u001b[0;32m   2570\u001b[0m         \u001b[1;32mfor\u001b[0m \u001b[0mk\u001b[0m\u001b[1;33m,\u001b[0m \u001b[0mv\u001b[0m \u001b[1;32min\u001b[0m \u001b[0mclasses\u001b[0m\u001b[1;33m:\u001b[0m\u001b[1;33m\u001b[0m\u001b[1;33m\u001b[0m\u001b[0m\n\u001b[0;32m   2571\u001b[0m             \u001b[1;32mdel\u001b[0m \u001b[0mcnf\u001b[0m\u001b[1;33m[\u001b[0m\u001b[0mk\u001b[0m\u001b[1;33m]\u001b[0m\u001b[1;33m\u001b[0m\u001b[1;33m\u001b[0m\u001b[0m\n\u001b[1;32m-> 2572\u001b[1;33m         self.tk.call(\n\u001b[0m\u001b[0;32m   2573\u001b[0m             (widgetName, self._w) + extra + self._options(cnf))\n\u001b[0;32m   2574\u001b[0m         \u001b[1;32mfor\u001b[0m \u001b[0mk\u001b[0m\u001b[1;33m,\u001b[0m \u001b[0mv\u001b[0m \u001b[1;32min\u001b[0m \u001b[0mclasses\u001b[0m\u001b[1;33m:\u001b[0m\u001b[1;33m\u001b[0m\u001b[1;33m\u001b[0m\u001b[0m\n",
      "\u001b[1;31mTclError\u001b[0m: image \"pyimage2\" doesn't exist"
     ]
    }
   ],
   "source": [
    "from tkinter import *\n",
    "from tkinter import messagebox\n",
    "\n",
    "def myFunc() : ## 함수 선언 부분\n",
    "    messagebox.showinfo(\"강아지 버튼\", \"강아지가 귀엽죠? ^^\")\n",
    "\n",
    "## 메인 코드 부분\n",
    "window = Tk()\n",
    "photo = PhotoImage(file = \"\")\n",
    "button1 = Button(window, image = photo, command = myFunc)\n",
    "button1.pack()\n",
    "window.mainloop()"
   ]
  },
  {
   "cell_type": "code",
   "execution_count": null,
   "id": "fa28ddbe",
   "metadata": {},
   "outputs": [],
   "source": []
  }
 ],
 "metadata": {
  "kernelspec": {
   "display_name": "Python 3 (ipykernel)",
   "language": "python",
   "name": "python3"
  },
  "language_info": {
   "codemirror_mode": {
    "name": "ipython",
    "version": 3
   },
   "file_extension": ".py",
   "mimetype": "text/x-python",
   "name": "python",
   "nbconvert_exporter": "python",
   "pygments_lexer": "ipython3",
   "version": "3.9.7"
  }
 },
 "nbformat": 4,
 "nbformat_minor": 5
}
