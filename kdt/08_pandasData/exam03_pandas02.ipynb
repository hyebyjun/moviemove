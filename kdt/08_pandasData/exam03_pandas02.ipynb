{
  "cells": [
    {
      "cell_type": "code",
      "execution_count": 25,
      "metadata": {
        "id": "B5YiIkLVQOkp"
      },
      "outputs": [],
      "source": [
        "import pandas as pd\n",
        "import numpy as np\n",
        "import seaborn as sns\n",
        "from sklearn import preprocessing"
      ]
    },
    {
      "cell_type": "markdown",
      "metadata": {
        "id": "RFvo-pi4H76X"
      },
      "source": [
        "화면에 보이는 컬럼 세팅"
      ]
    },
    {
      "cell_type": "code",
      "execution_count": 26,
      "metadata": {
        "id": "8S17tZ-1Hceo"
      },
      "outputs": [],
      "source": [
        "pd.set_option('display.max_columns', 8)   #화면에 보이는부분이 8컬럼만\n",
        "pd.set_option('display.unicode.east_asian', True)  #한글출력될때 줄 맞춰주는 코드"
      ]
    },
    {
      "cell_type": "code",
      "execution_count": 27,
      "metadata": {
        "colab": {
          "base_uri": "https://localhost:8080/"
        },
        "id": "JLq4359mbX0J",
        "outputId": "5ff67cda-834b-4cbb-9433-11efa15e8474"
      },
      "outputs": [
        {
          "name": "stdout",
          "output_type": "stream",
          "text": [
            "    survived  pclass     sex   age  ...  deck  embark_town  alive  alone\n",
            "0          0       3    male  22.0  ...   NaN  Southampton     no  False\n",
            "1          1       1  female  38.0  ...     C    Cherbourg    yes  False\n",
            "2          1       3  female  26.0  ...   NaN  Southampton    yes   True\n",
            "3          1       1  female  35.0  ...     C  Southampton    yes  False\n",
            "4          0       3    male  35.0  ...   NaN  Southampton     no   True\n",
            "5          0       3    male   NaN  ...   NaN   Queenstown     no   True\n",
            "6          0       1    male  54.0  ...     E  Southampton     no   True\n",
            "7          0       3    male   2.0  ...   NaN  Southampton     no  False\n",
            "8          1       3  female  27.0  ...   NaN  Southampton    yes  False\n",
            "9          1       2  female  14.0  ...   NaN    Cherbourg    yes  False\n",
            "10         1       3  female   4.0  ...     G  Southampton    yes  False\n",
            "11         1       1  female  58.0  ...     C  Southampton    yes   True\n",
            "12         0       3    male  20.0  ...   NaN  Southampton     no   True\n",
            "13         0       3    male  39.0  ...   NaN  Southampton     no  False\n",
            "14         0       3  female  14.0  ...   NaN  Southampton     no   True\n",
            "15         1       2  female  55.0  ...   NaN  Southampton    yes   True\n",
            "16         0       3    male   2.0  ...   NaN   Queenstown     no  False\n",
            "17         1       2    male   NaN  ...   NaN  Southampton    yes   True\n",
            "18         0       3  female  31.0  ...   NaN  Southampton     no  False\n",
            "19         1       3  female   NaN  ...   NaN    Cherbourg    yes   True\n",
            "\n",
            "[20 rows x 15 columns]\n"
          ]
        }
      ],
      "source": [
        "df = sns.load_dataset('titanic')\n",
        "print(df.head(20))"
      ]
    },
    {
      "cell_type": "code",
      "execution_count": 28,
      "metadata": {
        "colab": {
          "base_uri": "https://localhost:8080/"
        },
        "id": "rH0GhgTrbcjQ",
        "outputId": "d08c9844-92a1-4ed4-e8ad-3a0822210b87"
      },
      "outputs": [
        {
          "name": "stdout",
          "output_type": "stream",
          "text": [
            "NaN    688\n",
            "C       59\n",
            "B       47\n",
            "D       33\n",
            "E       32\n",
            "A       15\n",
            "F       13\n",
            "G        4\n",
            "Name: deck, dtype: int64\n",
            "<class 'pandas.core.series.Series'>\n"
          ]
        }
      ],
      "source": [
        "nan_deck = df['deck'].value_counts(dropna=False)\n",
        "print(nan_deck)\n",
        "print(type(nan_deck))"
      ]
    },
    {
      "cell_type": "code",
      "execution_count": 29,
      "metadata": {
        "colab": {
          "base_uri": "https://localhost:8080/"
        },
        "id": "xK0LvHvScKOX",
        "outputId": "0cf60ed5-050a-4355-c913-52f643be3c3a"
      },
      "outputs": [
        {
          "name": "stdout",
          "output_type": "stream",
          "text": [
            "   survived  pclass    sex    age  ...   deck  embark_town  alive  alone\n",
            "0     False   False  False  False  ...   True        False  False  False\n",
            "1     False   False  False  False  ...  False        False  False  False\n",
            "2     False   False  False  False  ...   True        False  False  False\n",
            "3     False   False  False  False  ...  False        False  False  False\n",
            "4     False   False  False  False  ...   True        False  False  False\n",
            "\n",
            "[5 rows x 15 columns]\n"
          ]
        }
      ],
      "source": [
        "print(df.head().isnull())"
      ]
    },
    {
      "cell_type": "code",
      "execution_count": 30,
      "metadata": {
        "colab": {
          "base_uri": "https://localhost:8080/"
        },
        "id": "gGD_VXyUcltt",
        "outputId": "a7899cfc-4174-42d8-de1a-9dc426b5dba2"
      },
      "outputs": [
        {
          "name": "stdout",
          "output_type": "stream",
          "text": [
            "   survived  pclass   sex   age  ...   deck  embark_town  alive  alone\n",
            "0      True    True  True  True  ...  False         True   True   True\n",
            "1      True    True  True  True  ...   True         True   True   True\n",
            "2      True    True  True  True  ...  False         True   True   True\n",
            "3      True    True  True  True  ...   True         True   True   True\n",
            "4      True    True  True  True  ...  False         True   True   True\n",
            "\n",
            "[5 rows x 15 columns]\n"
          ]
        }
      ],
      "source": [
        "print(df.head().notnull())"
      ]
    },
    {
      "cell_type": "code",
      "execution_count": 31,
      "metadata": {
        "colab": {
          "base_uri": "https://localhost:8080/"
        },
        "id": "O5PiVjFHc0eW",
        "outputId": "cef8830c-7c37-43a3-e965-c3be0de8a6d1"
      },
      "outputs": [
        {
          "name": "stdout",
          "output_type": "stream",
          "text": [
            "survived         0\n",
            "pclass           0\n",
            "sex              0\n",
            "age            177\n",
            "sibsp            0\n",
            "parch            0\n",
            "fare             0\n",
            "embarked         2\n",
            "class            0\n",
            "who              0\n",
            "adult_male       0\n",
            "deck           688\n",
            "embark_town      2\n",
            "alive            0\n",
            "alone            0\n",
            "dtype: int64\n"
          ]
        }
      ],
      "source": [
        "print(df.isnull().sum(axis=0)) #컬럼별로 행들을 다 합함."
      ]
    },
    {
      "cell_type": "code",
      "execution_count": 32,
      "metadata": {
        "colab": {
          "base_uri": "https://localhost:8080/"
        },
        "id": "7zKrQIoNdREe",
        "outputId": "cb77deba-e005-4477-c87b-df4a2b2c2f06"
      },
      "outputs": [
        {
          "name": "stdout",
          "output_type": "stream",
          "text": [
            "<class 'pandas.core.frame.DataFrame'>\n",
            "RangeIndex: 891 entries, 0 to 890\n",
            "Data columns (total 15 columns):\n",
            " #   Column       Non-Null Count  Dtype   \n",
            "---  ------       --------------  -----   \n",
            " 0   survived     891 non-null    int64   \n",
            " 1   pclass       891 non-null    int64   \n",
            " 2   sex          891 non-null    object  \n",
            " 3   age          714 non-null    float64 \n",
            " 4   sibsp        891 non-null    int64   \n",
            " 5   parch        891 non-null    int64   \n",
            " 6   fare         891 non-null    float64 \n",
            " 7   embarked     889 non-null    object  \n",
            " 8   class        891 non-null    category\n",
            " 9   who          891 non-null    object  \n",
            " 10  adult_male   891 non-null    bool    \n",
            " 11  deck         203 non-null    category\n",
            " 12  embark_town  889 non-null    object  \n",
            " 13  alive        891 non-null    object  \n",
            " 14  alone        891 non-null    bool    \n",
            "dtypes: bool(2), category(2), float64(2), int64(4), object(5)\n",
            "memory usage: 80.7+ KB\n"
          ]
        }
      ],
      "source": [
        "df.info()"
      ]
    },
    {
      "cell_type": "code",
      "execution_count": 33,
      "metadata": {
        "colab": {
          "base_uri": "https://localhost:8080/"
        },
        "id": "iQPbec__dSKu",
        "outputId": "5e9c9846-6455-4509-e6f6-f18528b9f93d"
      },
      "outputs": [
        {
          "name": "stdout",
          "output_type": "stream",
          "text": [
            "Index(['survived', 'pclass', 'sex', 'age', 'sibsp', 'parch', 'fare',\n",
            "       'embarked', 'class', 'who', 'adult_male', 'embark_town', 'alive',\n",
            "       'alone'],\n",
            "      dtype='object')\n"
          ]
        }
      ],
      "source": [
        "df.dropna(axis=1, thresh=500, inplace=True) #none값이 500개 이상이면\n",
        "print(df.columns)"
      ]
    },
    {
      "cell_type": "code",
      "execution_count": 34,
      "metadata": {
        "colab": {
          "base_uri": "https://localhost:8080/"
        },
        "id": "XfQNqervdm0d",
        "outputId": "4a2ae835-fb50-4e1a-880d-62bb6db5e4ce"
      },
      "outputs": [
        {
          "name": "stdout",
          "output_type": "stream",
          "text": [
            "<class 'pandas.core.frame.DataFrame'>\n",
            "Int64Index: 714 entries, 0 to 890\n",
            "Data columns (total 14 columns):\n",
            " #   Column       Non-Null Count  Dtype   \n",
            "---  ------       --------------  -----   \n",
            " 0   survived     714 non-null    int64   \n",
            " 1   pclass       714 non-null    int64   \n",
            " 2   sex          714 non-null    object  \n",
            " 3   age          714 non-null    float64 \n",
            " 4   sibsp        714 non-null    int64   \n",
            " 5   parch        714 non-null    int64   \n",
            " 6   fare         714 non-null    float64 \n",
            " 7   embarked     712 non-null    object  \n",
            " 8   class        714 non-null    category\n",
            " 9   who          714 non-null    object  \n",
            " 10  adult_male   714 non-null    bool    \n",
            " 11  embark_town  712 non-null    object  \n",
            " 12  alive        714 non-null    object  \n",
            " 13  alone        714 non-null    bool    \n",
            "dtypes: bool(2), category(1), float64(2), int64(4), object(5)\n",
            "memory usage: 69.2+ KB\n"
          ]
        }
      ],
      "source": [
        "df_age = df.dropna(subset=['age'], how='any', axis=0) #로우를 지울거라서 axis=0\n",
        "df_age.info()"
      ]
    },
    {
      "cell_type": "code",
      "execution_count": 35,
      "metadata": {
        "colab": {
          "base_uri": "https://localhost:8080/"
        },
        "id": "fTRqOiJ_edCX",
        "outputId": "0259d17e-9ccb-4457-f5e0-f5528812625e"
      },
      "outputs": [
        {
          "name": "stdout",
          "output_type": "stream",
          "text": [
            "   survived  pclass     sex        age  ...  adult_male  embark_town  alive  \\\n",
            "0         0       3    male  22.000000  ...        True  Southampton     no   \n",
            "1         1       1  female  38.000000  ...       False    Cherbourg    yes   \n",
            "2         1       3  female  26.000000  ...       False  Southampton    yes   \n",
            "3         1       1  female  35.000000  ...       False  Southampton    yes   \n",
            "4         0       3    male  35.000000  ...        True  Southampton     no   \n",
            "5         0       3    male  29.699118  ...        True   Queenstown     no   \n",
            "6         0       1    male  54.000000  ...        True  Southampton     no   \n",
            "7         0       3    male   2.000000  ...       False  Southampton     no   \n",
            "8         1       3  female  27.000000  ...       False  Southampton    yes   \n",
            "9         1       2  female  14.000000  ...       False    Cherbourg    yes   \n",
            "\n",
            "   alone  \n",
            "0  False  \n",
            "1  False  \n",
            "2   True  \n",
            "3  False  \n",
            "4   True  \n",
            "5   True  \n",
            "6   True  \n",
            "7  False  \n",
            "8  False  \n",
            "9  False  \n",
            "\n",
            "[10 rows x 14 columns]\n"
          ]
        }
      ],
      "source": [
        "mean_age = df['age'].mean()\n",
        "df['age'].fillna(mean_age, inplace =True)\n",
        "print(df.head(10))"
      ]
    },
    {
      "cell_type": "code",
      "execution_count": 36,
      "metadata": {
        "colab": {
          "base_uri": "https://localhost:8080/"
        },
        "id": "r3L25JkxfhI9",
        "outputId": "52d06bdf-0390-425a-e5bf-b50aa5f13b57"
      },
      "outputs": [
        {
          "name": "stdout",
          "output_type": "stream",
          "text": [
            "Southampton\n"
          ]
        }
      ],
      "source": [
        "most_freq = df['embark_town'].value_counts(dropna=True).idxmax()  #max값의 idx (인덱스)\n",
        "print(most_freq)"
      ]
    },
    {
      "cell_type": "code",
      "execution_count": 37,
      "metadata": {
        "colab": {
          "base_uri": "https://localhost:8080/"
        },
        "id": "uwwzYH6nhmn-",
        "outputId": "ba29a9be-5110-4450-917f-9432d8840d35"
      },
      "outputs": [
        {
          "name": "stdout",
          "output_type": "stream",
          "text": [
            "825     Queenstown\n",
            "826    Southampton\n",
            "827      Cherbourg\n",
            "828     Queenstown\n",
            "829     Queenstown\n",
            "Name: embark_town, dtype: object\n"
          ]
        }
      ],
      "source": [
        "df['embark_town'].fillna(method='ffill',inplace=True) #bfill은 뒤에 값으로 ffill은 앞의 값으로 none값을 채워줌\n",
        "print(df['embark_town'][825:830])"
      ]
    },
    {
      "cell_type": "code",
      "execution_count": 38,
      "metadata": {
        "colab": {
          "base_uri": "https://localhost:8080/"
        },
        "id": "fWCqcbgVgnrW",
        "outputId": "1098e81c-20e5-44a5-ecf7-c32687be4f3d"
      },
      "outputs": [
        {
          "name": "stdout",
          "output_type": "stream",
          "text": [
            "825     Queenstown\n",
            "826    Southampton\n",
            "827      Cherbourg\n",
            "828     Queenstown\n",
            "829     Queenstown\n",
            "Name: embark_town, dtype: object\n",
            "     survived  pclass     sex        age  ...  adult_male  embark_town  alive  \\\n",
            "825         0       3    male  29.699118  ...        True   Queenstown     no   \n",
            "826         0       3    male  29.699118  ...        True  Southampton     no   \n",
            "827         1       2    male   1.000000  ...       False    Cherbourg    yes   \n",
            "828         1       3    male  29.699118  ...        True   Queenstown    yes   \n",
            "829         1       1  female  62.000000  ...       False   Queenstown    yes   \n",
            "\n",
            "     alone  \n",
            "825   True  \n",
            "826   True  \n",
            "827  False  \n",
            "828   True  \n",
            "829   True  \n",
            "\n",
            "[5 rows x 14 columns]\n"
          ]
        }
      ],
      "source": [
        "df_most_freq = df['embark_town'].fillna(most_freq, inplace=False)\n",
        "print(df_most_freq[825:830])\n",
        "print(df[825:830])"
      ]
    },
    {
      "cell_type": "code",
      "execution_count": 39,
      "metadata": {
        "colab": {
          "base_uri": "https://localhost:8080/"
        },
        "id": "2CEduHH8hLW1",
        "outputId": "d0e43b29-5076-4c1b-8d8b-30114d9a5dfe"
      },
      "outputs": [
        {
          "name": "stdout",
          "output_type": "stream",
          "text": [
            "survived       0\n",
            "pclass         0\n",
            "sex            0\n",
            "age            0\n",
            "sibsp          0\n",
            "parch          0\n",
            "fare           0\n",
            "embarked       2\n",
            "class          0\n",
            "who            0\n",
            "adult_male     0\n",
            "embark_town    0\n",
            "alive          0\n",
            "alone          0\n",
            "dtype: int64\n"
          ]
        }
      ],
      "source": [
        "print(df.isnull().sum(axis=0))"
      ]
    },
    {
      "cell_type": "code",
      "execution_count": 40,
      "metadata": {
        "colab": {
          "base_uri": "https://localhost:8080/"
        },
        "id": "mP9SI2qCir7V",
        "outputId": "c9cc9591-9416-4c60-d047-c6d7accda6e9"
      },
      "outputs": [
        {
          "name": "stdout",
          "output_type": "stream",
          "text": [
            "     survived  pclass     sex        age  ...  adult_male  embark_town  alive  \\\n",
            "825         0       3    male  29.699118  ...        True   Queenstown     no   \n",
            "826         0       3    male  29.699118  ...        True  Southampton     no   \n",
            "827         1       2    male   1.000000  ...       False    Cherbourg    yes   \n",
            "828         1       3    male  29.699118  ...        True   Queenstown    yes   \n",
            "829         1       1  female  62.000000  ...       False   Queenstown    yes   \n",
            "\n",
            "     alone  \n",
            "825   True  \n",
            "826   True  \n",
            "827  False  \n",
            "828   True  \n",
            "829   True  \n",
            "\n",
            "[5 rows x 14 columns]\n"
          ]
        }
      ],
      "source": [
        "print(df[825:830])"
      ]
    },
    {
      "cell_type": "code",
      "execution_count": 41,
      "metadata": {
        "colab": {
          "base_uri": "https://localhost:8080/"
        },
        "id": "iXCbyK-RjSRU",
        "outputId": "cbdb25f7-d244-417d-df49-9e70adc397b6"
      },
      "outputs": [
        {
          "name": "stdout",
          "output_type": "stream",
          "text": [
            "<class 'pandas.core.frame.DataFrame'>\n",
            "RangeIndex: 891 entries, 0 to 890\n",
            "Data columns (total 12 columns):\n",
            " #   Column       Non-Null Count  Dtype   \n",
            "---  ------       --------------  -----   \n",
            " 0   pclass       891 non-null    int64   \n",
            " 1   sex          891 non-null    object  \n",
            " 2   age          891 non-null    float64 \n",
            " 3   sibsp        891 non-null    int64   \n",
            " 4   parch        891 non-null    int64   \n",
            " 5   fare         891 non-null    float64 \n",
            " 6   class        891 non-null    category\n",
            " 7   who          891 non-null    object  \n",
            " 8   adult_male   891 non-null    bool    \n",
            " 9   embark_town  891 non-null    object  \n",
            " 10  alive        891 non-null    object  \n",
            " 11  alone        891 non-null    bool    \n",
            "dtypes: bool(2), category(1), float64(2), int64(3), object(4)\n",
            "memory usage: 65.5+ KB\n"
          ]
        }
      ],
      "source": [
        "df.drop(['survived','embarked'],axis=1, inplace=True)\n",
        "df.info()"
      ]
    },
    {
      "cell_type": "code",
      "execution_count": 42,
      "metadata": {
        "colab": {
          "base_uri": "https://localhost:8080/"
        },
        "id": "gTpsJNJJjZeL",
        "outputId": "a0355ee5-b49f-4017-b638-7fecfe3d75b4"
      },
      "outputs": [
        {
          "name": "stdout",
          "output_type": "stream",
          "text": [
            "pclass         0\n",
            "sex            0\n",
            "age            0\n",
            "sibsp          0\n",
            "parch          0\n",
            "fare           0\n",
            "class          0\n",
            "who            0\n",
            "adult_male     0\n",
            "embark_town    0\n",
            "alive          0\n",
            "alone          0\n",
            "dtype: int64\n"
          ]
        }
      ],
      "source": [
        "print(df.isnull().sum(axis=0))"
      ]
    },
    {
      "cell_type": "markdown",
      "metadata": {
        "id": "FBJLBgacqLaT"
      },
      "source": [
        "중복제거"
      ]
    },
    {
      "cell_type": "code",
      "execution_count": 43,
      "metadata": {
        "colab": {
          "base_uri": "https://localhost:8080/"
        },
        "id": "g7K7yg_mqOvC",
        "outputId": "e90d07d7-d9ef-455f-9ce8-c3a4f202bfb3"
      },
      "outputs": [
        {
          "name": "stdout",
          "output_type": "stream",
          "text": [
            "  c1  c2  c3\n",
            "0  a   1   1\n",
            "1  a   1   1\n",
            "2  b   1   2\n",
            "3  a   2   2\n",
            "4  b   2   2\n"
          ]
        }
      ],
      "source": [
        "df = pd.DataFrame({'c1':['a','a','b','a','b'],\n",
        "                   'c2':[1,1,1,2,2],\n",
        "                   'c3':[1,1,2,2,2]})\n",
        "print(df)"
      ]
    },
    {
      "cell_type": "code",
      "execution_count": 44,
      "metadata": {
        "colab": {
          "base_uri": "https://localhost:8080/"
        },
        "id": "ZWNDm5tlqpcY",
        "outputId": "6e8cb99b-62e9-4934-80c0-a78dd4116261"
      },
      "outputs": [
        {
          "name": "stdout",
          "output_type": "stream",
          "text": [
            "0    False\n",
            "1     True\n",
            "2    False\n",
            "3    False\n",
            "4    False\n",
            "dtype: bool\n"
          ]
        }
      ],
      "source": [
        "df_dup = df.duplicated() #컬럼값 세개가 다 같은 경우\n",
        "print(df_dup)"
      ]
    },
    {
      "cell_type": "code",
      "execution_count": 45,
      "metadata": {
        "colab": {
          "base_uri": "https://localhost:8080/"
        },
        "id": "RzW5-79Iq59J",
        "outputId": "6e7738bd-1cc5-46d7-dcbb-6b7cb9dfcef2"
      },
      "outputs": [
        {
          "name": "stdout",
          "output_type": "stream",
          "text": [
            "0    False\n",
            "1     True\n",
            "2     True\n",
            "3    False\n",
            "4     True\n",
            "Name: c2, dtype: bool\n"
          ]
        }
      ],
      "source": [
        "df_dup = df['c2'].duplicated()\n",
        "print(df_dup)"
      ]
    },
    {
      "cell_type": "code",
      "execution_count": 46,
      "metadata": {
        "colab": {
          "base_uri": "https://localhost:8080/"
        },
        "id": "TXVZzNm3rYWx",
        "outputId": "2daf31f2-6c21-439c-f190-7e9753e80d3f"
      },
      "outputs": [
        {
          "name": "stdout",
          "output_type": "stream",
          "text": [
            "  c1  c2  c3\n",
            "0  a   1   1\n",
            "2  b   1   2\n",
            "3  a   2   2\n",
            "4  b   2   2\n"
          ]
        }
      ],
      "source": [
        "df2 = df.drop_duplicates()\n",
        "print(df2)"
      ]
    },
    {
      "cell_type": "code",
      "execution_count": 47,
      "metadata": {
        "colab": {
          "base_uri": "https://localhost:8080/"
        },
        "id": "HTJdznhfrxQq",
        "outputId": "9d4e1091-1272-4564-e279-83fda8c01fab"
      },
      "outputs": [
        {
          "name": "stdout",
          "output_type": "stream",
          "text": [
            "  c1  c2  c3\n",
            "0  a   1   1\n",
            "2  b   1   2\n",
            "3  a   2   2\n"
          ]
        }
      ],
      "source": [
        "df2 = df.drop_duplicates(subset=['c2','c3']) #c2랑 c3로만 비교\n",
        "print(df2)"
      ]
    },
    {
      "cell_type": "code",
      "execution_count": 48,
      "metadata": {
        "colab": {
          "base_uri": "https://localhost:8080/",
          "height": 485
        },
        "id": "50cN_chhr_pQ",
        "outputId": "71269ea0-047f-4c3a-a51b-fe23a590dea0"
      },
      "outputs": [
        {
          "data": {
            "text/html": [
              "<div>\n",
              "<style scoped>\n",
              "    .dataframe tbody tr th:only-of-type {\n",
              "        vertical-align: middle;\n",
              "    }\n",
              "\n",
              "    .dataframe tbody tr th {\n",
              "        vertical-align: top;\n",
              "    }\n",
              "\n",
              "    .dataframe thead th {\n",
              "        text-align: right;\n",
              "    }\n",
              "</style>\n",
              "<table border=\"1\" class=\"dataframe\">\n",
              "  <thead>\n",
              "    <tr style=\"text-align: right;\">\n",
              "      <th></th>\n",
              "      <th>mpg</th>\n",
              "      <th>cylinders</th>\n",
              "      <th>displacement</th>\n",
              "      <th>horsepower</th>\n",
              "      <th>...</th>\n",
              "      <th>acceleration</th>\n",
              "      <th>modelyear</th>\n",
              "      <th>origin</th>\n",
              "      <th>name</th>\n",
              "    </tr>\n",
              "  </thead>\n",
              "  <tbody>\n",
              "    <tr>\n",
              "      <th>0</th>\n",
              "      <td>18.0</td>\n",
              "      <td>8</td>\n",
              "      <td>307.0</td>\n",
              "      <td>130.0</td>\n",
              "      <td>...</td>\n",
              "      <td>12.0</td>\n",
              "      <td>70</td>\n",
              "      <td>1</td>\n",
              "      <td>chevrolet chevelle malibu</td>\n",
              "    </tr>\n",
              "    <tr>\n",
              "      <th>1</th>\n",
              "      <td>15.0</td>\n",
              "      <td>8</td>\n",
              "      <td>350.0</td>\n",
              "      <td>165.0</td>\n",
              "      <td>...</td>\n",
              "      <td>11.5</td>\n",
              "      <td>70</td>\n",
              "      <td>1</td>\n",
              "      <td>buick skylark 320</td>\n",
              "    </tr>\n",
              "    <tr>\n",
              "      <th>2</th>\n",
              "      <td>18.0</td>\n",
              "      <td>8</td>\n",
              "      <td>318.0</td>\n",
              "      <td>150.0</td>\n",
              "      <td>...</td>\n",
              "      <td>11.0</td>\n",
              "      <td>70</td>\n",
              "      <td>1</td>\n",
              "      <td>plymouth satellite</td>\n",
              "    </tr>\n",
              "    <tr>\n",
              "      <th>3</th>\n",
              "      <td>16.0</td>\n",
              "      <td>8</td>\n",
              "      <td>304.0</td>\n",
              "      <td>150.0</td>\n",
              "      <td>...</td>\n",
              "      <td>12.0</td>\n",
              "      <td>70</td>\n",
              "      <td>1</td>\n",
              "      <td>amc rebel sst</td>\n",
              "    </tr>\n",
              "    <tr>\n",
              "      <th>4</th>\n",
              "      <td>17.0</td>\n",
              "      <td>8</td>\n",
              "      <td>302.0</td>\n",
              "      <td>140.0</td>\n",
              "      <td>...</td>\n",
              "      <td>10.5</td>\n",
              "      <td>70</td>\n",
              "      <td>1</td>\n",
              "      <td>ford torino</td>\n",
              "    </tr>\n",
              "    <tr>\n",
              "      <th>...</th>\n",
              "      <td>...</td>\n",
              "      <td>...</td>\n",
              "      <td>...</td>\n",
              "      <td>...</td>\n",
              "      <td>...</td>\n",
              "      <td>...</td>\n",
              "      <td>...</td>\n",
              "      <td>...</td>\n",
              "      <td>...</td>\n",
              "    </tr>\n",
              "    <tr>\n",
              "      <th>393</th>\n",
              "      <td>27.0</td>\n",
              "      <td>4</td>\n",
              "      <td>140.0</td>\n",
              "      <td>86.00</td>\n",
              "      <td>...</td>\n",
              "      <td>15.6</td>\n",
              "      <td>82</td>\n",
              "      <td>1</td>\n",
              "      <td>ford mustang gl</td>\n",
              "    </tr>\n",
              "    <tr>\n",
              "      <th>394</th>\n",
              "      <td>44.0</td>\n",
              "      <td>4</td>\n",
              "      <td>97.0</td>\n",
              "      <td>52.00</td>\n",
              "      <td>...</td>\n",
              "      <td>24.6</td>\n",
              "      <td>82</td>\n",
              "      <td>2</td>\n",
              "      <td>vw pickup</td>\n",
              "    </tr>\n",
              "    <tr>\n",
              "      <th>395</th>\n",
              "      <td>32.0</td>\n",
              "      <td>4</td>\n",
              "      <td>135.0</td>\n",
              "      <td>84.00</td>\n",
              "      <td>...</td>\n",
              "      <td>11.6</td>\n",
              "      <td>82</td>\n",
              "      <td>1</td>\n",
              "      <td>dodge rampage</td>\n",
              "    </tr>\n",
              "    <tr>\n",
              "      <th>396</th>\n",
              "      <td>28.0</td>\n",
              "      <td>4</td>\n",
              "      <td>120.0</td>\n",
              "      <td>79.00</td>\n",
              "      <td>...</td>\n",
              "      <td>18.6</td>\n",
              "      <td>82</td>\n",
              "      <td>1</td>\n",
              "      <td>ford ranger</td>\n",
              "    </tr>\n",
              "    <tr>\n",
              "      <th>397</th>\n",
              "      <td>31.0</td>\n",
              "      <td>4</td>\n",
              "      <td>119.0</td>\n",
              "      <td>82.00</td>\n",
              "      <td>...</td>\n",
              "      <td>19.4</td>\n",
              "      <td>82</td>\n",
              "      <td>1</td>\n",
              "      <td>chevy s-10</td>\n",
              "    </tr>\n",
              "  </tbody>\n",
              "</table>\n",
              "<p>398 rows × 9 columns</p>\n",
              "</div>"
            ],
            "text/plain": [
              "      mpg  cylinders  displacement horsepower  ...  acceleration  modelyear  \\\n",
              "0    18.0          8         307.0      130.0  ...          12.0         70   \n",
              "1    15.0          8         350.0      165.0  ...          11.5         70   \n",
              "2    18.0          8         318.0      150.0  ...          11.0         70   \n",
              "3    16.0          8         304.0      150.0  ...          12.0         70   \n",
              "4    17.0          8         302.0      140.0  ...          10.5         70   \n",
              "..    ...        ...           ...        ...  ...           ...        ...   \n",
              "393  27.0          4         140.0      86.00  ...          15.6         82   \n",
              "394  44.0          4          97.0      52.00  ...          24.6         82   \n",
              "395  32.0          4         135.0      84.00  ...          11.6         82   \n",
              "396  28.0          4         120.0      79.00  ...          18.6         82   \n",
              "397  31.0          4         119.0      82.00  ...          19.4         82   \n",
              "\n",
              "     origin                       name  \n",
              "0         1  chevrolet chevelle malibu  \n",
              "1         1          buick skylark 320  \n",
              "2         1         plymouth satellite  \n",
              "3         1              amc rebel sst  \n",
              "4         1                ford torino  \n",
              "..      ...                        ...  \n",
              "393       1            ford mustang gl  \n",
              "394       2                  vw pickup  \n",
              "395       1              dodge rampage  \n",
              "396       1                ford ranger  \n",
              "397       1                 chevy s-10  \n",
              "\n",
              "[398 rows x 9 columns]"
            ]
          },
          "execution_count": 48,
          "metadata": {},
          "output_type": "execute_result"
        }
      ],
      "source": [
        "import pandas as pd\n",
        "df = pd.read_csv('./datasets/auto-mpg.csv',\n",
        "                 names=['mpg', 'cylinders', 'displacement', 'horsepower', 'weight', 'acceleration', 'modelyear', 'origin', 'name'])\n",
        "df"
      ]
    },
    {
      "cell_type": "code",
      "execution_count": 49,
      "metadata": {
        "id": "2YL-tPM4vg26"
      },
      "outputs": [],
      "source": [
        "df['horsepower'].replace('?',np.nan, inplace=True) #결측치는 일단 nan으로 바꿔놓고, 그 다음 어떻게 처리할지\n",
        "df.dropna(subset=['horsepower'],axis=0, inplace=True)\n",
        "df['horsepower']=df['horsepower'].astype('float')"
      ]
    },
    {
      "cell_type": "code",
      "execution_count": 50,
      "metadata": {
        "colab": {
          "base_uri": "https://localhost:8080/"
        },
        "id": "NJynRMBIt9Ho",
        "outputId": "5812da38-cab3-44e7-eff8-707a7427e8d8"
      },
      "outputs": [
        {
          "name": "stdout",
          "output_type": "stream",
          "text": [
            "\n"
          ]
        }
      ],
      "source": [
        "mpg_to_kpl = 0.425144\n",
        "df['kpl'] = df['mpg']*mpg_to_kpl\n",
        "print()"
      ]
    },
    {
      "cell_type": "code",
      "execution_count": 51,
      "metadata": {
        "colab": {
          "base_uri": "https://localhost:8080/"
        },
        "id": "FBXNkPh5FCw7",
        "outputId": "c327b516-0c4d-459c-e6b4-8be95f1104b1"
      },
      "outputs": [
        {
          "name": "stdout",
          "output_type": "stream",
          "text": [
            "[1 3 2]\n"
          ]
        }
      ],
      "source": [
        "print(df['origin'].unique())"
      ]
    },
    {
      "cell_type": "code",
      "execution_count": 52,
      "metadata": {
        "colab": {
          "base_uri": "https://localhost:8080/"
        },
        "id": "gQnIuV_VI9Wg",
        "outputId": "678be852-0bfd-41d1-dd8d-7b5c080bf4b7"
      },
      "outputs": [
        {
          "name": "stdout",
          "output_type": "stream",
          "text": [
            "['USA' 'JP' 'EU']\n",
            "0      USA\n",
            "1      USA\n",
            "2      USA\n",
            "3      USA\n",
            "4      USA\n",
            "      ... \n",
            "393    USA\n",
            "394     EU\n",
            "395    USA\n",
            "396    USA\n",
            "397    USA\n",
            "Name: origin, Length: 392, dtype: object\n"
          ]
        }
      ],
      "source": [
        "df['origin'].replace({1:'USA', 2:'EU', 3:'JP'}, inplace=True)\n",
        "print(df['origin'].unique())\n",
        "print(df['origin'])"
      ]
    },
    {
      "cell_type": "code",
      "execution_count": 53,
      "metadata": {
        "colab": {
          "base_uri": "https://localhost:8080/"
        },
        "id": "VDOkoV--JRJQ",
        "outputId": "71625fda-56ea-4a83-c85c-0416548c0229"
      },
      "outputs": [
        {
          "name": "stdout",
          "output_type": "stream",
          "text": [
            "object\n"
          ]
        }
      ],
      "source": [
        "print(df['origin'].dtypes)"
      ]
    },
    {
      "cell_type": "code",
      "execution_count": 54,
      "metadata": {
        "colab": {
          "base_uri": "https://localhost:8080/"
        },
        "id": "RZBp61XFKAZ3",
        "outputId": "64d70725-2bda-43e5-fee1-696306018779"
      },
      "outputs": [
        {
          "name": "stdout",
          "output_type": "stream",
          "text": [
            "category\n",
            "0      USA\n",
            "1      USA\n",
            "2      USA\n",
            "3      USA\n",
            "4      USA\n",
            "      ... \n",
            "393    USA\n",
            "394     EU\n",
            "395    USA\n",
            "396    USA\n",
            "397    USA\n",
            "Name: origin, Length: 392, dtype: category\n",
            "Categories (3, object): ['EU', 'JP', 'USA']\n"
          ]
        }
      ],
      "source": [
        "df['origin'] = df['origin'].astype('category')\n",
        "print(df['origin'].dtypes)\n",
        "print(df['origin'])"
      ]
    },
    {
      "cell_type": "code",
      "execution_count": 55,
      "metadata": {
        "colab": {
          "base_uri": "https://localhost:8080/"
        },
        "id": "PVtEVD4bKLdI",
        "outputId": "e9d94c68-54da-492a-993e-824fb5c13cf8"
      },
      "outputs": [
        {
          "name": "stdout",
          "output_type": "stream",
          "text": [
            "0      USA\n",
            "1      USA\n",
            "2      USA\n",
            "3      USA\n",
            "4      USA\n",
            "      ... \n",
            "393    USA\n",
            "394     EU\n",
            "395    USA\n",
            "396    USA\n",
            "397    USA\n",
            "Name: origin, Length: 392, dtype: category\n",
            "Categories (3, object): ['EU', 'JP', 'USA']\n"
          ]
        }
      ],
      "source": [
        "print(df['origin'])"
      ]
    },
    {
      "cell_type": "code",
      "execution_count": 56,
      "metadata": {
        "colab": {
          "base_uri": "https://localhost:8080/"
        },
        "id": "5_3UcuMjLdvo",
        "outputId": "9fa643c2-c6f0-4ee6-8eba-57135448f6ab"
      },
      "outputs": [
        {
          "name": "stdout",
          "output_type": "stream",
          "text": [
            "[257 103  32]\n",
            "[ 46.         107.33333333 168.66666667 230.        ]\n"
          ]
        }
      ],
      "source": [
        "count, bin_dividers = np.histogram(df['horsepower'], bins=3)\n",
        "print(count)          \n",
        "print(bin_dividers)   #4개의 경계값을 만들어줘서 구간이 3개 생김"
      ]
    },
    {
      "cell_type": "code",
      "execution_count": 57,
      "metadata": {
        "colab": {
          "base_uri": "https://localhost:8080/"
        },
        "id": "4jwbIE0iLvln",
        "outputId": "2d8f7933-681f-424d-809f-bd93d04f45ec"
      },
      "outputs": [
        {
          "name": "stdout",
          "output_type": "stream",
          "text": [
            "    horsepower    hp_bin\n",
            "0        130.0  보통출력\n",
            "1        165.0  보통출력\n",
            "2        150.0  보통출력\n",
            "3        150.0  보통출력\n",
            "4        140.0  보통출력\n",
            "5        198.0    고출력\n",
            "6        220.0    고출력\n",
            "7        215.0    고출력\n",
            "8        225.0    고출력\n",
            "9        190.0    고출력\n",
            "10       170.0    고출력\n",
            "11       160.0  보통출력\n",
            "12       150.0  보통출력\n",
            "13       225.0    고출력\n",
            "14        95.0    저출력\n",
            "15        95.0    저출력\n",
            "16        97.0    저출력\n",
            "17        85.0    저출력\n",
            "18        88.0    저출력\n",
            "19        46.0    저출력\n"
          ]
        }
      ],
      "source": [
        "bin_names = ['저출력','보통출력','고출력']\n",
        "df['hp_bin'] = pd.cut(x=df['horsepower'], bins=bin_dividers, labels=bin_names, include_lowest=True)\n",
        "#경계값을 어떻게 포함시킬지, 107.33은 보통출력이됨\n",
        "print(df[['horsepower','hp_bin']].head(20))"
      ]
    },
    {
      "cell_type": "code",
      "execution_count": 58,
      "metadata": {
        "colab": {
          "base_uri": "https://localhost:8080/"
        },
        "id": "rbRcwjOCNIpP",
        "outputId": "8e4ee3a7-6c7c-44c8-c529-f3af6d611330"
      },
      "outputs": [
        {
          "name": "stdout",
          "output_type": "stream",
          "text": [
            "<class 'pandas.core.frame.DataFrame'>\n",
            "Int64Index: 392 entries, 0 to 397\n",
            "Data columns (total 11 columns):\n",
            " #   Column        Non-Null Count  Dtype   \n",
            "---  ------        --------------  -----   \n",
            " 0   mpg           392 non-null    float64 \n",
            " 1   cylinders     392 non-null    int64   \n",
            " 2   displacement  392 non-null    float64 \n",
            " 3   horsepower    392 non-null    float64 \n",
            " 4   weight        392 non-null    float64 \n",
            " 5   acceleration  392 non-null    float64 \n",
            " 6   modelyear     392 non-null    int64   \n",
            " 7   origin        392 non-null    category\n",
            " 8   name          392 non-null    object  \n",
            " 9   kpl           392 non-null    float64 \n",
            " 10  hp_bin        392 non-null    category\n",
            "dtypes: category(2), float64(6), int64(2), object(1)\n",
            "memory usage: 31.6+ KB\n"
          ]
        }
      ],
      "source": [
        "df.info()"
      ]
    },
    {
      "cell_type": "code",
      "execution_count": 59,
      "metadata": {
        "id": "yiKDjcHhNStO"
      },
      "outputs": [],
      "source": [
        "label_encoder = preprocessing.LabelEncoder()\n",
        "onehot_encoder = preprocessing.OneHotEncoder()"
      ]
    },
    {
      "cell_type": "code",
      "execution_count": 60,
      "metadata": {
        "colab": {
          "base_uri": "https://localhost:8080/"
        },
        "id": "fWY-id9SR0TX",
        "outputId": "97249fbb-c623-4a4c-92da-3ad05e9be9a5"
      },
      "outputs": [
        {
          "name": "stdout",
          "output_type": "stream",
          "text": [
            "[1 1 1 1 1 0 0 0 0 0 0 1 1 0 2]\n",
            "<class 'numpy.ndarray'>\n",
            "['고출력' '보통출력' '저출력']\n"
          ]
        }
      ],
      "source": [
        "hp_bin_labeled = label_encoder.fit_transform(df['hp_bin'].head(15))\n",
        "print(hp_bin_labeled)\n",
        "print(type(hp_bin_labeled))\n",
        "print(label_encoder.classes_)  #라벨에 대한 정보는 label_encoder가 가지고 있음"
      ]
    },
    {
      "cell_type": "code",
      "execution_count": 61,
      "metadata": {
        "colab": {
          "base_uri": "https://localhost:8080/"
        },
        "id": "Hs7CsO79SU_u",
        "outputId": "ee3e6a4e-5210-4e7d-f848-44d0b8df5e94"
      },
      "outputs": [
        {
          "name": "stdout",
          "output_type": "stream",
          "text": [
            "(15,)\n"
          ]
        }
      ],
      "source": [
        "print(hp_bin_labeled.shape) #자료가 15개 들어있음 튜플형태로 출력"
      ]
    },
    {
      "cell_type": "code",
      "execution_count": 62,
      "metadata": {
        "colab": {
          "base_uri": "https://localhost:8080/"
        },
        "id": "Ie2kUo_uU9iv",
        "outputId": "3af1ceb5-97cb-480b-ed10-c2795eb87356"
      },
      "outputs": [
        {
          "name": "stdout",
          "output_type": "stream",
          "text": [
            "[[1]\n",
            " [1]\n",
            " [1]\n",
            " [1]\n",
            " [1]\n",
            " [0]\n",
            " [0]\n",
            " [0]\n",
            " [0]\n",
            " [0]\n",
            " [0]\n",
            " [1]\n",
            " [1]\n",
            " [0]\n",
            " [2]]\n",
            "(15, 1)\n"
          ]
        }
      ],
      "source": [
        "hp_bin_labeled = hp_bin_labeled.reshape(-1, 1)   #-1은 알아서 묶어주라는...?\n",
        "print(hp_bin_labeled)\n",
        "print(hp_bin_labeled.shape)"
      ]
    },
    {
      "cell_type": "code",
      "execution_count": null,
      "metadata": {
        "id": "bXAOBjcLVct9"
      },
      "outputs": [],
      "source": []
    }
  ],
  "metadata": {
    "colab": {
      "name": "exam03_pandas02.ipynb",
      "provenance": []
    },
    "kernelspec": {
      "display_name": "Python 3",
      "name": "python3"
    },
    "language_info": {
      "codemirror_mode": {
        "name": "ipython",
        "version": 3
      },
      "file_extension": ".py",
      "mimetype": "text/x-python",
      "name": "python",
      "nbconvert_exporter": "python",
      "pygments_lexer": "ipython3",
      "version": "3.9.9"
    }
  },
  "nbformat": 4,
  "nbformat_minor": 0
}
