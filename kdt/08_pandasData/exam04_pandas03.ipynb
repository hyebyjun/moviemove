{
 "cells": [
  {
   "cell_type": "code",
   "execution_count": 15,
   "metadata": {},
   "outputs": [],
   "source": [
    "import pandas as pd\n",
    "import seaborn as sns  # 데이터 예제 불러오는 용"
   ]
  },
  {
   "cell_type": "markdown",
   "metadata": {},
   "source": [
    "### 🎈 Apply()"
   ]
  },
  {
   "cell_type": "code",
   "execution_count": 16,
   "metadata": {},
   "outputs": [
    {
     "name": "stdout",
     "output_type": "stream",
     "text": [
      "    age     fare  ten\n",
      "0  22.0   7.2500   10\n",
      "1  38.0  71.2833   10\n",
      "2  26.0   7.9250   10\n",
      "3  35.0  53.1000   10\n",
      "4  35.0   8.0500   10\n"
     ]
    }
   ],
   "source": [
    "titanic = sns.load_dataset('titanic')\n",
    "df = titanic.loc[:, ['age', 'fare']]\n",
    "# df['fare'] = df['fare'].round(1)\n",
    "df['ten'] = 10\n",
    "print(df.head())"
   ]
  },
  {
   "cell_type": "code",
   "execution_count": 17,
   "metadata": {},
   "outputs": [
    {
     "name": "stdout",
     "output_type": "stream",
     "text": [
      "0      27.0\n",
      "1      43.0\n",
      "2      31.0\n",
      "3      40.0\n",
      "4      40.0\n",
      "       ... \n",
      "886    32.0\n",
      "887    24.0\n",
      "888     NaN\n",
      "889    31.0\n",
      "890    37.0\n",
      "Name: age, Length: 891, dtype: float64\n"
     ]
    }
   ],
   "source": [
    "# 방법 1\n",
    "\n",
    "def add_5(n) :\n",
    "  return n + 5\n",
    "\n",
    "for i in range(len(df)):\n",
    "  df.iloc[i, 0] = add_5(df.iloc[i, 0])\n",
    "\n",
    "print(df.age)"
   ]
  },
  {
   "cell_type": "code",
   "execution_count": 18,
   "metadata": {},
   "outputs": [
    {
     "name": "stdout",
     "output_type": "stream",
     "text": [
      "0      32.0\n",
      "1      48.0\n",
      "2      36.0\n",
      "3      45.0\n",
      "4      45.0\n",
      "       ... \n",
      "886    37.0\n",
      "887    29.0\n",
      "888     NaN\n",
      "889    36.0\n",
      "890    42.0\n",
      "Name: age, Length: 891, dtype: float64\n"
     ]
    }
   ],
   "source": [
    "# 방법 2\n",
    "\n",
    "sr1 = df['age'].apply(add_5)  # 객체.apply(적용할 함수명)\n",
    "print(sr1)"
   ]
  },
  {
   "cell_type": "code",
   "execution_count": 19,
   "metadata": {},
   "outputs": [
    {
     "name": "stdout",
     "output_type": "stream",
     "text": [
      "0      22.0\n",
      "1      38.0\n",
      "2      26.0\n",
      "3      35.0\n",
      "4      35.0\n",
      "       ... \n",
      "886    27.0\n",
      "887    19.0\n",
      "888     NaN\n",
      "889    26.0\n",
      "890    32.0\n",
      "Name: age, Length: 891, dtype: float64\n"
     ]
    }
   ],
   "source": [
    "# 방법 3\n",
    "\n",
    "sr1 = df['age'].apply(lambda x: x-5)\n",
    "# 람다 함수 이제야 이해된..;; 함수선언을 약식으로 저기다가..\n",
    "print(sr1)"
   ]
  },
  {
   "cell_type": "markdown",
   "metadata": {},
   "source": [
    "### 🎆 Concat()"
   ]
  },
  {
   "cell_type": "code",
   "execution_count": 20,
   "metadata": {},
   "outputs": [
    {
     "name": "stdout",
     "output_type": "stream",
     "text": [
      "    a   b   c\n",
      "0  a0  b0  c0\n",
      "1  a1  b1  c1\n",
      "2  a2  b2  c2\n",
      "3  a3  b3  c3\n",
      "    a   b   c   d\n",
      "2  a2  b2  c2  d2\n",
      "3  a3  b3  c3  d3\n",
      "4  a4  b4  c4  d4\n",
      "5  a5  b5  c5  d5\n"
     ]
    }
   ],
   "source": [
    "df1 = pd.DataFrame({'a':['a0', 'a1', 'a2', 'a3'],\n",
    "                    'b':['b0', 'b1', 'b2', 'b3'],\n",
    "                    'c':['c0', 'c1', 'c2', 'c3']}, \n",
    "                   index=[0, 1, 2, 3])\n",
    "\n",
    "df2 = pd.DataFrame({'a':['a2', 'a3', 'a4', 'a5'],\n",
    "                    'b':['b2', 'b3', 'b4', 'b5'],\n",
    "                    'c':['c2', 'c3', 'c4', 'c5'],\n",
    "                    'd':['d2', 'd3', 'd4', 'd5']}, \n",
    "                   index=[2, 3, 4, 5])\n",
    "\n",
    "print(df1)\n",
    "print(df2)"
   ]
  },
  {
   "cell_type": "code",
   "execution_count": 21,
   "metadata": {},
   "outputs": [
    {
     "name": "stdout",
     "output_type": "stream",
     "text": [
      "      a     b     c   d\n",
      "0   NaN   NaN   NaN NaN\n",
      "1   NaN   NaN   NaN NaN\n",
      "2  a2a2  b2b2  c2c2 NaN\n",
      "3  a3a3  b3b3  c3c3 NaN\n",
      "4   NaN   NaN   NaN NaN\n",
      "5   NaN   NaN   NaN NaN\n"
     ]
    }
   ],
   "source": [
    "result1 = df1 + df2\n",
    "print(result1)  # 겹치는 항목만 리턴하고 나머지는 NaN"
   ]
  },
  {
   "cell_type": "code",
   "execution_count": 22,
   "metadata": {},
   "outputs": [
    {
     "name": "stdout",
     "output_type": "stream",
     "text": [
      "    a   b   c    d\n",
      "0  a0  b0  c0  NaN\n",
      "1  a1  b1  c1  NaN\n",
      "2  a2  b2  c2  NaN\n",
      "3  a3  b3  c3  NaN\n",
      "2  a2  b2  c2   d2\n",
      "3  a3  b3  c3   d3\n",
      "4  a4  b4  c4   d4\n",
      "5  a5  b5  c5   d5\n"
     ]
    }
   ],
   "source": [
    "result1 = pd.concat([df1, df2])\n",
    "print(result1)  # 이건 같은 좌표에서 더한다기보다 그냥 이어붙이기..?"
   ]
  },
  {
   "cell_type": "code",
   "execution_count": 23,
   "metadata": {},
   "outputs": [
    {
     "name": "stdout",
     "output_type": "stream",
     "text": [
      "    a   b   c    d\n",
      "0  a0  b0  c0  NaN\n",
      "1  a1  b1  c1  NaN\n",
      "2  a2  b2  c2  NaN\n",
      "3  a3  b3  c3  NaN\n",
      "4  a2  b2  c2   d2\n",
      "5  a3  b3  c3   d3\n",
      "6  a4  b4  c4   d4\n",
      "7  a5  b5  c5   d5\n"
     ]
    }
   ],
   "source": [
    "result1 = pd.concat([df1, df2], ignore_index=True)  # 기존 인덱스 무시하고 새로 넘버링\n",
    "print(result1)"
   ]
  },
  {
   "cell_type": "code",
   "execution_count": 24,
   "metadata": {},
   "outputs": [
    {
     "name": "stdout",
     "output_type": "stream",
     "text": [
      "     a    b    c    a    b    c    d\n",
      "0   a0   b0   c0  NaN  NaN  NaN  NaN\n",
      "1   a1   b1   c1  NaN  NaN  NaN  NaN\n",
      "2   a2   b2   c2   a2   b2   c2   d2\n",
      "3   a3   b3   c3   a3   b3   c3   d3\n",
      "4  NaN  NaN  NaN   a4   b4   c4   d4\n",
      "5  NaN  NaN  NaN   a5   b5   c5   d5\n"
     ]
    }
   ],
   "source": [
    "result2 = pd.concat([df1, df2], axis='columns')\n",
    "print(result2)"
   ]
  },
  {
   "cell_type": "code",
   "execution_count": 25,
   "metadata": {},
   "outputs": [
    {
     "name": "stdout",
     "output_type": "stream",
     "text": [
      "    a   b   c   a   b   c   d\n",
      "2  a2  b2  c2  a2  b2  c2  d2\n",
      "3  a3  b3  c3  a3  b3  c3  d3\n"
     ]
    }
   ],
   "source": [
    "result3 = pd.concat([df1, df2], axis='columns', join='inner')\n",
    "print(result3)"
   ]
  },
  {
   "cell_type": "markdown",
   "metadata": {},
   "source": [
    "### 🎇 ???"
   ]
  },
  {
   "cell_type": "code",
   "execution_count": 27,
   "metadata": {},
   "outputs": [
    {
     "name": "stdout",
     "output_type": "stream",
     "text": [
      "891\n",
      "    age     sex  class     fare  survived\n",
      "0  22.0    male  Third   7.2500         0\n",
      "1  38.0  female  First  71.2833         1\n",
      "2  26.0  female  Third   7.9250         1\n",
      "3  35.0  female  First  53.1000         1\n",
      "4  35.0    male  Third   8.0500         0\n"
     ]
    }
   ],
   "source": [
    "df = titanic.loc[:, ['age', 'sex', 'class', 'fare', 'survived']]\n",
    "print(len(df))\n",
    "print(df.head())"
   ]
  },
  {
   "cell_type": "code",
   "execution_count": 28,
   "metadata": {},
   "outputs": [
    {
     "data": {
      "text/plain": [
       "['Third', 'First', 'Second']\n",
       "Categories (3, object): ['First', 'Second', 'Third']"
      ]
     },
     "execution_count": 28,
     "metadata": {},
     "output_type": "execute_result"
    }
   ],
   "source": [
    "df['class'].unique()"
   ]
  },
  {
   "cell_type": "code",
   "execution_count": 30,
   "metadata": {},
   "outputs": [
    {
     "name": "stdout",
     "output_type": "stream",
     "text": [
      "<pandas.core.groupby.generic.DataFrameGroupBy object at 0x00000170C2B48F40>\n"
     ]
    }
   ],
   "source": [
    "grouped = df.groupby(['class'])\n",
    "print(grouped)"
   ]
  },
  {
   "cell_type": "code",
   "execution_count": 31,
   "metadata": {},
   "outputs": [
    {
     "name": "stdout",
     "output_type": "stream",
     "text": [
      "key : First\n",
      "length : 216\n",
      "     age     sex  class     fare  survived\n",
      "1   38.0  female  First  71.2833         1\n",
      "3   35.0  female  First  53.1000         1\n",
      "6   54.0    male  First  51.8625         0\n",
      "11  58.0  female  First  26.5500         1\n",
      "23  28.0    male  First  35.5000         1\n",
      "key : Second\n",
      "length : 184\n",
      "     age     sex   class     fare  survived\n",
      "9   14.0  female  Second  30.0708         1\n",
      "15  55.0  female  Second  16.0000         1\n",
      "17   NaN    male  Second  13.0000         1\n",
      "20  35.0    male  Second  26.0000         0\n",
      "21  34.0    male  Second  13.0000         1\n",
      "key : Third\n",
      "length : 491\n",
      "    age     sex  class     fare  survived\n",
      "0  22.0    male  Third   7.2500         0\n",
      "2  26.0  female  Third   7.9250         1\n",
      "4  35.0    male  Third   8.0500         0\n",
      "5   NaN    male  Third   8.4583         0\n",
      "7   2.0    male  Third  21.0750         0\n"
     ]
    }
   ],
   "source": [
    "grouped_df = {}\n",
    "for key, group in grouped:\n",
    "    print('key :', key)\n",
    "    print('length :', len(group))\n",
    "    grouped_df[key] = group\n",
    "    print(group.head())"
   ]
  },
  {
   "cell_type": "code",
   "execution_count": 37,
   "metadata": {},
   "outputs": [
    {
     "name": "stdout",
     "output_type": "stream",
     "text": [
      "          age   fare  survived\n",
      "class                         \n",
      "First   38.23  84.15      0.63\n",
      "Second  29.88  20.66      0.47\n",
      "Third   25.14  13.68      0.24\n"
     ]
    }
   ],
   "source": [
    "avg = grouped.mean().round(2)\n",
    "print(avg)"
   ]
  },
  {
   "cell_type": "code",
   "execution_count": 38,
   "metadata": {},
   "outputs": [
    {
     "name": "stdout",
     "output_type": "stream",
     "text": [
      "         age   sex    fare  survived\n",
      "class                               \n",
      "First   80.0  male  512.33         1\n",
      "Second  70.0  male   73.50         1\n",
      "Third   74.0  male   69.55         1\n"
     ]
    }
   ],
   "source": [
    "avg = grouped.max().round(2)\n",
    "print(avg)"
   ]
  },
  {
   "cell_type": "code",
   "execution_count": 47,
   "metadata": {},
   "outputs": [
    {
     "name": "stdout",
     "output_type": "stream",
     "text": [
      "key : ('First', 'female')\n",
      "length : 94\n",
      "     age     sex  class      fare  survived\n",
      "1   38.0  female  First   71.2833         1\n",
      "3   35.0  female  First   53.1000         1\n",
      "11  58.0  female  First   26.5500         1\n",
      "31   NaN  female  First  146.5208         1\n",
      "52  49.0  female  First   76.7292         1\n",
      "key : ('First', 'male')\n",
      "length : 122\n",
      "     age   sex  class      fare  survived\n",
      "6   54.0  male  First   51.8625         0\n",
      "23  28.0  male  First   35.5000         1\n",
      "27  19.0  male  First  263.0000         0\n",
      "30  40.0  male  First   27.7208         0\n",
      "34  28.0  male  First   82.1708         0\n",
      "key : ('Second', 'female')\n",
      "length : 76\n",
      "     age     sex   class     fare  survived\n",
      "9   14.0  female  Second  30.0708         1\n",
      "15  55.0  female  Second  16.0000         1\n",
      "41  27.0  female  Second  21.0000         0\n",
      "43   3.0  female  Second  41.5792         1\n",
      "53  29.0  female  Second  26.0000         1\n",
      "key : ('Second', 'male')\n",
      "length : 108\n",
      "     age   sex   class  fare  survived\n",
      "17   NaN  male  Second  13.0         1\n",
      "20  35.0  male  Second  26.0         0\n",
      "21  34.0  male  Second  13.0         1\n",
      "33  66.0  male  Second  10.5         0\n",
      "70  32.0  male  Second  10.5         0\n",
      "key : ('Third', 'female')\n",
      "length : 144\n",
      "     age     sex  class     fare  survived\n",
      "2   26.0  female  Third   7.9250         1\n",
      "8   27.0  female  Third  11.1333         1\n",
      "10   4.0  female  Third  16.7000         1\n",
      "14  14.0  female  Third   7.8542         0\n",
      "18  31.0  female  Third  18.0000         0\n",
      "key : ('Third', 'male')\n",
      "length : 347\n",
      "     age   sex  class     fare  survived\n",
      "0   22.0  male  Third   7.2500         0\n",
      "4   35.0  male  Third   8.0500         0\n",
      "5    NaN  male  Third   8.4583         0\n",
      "7    2.0  male  Third  21.0750         0\n",
      "12  20.0  male  Third   8.0500         0\n"
     ]
    }
   ],
   "source": [
    "grouped_two = df.groupby(['class', 'sex'])\n",
    "for key, group in grouped_two:\n",
    "    print('key :', key)\n",
    "    print('length :', len(group))\n",
    "    print(group.head())"
   ]
  },
  {
   "cell_type": "code",
   "execution_count": 52,
   "metadata": {},
   "outputs": [
    {
     "name": "stdout",
     "output_type": "stream",
     "text": [
      "                  age     fare  survived\n",
      "class  sex                              \n",
      "First  female  34.612  106.126     0.968\n",
      "       male    41.281   67.226     0.369\n",
      "Second female  28.723   21.970     0.921\n",
      "       male    30.741   19.742     0.157\n",
      "Third  female  21.750   16.119     0.500\n",
      "       male    26.508   12.662     0.135\n"
     ]
    }
   ],
   "source": [
    "print(grouped_two.mean().round(3))"
   ]
  },
  {
   "cell_type": "code",
   "execution_count": 55,
   "metadata": {},
   "outputs": [
    {
     "name": "stdout",
     "output_type": "stream",
     "text": [
      "     age     sex  class   fare  survived\n",
      "2   26.0  female  Third   7.92         1\n",
      "8   27.0  female  Third  11.13         1\n",
      "10   4.0  female  Third  16.70         1\n",
      "14  14.0  female  Third   7.85         0\n",
      "18  31.0  female  Third  18.00         0\n"
     ]
    }
   ],
   "source": [
    "group3f = grouped_two.get_group(('Third', 'female'))\n",
    "print(group3f.head().round(2))"
   ]
  },
  {
   "cell_type": "code",
   "execution_count": null,
   "metadata": {},
   "outputs": [],
   "source": [
    "# dfg = grouped\n",
    "\n",
    "# print(dfg.loc['First'])\n",
    "# print(dfg.xs('female', level='sex'))"
   ]
  },
  {
   "cell_type": "markdown",
   "metadata": {},
   "source": [
    "### ✨ 피벗테이블"
   ]
  },
  {
   "cell_type": "code",
   "execution_count": 57,
   "metadata": {},
   "outputs": [
    {
     "data": {
      "text/html": [
       "<div>\n",
       "<style scoped>\n",
       "    .dataframe tbody tr th:only-of-type {\n",
       "        vertical-align: middle;\n",
       "    }\n",
       "\n",
       "    .dataframe tbody tr th {\n",
       "        vertical-align: top;\n",
       "    }\n",
       "\n",
       "    .dataframe thead th {\n",
       "        text-align: right;\n",
       "    }\n",
       "</style>\n",
       "<table border=\"1\" class=\"dataframe\">\n",
       "  <thead>\n",
       "    <tr style=\"text-align: right;\">\n",
       "      <th></th>\n",
       "      <th>age</th>\n",
       "      <th>sex</th>\n",
       "      <th>class</th>\n",
       "      <th>fare</th>\n",
       "      <th>survived</th>\n",
       "    </tr>\n",
       "  </thead>\n",
       "  <tbody>\n",
       "    <tr>\n",
       "      <th>0</th>\n",
       "      <td>22.0</td>\n",
       "      <td>male</td>\n",
       "      <td>Third</td>\n",
       "      <td>7.2500</td>\n",
       "      <td>0</td>\n",
       "    </tr>\n",
       "    <tr>\n",
       "      <th>1</th>\n",
       "      <td>38.0</td>\n",
       "      <td>female</td>\n",
       "      <td>First</td>\n",
       "      <td>71.2833</td>\n",
       "      <td>1</td>\n",
       "    </tr>\n",
       "    <tr>\n",
       "      <th>2</th>\n",
       "      <td>26.0</td>\n",
       "      <td>female</td>\n",
       "      <td>Third</td>\n",
       "      <td>7.9250</td>\n",
       "      <td>1</td>\n",
       "    </tr>\n",
       "    <tr>\n",
       "      <th>3</th>\n",
       "      <td>35.0</td>\n",
       "      <td>female</td>\n",
       "      <td>First</td>\n",
       "      <td>53.1000</td>\n",
       "      <td>1</td>\n",
       "    </tr>\n",
       "    <tr>\n",
       "      <th>4</th>\n",
       "      <td>35.0</td>\n",
       "      <td>male</td>\n",
       "      <td>Third</td>\n",
       "      <td>8.0500</td>\n",
       "      <td>0</td>\n",
       "    </tr>\n",
       "    <tr>\n",
       "      <th>...</th>\n",
       "      <td>...</td>\n",
       "      <td>...</td>\n",
       "      <td>...</td>\n",
       "      <td>...</td>\n",
       "      <td>...</td>\n",
       "    </tr>\n",
       "    <tr>\n",
       "      <th>886</th>\n",
       "      <td>27.0</td>\n",
       "      <td>male</td>\n",
       "      <td>Second</td>\n",
       "      <td>13.0000</td>\n",
       "      <td>0</td>\n",
       "    </tr>\n",
       "    <tr>\n",
       "      <th>887</th>\n",
       "      <td>19.0</td>\n",
       "      <td>female</td>\n",
       "      <td>First</td>\n",
       "      <td>30.0000</td>\n",
       "      <td>1</td>\n",
       "    </tr>\n",
       "    <tr>\n",
       "      <th>888</th>\n",
       "      <td>NaN</td>\n",
       "      <td>female</td>\n",
       "      <td>Third</td>\n",
       "      <td>23.4500</td>\n",
       "      <td>0</td>\n",
       "    </tr>\n",
       "    <tr>\n",
       "      <th>889</th>\n",
       "      <td>26.0</td>\n",
       "      <td>male</td>\n",
       "      <td>First</td>\n",
       "      <td>30.0000</td>\n",
       "      <td>1</td>\n",
       "    </tr>\n",
       "    <tr>\n",
       "      <th>890</th>\n",
       "      <td>32.0</td>\n",
       "      <td>male</td>\n",
       "      <td>Third</td>\n",
       "      <td>7.7500</td>\n",
       "      <td>0</td>\n",
       "    </tr>\n",
       "  </tbody>\n",
       "</table>\n",
       "<p>891 rows × 5 columns</p>\n",
       "</div>"
      ],
      "text/plain": [
       "      age     sex   class     fare  survived\n",
       "0    22.0    male   Third   7.2500         0\n",
       "1    38.0  female   First  71.2833         1\n",
       "2    26.0  female   Third   7.9250         1\n",
       "3    35.0  female   First  53.1000         1\n",
       "4    35.0    male   Third   8.0500         0\n",
       "..    ...     ...     ...      ...       ...\n",
       "886  27.0    male  Second  13.0000         0\n",
       "887  19.0  female   First  30.0000         1\n",
       "888   NaN  female   Third  23.4500         0\n",
       "889  26.0    male   First  30.0000         1\n",
       "890  32.0    male   Third   7.7500         0\n",
       "\n",
       "[891 rows x 5 columns]"
      ]
     },
     "execution_count": 57,
     "metadata": {},
     "output_type": "execute_result"
    }
   ],
   "source": [
    "df"
   ]
  },
  {
   "cell_type": "code",
   "execution_count": 60,
   "metadata": {},
   "outputs": [
    {
     "name": "stdout",
     "output_type": "stream",
     "text": [
      "sex     female   male\n",
      "class                \n",
      "First    34.61  41.28\n",
      "Second   28.72  30.74\n",
      "Third    21.75  26.51\n",
      "<class 'pandas.core.frame.DataFrame'>\n"
     ]
    }
   ],
   "source": [
    "pdf1 = pd.pivot_table(df,\n",
    "                      index='class',\n",
    "                      columns='sex',\n",
    "                      values='age',\n",
    "                      aggfunc='mean')  # age 값을 다 넣을 수 없기 때문에 평균 등의 산출값으로 퉁침\n",
    "print(pdf1.round(2))\n",
    "print(type(pdf1))"
   ]
  },
  {
   "cell_type": "code",
   "execution_count": 62,
   "metadata": {},
   "outputs": [
    {
     "name": "stdout",
     "output_type": "stream",
     "text": [
      "          age           fare       \n",
      "sex    female   male  female   male\n",
      "class                              \n",
      "First   34.61  41.28  106.13  67.23\n",
      "Second  28.72  30.74   21.97  19.74\n",
      "Third   21.75  26.51   16.12  12.66\n",
      "<class 'pandas.core.frame.DataFrame'>\n"
     ]
    }
   ],
   "source": [
    "pdf2 = pd.pivot_table(df,\n",
    "                      index='class',\n",
    "                      columns='sex',\n",
    "                      values=['age', 'fare'],\n",
    "                      aggfunc='mean')\n",
    "print(pdf2.round(2))\n",
    "print(type(pdf2))"
   ]
  },
  {
   "cell_type": "code",
   "execution_count": 63,
   "metadata": {},
   "outputs": [
    {
     "name": "stdout",
     "output_type": "stream",
     "text": [
      "         mean            sum             std       \n",
      "sex    female   male  female     male female   male\n",
      "class                                              \n",
      "First   34.61  41.28  2942.0  4169.42  13.61  15.14\n",
      "Second  28.72  30.74  2125.5  3043.33  12.87  14.79\n",
      "Third   21.75  26.51  2218.5  6706.42  12.73  12.16\n",
      "<class 'pandas.core.frame.DataFrame'>\n"
     ]
    }
   ],
   "source": [
    "pdf3 = pd.pivot_table(df,\n",
    "                      index='class',\n",
    "                      columns='sex',\n",
    "                      values='age',\n",
    "                      aggfunc=['mean', 'sum', 'std'])\n",
    "print(pdf3.round(2))\n",
    "print(type(pdf3))"
   ]
  },
  {
   "cell_type": "code",
   "execution_count": 65,
   "metadata": {},
   "outputs": [
    {
     "name": "stdout",
     "output_type": "stream",
     "text": [
      "survived           0      1\n",
      "class  sex                 \n",
      "First  female  25.67  34.94\n",
      "       male    44.58  36.25\n",
      "Second female  36.00  28.08\n",
      "       male    33.37  16.02\n",
      "Third  female  23.82  19.33\n",
      "       male    27.26  22.27\n",
      "<class 'pandas.core.frame.DataFrame'>\n"
     ]
    }
   ],
   "source": [
    "pdf4 = pd.pivot_table(df,\n",
    "                      index=['class', 'sex'],\n",
    "                      columns='survived',\n",
    "                      values='age',\n",
    "                      aggfunc='mean')\n",
    "print(pdf4.round(2))\n",
    "print(type(pdf4))"
   ]
  },
  {
   "cell_type": "code",
   "execution_count": 66,
   "metadata": {},
   "outputs": [
    {
     "name": "stdout",
     "output_type": "stream",
     "text": [
      "MultiIndex([( 'First', 'female'),\n",
      "            ( 'First',   'male'),\n",
      "            ('Second', 'female'),\n",
      "            ('Second',   'male'),\n",
      "            ( 'Third', 'female'),\n",
      "            ( 'Third',   'male')],\n",
      "           names=['class', 'sex'])\n",
      "Int64Index([0, 1], dtype='int64', name='survived')\n"
     ]
    }
   ],
   "source": [
    "print(pdf4.index)\n",
    "print(pdf4.columns)"
   ]
  },
  {
   "cell_type": "code",
   "execution_count": null,
   "metadata": {},
   "outputs": [],
   "source": []
  }
 ],
 "metadata": {
  "interpreter": {
   "hash": "4575c94a40ab9deff75d62c2d009a795e0a61bcd141d3513a0cd65a998cae360"
  },
  "kernelspec": {
   "display_name": "Python 3.7.11 ('DL_exam_37')",
   "language": "python",
   "name": "python3"
  },
  "language_info": {
   "codemirror_mode": {
    "name": "ipython",
    "version": 3
   },
   "file_extension": ".py",
   "mimetype": "text/x-python",
   "name": "python",
   "nbconvert_exporter": "python",
   "pygments_lexer": "ipython3",
   "version": "3.9.9"
  },
  "orig_nbformat": 4
 },
 "nbformat": 4,
 "nbformat_minor": 2
}
