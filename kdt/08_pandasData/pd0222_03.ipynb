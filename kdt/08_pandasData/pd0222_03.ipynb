{
 "cells": [
  {
   "cell_type": "code",
   "execution_count": 1,
   "id": "e60833e9",
   "metadata": {},
   "outputs": [
    {
     "name": "stdout",
     "output_type": "stream",
     "text": [
      "0    강나래\n",
      "1    강태원\n",
      "2    강호림\n",
      "3    김수찬\n",
      "4    김재욱\n",
      "5    박동현\n",
      "6    박혜정\n",
      "7    승근열\n",
      "Name: 이름, dtype: object\n"
     ]
    }
   ],
   "source": [
    "import pandas as pd\n",
    "import matplotlib.pyplot as plt\n",
    "\n",
    "\n",
    "# 이 키들은 나중에 db에서 컬럼이 된다\n",
    "data = {\n",
    "'이름' : ['강나래', '강태원', '강호림', '김수찬', '김재욱', '박동현', '박혜정', '승근열'],\n",
    "'학교' : ['구로고', '구로고', '구로고', '구로고', '구로고', '디지털고', '디지털고', '디지털고'],\n",
    "'키' : [197, 184, 168, 187, 188, 202, 188, 190],\n",
    "'국어' : [90, 40, 80, 40, 15, 80, 55, 100],\n",
    "'영어' : [85, 35, 75, 60, 20, 100, 65, 85],\n",
    "'수학' : [100, 50, 70, 70, 10, 95, 45, 90],\n",
    "'과학' : [95, 55, 80, 75, 35, 85, 40, 95],\n",
    "'사회' : [85, 25, 75, 80, 10, 80, 35, 95],\n",
    "'SW특기' : ['Python', 'Java', 'Javascript', '', '', 'C', 'PYTHON', 'C#']\n",
    "}\n",
    "\n",
    "df = pd.DataFrame(data)\n",
    "df = pd.DataFrame(data, columns=['이름', '학교', '키'])\n",
    "\n",
    "# print(df[0])       # 안됨\n",
    "# print(df['0'])     # 안됨\n",
    "print(df['이름'])    # 컬럼명만 된다"
   ]
  },
  {
   "cell_type": "code",
   "execution_count": 2,
   "id": "3946f804",
   "metadata": {},
   "outputs": [
    {
     "name": "stdout",
     "output_type": "stream",
     "text": [
      "    이름    학교    키   국어   영어   수학\n",
      "0  강나래   구로고  197   90   85  100\n",
      "1  강태원   구로고  184   40   35   50\n",
      "2  강호림   구로고  168   80   75   70\n",
      "3  김수찬   구로고  187   40   60   70\n",
      "4  김재욱   구로고  188   15   20   10\n",
      "5  박동현  디지털고  202   80  100   95\n",
      "6  박혜정  디지털고  188   55   65   45\n",
      "7  승근열  디지털고  190  100   85   90\n"
     ]
    }
   ],
   "source": [
    "df = pd.DataFrame(data, columns=['이름', '학교', '키', '국어', '영어', '수학'])   # 컬럼명 순서 바꿔주기 가능\n",
    "print(df)"
   ]
  },
  {
   "cell_type": "code",
   "execution_count": 3,
   "id": "905a6b48",
   "metadata": {},
   "outputs": [
    {
     "name": "stdout",
     "output_type": "stream",
     "text": [
      "Index(['1번', '2번', '3번', '4번', '5번', '6번', '7번', '8번'], dtype='object', name='지원번호')\n"
     ]
    }
   ],
   "source": [
    "# 인덱스의 개별항목이름과 인덱스이름 지어주기\n",
    "df = pd.DataFrame(data, index=['1번', '2번', '3번', '4번', '5번', '6번', '7번', '8번'])\n",
    "df.index.name = '지원번호'\n",
    "print(df.index) # 인덱스만 보기"
   ]
  },
  {
   "cell_type": "code",
   "execution_count": 5,
   "id": "1c30b0b8",
   "metadata": {},
   "outputs": [
    {
     "name": "stdout",
     "output_type": "stream",
     "text": [
      "     index 지원번호    학교    키   국어   영어   수학  과학  사회        SW특기\n",
      "이름                                                           \n",
      "강나래      0   1번   구로고  197   90   85  100  95  85      Python\n",
      "강태원      1   2번   구로고  184   40   35   50  55  25        Java\n",
      "강호림      2   3번   구로고  168   80   75   70  80  75  Javascript\n",
      "김수찬      3   4번   구로고  187   40   60   70  75  80            \n",
      "김재욱      4   5번   구로고  188   15   20   10  35  10            \n",
      "박동현      5   6번  디지털고  202   80  100   95  85  80           C\n",
      "박혜정      6   7번  디지털고  188   55   65   45  40  35      PYTHON\n",
      "승근열      7   8번  디지털고  190  100   85   90  95  95          C#\n"
     ]
    }
   ],
   "source": [
    "# 인덱스 지원번호 리셋하기\n",
    "# df.reset_index()  #라고만 하면 안된다\n",
    "df.reset_index(inplace=True)   #라고 해야된다.. 만들다 말았냐..\n",
    "# 하지만 실제 인덱스는 날아가도 인덱스 이름 지원번호라는 찌꺼기가 남아있음\n",
    "df.reset_index(drop=True, inplace=True)  # 인플레이스투르는 사실상 저장?버튼마냥 먹이려면 계속 써야됨\n",
    "\n",
    "# 컬럼명 중 하나를 인덱스로 써보기\n",
    "df.set_index('이름', inplace=True)  # 이름이라는 컬럼명을 인덱스로 set 해보겄다\n",
    "print(df)\n",
    "df.reset_index(inplace=True)  # 원복하기 ㅋㅋ"
   ]
  },
  {
   "cell_type": "code",
   "execution_count": null,
   "id": "0c413746",
   "metadata": {},
   "outputs": [],
   "source": []
  }
 ],
 "metadata": {
  "kernelspec": {
   "display_name": "Python 3 (ipykernel)",
   "language": "python",
   "name": "python3"
  },
  "language_info": {
   "codemirror_mode": {
    "name": "ipython",
    "version": 3
   },
   "file_extension": ".py",
   "mimetype": "text/x-python",
   "name": "python",
   "nbconvert_exporter": "python",
   "pygments_lexer": "ipython3",
   "version": "3.9.9"
  }
 },
 "nbformat": 4,
 "nbformat_minor": 5
}
