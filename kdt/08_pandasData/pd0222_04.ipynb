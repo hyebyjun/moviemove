{
 "cells": [
  {
   "cell_type": "code",
   "execution_count": 1,
   "metadata": {},
   "outputs": [],
   "source": [
    "import pandas as pd\n",
    "import matplotlib.pyplot as plt\n",
    "\n",
    "\n",
    "# 이 키들은 나중에 db에서 컬럼이 된다\n",
    "data = {\n",
    "'이름' : ['강나래', '강태원', '강호림', '김수찬', '김재욱', '박동현', '박혜정', '승근열'],\n",
    "'학교' : ['구로고', '구로고', '구로고', '구로고', '구로고', '디지털고', '디지털고', '디지털고'],\n",
    "'키' : [197, 184, 168, 187, 188, 202, 188, 190],\n",
    "'국어' : [90, 40, 80, 40, 15, 80, 55, 100],\n",
    "'영어' : [85, 35, 75, 60, 20, 100, 65, 85],\n",
    "'수학' : [100, 50, 70, 70, 10, 95, 45, 90],\n",
    "'과학' : [95, 55, 80, 75, 35, 85, 40, 95],\n",
    "'사회' : [85, 25, 75, 80, 10, 80, 35, 95],\n",
    "'SW특기' : ['Python', 'Java', 'Javascript', '', '', 'C', 'PYTHON', 'C#']\n",
    "}\n",
    "\n",
    "df = pd.DataFrame(data, index=['1번', '2번', '3번', '4번', '5번', '6번', '7번', '8번'])"
   ]
  },
  {
   "cell_type": "code",
   "execution_count": 2,
   "metadata": {},
   "outputs": [
    {
     "name": "stdout",
     "output_type": "stream",
     "text": [
      "     이름    학교    키   국어   영어   수학  과학  사회        SW특기\n",
      "1번  강나래   구로고  197   90   85  100  95  85      Python\n",
      "2번  강태원   구로고  184   40   35   50  55  25        Java\n",
      "3번  강호림   구로고  168   80   75   70  80  75  Javascript\n",
      "4번  김수찬   구로고  187   40   60   70  75  80            \n",
      "5번  김재욱   구로고  188   15   20   10  35  10            \n",
      "6번  박동현  디지털고  202   80  100   95  85  80           C\n",
      "7번  박혜정  디지털고  188   55   65   45  40  35      PYTHON\n",
      "8번  승근열  디지털고  190  100   85   90  95  95          C#\n"
     ]
    }
   ],
   "source": [
    "print(df)"
   ]
  },
  {
   "cell_type": "code",
   "execution_count": 7,
   "metadata": {},
   "outputs": [
    {
     "name": "stdout",
     "output_type": "stream",
     "text": [
      "       이름    학교    키   국어   영어   수학  과학  사회        SW특기\n",
      "지원번호                                                   \n",
      "0     강나래   구로고  197   90   85  100  95  85      Python\n",
      "1     강태원   구로고  184   40   35   50  55  25        Java\n",
      "2     강호림   구로고  168   80   75   70  80  75  Javascript\n",
      "3     김수찬   구로고  187   40   60   70  75  80            \n",
      "4     김재욱   구로고  188   15   20   10  35  10            \n",
      "5     박동현  디지털고  202   80  100   95  85  80           C\n",
      "6     박혜정  디지털고  188   55   65   45  40  35      PYTHON\n",
      "7     승근열  디지털고  190  100   85   90  95  95          C#\n"
     ]
    }
   ],
   "source": [
    "df.index.name = '지원번호'\n",
    "print(df)"
   ]
  },
  {
   "cell_type": "code",
   "execution_count": 8,
   "metadata": {},
   "outputs": [
    {
     "name": "stdout",
     "output_type": "stream",
     "text": [
      "       이름    학교    키   국어   영어   수학  과학  사회        SW특기\n",
      "지원번호                                                   \n",
      "0     강나래   구로고  197   90   85  100  95  85      Python\n",
      "1     강태원   구로고  184   40   35   50  55  25        Java\n",
      "2     강호림   구로고  168   80   75   70  80  75  Javascript\n",
      "3     김수찬   구로고  187   40   60   70  75  80            \n",
      "4     김재욱   구로고  188   15   20   10  35  10            \n",
      "5     박동현  디지털고  202   80  100   95  85  80           C\n",
      "6     박혜정  디지털고  188   55   65   45  40  35      PYTHON\n",
      "7     승근열  디지털고  190  100   85   90  95  95          C#\n",
      "    이름    학교    키   국어   영어   수학  과학  사회        SW특기\n",
      "0  강나래   구로고  197   90   85  100  95  85      Python\n",
      "1  강태원   구로고  184   40   35   50  55  25        Java\n",
      "2  강호림   구로고  168   80   75   70  80  75  Javascript\n",
      "3  김수찬   구로고  187   40   60   70  75  80            \n",
      "4  김재욱   구로고  188   15   20   10  35  10            \n",
      "5  박동현  디지털고  202   80  100   95  85  80           C\n",
      "6  박혜정  디지털고  188   55   65   45  40  35      PYTHON\n",
      "7  승근열  디지털고  190  100   85   90  95  95          C#\n"
     ]
    }
   ],
   "source": [
    "print(df)\n",
    "df.reset_index(drop=True, inplace=True)\n",
    "print(df)"
   ]
  },
  {
   "cell_type": "code",
   "execution_count": 10,
   "metadata": {},
   "outputs": [
    {
     "name": "stdout",
     "output_type": "stream",
     "text": [
      "      이름    학교   국어   영어   수학  과학  사회        SW특기\n",
      "키                                                \n",
      "197  강나래   구로고   90   85  100  95  85      Python\n",
      "184  강태원   구로고   40   35   50  55  25        Java\n",
      "168  강호림   구로고   80   75   70  80  75  Javascript\n",
      "187  김수찬   구로고   40   60   70  75  80            \n",
      "188  김재욱   구로고   15   20   10  35  10            \n",
      "202  박동현  디지털고   80  100   95  85  80           C\n",
      "188  박혜정  디지털고   55   65   45  40  35      PYTHON\n",
      "190  승근열  디지털고  100   85   90  95  95          C#\n"
     ]
    }
   ],
   "source": [
    "df.set_index('키', inplace=True)\n",
    "print(df)"
   ]
  },
  {
   "cell_type": "code",
   "execution_count": 11,
   "metadata": {},
   "outputs": [
    {
     "name": "stdout",
     "output_type": "stream",
     "text": [
      "      이름    학교   국어   영어   수학  과학  사회        SW특기\n",
      "키                                                \n",
      "202  박동현  디지털고   80  100   95  85  80           C\n",
      "197  강나래   구로고   90   85  100  95  85      Python\n",
      "190  승근열  디지털고  100   85   90  95  95          C#\n",
      "188  김재욱   구로고   15   20   10  35  10            \n",
      "188  박혜정  디지털고   55   65   45  40  35      PYTHON\n",
      "187  김수찬   구로고   40   60   70  75  80            \n",
      "184  강태원   구로고   40   35   50  55  25        Java\n",
      "168  강호림   구로고   80   75   70  80  75  Javascript\n"
     ]
    }
   ],
   "source": [
    "# index 역순정렬 ascending=False 변경, True 순차변경\n",
    "df.sort_index(ascending=False, inplace=True)\n",
    "print(df)"
   ]
  },
  {
   "cell_type": "code",
   "execution_count": null,
   "metadata": {},
   "outputs": [],
   "source": []
  }
 ],
 "metadata": {
  "interpreter": {
   "hash": "38740d3277777e2cd7c6c2cc9d8addf5118fdf3f82b1b39231fd12aeac8aee8b"
  },
  "kernelspec": {
   "display_name": "Python 3.9.9 64-bit",
   "language": "python",
   "name": "python3"
  },
  "language_info": {
   "codemirror_mode": {
    "name": "ipython",
    "version": 3
   },
   "file_extension": ".py",
   "mimetype": "text/x-python",
   "name": "python",
   "nbconvert_exporter": "python",
   "pygments_lexer": "ipython3",
   "version": "3.9.9"
  },
  "orig_nbformat": 4
 },
 "nbformat": 4,
 "nbformat_minor": 2
}
