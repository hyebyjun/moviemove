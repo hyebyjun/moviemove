{
 "cells": [
  {
   "cell_type": "code",
   "execution_count": 3,
   "metadata": {},
   "outputs": [],
   "source": [
    "import pandas as pd\n",
    "\n",
    "data = {\n",
    "    '영화' : ['명량', '극한직업', '신과함께-죄와 벌', '국제시장', '괴물', '도둑들', '7번방의 선물', '암살'],\n",
    "    '개봉 연도' : [2014, 2019, 2017, 2014, 2006, 2012, 2013, 2015],\n",
    "    '관객 수' : [1761, 1626, 1441, 1426, 1301, 1298, 1281, 1270],\n",
    "    '평점' : [8.88, 9.20, 8.73, 9.16, 8.62, 7.64, 8.83, 9.10]\n",
    "}\n",
    "\n",
    "df = pd.DataFrame(data, index=['idx1', 'idx2', 'idx3', 'idx4', 'idx5', 'idx6', 'idx7', 'idx8'])"
   ]
  },
  {
   "cell_type": "code",
   "execution_count": 2,
   "metadata": {},
   "outputs": [
    {
     "name": "stdout",
     "output_type": "stream",
     "text": [
      "             영화  개봉 연도  관객 수    평점\n",
      "idx1         명량   2014  1761  8.88\n",
      "idx2       극한직업   2019  1626  9.20\n",
      "idx3  신과함께-죄와 벌   2017  1441  8.73\n",
      "idx4       국제시장   2014  1426  9.16\n",
      "idx5         괴물   2006  1301  8.62\n",
      "idx6        도둑들   2012  1298  7.64\n",
      "idx7    7번방의 선물   2013  1281  8.83\n",
      "idx8         암살   2015  1270  9.10\n"
     ]
    }
   ],
   "source": [
    "print(df)"
   ]
  },
  {
   "cell_type": "code",
   "execution_count": 4,
   "metadata": {},
   "outputs": [
    {
     "name": "stdout",
     "output_type": "stream",
     "text": [
      "             영화    평점\n",
      "idx1         명량  8.88\n",
      "idx2       극한직업  9.20\n",
      "idx3  신과함께-죄와 벌  8.73\n",
      "idx4       국제시장  9.16\n",
      "idx5         괴물  8.62\n",
      "idx6        도둑들  7.64\n",
      "idx7    7번방의 선물  8.83\n",
      "idx8         암살  9.10\n"
     ]
    }
   ],
   "source": [
    "print(df[['영화', '평점']])"
   ]
  },
  {
   "cell_type": "code",
   "execution_count": 5,
   "metadata": {},
   "outputs": [
    {
     "name": "stdout",
     "output_type": "stream",
     "text": [
      "영화       극한직업\n",
      "개봉 연도    2019\n",
      "관객 수     1626\n",
      "평점        9.2\n",
      "Name: idx2, dtype: object\n"
     ]
    }
   ],
   "source": [
    "print(df.loc['idx2'])"
   ]
  },
  {
   "cell_type": "code",
   "execution_count": null,
   "metadata": {},
   "outputs": [],
   "source": [
    "df.index.name = '영화목록'"
   ]
  }
 ],
 "metadata": {
  "interpreter": {
   "hash": "38740d3277777e2cd7c6c2cc9d8addf5118fdf3f82b1b39231fd12aeac8aee8b"
  },
  "kernelspec": {
   "display_name": "Python 3.9.9 64-bit",
   "language": "python",
   "name": "python3"
  },
  "language_info": {
   "codemirror_mode": {
    "name": "ipython",
    "version": 3
   },
   "file_extension": ".py",
   "mimetype": "text/x-python",
   "name": "python",
   "nbconvert_exporter": "python",
   "pygments_lexer": "ipython3",
   "version": "3.9.9"
  },
  "orig_nbformat": 4
 },
 "nbformat": 4,
 "nbformat_minor": 2
}
