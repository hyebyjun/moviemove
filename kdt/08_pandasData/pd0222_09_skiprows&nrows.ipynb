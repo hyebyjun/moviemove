{
 "cells": [
  {
   "cell_type": "code",
   "execution_count": 2,
   "metadata": {},
   "outputs": [],
   "source": [
    "import pandas as pd"
   ]
  },
  {
   "cell_type": "code",
   "execution_count": 3,
   "metadata": {},
   "outputs": [
    {
     "name": "stdout",
     "output_type": "stream",
     "text": [
      "     Unnamed: 0   이름    학교    키   국어   영어   수학  과학  사회        SW특기\n",
      "지원번호                                                              \n",
      "0            1번  강나래   구로고  197   90   85  100  95  85      Python\n",
      "1            2번  강태원   구로고  184   40   35   50  55  25        Java\n",
      "2            3번  강호림   구로고  168   80   75   70  80  75  Javascript\n",
      "3            4번  김수찬   구로고  187   40   60   70  75  80         NaN\n",
      "4            5번  김재욱   구로고  188   15   20   10  35  10         NaN\n",
      "5            6번  박동현  디지털고  202   80  100   95  85  80           C\n",
      "6            7번  박혜정  디지털고  188   55   65   45  40  35      PYTHON\n",
      "7            8번  승근열  디지털고  190  100   85   90  95  95          C#\n"
     ]
    }
   ],
   "source": [
    "df = pd.read_csv('score.csv')\n",
    "df.index.name='지원번호'\n",
    "print(df)"
   ]
  },
  {
   "cell_type": "code",
   "execution_count": 4,
   "metadata": {},
   "outputs": [
    {
     "name": "stdout",
     "output_type": "stream",
     "text": [
      "  Unnamed: 0   이름    학교    키   국어   영어  수학  과학  사회    SW특기\n",
      "0         2번  강태원   구로고  184   40   35  50  55  25    Java\n",
      "1         4번  김수찬   구로고  187   40   60  70  75  80     NaN\n",
      "2         6번  박동현  디지털고  202   80  100  95  85  80       C\n",
      "3         7번  박혜정  디지털고  188   55   65  45  40  35  PYTHON\n",
      "4         8번  승근열  디지털고  190  100   85  90  95  95      C#\n",
      "   1번  강나래   구로고  197   90   85  100  95  85.1      Python\n",
      "0  2번  강태원   구로고  184   40   35   50  55    25        Java\n",
      "1  3번  강호림   구로고  168   80   75   70  80    75  Javascript\n",
      "2  4번  김수찬   구로고  187   40   60   70  75    80         NaN\n",
      "3  5번  김재욱   구로고  188   15   20   10  35    10         NaN\n",
      "4  6번  박동현  디지털고  202   80  100   95  85    80           C\n",
      "5  7번  박혜정  디지털고  188   55   65   45  40    35      PYTHON\n",
      "6  8번  승근열  디지털고  190  100   85   90  95    95          C#\n",
      "  Unnamed: 0   이름    학교    키   국어  영어   수학  과학  사회        SW특기\n",
      "0         1번  강나래   구로고  197   90  85  100  95  85      Python\n",
      "1         3번  강호림   구로고  168   80  75   70  80  75  Javascript\n",
      "2         5번  김재욱   구로고  188   15  20   10  35  10         NaN\n",
      "3         7번  박혜정  디지털고  188   55  65   45  40  35      PYTHON\n",
      "4         8번  승근열  디지털고  190  100  85   90  95  95          C#\n",
      "  Unnamed: 0   이름   학교    키  국어  영어   수학  과학  사회        SW특기\n",
      "0         1번  강나래  구로고  197  90  85  100  95  85      Python\n",
      "1         3번  강호림  구로고  168  80  75   70  80  75  Javascript\n",
      "2         5번  김재욱  구로고  188  15  20   10  35  10         NaN\n"
     ]
    }
   ],
   "source": [
    "df = pd.read_csv('score.csv', skiprows=[1,3,5])\n",
    "print(df)\n",
    "df = pd.read_csv('score.csv', skiprows=1)\n",
    "print(df)\n",
    "df = pd.read_csv('score.csv', skiprows=[2,4,6])\n",
    "print(df)\n",
    "df = pd.read_csv('score.csv', skiprows=[2,4,6], nrows=3)   # 스킵로우명령 외에 출력row 여러개 중에 3줄만! 나올래\n",
    "print(df)"
   ]
  },
  {
   "cell_type": "code",
   "execution_count": 7,
   "metadata": {},
   "outputs": [
    {
     "name": "stdout",
     "output_type": "stream",
     "text": [
      "  Unnamed: 0   이름    학교    키   국어   영어   수학  과학  사회        SW특기\n",
      "0         1번  강나래   구로고  197   90   85  100  95  85      Python\n",
      "1         2번  강태원   구로고  184   40   35   50  55  25        Java\n",
      "2         3번  강호림   구로고  168   80   75   70  80  75  Javascript\n",
      "3         4번  김수찬   구로고  187   40   60   70  75  80         NaN\n",
      "4         5번  김재욱   구로고  188   15   20   10  35  10         NaN\n",
      "5         6번  박동현  디지털고  202   80  100   95  85  80           C\n",
      "6         7번  박혜정  디지털고  188   55   65   45  40  35      PYTHON\n",
      "7         8번  승근열  디지털고  190  100   85   90  95  95          C#\n"
     ]
    },
    {
     "name": "stderr",
     "output_type": "stream",
     "text": [
      "C:\\Python\\lib\\site-packages\\IPython\\core\\interactiveshell.py:3251: FutureWarning: In a future version of pandas all arguments of read_csv except for the argument 'filepath_or_buffer' will be keyword-only.\n",
      "  exec(code_obj, self.user_global_ns, self.user_ns)\n"
     ]
    }
   ],
   "source": [
    "df = pd.read_csv('score.txt', '\\t')\n",
    "print(df)"
   ]
  },
  {
   "cell_type": "code",
   "execution_count": 19,
   "metadata": {},
   "outputs": [
    {
     "name": "stdout",
     "output_type": "stream",
     "text": [
      "       이름    학교    키   국어   영어   수학  과학  사회        SW특기\n",
      "지원번호                                                   \n",
      "1번    강나래   구로고  197   90   85  100  95  85      Python\n",
      "2번    강태원   구로고  184   40   35   50  55  25        Java\n",
      "3번    강호림   구로고  168   80   75   70  80  75  Javascript\n",
      "4번    김수찬   구로고  187   40   60   70  75  80         NaN\n",
      "5번    김재욱   구로고  188   15   20   10  35  10         NaN\n",
      "6번    박동현  디지털고  202   80  100   95  85  80           C\n",
      "7번    박혜정  디지털고  188   55   65   45  40  35      PYTHON\n",
      "8번    승근열  디지털고  190  100   85   90  95  95          C#\n"
     ]
    }
   ],
   "source": [
    "df = pd.read_excel('score.xlsx')\n",
    "df.set_index('지원번호', inplace=True)\n",
    "print(df)"
   ]
  },
  {
   "cell_type": "code",
   "execution_count": 18,
   "metadata": {},
   "outputs": [
    {
     "name": "stdout",
     "output_type": "stream",
     "text": [
      "       이름    학교    키   국어   영어   수학  과학  사회        SW특기\n",
      "지원번호                                                   \n",
      "1번    강나래   구로고  197   90   85  100  95  85      Python\n",
      "2번    강태원   구로고  184   40   35   50  55  25        Java\n",
      "3번    강호림   구로고  168   80   75   70  80  75  Javascript\n",
      "4번    김수찬   구로고  187   40   60   70  75  80         NaN\n",
      "5번    김재욱   구로고  188   15   20   10  35  10         NaN\n",
      "6번    박동현  디지털고  202   80  100   95  85  80           C\n",
      "7번    박혜정  디지털고  188   55   65   45  40  35      PYTHON\n",
      "8번    승근열  디지털고  190  100   85   90  95  95          C#\n"
     ]
    }
   ],
   "source": [
    "df = pd.read_excel('score.xlsx', index_col='지원번호')\n",
    "print(df)    # 이거랑 위에랑 같은 거임 ㅎ"
   ]
  },
  {
   "cell_type": "code",
   "execution_count": null,
   "metadata": {},
   "outputs": [],
   "source": []
  }
 ],
 "metadata": {
  "interpreter": {
   "hash": "38740d3277777e2cd7c6c2cc9d8addf5118fdf3f82b1b39231fd12aeac8aee8b"
  },
  "kernelspec": {
   "display_name": "Python 3.9.9 64-bit",
   "language": "python",
   "name": "python3"
  },
  "language_info": {
   "codemirror_mode": {
    "name": "ipython",
    "version": 3
   },
   "file_extension": ".py",
   "mimetype": "text/x-python",
   "name": "python",
   "nbconvert_exporter": "python",
   "pygments_lexer": "ipython3",
   "version": "3.9.9"
  },
  "orig_nbformat": 4
 },
 "nbformat": 4,
 "nbformat_minor": 2
}
