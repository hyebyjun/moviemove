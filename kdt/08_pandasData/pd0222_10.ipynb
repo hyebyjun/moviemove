{
 "cells": [
  {
   "cell_type": "code",
   "execution_count": 1,
   "metadata": {},
   "outputs": [],
   "source": [
    "import pandas as pd"
   ]
  },
  {
   "cell_type": "code",
   "execution_count": 6,
   "metadata": {},
   "outputs": [
    {
     "name": "stdout",
     "output_type": "stream",
     "text": [
      "                    이름    학교  영어  수학  과학  사회        sw특기\n",
      "0      Chucho Fibbings   구로고  54  61  78  34  Javascript\n",
      "1       Ignacio Piwell  디지털고  73  78  43  29           C\n",
      "2    Townsend Burnsell  디지털고  84  93  83  15      PYTHON\n",
      "3         Ivie Camings  디지털고  43  84  60  44         NaN\n",
      "4     Conrade Spedroni   구로고  62  97  59  88  Javascript\n",
      "..                 ...   ...  ..  ..  ..  ..         ...\n",
      "995     Starlene Kegan  디지털고  66  77  60  90           C\n",
      "996       Griff Linner   구로고  73  79  69  93           C\n",
      "997     Rickey Lenihan   구로고  36  91  66  14      PYTHON\n",
      "998    Fields Mortimer  디지털고  56  68  85  42         NaN\n",
      "999      Samaria Shann  디지털고  76  85  91  83        Java\n",
      "\n",
      "[1000 rows x 7 columns]\n"
     ]
    }
   ],
   "source": [
    "df = pd.read_excel('pandas_code.xlsx')\n",
    "print(df)"
   ]
  },
  {
   "cell_type": "code",
   "execution_count": 7,
   "metadata": {},
   "outputs": [
    {
     "name": "stdout",
     "output_type": "stream",
     "text": [
      "                    이름    학교   영어  수학  과학  사회        sw특기\n",
      "0         Ivie Camings  디지털고   43  84  60  44         NaN\n",
      "1     Conrade Spedroni   구로고   62  97  59  88  Javascript\n",
      "2          Nico Sterte   구로고   51  62  88  14      PYTHON\n",
      "3        Shanon Arnley   구로고   96  96  86  45         NaN\n",
      "4            Hamel Byk  디지털고   65  69  73  58         NaN\n",
      "5  Worthington Gaunson   단지고   77  50  82  43         NaN\n",
      "6   Ruperta Ghilardini   구로고   87  75  80  58         NaN\n",
      "7    Kristien Sillitoe   구로고  100  91  41  64      Python\n",
      "8      Sheffie Marritt   구로고   23  76  63  16  Javascript\n",
      "9    Eberhard Mussalli   단지고   31  63  53  70         NaN\n"
     ]
    }
   ],
   "source": [
    "df = pd.read_excel('pandas_code.xlsx', skiprows=[1,2,3], nrows=10)\n",
    "print(df)"
   ]
  },
  {
   "cell_type": "code",
   "execution_count": 11,
   "metadata": {},
   "outputs": [
    {
     "name": "stdout",
     "output_type": "stream",
     "text": [
      "       Chucho Fibbings   구로고   54  61  78  34  Javascript\n",
      "0       Ignacio Piwell  디지털고   73  78  43  29           C\n",
      "1    Townsend Burnsell  디지털고   84  93  83  15      PYTHON\n",
      "2         Ivie Camings  디지털고   43  84  60  44         NaN\n",
      "3     Conrade Spedroni   구로고   62  97  59  88  Javascript\n",
      "4          Nico Sterte   구로고   51  62  88  14      PYTHON\n",
      "5        Shanon Arnley   구로고   96  96  86  45         NaN\n",
      "6            Hamel Byk  디지털고   65  69  73  58         NaN\n",
      "7  Worthington Gaunson   단지고   77  50  82  43         NaN\n",
      "8   Ruperta Ghilardini   구로고   87  75  80  58         NaN\n",
      "9    Kristien Sillitoe   구로고  100  91  41  64      Python\n"
     ]
    }
   ],
   "source": [
    "df = pd.read_excel('pandas_code.xlsx', skiprows=1, nrows=10)\n",
    "print(df)"
   ]
  },
  {
   "cell_type": "code",
   "execution_count": 12,
   "metadata": {},
   "outputs": [
    {
     "name": "stdout",
     "output_type": "stream",
     "text": [
      "                    이름    학교   영어  수학  과학  사회        sw특기\n",
      "0       Ignacio Piwell  디지털고   73  78  43  29           C\n",
      "1    Townsend Burnsell  디지털고   84  93  83  15      PYTHON\n",
      "2         Ivie Camings  디지털고   43  84  60  44         NaN\n",
      "3     Conrade Spedroni   구로고   62  97  59  88  Javascript\n",
      "4          Nico Sterte   구로고   51  62  88  14      PYTHON\n",
      "5        Shanon Arnley   구로고   96  96  86  45         NaN\n",
      "6            Hamel Byk  디지털고   65  69  73  58         NaN\n",
      "7  Worthington Gaunson   단지고   77  50  82  43         NaN\n",
      "8   Ruperta Ghilardini   구로고   87  75  80  58         NaN\n",
      "9    Kristien Sillitoe   구로고  100  91  41  64      Python\n"
     ]
    }
   ],
   "source": [
    "df = pd.read_excel('pandas_code.xlsx', skiprows=[1], nrows=10)\n",
    "print(df)"
   ]
  },
  {
   "cell_type": "code",
   "execution_count": 20,
   "metadata": {},
   "outputs": [
    {
     "name": "stdout",
     "output_type": "stream",
     "text": [
      "                  이름    학교   영어  수학  과학  사회        sw특기\n",
      "0       Krissie Sand   구로고   91  67  95  89         NaN\n",
      "1         Faun Geere  디지털고   20  54  43  82         NaN\n",
      "2  Joycelin Clipston   단지고   59  79  92  14  Javascript\n",
      "3     Mignon Jedrych   단지고   69  47  95  59         NaN\n",
      "4     Godart Bessant  디지털고   35  60  95  27      Python\n",
      "5      Hort Chinnery   구로고  100  73  49  71         NaN\n",
      "6     Paolo Bendixen   구로고   23  78  88  16         NaN\n",
      "7     Brucie Maidens  디지털고   58  45  57  29          C#\n",
      "8   Clive Yellowlees  디지털고   77  86  72  28          C#\n",
      "9    Viviyan Swindin   단지고   88  51  86  86      PYTHON\n"
     ]
    }
   ],
   "source": [
    "df = pd.read_excel('pandas_code.xlsx', skiprows=[i for i in range(1, 500)], nrows=10)\n",
    "print(df)"
   ]
  },
  {
   "cell_type": "code",
   "execution_count": null,
   "metadata": {},
   "outputs": [],
   "source": []
  }
 ],
 "metadata": {
  "interpreter": {
   "hash": "38740d3277777e2cd7c6c2cc9d8addf5118fdf3f82b1b39231fd12aeac8aee8b"
  },
  "kernelspec": {
   "display_name": "Python 3.9.9 64-bit",
   "language": "python",
   "name": "python3"
  },
  "language_info": {
   "codemirror_mode": {
    "name": "ipython",
    "version": 3
   },
   "file_extension": ".py",
   "mimetype": "text/x-python",
   "name": "python",
   "nbconvert_exporter": "python",
   "pygments_lexer": "ipython3",
   "version": "3.9.9"
  },
  "orig_nbformat": 4
 },
 "nbformat": 4,
 "nbformat_minor": 2
}
