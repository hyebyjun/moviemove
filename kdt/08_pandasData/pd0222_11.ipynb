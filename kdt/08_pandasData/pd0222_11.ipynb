{
 "cells": [
  {
   "cell_type": "code",
   "execution_count": 1,
   "metadata": {},
   "outputs": [
    {
     "name": "stdout",
     "output_type": "stream",
     "text": [
      "   Unnamed: 0 Unnamed: 1 Unnamed: 2 Unnamed: 3   지역 : 인천광역시 서구\n",
      "0         NaN        NaN        NaN        NaN  국가표준시간 2/21 기준\n",
      "1        구분\\t         날짜    확진자수(명)    사망자수(명)         데이터기준일자\n",
      "2    인천광역시 서구     Feb-20          1          0      2022-02-21\n",
      "3    인천광역시 서구     Mar-20          4          0      2022-02-21\n",
      "4    인천광역시 서구     Apr-20          7          0      2022-02-21\n",
      "5    인천광역시 서구     May-20          3          0      2022-02-21\n",
      "6    인천광역시 서구     Jun-20          4          0      2022-02-21\n",
      "7    인천광역시 서구     Jul-20         12          0      2022-02-21\n",
      "8    인천광역시 서구     Aug-20        104          0      2022-02-21\n",
      "9    인천광역시 서구     Sep-20         24          0      2022-02-21\n",
      "10   인천광역시 서구     Oct-20         13          0      2022-02-21\n",
      "11   인천광역시 서구     Nov-20         77          0      2022-02-21\n",
      "12   인천광역시 서구     Dec-20        285          3      2022-02-21\n",
      "13   인천광역시 서구     Jan-21        139          1      2022-02-21\n",
      "14   인천광역시 서구     Feb-21        149          0      2022-02-21\n",
      "15   인천광역시 서구     Mar-21        155          0      2022-02-21\n",
      "16   인천광역시 서구     Apr-21         97          1      2022-02-21\n",
      "17   인천광역시 서구     May-21         88          0      2022-02-21\n",
      "18   인천광역시 서구     Jun-21         89          0      2022-02-21\n",
      "19   인천광역시 서구     Jul-21        378          2      2022-02-21\n",
      "20   인천광역시 서구     Aug-21        532          3      2022-02-21\n",
      "21   인천광역시 서구     Sep-21        757          1      2022-02-21\n",
      "22   인천광역시 서구     Oct-21        534          3      2022-02-21\n",
      "23   인천광역시 서구     Nov-21        771          5      2022-02-21\n",
      "24   인천광역시 서구     Dec-21       1968         18      2022-02-21\n"
     ]
    }
   ],
   "source": [
    "import pandas as pd\n",
    "\n",
    "df = pd.read_csv('월별_20220221.csv', encoding='euc-kr')\n",
    "print(df)"
   ]
  },
  {
   "cell_type": "code",
   "execution_count": null,
   "metadata": {},
   "outputs": [],
   "source": []
  }
 ],
 "metadata": {
  "interpreter": {
   "hash": "38740d3277777e2cd7c6c2cc9d8addf5118fdf3f82b1b39231fd12aeac8aee8b"
  },
  "kernelspec": {
   "display_name": "Python 3.9.9 64-bit",
   "language": "python",
   "name": "python3"
  },
  "language_info": {
   "codemirror_mode": {
    "name": "ipython",
    "version": 3
   },
   "file_extension": ".py",
   "mimetype": "text/x-python",
   "name": "python",
   "nbconvert_exporter": "python",
   "pygments_lexer": "ipython3",
   "version": "3.9.9"
  },
  "orig_nbformat": 4
 },
 "nbformat": 4,
 "nbformat_minor": 2
}
