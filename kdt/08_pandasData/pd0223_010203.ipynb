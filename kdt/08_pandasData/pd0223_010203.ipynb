{
 "cells": [
  {
   "cell_type": "code",
   "execution_count": 2,
   "metadata": {},
   "outputs": [],
   "source": [
    "import pandas as pd\n",
    "df = pd.read_excel('C:/workspace/dataClass/03_pandasData/pd0222/score.xlsx', index_col='지원번호')"
   ]
  },
  {
   "cell_type": "code",
   "execution_count": 3,
   "metadata": {},
   "outputs": [
    {
     "name": "stdout",
     "output_type": "stream",
     "text": [
      "       이름    학교    키   국어   영어   수학  과학  사회        SW특기\n",
      "지원번호                                                   \n",
      "1번    강나래   구로고  197   90   85  100  95  85      Python\n",
      "2번    강태원   구로고  184   40   35   50  55  25        Java\n",
      "3번    강호림   구로고  168   80   75   70  80  75  Javascript\n",
      "4번    김수찬   구로고  187   40   60   70  75  80         NaN\n",
      "5번    김재욱   구로고  188   15   20   10  35  10         NaN\n",
      "6번    박동현  디지털고  202   80  100   95  85  80           C\n",
      "7번    박혜정  디지털고  188   55   65   45  40  35      PYTHON\n",
      "8번    승근열  디지털고  190  100   85   90  95  95          C#\n"
     ]
    }
   ],
   "source": [
    "df = pd.read_excel('C:/workspace/dataClass/03_pandasData/pd0222/score.xlsx', index_col='지원번호')\n",
    "# 다른 폴더 경로 적을 때 역슬래시 아니고 걍 슬래시임..\n",
    "print(df)"
   ]
  },
  {
   "cell_type": "code",
   "execution_count": 4,
   "metadata": {},
   "outputs": [
    {
     "name": "stdout",
     "output_type": "stream",
     "text": [
      "                키          국어          영어          수학         과학         사회\n",
      "count    8.000000    8.000000    8.000000    8.000000   8.000000   8.000000\n",
      "mean   188.000000   62.500000   65.625000   66.250000  70.000000  60.625000\n",
      "std      9.985704   29.519969   26.917533   30.325614  23.754699  32.120032\n",
      "min    168.000000   15.000000   20.000000   10.000000  35.000000  10.000000\n",
      "25%    186.250000   40.000000   53.750000   48.750000  51.250000  32.500000\n",
      "50%    188.000000   67.500000   70.000000   70.000000  77.500000  77.500000\n",
      "75%    191.750000   82.500000   85.000000   91.250000  87.500000  81.250000\n",
      "max    202.000000  100.000000  100.000000  100.000000  95.000000  95.000000\n",
      "count      8.000000\n",
      "mean      62.500000\n",
      "std       29.519969\n",
      "min       15.000000\n",
      "25%       40.000000\n",
      "50%       67.500000\n",
      "75%       82.500000\n",
      "max      100.000000\n",
      "Name: 국어, dtype: float64\n"
     ]
    }
   ],
   "source": [
    "print(df.describe())  # 문자열은 안됨 ㅎ\n",
    "print(df['국어'].describe())"
   ]
  },
  {
   "cell_type": "code",
   "execution_count": 5,
   "metadata": {},
   "outputs": [
    {
     "name": "stdout",
     "output_type": "stream",
     "text": [
      "최소값 15\n",
      "내림차순 지원번호\n",
      "8번    100\n",
      "1번     90\n",
      "3번     80\n",
      "6번     80\n",
      "7번     55\n",
      "Name: 국어, dtype: int64\n",
      "오름차순 지원번호\n",
      "5번    15\n",
      "2번    40\n",
      "4번    40\n",
      "7번    55\n",
      "3번    80\n",
      "Name: 국어, dtype: int64\n",
      "62.5\n",
      "500\n"
     ]
    }
   ],
   "source": [
    "print(\"최소값\", df['국어'].min())\n",
    "print(\"내림차순\", df['국어'].nlargest())\n",
    "print(\"오름차순\", df['국어'].nsmallest())\n",
    "print(df['국어'].mean())\n",
    "print(df['국어'].sum())"
   ]
  },
  {
   "cell_type": "code",
   "execution_count": 6,
   "metadata": {},
   "outputs": [
    {
     "name": "stdout",
     "output_type": "stream",
     "text": [
      "8\n",
      "6\n"
     ]
    }
   ],
   "source": [
    "print(df['영어'].count())\n",
    "print(df['SW특기'].count())"
   ]
  },
  {
   "cell_type": "code",
   "execution_count": 7,
   "metadata": {},
   "outputs": [
    {
     "name": "stdout",
     "output_type": "stream",
     "text": [
      "['구로고' '디지털고']\n",
      "2\n"
     ]
    }
   ],
   "source": [
    "print(df['학교'].unique())   # 중복값 없이 유일한 값으로만 출력\n",
    "print(df['학교'].nunique())  # 동일하지만 이건 개수 출력"
   ]
  },
  {
   "cell_type": "code",
   "execution_count": 10,
   "metadata": {},
   "outputs": [
    {
     "name": "stdout",
     "output_type": "stream",
     "text": [
      "이름\n",
      "학교\n",
      "Index(['학교', '국어', '수학'], dtype='object')\n",
      "SW특기\n",
      "지원번호\n",
      "1번        Python\n",
      "2번          Java\n",
      "3번    Javascript\n",
      "4번           NaN\n",
      "5번           NaN\n",
      "6번             C\n",
      "7번        PYTHON\n",
      "8번            C#\n",
      "Name: SW특기, dtype: object\n"
     ]
    }
   ],
   "source": [
    "print(df.columns[0])\n",
    "print(df.columns[1])\n",
    "print(df.columns[[1,3,5]])\n",
    "print(df.columns[-1])         # 마지막 컬럼명이 뭐더라?\n",
    "print(df[df.columns[-1]])     # 마지막 컬럼명이 뭔지 기억은 안나는데 그 값들이 뭐더라?"
   ]
  },
  {
   "cell_type": "code",
   "execution_count": 13,
   "metadata": {},
   "outputs": [
    {
     "name": "stdout",
     "output_type": "stream",
     "text": [
      "이름             강호림\n",
      "학교             구로고\n",
      "키              168\n",
      "국어              80\n",
      "영어              75\n",
      "수학              70\n",
      "과학              80\n",
      "사회              75\n",
      "SW특기    Javascript\n",
      "Name: 3번, dtype: object\n",
      "이름      김수찬\n",
      "학교      구로고\n",
      "키       187\n",
      "국어       40\n",
      "영어       60\n",
      "수학       70\n",
      "과학       75\n",
      "사회       80\n",
      "SW특기    NaN\n",
      "Name: 4번, dtype: object\n"
     ]
    }
   ],
   "source": [
    "# 로우 찍기. 물론 출력은 가로로 한줄 나오진 않고 그걸 세로로 출력해준다..\n",
    "print(df.loc['3번'])\n",
    "print(df.iloc[3])"
   ]
  },
  {
   "cell_type": "code",
   "execution_count": null,
   "metadata": {},
   "outputs": [],
   "source": []
  }
 ],
 "metadata": {
  "interpreter": {
   "hash": "38740d3277777e2cd7c6c2cc9d8addf5118fdf3f82b1b39231fd12aeac8aee8b"
  },
  "kernelspec": {
   "display_name": "Python 3.9.9 64-bit",
   "language": "python",
   "name": "python3"
  },
  "language_info": {
   "codemirror_mode": {
    "name": "ipython",
    "version": 3
   },
   "file_extension": ".py",
   "mimetype": "text/x-python",
   "name": "python",
   "nbconvert_exporter": "python",
   "pygments_lexer": "ipython3",
   "version": "3.9.9"
  },
  "orig_nbformat": 4
 },
 "nbformat": 4,
 "nbformat_minor": 2
}
