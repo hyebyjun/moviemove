{
 "cells": [
  {
   "cell_type": "code",
   "execution_count": 1,
   "metadata": {},
   "outputs": [],
   "source": [
    "import pandas as pd"
   ]
  },
  {
   "cell_type": "code",
   "execution_count": 2,
   "metadata": {},
   "outputs": [
    {
     "name": "stdout",
     "output_type": "stream",
     "text": [
      "         행정기관       0~9세     10~19세     20~29세     30~39세     40~49세  \\\n",
      "행정기관                                                                   \n",
      "0        전국    1,915,401  2,429,066  3,479,452  3,463,616  4,149,400   \n",
      "1     서울특별시      297,702    387,079    681,848    717,756    732,721   \n",
      "2     부산광역시      112,142    137,031    214,267    207,437    253,324   \n",
      "\n",
      "         50~59세     60~69세     70~79세   80~89세  90~99세 100세 이상  \n",
      "행정기관                                                            \n",
      "0     4,366,032  3,525,502  1,690,255  662,474  59,907   1,423  \n",
      "1       742,529    609,162    317,387  118,253  10,796     398  \n",
      "2       269,954    259,596    135,258   45,753   3,378      67  \n"
     ]
    },
    {
     "name": "stderr",
     "output_type": "stream",
     "text": [
      "C:\\Python\\lib\\site-packages\\openpyxl\\styles\\stylesheet.py:226: UserWarning: Workbook contains no default style, apply openpyxl's default\n",
      "  warn(\"Workbook contains no default style, apply openpyxl's default\")\n"
     ]
    }
   ],
   "source": [
    "df = pd.read_excel('연령별인구현황_월간.xlsx', skiprows=3, nrows=3, usecols='b, e:o')   # col 잘라오기\n",
    "df.index.name = '행정기관'\n",
    "# df.set_index('행정기관', inplace=True)\n",
    "print(df)"
   ]
  },
  {
   "cell_type": "code",
   "execution_count": 3,
   "metadata": {},
   "outputs": [
    {
     "name": "stdout",
     "output_type": "stream",
     "text": [
      "행정기관      부산광역시  \n",
      "10~19세    137,031\n",
      "Name: 2, dtype: object\n"
     ]
    },
    {
     "name": "stderr",
     "output_type": "stream",
     "text": [
      "C:\\Python\\lib\\site-packages\\openpyxl\\styles\\stylesheet.py:226: UserWarning: Workbook contains no default style, apply openpyxl's default\n",
      "  warn(\"Workbook contains no default style, apply openpyxl's default\")\n"
     ]
    }
   ],
   "source": [
    "# 문제 1. 10-19세 컬럼 출력하기\n",
    "# 부산광역시 row만 출력하기\n",
    "\n",
    "df = pd.read_excel('연령별인구현황_월간.xlsx', skiprows=3, usecols='b, f')\n",
    "print(df.iloc[2])"
   ]
  },
  {
   "cell_type": "code",
   "execution_count": 4,
   "metadata": {},
   "outputs": [
    {
     "name": "stdout",
     "output_type": "stream",
     "text": [
      "Index(['행정기관코드', '행정기관', '남 인구수', '연령구간인구수', '0~9세', '10~19세', '20~29세',\n",
      "       '30~39세', '40~49세', '50~59세', '60~69세', '70~79세', '80~89세', '90~99세',\n",
      "       '100세 이상', '여 인구수', '연령구간인구수.1', '0~9세.1', '10~19세.1', '20~29세.1',\n",
      "       '30~39세.1', '40~49세.1', '50~59세.1', '60~69세.1', '70~79세.1', '80~89세.1',\n",
      "       '90~99세.1', '100세 이상.1'],\n",
      "      dtype='object')\n",
      "Index(['행정기관코드', '남 인구수', '연령구간인구수', '0~9세', '10~19세', '20~29세', '30~39세',\n",
      "       '40~49세', '50~59세', '60~69세', '70~79세', '80~89세', '90~99세', '100세 이상',\n",
      "       '여 인구수', '연령구간인구수.1', '0~9세.1', '10~19세.1', '20~29세.1', '30~39세.1',\n",
      "       '40~49세.1', '50~59세.1', '60~69세.1', '70~79세.1', '80~89세.1', '90~99세.1',\n",
      "       '100세 이상.1'],\n",
      "      dtype='object')\n"
     ]
    },
    {
     "name": "stderr",
     "output_type": "stream",
     "text": [
      "C:\\Python\\lib\\site-packages\\openpyxl\\styles\\stylesheet.py:226: UserWarning: Workbook contains no default style, apply openpyxl's default\n",
      "  warn(\"Workbook contains no default style, apply openpyxl's default\")\n",
      "C:\\Python\\lib\\site-packages\\openpyxl\\styles\\stylesheet.py:226: UserWarning: Workbook contains no default style, apply openpyxl's default\n",
      "  warn(\"Workbook contains no default style, apply openpyxl's default\")\n"
     ]
    }
   ],
   "source": [
    "df = pd.read_excel('연령별인구현황_월간.xlsx', skiprows=3)\n",
    "df.index.name = '행정기관'\n",
    "print(df.columns)\n",
    "\n",
    "df = pd.read_excel('연령별인구현황_월간.xlsx', skiprows=3, index_col='행정기관')\n",
    "print(df.columns)    # 이건 왜 인덱스명 안나오냐"
   ]
  },
  {
   "cell_type": "code",
   "execution_count": 5,
   "metadata": {},
   "outputs": [
    {
     "name": "stdout",
     "output_type": "stream",
     "text": [
      "       이름    학교    키   국어   영어   수학  과학  사회        SW특기\n",
      "지원번호                                                   \n",
      "1번    강나래   구로고  197   90   85  100  95  85      Python\n",
      "2번    강태원   구로고  184   40   35   50  55  25        Java\n",
      "3번    강호림   구로고  168   80   75   70  80  75  Javascript\n",
      "4번    김수찬   구로고  187   40   60   70  75  80         NaN\n",
      "5번    김재욱   구로고  188   15   20   10  35  10         NaN\n",
      "6번    박동현  디지털고  202   80  100   95  85  80           C\n",
      "7번    박혜정  디지털고  188   55   65   45  40  35      PYTHON\n",
      "8번    승근열  디지털고  190  100   85   90  95  95          C#\n",
      "지원번호\n",
      "1번    강나래\n",
      "2번    강태원\n",
      "3번    강호림\n",
      "4번    김수찬\n",
      "5번    김재욱\n",
      "6번    박동현\n",
      "7번    박혜정\n",
      "8번    승근열\n",
      "Name: 이름, dtype: object\n",
      "지원번호\n",
      "1번    강나래\n",
      "2번    강태원\n",
      "3번    강호림\n",
      "4번    김수찬\n",
      "5번    김재욱\n",
      "6번    박동현\n",
      "7번    박혜정\n",
      "8번    승근열\n",
      "Name: 이름, dtype: object\n",
      "이름         강나래\n",
      "학교         구로고\n",
      "키          197\n",
      "국어          90\n",
      "영어          85\n",
      "수학         100\n",
      "과학          95\n",
      "사회          85\n",
      "SW특기    Python\n",
      "Name: 1번, dtype: object\n",
      "이름         강나래\n",
      "학교         구로고\n",
      "키          197\n",
      "국어          90\n",
      "영어          85\n",
      "수학         100\n",
      "과학          95\n",
      "사회          85\n",
      "SW특기    Python\n",
      "Name: 1번, dtype: object\n"
     ]
    }
   ],
   "source": [
    "df = pd.read_excel('C:/workspace/dataClass/03_pandasData/pd0222/score.xlsx', index_col='지원번호')\n",
    "print(df)\n",
    "print(df['이름'])\n",
    "print(df[df.columns[0]])\n",
    "print(df.loc['1번'])  # 인덱스의 이름!으로 가져오기\n",
    "print(df.iloc[0])     # 인덱스의 번호로 가져오기"
   ]
  },
  {
   "cell_type": "code",
   "execution_count": 12,
   "metadata": {},
   "outputs": [
    {
     "name": "stdout",
     "output_type": "stream",
     "text": [
      "이름    강나래\n",
      "키     197\n",
      "Name: 1번, dtype: object\n",
      "--------------------\n",
      "지원번호\n",
      "4번    187\n",
      "6번    202\n",
      "Name: 키, dtype: int64\n",
      "--------------------\n",
      "      국어  영어   수학\n",
      "지원번호             \n",
      "1번    90  85  100\n",
      "2번    40  35   50\n",
      "3번    80  75   70\n",
      "4번    40  60   70\n",
      "5번    15  20   10\n"
     ]
    }
   ],
   "source": [
    "print(df.loc['1번', ['이름', '키']])\n",
    "print('-'*20)\n",
    "print(df.iloc[[3, 5], 2])\n",
    "print('-'*20)\n",
    "print(df.iloc[0:5, 3:6])    # df.iloc[x1:x2, y1:y2]  x에서의 범위, y에서의 범위 오오"
   ]
  },
  {
   "cell_type": "code",
   "execution_count": 40,
   "metadata": {},
   "outputs": [
    {
     "name": "stdout",
     "output_type": "stream",
     "text": [
      "   Unnamed: 0     2012     2013     2014     2015     2016     2017     2018  \\\n",
      "목록                                                                             \n",
      "0       출생아 수  484.600  436.500  435.400  438.400  406.200  357.800  326.800   \n",
      "1      합계 출산율    1.297    1.187    1.205    1.239    1.172    1.052    0.977   \n",
      "\n",
      "       2019    2020  \n",
      "목록                   \n",
      "0   302.700  272.30  \n",
      "1     0.918    0.84  \n",
      "--------------------------------------------------\n",
      "Unnamed: 0    출생아 수\n",
      "2012          484.6\n",
      "2013          436.5\n",
      "2014          435.4\n",
      "2015          438.4\n",
      "2016          406.2\n",
      "2017          357.8\n",
      "2018          326.8\n",
      "2019          302.7\n",
      "2020          272.3\n",
      "Name: 0, dtype: object\n"
     ]
    }
   ],
   "source": [
    "df = pd.read_excel('stat_142801.xls', skiprows=2, nrows=2)\n",
    "df.index.name = '목록'\n",
    "print(df)          # 전체 출력물\n",
    "print('-'*50)\n",
    "print(df.loc[0])   # 출생아 수만 뽑자"
   ]
  },
  {
   "cell_type": "code",
   "execution_count": null,
   "metadata": {},
   "outputs": [],
   "source": []
  }
 ],
 "metadata": {
  "interpreter": {
   "hash": "38740d3277777e2cd7c6c2cc9d8addf5118fdf3f82b1b39231fd12aeac8aee8b"
  },
  "kernelspec": {
   "display_name": "Python 3.9.9 64-bit",
   "language": "python",
   "name": "python3"
  },
  "language_info": {
   "codemirror_mode": {
    "name": "ipython",
    "version": 3
   },
   "file_extension": ".py",
   "mimetype": "text/x-python",
   "name": "python",
   "nbconvert_exporter": "python",
   "pygments_lexer": "ipython3",
   "version": "3.9.9"
  },
  "orig_nbformat": 4
 },
 "nbformat": 4,
 "nbformat_minor": 2
}
