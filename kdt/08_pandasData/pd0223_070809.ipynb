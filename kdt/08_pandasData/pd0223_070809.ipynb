{
 "cells": [
  {
   "cell_type": "code",
   "execution_count": 2,
   "metadata": {},
   "outputs": [],
   "source": [
    "import pandas as pd"
   ]
  },
  {
   "cell_type": "code",
   "execution_count": 3,
   "metadata": {},
   "outputs": [
    {
     "name": "stdout",
     "output_type": "stream",
     "text": [
      "  지원번호   이름    학교    키   국어   영어   수학  과학  사회        SW특기\n",
      "0   1번  강나래   구로고  197   90   85  100  95  85      Python\n",
      "1   2번  강태원   구로고  184   40   35   50  55  25        Java\n",
      "2   3번  강호림   구로고  168   80   75   70  80  75  Javascript\n",
      "3   4번  김수찬   구로고  187   40   60   70  75  80         NaN\n",
      "4   5번  김재욱   구로고  188   15   20   10  35  10         NaN\n",
      "5   6번  박동현  디지털고  202   80  100   95  85  80           C\n",
      "6   7번  박혜정  디지털고  188   55   65   45  40  35      PYTHON\n",
      "7   8번  승근열  디지털고  190  100   85   90  95  95          C#\n"
     ]
    }
   ],
   "source": [
    "df = pd.read_excel('score.xlsx')\n",
    "print(df)"
   ]
  },
  {
   "cell_type": "code",
   "execution_count": 4,
   "metadata": {},
   "outputs": [
    {
     "name": "stdout",
     "output_type": "stream",
     "text": [
      "0     True\n",
      "1    False\n",
      "2    False\n",
      "3     True\n",
      "4     True\n",
      "5     True\n",
      "6     True\n",
      "7     True\n",
      "Name: 키, dtype: bool\n",
      "--------------------------------------------------\n",
      "  지원번호   이름    학교    키   국어   영어   수학  과학  사회    SW특기\n",
      "0   1번  강나래   구로고  197   90   85  100  95  85  Python\n",
      "3   4번  김수찬   구로고  187   40   60   70  75  80     NaN\n",
      "4   5번  김재욱   구로고  188   15   20   10  35  10     NaN\n",
      "5   6번  박동현  디지털고  202   80  100   95  85  80       C\n",
      "6   7번  박혜정  디지털고  188   55   65   45  40  35  PYTHON\n",
      "7   8번  승근열  디지털고  190  100   85   90  95  95      C#\n",
      "--------------------------------------------------\n",
      "  지원번호   이름   학교    키  국어  영어  수학  과학  사회        SW특기\n",
      "1   2번  강태원  구로고  184  40  35  50  55  25        Java\n",
      "2   3번  강호림  구로고  168  80  75  70  80  75  Javascript\n"
     ]
    }
   ],
   "source": [
    "print(df['키']>=185)\n",
    "print('-'*50)\n",
    "ki185 = df['키']>=185\n",
    "print(df[ki185])       # 조건에 맞는 row 출력\n",
    "print('-'*50)\n",
    "print(df[~ki185])      # 조건에 맞지 않는 row 출력\n",
    "# print(df[~(df['키']>=185)]) # 같은 거"
   ]
  },
  {
   "cell_type": "code",
   "execution_count": 5,
   "metadata": {},
   "outputs": [
    {
     "name": "stdout",
     "output_type": "stream",
     "text": [
      "  지원번호   이름   학교    키  국어  영어   수학  과학  사회    SW특기\n",
      "0   1번  강나래  구로고  197  90  85  100  95  85  Python\n",
      "3   4번  김수찬  구로고  187  40  60   70  75  80     NaN\n",
      "4   5번  김재욱  구로고  188  15  20   10  35  10     NaN\n",
      "--------------------------------------------------\n",
      "  지원번호   이름    학교    키  국어   영어   수학  과학  사회        SW특기\n",
      "0   1번  강나래   구로고  197  90   85  100  95  85      Python\n",
      "1   2번  강태원   구로고  184  40   35   50  55  25        Java\n",
      "2   3번  강호림   구로고  168  80   75   70  80  75  Javascript\n",
      "3   4번  김수찬   구로고  187  40   60   70  75  80         NaN\n",
      "4   5번  김재욱   구로고  188  15   20   10  35  10         NaN\n",
      "5   6번  박동현  디지털고  202  80  100   95  85  80           C\n",
      "--------------------------------------------------\n",
      "<class 'pandas.core.frame.DataFrame'>\n",
      "RangeIndex: 8 entries, 0 to 7\n",
      "Data columns (total 10 columns):\n",
      " #   Column  Non-Null Count  Dtype \n",
      "---  ------  --------------  ----- \n",
      " 0   지원번호    8 non-null      object\n",
      " 1   이름      8 non-null      object\n",
      " 2   학교      8 non-null      object\n",
      " 3   키       8 non-null      int64 \n",
      " 4   국어      8 non-null      int64 \n",
      " 5   영어      8 non-null      int64 \n",
      " 6   수학      8 non-null      int64 \n",
      " 7   과학      8 non-null      int64 \n",
      " 8   사회      8 non-null      int64 \n",
      " 9   SW특기    6 non-null      object\n",
      "dtypes: int64(6), object(4)\n",
      "memory usage: 768.0+ bytes\n",
      "None\n"
     ]
    }
   ],
   "source": [
    "print(df[   (df['학교']=='구로고') & (df['키']>=185)   ])\n",
    "print('-'*50)\n",
    "print(df[   (df['학교']=='구로고') | (df['키']>=200)   ])\n",
    "print('-'*50)\n",
    "print(df.info())"
   ]
  },
  {
   "cell_type": "code",
   "execution_count": null,
   "metadata": {},
   "outputs": [],
   "source": []
  }
 ],
 "metadata": {
  "interpreter": {
   "hash": "38740d3277777e2cd7c6c2cc9d8addf5118fdf3f82b1b39231fd12aeac8aee8b"
  },
  "kernelspec": {
   "display_name": "Python 3.9.9 64-bit",
   "language": "python",
   "name": "python3"
  },
  "language_info": {
   "codemirror_mode": {
    "name": "ipython",
    "version": 3
   },
   "file_extension": ".py",
   "mimetype": "text/x-python",
   "name": "python",
   "nbconvert_exporter": "python",
   "pygments_lexer": "ipython3",
   "version": "3.9.9"
  },
  "orig_nbformat": 4
 },
 "nbformat": 4,
 "nbformat_minor": 2
}
