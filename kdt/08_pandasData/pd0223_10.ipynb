{
 "cells": [
  {
   "cell_type": "code",
   "execution_count": 33,
   "metadata": {},
   "outputs": [],
   "source": [
    "import pandas as pd"
   ]
  },
  {
   "cell_type": "code",
   "execution_count": 34,
   "metadata": {},
   "outputs": [
    {
     "name": "stdout",
     "output_type": "stream",
     "text": [
      "<class 'pandas.core.frame.DataFrame'>\n",
      "Index: 18 entries, 전국   to 제주특별자치도  \n",
      "Data columns (total 11 columns):\n",
      " #   Column   Non-Null Count  Dtype \n",
      "---  ------   --------------  ----- \n",
      " 0   0~9세     18 non-null     object\n",
      " 1   10~19세   18 non-null     object\n",
      " 2   20~29세   18 non-null     object\n",
      " 3   30~39세   18 non-null     object\n",
      " 4   40~49세   18 non-null     object\n",
      " 5   50~59세   18 non-null     object\n",
      " 6   60~69세   18 non-null     object\n",
      " 7   70~79세   18 non-null     object\n",
      " 8   80~89세   18 non-null     object\n",
      " 9   90~99세   18 non-null     object\n",
      " 10  100세 이상  18 non-null     object\n",
      "dtypes: object(11)\n",
      "memory usage: 1.7+ KB\n",
      "None\n"
     ]
    },
    {
     "name": "stderr",
     "output_type": "stream",
     "text": [
      "C:\\Python\\lib\\site-packages\\openpyxl\\styles\\stylesheet.py:226: UserWarning: Workbook contains no default style, apply openpyxl's default\n",
      "  warn(\"Workbook contains no default style, apply openpyxl's default\")\n"
     ]
    }
   ],
   "source": [
    "df = pd.read_excel('연령별인구현황_월간.xlsx', skiprows=3, index_col='행정기관', usecols='b, e:o')\n",
    "print(df.info())"
   ]
  },
  {
   "cell_type": "code",
   "execution_count": 35,
   "metadata": {},
   "outputs": [
    {
     "name": "stdout",
     "output_type": "stream",
     "text": [
      "Index(['0~9세', '10~19세', '20~29세', '30~39세', '40~49세', '50~59세', '60~69세',\n",
      "       '70~79세', '80~89세', '90~99세', '100세 이상'],\n",
      "      dtype='object')\n"
     ]
    }
   ],
   "source": [
    "print(df.columns)"
   ]
  },
  {
   "cell_type": "code",
   "execution_count": 36,
   "metadata": {},
   "outputs": [
    {
     "name": "stdout",
     "output_type": "stream",
     "text": [
      "행정기관\n",
      "전국           1,915,401\n",
      "서울특별시          297,702\n",
      "부산광역시          112,142\n",
      "대구광역시           85,524\n",
      "인천광역시          110,927\n",
      "광주광역시           58,089\n",
      "대전광역시           55,008\n",
      "울산광역시           46,932\n",
      "세종특별자치시         24,030\n",
      "경기도            559,696\n",
      "강원도             51,333\n",
      "충청북도            59,265\n",
      "충청남도            82,575\n",
      "전라북도            60,877\n",
      "전라남도            62,648\n",
      "경상북도            91,173\n",
      "경상남도           127,842\n",
      "제주특별자치도         29,638\n",
      "Name: 0~9세, dtype: object\n"
     ]
    }
   ],
   "source": [
    "print(df['0~9세'])"
   ]
  },
  {
   "cell_type": "code",
   "execution_count": 37,
   "metadata": {},
   "outputs": [
    {
     "name": "stdout",
     "output_type": "stream",
     "text": [
      "0~9세       1,915,401\n",
      "10~19세     2,429,066\n",
      "20~29세     3,479,452\n",
      "30~39세     3,463,616\n",
      "40~49세     4,149,400\n",
      "50~59세     4,366,032\n",
      "60~69세     3,525,502\n",
      "70~79세     1,690,255\n",
      "80~89세       662,474\n",
      "90~99세        59,907\n",
      "100세 이상        1,423\n",
      "Name: 전국  , dtype: object\n",
      "--------------------------------------------------\n",
      "0~9세       1915401\n",
      "10~19세     2429066\n",
      "20~29세     3479452\n",
      "30~39세     3463616\n",
      "40~49세     4149400\n",
      "50~59세     4366032\n",
      "60~69세     3525502\n",
      "70~79세     1690255\n",
      "80~89세      662474\n",
      "90~99세       59907\n",
      "100세 이상       1423\n",
      "Name: 전국  , dtype: int32\n"
     ]
    }
   ],
   "source": [
    "print(df.iloc[0])\n",
    "print('-'*50)\n",
    "intAllKor = df.iloc[0].str.replace(',','').astype(int)\n",
    "print(intAllKor)"
   ]
  },
  {
   "cell_type": "code",
   "execution_count": 51,
   "metadata": {},
   "outputs": [
    {
     "name": "stdout",
     "output_type": "stream",
     "text": [
      "행정기관\n",
      "전국           1,915,401\n",
      "서울특별시          297,702\n",
      "부산광역시          112,142\n",
      "대구광역시           85,524\n",
      "인천광역시          110,927\n",
      "광주광역시           58,089\n",
      "대전광역시           55,008\n",
      "울산광역시           46,932\n",
      "세종특별자치시         24,030\n",
      "경기도            559,696\n",
      "강원도             51,333\n",
      "충청북도            59,265\n",
      "충청남도            82,575\n",
      "전라북도            60,877\n",
      "전라남도            62,648\n",
      "경상북도            91,173\n",
      "경상남도           127,842\n",
      "제주특별자치도         29,638\n",
      "Name: 0~9세, dtype: object\n",
      "--------------------------------------------------\n",
      "행정기관\n",
      "전국           1915401\n",
      "서울특별시         297702\n",
      "부산광역시         112142\n",
      "대구광역시          85524\n",
      "인천광역시         110927\n",
      "광주광역시          58089\n",
      "대전광역시          55008\n",
      "울산광역시          46932\n",
      "세종특별자치시        24030\n",
      "경기도           559696\n",
      "강원도            51333\n",
      "충청북도           59265\n",
      "충청남도           82575\n",
      "전라북도           60877\n",
      "전라남도           62648\n",
      "경상북도           91173\n",
      "경상남도          127842\n",
      "제주특별자치도        29638\n",
      "Name: 0~9세, dtype: int32\n"
     ]
    }
   ],
   "source": [
    "print(df['0~9세'])\n",
    "print('-'*50)\n",
    "newdf = df['0~9세'].str.replace(',','').astype(int)\n",
    "print(newdf)"
   ]
  },
  {
   "cell_type": "code",
   "execution_count": 52,
   "metadata": {},
   "outputs": [
    {
     "name": "stdout",
     "output_type": "stream",
     "text": [
      "0~9세 중 10만 이상 자치구\n",
      "행정기관\n",
      "전국         1915401\n",
      "서울특별시       297702\n",
      "부산광역시       112142\n",
      "인천광역시       110927\n",
      "경기도         559696\n",
      "경상남도        127842\n",
      "Name: 0~9세, dtype: int32\n"
     ]
    }
   ],
   "source": [
    "print('0~9세 중 10만 이상 자치구')\n",
    "print(newdf[newdf>=100000])"
   ]
  },
  {
   "cell_type": "code",
   "execution_count": null,
   "metadata": {},
   "outputs": [],
   "source": []
  }
 ],
 "metadata": {
  "interpreter": {
   "hash": "38740d3277777e2cd7c6c2cc9d8addf5118fdf3f82b1b39231fd12aeac8aee8b"
  },
  "kernelspec": {
   "display_name": "Python 3.9.9 64-bit",
   "language": "python",
   "name": "python3"
  },
  "language_info": {
   "codemirror_mode": {
    "name": "ipython",
    "version": 3
   },
   "file_extension": ".py",
   "mimetype": "text/x-python",
   "name": "python",
   "nbconvert_exporter": "python",
   "pygments_lexer": "ipython3",
   "version": "3.9.9"
  },
  "orig_nbformat": 4
 },
 "nbformat": 4,
 "nbformat_minor": 2
}
