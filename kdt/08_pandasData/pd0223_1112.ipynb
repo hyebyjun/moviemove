{
 "cells": [
  {
   "cell_type": "code",
   "execution_count": 98,
   "metadata": {},
   "outputs": [],
   "source": [
    "import pandas as pd"
   ]
  },
  {
   "cell_type": "code",
   "execution_count": 99,
   "metadata": {},
   "outputs": [
    {
     "name": "stdout",
     "output_type": "stream",
     "text": [
      "       이름    학교    키   국어   영어   수학  과학  사회        SW특기\n",
      "지원번호                                                   \n",
      "1번    강나래   구로고  197   90   85  100  95  85      Python\n",
      "2번    강태원   구로고  184   40   35   50  55  25        Java\n",
      "3번    강호림   구로고  168   80   75   70  80  75  Javascript\n",
      "4번    김수찬   구로고  187   40   60   70  75  80         NaN\n",
      "5번    김재욱   구로고  188   15   20   10  35  10         NaN\n",
      "6번    박동현  디지털고  202   80  100   95  85  80           C\n",
      "7번    박혜정  디지털고  188   55   65   45  40  35      PYTHON\n",
      "8번    승근열  디지털고  190  100   85   90  95  95          C#\n"
     ]
    }
   ],
   "source": [
    "raw = pd.read_excel('score.xlsx', index_col='지원번호')\n",
    "print(raw)"
   ]
  },
  {
   "cell_type": "code",
   "execution_count": 100,
   "metadata": {},
   "outputs": [
    {
     "name": "stdout",
     "output_type": "stream",
     "text": [
      "                    이름    학교   영어  수학\n",
      "2    Townsend Burnsell  디지털고   84  93\n",
      "6        Shanon Arnley   구로고   96  96\n",
      "10   Kristien Sillitoe   구로고  100  91\n",
      "17       Farris Jiggen  디지털고   94  80\n",
      "19    Englebert Cassel   단지고   93  99\n",
      "..                 ...   ...  ...  ..\n",
      "984  Chantalle Baukham   구로고   75  82\n",
      "988   Fulvia Feldstein   단지고   80  95\n",
      "989         Joela Pues   구로고   70  90\n",
      "992      Dirk Giannoni   단지고   96  97\n",
      "999      Samaria Shann  디지털고   76  85\n",
      "\n",
      "[147 rows x 4 columns]\n"
     ]
    }
   ],
   "source": [
    "raw = pd.read_excel('pandas_code.xlsx')\n",
    "eng = raw['영어']>=70\n",
    "math = raw['수학']>=80\n",
    "print(raw[eng & math][['이름', '학교', '영어', '수학']])"
   ]
  },
  {
   "cell_type": "code",
   "execution_count": 101,
   "metadata": {},
   "outputs": [
    {
     "name": "stdout",
     "output_type": "stream",
     "text": [
      "2      townsend burnsell\n",
      "6          shanon arnley\n",
      "10     kristien sillitoe\n",
      "17         farris jiggen\n",
      "19      englebert cassel\n",
      "             ...        \n",
      "984    chantalle baukham\n",
      "988     fulvia feldstein\n",
      "989           joela pues\n",
      "992        dirk giannoni\n",
      "999        samaria shann\n",
      "Name: 이름, Length: 147, dtype: object\n"
     ]
    }
   ],
   "source": [
    "step2 = raw[eng & math][['이름', '학교', '영어', '수학']]\n",
    "print(step2['이름'].str.lower())"
   ]
  },
  {
   "cell_type": "code",
   "execution_count": 102,
   "metadata": {},
   "outputs": [
    {
     "name": "stdout",
     "output_type": "stream",
     "text": [
      "                    이름   학교  영어  수학  과학  사회    sw특기\n",
      "20   Josias Pendlenton  단지고  62  58  49  48  PYTHON\n",
      "601    Noland Yorkston  단지고  62  51  55  60  PYTHON\n",
      "716      Barclay Coton  단지고  53  69  41  27  PYTHON\n",
      "792      Shelton Russe  단지고  60  99  45  34  PYTHON\n",
      "937    Toby Fahrenbach  단지고  20  84  53  20  PYTHON\n",
      "967        Brad Pistol  단지고  67  46  58  27  PYTHON\n"
     ]
    }
   ],
   "source": [
    "swph = raw['sw특기'].str.contains('PYTHON', na=False)\n",
    "toname = raw['이름'].str.contains('to', case=False)      # 대소문자 구분 없이하기\n",
    "highS = raw['학교']=='단지고'\n",
    "print(  raw[swph&toname&highS]  )"
   ]
  },
  {
   "cell_type": "code",
   "execution_count": 109,
   "metadata": {},
   "outputs": [
    {
     "name": "stdout",
     "output_type": "stream",
     "text": [
      "520\n"
     ]
    }
   ],
   "source": [
    "raw = pd.read_excel('pandas_code.xlsx')\n",
    "eng = raw['영어']>=60\n",
    "print(raw[eng]['영어'].count())"
   ]
  },
  {
   "cell_type": "code",
   "execution_count": null,
   "metadata": {},
   "outputs": [],
   "source": []
  }
 ],
 "metadata": {
  "interpreter": {
   "hash": "38740d3277777e2cd7c6c2cc9d8addf5118fdf3f82b1b39231fd12aeac8aee8b"
  },
  "kernelspec": {
   "display_name": "Python 3.9.9 64-bit",
   "language": "python",
   "name": "python3"
  },
  "language_info": {
   "codemirror_mode": {
    "name": "ipython",
    "version": 3
   },
   "file_extension": ".py",
   "mimetype": "text/x-python",
   "name": "python",
   "nbconvert_exporter": "python",
   "pygments_lexer": "ipython3",
   "version": "3.9.9"
  },
  "orig_nbformat": 4
 },
 "nbformat": 4,
 "nbformat_minor": 2
}
