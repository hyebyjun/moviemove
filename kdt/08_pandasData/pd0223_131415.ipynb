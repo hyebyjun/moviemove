{
 "cells": [
  {
   "cell_type": "markdown",
   "metadata": {},
   "source": [
    "### 13"
   ]
  },
  {
   "cell_type": "code",
   "execution_count": 1,
   "metadata": {},
   "outputs": [],
   "source": [
    "import pandas as pd"
   ]
  },
  {
   "cell_type": "code",
   "execution_count": 19,
   "metadata": {},
   "outputs": [
    {
     "name": "stdout",
     "output_type": "stream",
     "text": [
      "  지원번호   이름    학교    키   국어   영어   수학  과학  사회        SW특기\n",
      "0   1번  강나래   구로고  197   90   85  100  95  85      Python\n",
      "1   2번  강태원   구로고  184   40   35   50  55  25        Java\n",
      "2   3번  강호림   구로고  168   80   75   70  80  75  Javascript\n",
      "3   4번  김수찬   구로고  187   40   60   70  75  80         NaN\n",
      "4   5번  김재욱   구로고  188   15   20   10  35  10         NaN\n",
      "5   6번  박동현  디지털고  202   80  100   95  85  80           C\n",
      "6   7번  박혜정  디지털고  188   55   65   45  40  35      PYTHON\n",
      "7   8번  승근열  디지털고  190  100   85   90  95  95          C#\n"
     ]
    }
   ],
   "source": [
    "raw = pd.read_excel('score.xlsx')\n",
    "print(raw)"
   ]
  },
  {
   "cell_type": "code",
   "execution_count": 20,
   "metadata": {},
   "outputs": [
    {
     "name": "stdout",
     "output_type": "stream",
     "text": [
      "  지원번호   이름    학교    키   국어   영어   수학  과학  사회        SW특기\n",
      "0   1번  강나래   구로고  197   90   85  100  95  85      Python\n",
      "1   2번  강태원   구로고  184   40   35   50  55  25        Java\n",
      "2   3번  강호림   구로고  168   80   75   70  80  75  Javascript\n",
      "3   4번  김수찬   구로고  187   40   60   70  75  80          없음\n",
      "4   5번  김재욱   구로고  188   15   20   10  35  10          없음\n",
      "5   6번  박동현  디지털고  202   80  100   95  85  80           C\n",
      "6   7번  박혜정  디지털고  188   55   65   45  40  35      PYTHON\n",
      "7   8번  승근열  디지털고  190  100   85   90  95  95          C#\n"
     ]
    }
   ],
   "source": [
    "raw.fillna('없음', inplace=True)    # NaN값 채워주기\n",
    "print(raw)"
   ]
  },
  {
   "cell_type": "code",
   "execution_count": 21,
   "metadata": {},
   "outputs": [],
   "source": [
    "import numpy as np"
   ]
  },
  {
   "cell_type": "code",
   "execution_count": 22,
   "metadata": {},
   "outputs": [
    {
     "name": "stdout",
     "output_type": "stream",
     "text": [
      "  지원번호   이름  학교    키   국어   영어   수학  과학  사회        SW특기\n",
      "0   1번  강나래 NaN  197   90   85  100  95  85      Python\n",
      "1   2번  강태원 NaN  184   40   35   50  55  25        Java\n",
      "2   3번  강호림 NaN  168   80   75   70  80  75  Javascript\n",
      "3   4번  김수찬 NaN  187   40   60   70  75  80          없음\n",
      "4   5번  김재욱 NaN  188   15   20   10  35  10          없음\n",
      "5   6번  박동현 NaN  202   80  100   95  85  80           C\n",
      "6   7번  박혜정 NaN  188   55   65   45  40  35      PYTHON\n",
      "7   8번  승근열 NaN  190  100   85   90  95  95          C#\n",
      "--------------------------------------------------\n",
      "  지원번호   이름  학교    키   국어   영어   수학  과학  사회        SW특기\n",
      "0   1번  강나래  모름  197   90   85  100  95  85      Python\n",
      "1   2번  강태원  모름  184   40   35   50  55  25        Java\n",
      "2   3번  강호림  모름  168   80   75   70  80  75  Javascript\n",
      "3   4번  김수찬  모름  187   40   60   70  75  80          없음\n",
      "4   5번  김재욱  모름  188   15   20   10  35  10          없음\n",
      "5   6번  박동현  모름  202   80  100   95  85  80           C\n",
      "6   7번  박혜정  모름  188   55   65   45  40  35      PYTHON\n",
      "7   8번  승근열  모름  190  100   85   90  95  95          C#\n",
      "--------------------------------------------------\n",
      "  지원번호   이름  학교    키   국어   영어   수학  과학  사회        SW특기\n",
      "0   1번  강나래 NaN  197   90   85  100  95  85      Python\n",
      "1   2번  강태원 NaN  184   40   35   50  55  25        Java\n",
      "2   3번  강호림 NaN  168   80   75   70  80  75  Javascript\n",
      "3   4번  김수찬 NaN  187   40   60   70  75  80          없음\n",
      "4   5번  김재욱 NaN  188   15   20   10  35  10          없음\n",
      "5   6번  박동현 NaN  202   80  100   95  85  80           C\n",
      "6   7번  박혜정 NaN  188   55   65   45  40  35      PYTHON\n",
      "7   8번  승근열 NaN  190  100   85   90  95  95          C#\n"
     ]
    }
   ],
   "source": [
    "raw['학교'] = np.nan    # 넘파이로 값 밀어버리기..\n",
    "print(raw)\n",
    "print('-'*50)\n",
    "print(raw.fillna('모름'))\n",
    "print('-'*50)\n",
    "print(raw)      # 그러나 다시 원복된다. 인플레이스트루 안해서..ㅎㅎ"
   ]
  },
  {
   "cell_type": "code",
   "execution_count": 25,
   "metadata": {},
   "outputs": [
    {
     "name": "stdout",
     "output_type": "stream",
     "text": [
      "  지원번호   이름    학교    키   국어   영어   수학  과학  사회        SW특기\n",
      "0   1번  강나래   구로고  197   90   85  100  95  85      Python\n",
      "1   2번  강태원   구로고  184   40   35   50  55  25        Java\n",
      "2   3번  강호림   구로고  168   80   75   70  80  75  Javascript\n",
      "3   4번  김수찬   구로고  187   40   60   70  75  80         NaN\n",
      "4   5번  김재욱   구로고  188   15   20   10  35  10         NaN\n",
      "5   6번  박동현  디지털고  202   80  100   95  85  80           C\n",
      "6   7번  박혜정  디지털고  188   55   65   45  40  35      PYTHON\n",
      "7   8번  승근열  디지털고  190  100   85   90  95  95          C#\n",
      "--------------------------------------------------\n",
      "  지원번호   이름    학교    키   국어   영어   수학  과학  사회        SW특기\n",
      "0   1번  강나래   구로고  197   90   85  100  95  85      Python\n",
      "1   2번  강태원   구로고  184   40   35   50  55  25        Java\n",
      "2   3번  강호림   구로고  168   80   75   70  80  75  Javascript\n",
      "5   6번  박동현  디지털고  202   80  100   95  85  80           C\n",
      "6   7번  박혜정  디지털고  188   55   65   45  40  35      PYTHON\n",
      "7   8번  승근열  디지털고  190  100   85   90  95  95          C#\n"
     ]
    }
   ],
   "source": [
    "raw = pd.read_excel('score.xlsx')\n",
    "print(raw)\n",
    "print('-'*50)\n",
    "print(raw.dropna())    # NaN이 있으면 행 밀어버리기\n",
    "# 그 결과 특기 없는 녀석은 제거 당하였다.."
   ]
  },
  {
   "cell_type": "markdown",
   "metadata": {},
   "source": [
    "### 15"
   ]
  },
  {
   "cell_type": "code",
   "execution_count": 5,
   "metadata": {},
   "outputs": [
    {
     "name": "stdout",
     "output_type": "stream",
     "text": [
      "  지원번호   이름    학교    키   국어   영어   수학  과학  사회        SW특기\n",
      "2   3번  강호림   구로고  168   80   75   70  80  75  Javascript\n",
      "1   2번  강태원   구로고  184   40   35   50  55  25        Java\n",
      "3   4번  김수찬   구로고  187   40   60   70  75  80         NaN\n",
      "4   5번  김재욱   구로고  188   15   20   10  35  10         NaN\n",
      "6   7번  박혜정  디지털고  188   55   65   45  40  35      PYTHON\n",
      "7   8번  승근열  디지털고  190  100   85   90  95  95          C#\n",
      "0   1번  강나래   구로고  197   90   85  100  95  85      Python\n",
      "5   6번  박동현  디지털고  202   80  100   95  85  80           C\n",
      "--------------------------------------------------\n",
      "  지원번호   이름    학교    키   국어   영어   수학  과학  사회        SW특기\n",
      "5   6번  박동현  디지털고  202   80  100   95  85  80           C\n",
      "0   1번  강나래   구로고  197   90   85  100  95  85      Python\n",
      "7   8번  승근열  디지털고  190  100   85   90  95  95          C#\n",
      "4   5번  김재욱   구로고  188   15   20   10  35  10         NaN\n",
      "6   7번  박혜정  디지털고  188   55   65   45  40  35      PYTHON\n",
      "3   4번  김수찬   구로고  187   40   60   70  75  80         NaN\n",
      "1   2번  강태원   구로고  184   40   35   50  55  25        Java\n",
      "2   3번  강호림   구로고  168   80   75   70  80  75  Javascript\n"
     ]
    }
   ],
   "source": [
    "raw = pd.read_excel('score.xlsx')\n",
    "print(raw.sort_values('키'))                     # 순차 정렬\n",
    "print('-'*50)\n",
    "print(raw.sort_values('키', ascending=False))    # 역순 정렬"
   ]
  },
  {
   "cell_type": "code",
   "execution_count": 6,
   "metadata": {},
   "outputs": [
    {
     "name": "stdout",
     "output_type": "stream",
     "text": [
      "  지원번호   이름    학교    키   국어   영어   수학  과학  사회        SW특기\n",
      "0   1번  강나래   구로고  197   90   85  100  95  85      Python\n",
      "1   2번  강태원   구로고  184   40   35   50  55  25        Java\n",
      "2   3번  강호림   구로고  168   80   75   70  80  75  Javascript\n",
      "3   4번  김수찬   구로고  187   40   60   70  75  80         NaN\n",
      "4   5번  김재욱   구로고  188   15   20   10  35  10         NaN\n",
      "5   6번  박동현  디지털고  202   80  100   95  85  80           C\n",
      "6   7번  박혜정  디지털고  188   55   65   45  40  35      PYTHON\n",
      "7   8번  승근열  디지털고  190  100   85   90  95  95          C#\n",
      "  지원번호   이름    학교    키   국어   영어   수학  과학  사회        SW특기\n",
      "4   5번  김재욱   구로고  188   15   20   10  35  10         NaN\n",
      "1   2번  강태원   구로고  184   40   35   50  55  25        Java\n",
      "3   4번  김수찬   구로고  187   40   60   70  75  80         NaN\n",
      "6   7번  박혜정  디지털고  188   55   65   45  40  35      PYTHON\n",
      "2   3번  강호림   구로고  168   80   75   70  80  75  Javascript\n",
      "0   1번  강나래   구로고  197   90   85  100  95  85      Python\n",
      "7   8번  승근열  디지털고  190  100   85   90  95  95          C#\n",
      "5   6번  박동현  디지털고  202   80  100   95  85  80           C\n"
     ]
    }
   ],
   "source": [
    "print(raw.sort_values('이름'))\n",
    "print(raw.sort_values(['영어', '수학'], ascending=[True, False]))"
   ]
  },
  {
   "cell_type": "code",
   "execution_count": null,
   "metadata": {},
   "outputs": [],
   "source": []
  }
 ],
 "metadata": {
  "interpreter": {
   "hash": "38740d3277777e2cd7c6c2cc9d8addf5118fdf3f82b1b39231fd12aeac8aee8b"
  },
  "kernelspec": {
   "display_name": "Python 3.9.9 64-bit",
   "language": "python",
   "name": "python3"
  },
  "language_info": {
   "codemirror_mode": {
    "name": "ipython",
    "version": 3
   },
   "file_extension": ".py",
   "mimetype": "text/x-python",
   "name": "python",
   "nbconvert_exporter": "python",
   "pygments_lexer": "ipython3",
   "version": "3.9.9"
  },
  "orig_nbformat": 4
 },
 "nbformat": 4,
 "nbformat_minor": 2
}
