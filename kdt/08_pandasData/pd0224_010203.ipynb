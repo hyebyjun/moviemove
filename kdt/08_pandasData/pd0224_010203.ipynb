{
 "cells": [
  {
   "cell_type": "code",
   "execution_count": 27,
   "metadata": {},
   "outputs": [],
   "source": [
    "import pandas as pd"
   ]
  },
  {
   "cell_type": "code",
   "execution_count": 28,
   "metadata": {},
   "outputs": [
    {
     "name": "stdout",
     "output_type": "stream",
     "text": [
      "       이름    학교    키   국어   영어   수학  과학  사회        SW특기\n",
      "지원번호                                                   \n",
      "1번    강나래   구로고  197   90   85  100  95  85      Python\n",
      "2번    강태원   구로고  184   40   35   50  55  25        Java\n",
      "3번    강호림   구로고  168   80   75   70  80  75  Javascript\n",
      "4번    김수찬   구로고  187   40   60   70  75  80         NaN\n",
      "5번    김재욱   구로고  188   15   20   10  35  10         NaN\n",
      "6번    박동현  디지털고  202   80  100   95  85  80           C\n",
      "7번    박혜정  디지털고  188   55   65   45  40  35      PYTHON\n",
      "8번    승근열  디지털고  190  100   85   90  95  95          C#\n"
     ]
    }
   ],
   "source": [
    "df = pd.read_excel('C:/workspace/dataClass/03_pandasData/score.xlsx', index_col='지원번호')\n",
    "print(df)"
   ]
  },
  {
   "cell_type": "code",
   "execution_count": 29,
   "metadata": {},
   "outputs": [
    {
     "name": "stdout",
     "output_type": "stream",
     "text": [
      "이름             강호림\n",
      "학교             구로고\n",
      "키              168\n",
      "국어              80\n",
      "영어              75\n",
      "수학              70\n",
      "과학              80\n",
      "사회              75\n",
      "SW특기    Javascript\n",
      "Name: 3번, dtype: object\n",
      "이름             강호림\n",
      "학교             구로고\n",
      "키              168\n",
      "국어              80\n",
      "영어              75\n",
      "수학              70\n",
      "과학              80\n",
      "사회              75\n",
      "SW특기    Javascript\n",
      "Name: 3번, dtype: object\n"
     ]
    }
   ],
   "source": [
    "print(df.loc['3번'])    # 인덱스명으로 호출\n",
    "print(df.iloc[2])       # 인덱스 넘버로 호출"
   ]
  },
  {
   "cell_type": "code",
   "execution_count": 30,
   "metadata": {},
   "outputs": [
    {
     "name": "stdout",
     "output_type": "stream",
     "text": [
      "지원번호\n",
      "1번    강나래\n",
      "2번    강태원\n",
      "3번    강호림\n",
      "4번    김수찬\n",
      "5번    김재욱\n",
      "6번    박동현\n",
      "7번    박혜정\n",
      "8번    승근열\n",
      "Name: 이름, dtype: object\n",
      "지원번호\n",
      "1번    강나래\n",
      "2번    강태원\n",
      "3번    강호림\n",
      "4번    김수찬\n",
      "5번    김재욱\n",
      "6번    박동현\n",
      "7번    박혜정\n",
      "8번    승근열\n",
      "Name: 이름, dtype: object\n"
     ]
    }
   ],
   "source": [
    "print(df['이름'])          # 컬럼명으로 호출\n",
    "print(df[df.columns[0]])   # 컬럼 넘버로 호출"
   ]
  },
  {
   "cell_type": "markdown",
   "metadata": {},
   "source": [
    "### 02"
   ]
  },
  {
   "cell_type": "code",
   "execution_count": 31,
   "metadata": {},
   "outputs": [
    {
     "name": "stdout",
     "output_type": "stream",
     "text": [
      "지원번호\n",
      "1번     구로고\n",
      "2번     구로고\n",
      "3번     구로고\n",
      "4번     구로고\n",
      "5번     구로고\n",
      "6번    디지털고\n",
      "7번    디지털고\n",
      "8번    디지털고\n",
      "Name: 학교, dtype: object\n",
      "지원번호\n",
      "1번     단지고\n",
      "2번     단지고\n",
      "3번     단지고\n",
      "4번     단지고\n",
      "5번     단지고\n",
      "6번    디지털고\n",
      "7번    디지털고\n",
      "8번    디지털고\n",
      "Name: 학교, dtype: object\n",
      "지원번호\n",
      "1번     단지고\n",
      "2번     단지고\n",
      "3번     단지고\n",
      "4번     단지고\n",
      "5번     단지고\n",
      "6번    영등포고\n",
      "7번    영등포고\n",
      "8번    영등포고\n",
      "Name: 학교, dtype: object\n"
     ]
    }
   ],
   "source": [
    "print(df['학교'])\n",
    "df['학교'].replace({'구로고':'단지고'}, inplace=True)\n",
    "print(df['학교'])\n",
    "df['학교'].replace({'디지털고':'영등포고'}, inplace=True)\n",
    "print(df['학교'])\n",
    "\n",
    "# df['학교'].replace({'디지털고':'영등포고', '구로고':'단지고'}, inplace=True)\n",
    "# 한방에 2개도 가능"
   ]
  },
  {
   "cell_type": "code",
   "execution_count": 32,
   "metadata": {},
   "outputs": [
    {
     "name": "stdout",
     "output_type": "stream",
     "text": [
      "지원번호\n",
      "1번        Python\n",
      "2번          Java\n",
      "3번    Javascript\n",
      "4번           NaN\n",
      "5번           NaN\n",
      "6번             C\n",
      "7번        PYTHON\n",
      "8번            C#\n",
      "Name: SW특기, dtype: object\n",
      "지원번호\n",
      "1번        python\n",
      "2번          java\n",
      "3번    javascript\n",
      "4번           NaN\n",
      "5번           NaN\n",
      "6번             c\n",
      "7번        python\n",
      "8번            c#\n",
      "Name: SW특기, dtype: object\n",
      "지원번호\n",
      "1번        python\n",
      "2번          java\n",
      "3번    javascript\n",
      "4번           NaN\n",
      "5번           NaN\n",
      "6번             c\n",
      "7번        python\n",
      "8번            c#\n",
      "Name: SW특기, dtype: object\n"
     ]
    }
   ],
   "source": [
    "print(df['SW특기'])\n",
    "print(df['SW특기'].str.lower())\n",
    "# 이건 인플레이스트루 저장이 안돼서\n",
    "# 변수선언처럼 해야됨\n",
    "df['SW특기'] = df['SW특기'].str.lower()\n",
    "print(df['SW특기'])"
   ]
  },
  {
   "cell_type": "code",
   "execution_count": 33,
   "metadata": {},
   "outputs": [
    {
     "name": "stdout",
     "output_type": "stream",
     "text": [
      "       이름   학교    키  국어  영어  수학  과학  사회 SW특기\n",
      "지원번호                                        \n",
      "4번    김수찬  단지고  187  40  60  70  75  80  NaN\n"
     ]
    }
   ],
   "source": [
    "# 이름에 '수'가 들어간 사람 찾기\n",
    "soo = df['이름'].str.contains('수')\n",
    "print(df[soo])"
   ]
  },
  {
   "cell_type": "code",
   "execution_count": 34,
   "metadata": {},
   "outputs": [
    {
     "name": "stdout",
     "output_type": "stream",
     "text": [
      "       이름    학교    키   국어   영어   수학  과학  사회        SW특기\n",
      "지원번호                                                   \n",
      "1번    강나래   단지고  197   90   85  100  95  85      python\n",
      "3번    강호림   단지고  168   80   75   70  80  75  javascript\n",
      "6번    박동현  영등포고  202   80  100   95  85  80           c\n",
      "8번    승근열  영등포고  190  100   85   90  95  95          c#\n"
     ]
    }
   ],
   "source": [
    "# 영어점수 71점 이상인 사람\n",
    "jumsu70 = df['영어']>70\n",
    "print(df[jumsu70])"
   ]
  },
  {
   "cell_type": "code",
   "execution_count": 35,
   "metadata": {},
   "outputs": [
    {
     "name": "stdout",
     "output_type": "stream",
     "text": [
      "       이름   학교    키  국어  영어   수학  과학  사회    SW특기\n",
      "지원번호                                            \n",
      "1번    강나래  단지고  197  90  85  100  95  85  python\n"
     ]
    }
   ],
   "source": [
    "# 이름에 '강'이 들어가고, 수학점수 80점 이상\n",
    "kang = df['이름'].str.contains('강')\n",
    "jumsu80 = df['수학']>=80\n",
    "print(df[ kang&jumsu80 ])"
   ]
  },
  {
   "cell_type": "code",
   "execution_count": 36,
   "metadata": {},
   "outputs": [
    {
     "name": "stdout",
     "output_type": "stream",
     "text": [
      "       이름    학교    키  국어  영어   수학  과학  사회    SW특기\n",
      "지원번호                                             \n",
      "1번    강나래   단지고  197  90  85  100  95  85  python\n",
      "2번    강태원   단지고  184  40  35   50  55  25    java\n",
      "7번    박혜정  영등포고  188  55  65   45  40  35  python\n"
     ]
    }
   ],
   "source": [
    "# sw특기 중 python, java인 사람 출력\n",
    "swpy = df['SW특기']=='python'\n",
    "swjava = df['SW특기']=='java'\n",
    "print(df[ swpy|swjava ])"
   ]
  },
  {
   "cell_type": "markdown",
   "metadata": {},
   "source": [
    "### 03"
   ]
  },
  {
   "cell_type": "code",
   "execution_count": 37,
   "metadata": {},
   "outputs": [
    {
     "name": "stdout",
     "output_type": "stream",
     "text": [
      "       이름       학교    키   국어   영어   수학  과학  사회        SW특기\n",
      "지원번호                                                      \n",
      "1번    강나래   단지고등학교  197   90   85  100  95  85      python\n",
      "2번    강태원   단지고등학교  184   40   35   50  55  25        java\n",
      "3번    강호림   단지고등학교  168   80   75   70  80  75  javascript\n",
      "4번    김수찬   단지고등학교  187   40   60   70  75  80         NaN\n",
      "5번    김재욱   단지고등학교  188   15   20   10  35  10         NaN\n",
      "6번    박동현  영등포고등학교  202   80  100   95  85  80           c\n",
      "7번    박혜정  영등포고등학교  188   55   65   45  40  35      python\n",
      "8번    승근열  영등포고등학교  190  100   85   90  95  95          c#\n"
     ]
    }
   ],
   "source": [
    "df['학교'] = df['학교']+'등학교'   # ~~고 +등학교\n",
    "print(df)"
   ]
  },
  {
   "cell_type": "code",
   "execution_count": null,
   "metadata": {},
   "outputs": [],
   "source": []
  }
 ],
 "metadata": {
  "interpreter": {
   "hash": "38740d3277777e2cd7c6c2cc9d8addf5118fdf3f82b1b39231fd12aeac8aee8b"
  },
  "kernelspec": {
   "display_name": "Python 3.9.9 64-bit",
   "language": "python",
   "name": "python3"
  },
  "language_info": {
   "codemirror_mode": {
    "name": "ipython",
    "version": 3
   },
   "file_extension": ".py",
   "mimetype": "text/x-python",
   "name": "python",
   "nbconvert_exporter": "python",
   "pygments_lexer": "ipython3",
   "version": "3.9.9"
  },
  "orig_nbformat": 4
 },
 "nbformat": 4,
 "nbformat_minor": 2
}
