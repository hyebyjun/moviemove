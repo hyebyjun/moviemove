{
 "cells": [
  {
   "cell_type": "code",
   "execution_count": 23,
   "metadata": {},
   "outputs": [],
   "source": [
    "import pandas as pd"
   ]
  },
  {
   "cell_type": "code",
   "execution_count": 24,
   "metadata": {},
   "outputs": [
    {
     "name": "stdout",
     "output_type": "stream",
     "text": [
      "       이름    학교    키   국어   영어   수학  과학  사회        SW특기\n",
      "지원번호                                                   \n",
      "1번    강나래   구로고  197   90   85  100  95  85      Python\n",
      "2번    강태원   구로고  184   40   35   50  55  25        Java\n",
      "3번    강호림   구로고  168   80   75   70  80  75  Javascript\n",
      "4번    김수찬   구로고  187   40   60   70  75  80         NaN\n",
      "5번    김재욱   구로고  188   15   20   10  35  10         NaN\n",
      "6번    박동현  디지털고  202   80  100   95  85  80           C\n",
      "7번    박혜정  디지털고  188   55   65   45  40  35      PYTHON\n",
      "8번    승근열  디지털고  190  100   85   90  95  95          C#\n"
     ]
    }
   ],
   "source": [
    "df = pd.read_excel('C:/workspace/dataClass/03_pandasData/score.xlsx', index_col='지원번호')\n",
    "print(df)"
   ]
  },
  {
   "cell_type": "code",
   "execution_count": 25,
   "metadata": {},
   "outputs": [
    {
     "name": "stdout",
     "output_type": "stream",
     "text": [
      "       이름    학교    키   국어   영어   수학  과학  사회        SW특기   총합  학년    결과\n",
      "지원번호                                                                  \n",
      "1번    강나래   구로고  197   90   85  100  95  85      Python  455   3  Fail\n",
      "2번    강태원   구로고  184   40   35   50  55  25        Java  205   3  Fail\n",
      "3번    강호림   구로고  168   80   75   70  80  75  Javascript  380   2  Fail\n",
      "4번    김수찬   구로고  187   40   60   70  75  80         NaN  325   1  Fail\n",
      "5번    김재욱   구로고  188   15   20   10  35  10         NaN   90   1  Fail\n",
      "6번    박동현  디지털고  202   80  100   95  85  80           C  440   3  Fail\n",
      "7번    박혜정  디지털고  188   55   65   45  40  35      PYTHON  240   2  Fail\n",
      "8번    승근열  디지털고  190  100   85   90  95  95          C#  465   2  Fail\n"
     ]
    }
   ],
   "source": [
    "df['총합'] = df['국어']+df['영어']+df['수학']+df['과학']+df['사회']\n",
    "df['학년'] = [3,3,2,1,1,3,2,2]\n",
    "df['결과'] = 'Fail'\n",
    "print(df)"
   ]
  },
  {
   "cell_type": "code",
   "execution_count": 26,
   "metadata": {},
   "outputs": [
    {
     "name": "stdout",
     "output_type": "stream",
     "text": [
      "       이름    학교    키   국어   영어   수학  과학  사회        SW특기   총합  학년    결과\n",
      "지원번호                                                                  \n",
      "1번    강나래   구로고  197   90   85  100  95  85      Python  455   3  Pass\n",
      "2번    강태원   구로고  184   40   35   50  55  25        Java  205   3  Fail\n",
      "3번    강호림   구로고  168   80   75   70  80  75  Javascript  380   2  Pass\n",
      "4번    김수찬   구로고  187   40   60   70  75  80         NaN  325   1  Fail\n",
      "5번    김재욱   구로고  188   15   20   10  35  10         NaN   90   1  Fail\n",
      "6번    박동현  디지털고  202   80  100   95  85  80           C  440   3  Pass\n",
      "7번    박혜정  디지털고  188   55   65   45  40  35      PYTHON  240   2  Fail\n",
      "8번    승근열  디지털고  190  100   85   90  95  95          C#  465   2  Pass\n",
      "       이름    학교    키   국어   영어   수학  과학  사회        SW특기   총합  학년    결과\n",
      "지원번호                                                                  \n",
      "1번    강나래   구로고  197   90   85  100  95  85      Python  455   3  Pass\n",
      "2번    강태원   구로고  184   40   35   50  55  25        Java  205   3  Fail\n",
      "3번    강호림   구로고  168   80   75   70  80  75  Javascript  380   2  Pass\n",
      "4번    김수찬  디지털고  187   40   60   70  75  80         NaN  325   1  Fail\n",
      "5번    김재욱   구로고  188   15   20   10  35  10         NaN   90   1  Fail\n",
      "6번    박동현  디지털고  202   80  100   95  85  80           C  440   3  Pass\n",
      "7번    박혜정  디지털고  188   55   65   45  40  35      PYTHON  240   2  Fail\n",
      "8번    승근열  디지털고  190  100   85   90  95  95          C#  465   2  Pass\n"
     ]
    }
   ],
   "source": [
    "df.loc[df['총합']>350, '결과'] = 'Pass'\n",
    "print(df)\n",
    "df.loc['4번', '학교'] = '디지털고'\n",
    "print(df)"
   ]
  },
  {
   "cell_type": "code",
   "execution_count": 27,
   "metadata": {},
   "outputs": [
    {
     "name": "stdout",
     "output_type": "stream",
     "text": [
      "       이름    학교    키   국어   영어   수학  과학  사회        SW특기   총합  학년\n",
      "지원번호                                                            \n",
      "1번    강나래   구로고  197   90   85  100  95  85      Python  455   3\n",
      "2번    강태원   구로고  184   40   35   50  55  25        Java  205   3\n",
      "3번    강호림   구로고  168   80   75   70  80  75  Javascript  380   2\n",
      "4번    김수찬  디지털고  187   40   60   70  75  80         NaN  325   1\n",
      "5번    김재욱   구로고  188   15   20   10  35  10         NaN   90   1\n",
      "6번    박동현  디지털고  202   80  100   95  85  80           C  440   3\n",
      "7번    박혜정  디지털고  188   55   65   45  40  35      PYTHON  240   2\n",
      "8번    승근열  디지털고  190  100   85   90  95  95          C#  465   2\n",
      "       이름    학교    키   국어   영어   수학        SW특기   총합  학년\n",
      "지원번호                                                    \n",
      "1번    강나래   구로고  197   90   85  100      Python  455   3\n",
      "2번    강태원   구로고  184   40   35   50        Java  205   3\n",
      "3번    강호림   구로고  168   80   75   70  Javascript  380   2\n",
      "4번    김수찬  디지털고  187   40   60   70         NaN  325   1\n",
      "5번    김재욱   구로고  188   15   20   10         NaN   90   1\n",
      "6번    박동현  디지털고  202   80  100   95           C  440   3\n",
      "7번    박혜정  디지털고  188   55   65   45      PYTHON  240   2\n",
      "8번    승근열  디지털고  190  100   85   90          C#  465   2\n"
     ]
    }
   ],
   "source": [
    "# drop() 속에 columns=['컬럼명'] 컬럼삭제, index=['인덱스명'] 로우삭제\n",
    "df.drop(columns=['결과'], inplace=True)\n",
    "print(df)\n",
    "\n",
    "df.drop(columns=['과학', '사회'], inplace=True)\n",
    "print(df)"
   ]
  },
  {
   "cell_type": "code",
   "execution_count": 28,
   "metadata": {},
   "outputs": [
    {
     "name": "stdout",
     "output_type": "stream",
     "text": [
      "       이름    학교    키   국어   영어   수학  과학  사회        SW특기   총합  학년    결과\n",
      "지원번호                                                                  \n",
      "1번    강나래   구로고  197   90   85  100  95  85      Python  455   3  Pass\n",
      "2번    강태원   구로고  184   40   35   50  55  25        Java  205   3  Fail\n",
      "3번    강호림   구로고  168   80   75   70  80  75  Javascript  380   2  Pass\n",
      "4번    김수찬   구로고  187   40   60   70  75  80         NaN  325   1  Fail\n",
      "5번    김재욱   구로고  188   15   20   10  35  10         NaN   90   1  Fail\n",
      "6번    박동현  디지털고  202   80  100   95  85  80           C  440   3  Pass\n",
      "7번    박혜정  디지털고  188   55   65   45  40  35      PYTHON  240   2  Fail\n",
      "8번    승근열  디지털고  190  100   85   90  95  95          C#  465   2  Pass\n"
     ]
    }
   ],
   "source": [
    "df = pd.read_excel('C:/workspace/dataClass/03_pandasData/score.xlsx', index_col='지원번호')\n",
    "\n",
    "df['총합'] = df['국어']+df['영어']+df['수학']+df['과학']+df['사회']\n",
    "df['학년'] = [3,3,2,1,1,3,2,2]\n",
    "df['결과'] = 'Fail'\n",
    "df.loc[df['총합']>350, '결과'] = 'Pass'\n",
    "print(df)\n",
    "\n",
    "df.to_excel('score.xlsx')"
   ]
  },
  {
   "cell_type": "markdown",
   "metadata": {},
   "source": [
    "### 07"
   ]
  },
  {
   "cell_type": "code",
   "execution_count": 29,
   "metadata": {},
   "outputs": [
    {
     "name": "stdout",
     "output_type": "stream",
     "text": [
      "       이름    학교    키   국어   영어   수학  과학  사회        SW특기   총합  학년    결과\n",
      "지원번호                                                                  \n",
      "1번    강나래   구로고  197   90   85  100  95  85      Python  455   3  Pass\n",
      "2번    강태원   구로고  184   40   35   50  55  25        Java  205   3  Fail\n",
      "3번    강호림   구로고  168   80   75   70  80  75  Javascript  380   2  Pass\n",
      "4번    김수찬   구로고  187   40   60   70  75  80         NaN  325   1  Fail\n",
      "5번    김재욱   구로고  188   15   20   10  35  10         NaN   90   1  Fail\n",
      "6번    박동현  디지털고  202   80  100   95  85  80           C  440   3  Pass\n",
      "7번    박혜정  디지털고  188   55   65   45  40  35      PYTHON  240   2  Fail\n",
      "8번    승근열  디지털고  190  100   85   90  95  95          C#  465   2  Pass\n"
     ]
    }
   ],
   "source": [
    "df = pd.read_excel('score.xlsx', index_col='지원번호')\n",
    "print(df)"
   ]
  },
  {
   "cell_type": "code",
   "execution_count": 30,
   "metadata": {},
   "outputs": [
    {
     "name": "stdout",
     "output_type": "stream",
     "text": [
      "       이름    학교    키   국어  영어   수학  과학  사회        SW특기   총합  학년    결과\n",
      "지원번호                                                                 \n",
      "1번    강나래   구로고  197   90  85  100  95  85      Python  455   3  Pass\n",
      "2번    강태원   구로고  184   40  35   50  55  25        Java  205   3  Fail\n",
      "3번    강호림   구로고  168   80  75   70  80  75  Javascript  380   2  Pass\n",
      "4번    김수찬   구로고  187   40  60   70  75  80         NaN  325   1  Fail\n",
      "7번    박혜정  디지털고  188   55  65   45  40  35      PYTHON  240   2  Fail\n",
      "8번    승근열  디지털고  190  100  85   90  95  95          C#  465   2  Pass\n"
     ]
    }
   ],
   "source": [
    "df.drop(index=['5번', '6번'], inplace=True)\n",
    "print(df)"
   ]
  },
  {
   "cell_type": "code",
   "execution_count": 31,
   "metadata": {},
   "outputs": [
    {
     "name": "stdout",
     "output_type": "stream",
     "text": [
      "       이름    학교    키   국어   영어   수학  과학  사회        SW특기   총합  학년    결과\n",
      "지원번호                                                                  \n",
      "1번    강나래   구로고  197   90   85  100  95  85      Python  455   3  Pass\n",
      "3번    강호림   구로고  168   80   75   70  80  75  Javascript  380   2  Pass\n",
      "6번    박동현  디지털고  202   80  100   95  85  80           C  440   3  Pass\n",
      "8번    승근열  디지털고  190  100   85   90  95  95          C#  465   2  Pass\n"
     ]
    }
   ],
   "source": [
    "df = pd.read_excel('score.xlsx', index_col='지원번호')\n",
    "\n",
    "fdata = df['국어'] < 60\n",
    "df.drop(index=df[fdata].index, inplace=True)\n",
    "print(df)"
   ]
  },
  {
   "cell_type": "code",
   "execution_count": 32,
   "metadata": {},
   "outputs": [
    {
     "name": "stdout",
     "output_type": "stream",
     "text": [
      "['이름', '학교', '키', '국어', '영어', '수학', '과학', '사회', 'SW특기', '총합', '학년', '결과']\n",
      "       이름    학교   총합    키   국어   영어   수학  과학  사회  학년    결과        SW특기\n",
      "지원번호                                                                  \n",
      "1번    강나래   구로고  455  197   90   85  100  95  85   3  Pass      Python\n",
      "2번    강태원   구로고  205  184   40   35   50  55  25   3  Fail        Java\n",
      "3번    강호림   구로고  380  168   80   75   70  80  75   2  Pass  Javascript\n",
      "4번    김수찬   구로고  325  187   40   60   70  75  80   1  Fail         NaN\n",
      "5번    김재욱   구로고   90  188   15   20   10  35  10   1  Fail         NaN\n",
      "6번    박동현  디지털고  440  202   80  100   95  85  80   3  Pass           C\n",
      "7번    박혜정  디지털고  240  188   55   65   45  40  35   2  Fail      PYTHON\n",
      "8번    승근열  디지털고  465  190  100   85   90  95  95   2  Pass          C#\n"
     ]
    }
   ],
   "source": [
    "df = pd.read_excel('score.xlsx', index_col='지원번호')\n",
    "cols = list(df.columns)\n",
    "print(cols)\n",
    "# 슬라이싱은 리스트취급, 1개는 str이라 리스트화해야함  // 뭔소리야?\n",
    "df= df[cols[0:2] + [cols[9]] + cols[2:8] + cols[10:12]+ [cols[8]]]\n",
    "print(df)\n",
    "df.to_excel('score.xlsx')"
   ]
  },
  {
   "cell_type": "code",
   "execution_count": null,
   "metadata": {},
   "outputs": [],
   "source": []
  }
 ],
 "metadata": {
  "interpreter": {
   "hash": "38740d3277777e2cd7c6c2cc9d8addf5118fdf3f82b1b39231fd12aeac8aee8b"
  },
  "kernelspec": {
   "display_name": "Python 3.9.9 64-bit",
   "language": "python",
   "name": "python3"
  },
  "language_info": {
   "codemirror_mode": {
    "name": "ipython",
    "version": 3
   },
   "file_extension": ".py",
   "mimetype": "text/x-python",
   "name": "python",
   "nbconvert_exporter": "python",
   "pygments_lexer": "ipython3",
   "version": "3.9.9"
  },
  "orig_nbformat": 4
 },
 "nbformat": 4,
 "nbformat_minor": 2
}
