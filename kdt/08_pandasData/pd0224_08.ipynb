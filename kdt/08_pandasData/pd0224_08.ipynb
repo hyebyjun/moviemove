{
 "cells": [
  {
   "cell_type": "code",
   "execution_count": 3,
   "metadata": {},
   "outputs": [],
   "source": [
    "import pandas as pd"
   ]
  },
  {
   "cell_type": "code",
   "execution_count": 4,
   "metadata": {},
   "outputs": [
    {
     "name": "stdout",
     "output_type": "stream",
     "text": [
      "       이름    학교   총합    키   국어   영어   수학  과학  사회  학년    결과        SW특기\n",
      "지원번호                                                                  \n",
      "1번    강나래   구로고  455  197   90   85  100  95  85   3  Pass      Python\n",
      "2번    강태원   구로고  205  184   40   35   50  55  25   3  Fail        Java\n",
      "3번    강호림   구로고  380  168   80   75   70  80  75   2  Pass  Javascript\n",
      "4번    김수찬   구로고  325  187   40   60   70  75  80   1  Fail         NaN\n",
      "5번    김재욱   구로고   90  188   15   20   10  35  10   1  Fail         NaN\n",
      "6번    박동현  디지털고  440  202   80  100   95  85  80   3  Pass           C\n",
      "7번    박혜정  디지털고  240  188   55   65   45  40  35   2  Fail      PYTHON\n",
      "8번    승근열  디지털고  465  190  100   85   90  95  95   2  Pass          C#\n"
     ]
    }
   ],
   "source": [
    "df = pd.read_excel('score.xlsx', index_col='지원번호')\n",
    "print(df)"
   ]
  },
  {
   "cell_type": "code",
   "execution_count": 5,
   "metadata": {},
   "outputs": [],
   "source": [
    "# 컬럼명 일부 바꾸기\n",
    "# df.rename(columns={'이름':'Name', '학교':'School'}, inplace=True)\n",
    "# print(df)\n",
    "\n",
    "# 컬럼명 전체 바꾸기\n",
    "# df.columns = ['바꿀이름', '바꿀머시기', ... , '마지막컬럼명']   # 순서 맞춰서 먹이면 됨"
   ]
  },
  {
   "cell_type": "code",
   "execution_count": 6,
   "metadata": {},
   "outputs": [
    {
     "name": "stdout",
     "output_type": "stream",
     "text": [
      "       이름       학교   총합    키   국어   영어   수학  과학  사회  학년    결과        SW특기\n",
      "지원번호                                                                     \n",
      "1번    강나래   구로고등학교  455  197   90   85  100  95  85   3  Pass      Python\n",
      "2번    강태원   구로고등학교  205  184   40   35   50  55  25   3  Fail        Java\n",
      "3번    강호림   구로고등학교  380  168   80   75   70  80  75   2  Pass  Javascript\n",
      "4번    김수찬   구로고등학교  325  187   40   60   70  75  80   1  Fail         NaN\n",
      "5번    김재욱   구로고등학교   90  188   15   20   10  35  10   1  Fail         NaN\n",
      "6번    박동현  디지털고등학교  440  202   80  100   95  85  80   3  Pass           C\n",
      "7번    박혜정  디지털고등학교  240  188   55   65   45  40  35   2  Fail      PYTHON\n",
      "8번    승근열  디지털고등학교  465  190  100   85   90  95  95   2  Pass          C#\n"
     ]
    }
   ],
   "source": [
    "df['학교'] = df['학교'] + '등학교'\n",
    "print(df)"
   ]
  },
  {
   "cell_type": "code",
   "execution_count": 7,
   "metadata": {},
   "outputs": [
    {
     "name": "stdout",
     "output_type": "stream",
     "text": [
      "       이름       학교   총합    키   국어   영어   수학  과학  사회  학년    결과        SW특기   음악\n",
      "지원번호                                                                          \n",
      "1번    강나래   구로고등학교  555  197   90   85  100  95  85   3  Pass      Python  100\n",
      "2번    강태원   구로고등학교  305  184   40   35   50  55  25   3  Fail        Java  100\n",
      "3번    강호림   구로고등학교  480  168   80   75   70  80  75   2  Pass  Javascript  100\n",
      "4번    김수찬   구로고등학교  425  187   40   60   70  75  80   1  Fail         NaN  100\n",
      "5번    김재욱   구로고등학교  190  188   15   20   10  35  10   1  Fail         NaN  100\n",
      "6번    박동현  디지털고등학교  540  202   80  100   95  85  80   3  Pass           C  100\n",
      "7번    박혜정  디지털고등학교  340  188   55   65   45  40  35   2  Fail      PYTHON  100\n",
      "8번    승근열  디지털고등학교  565  190  100   85   90  95  95   2  Pass          C#  100\n"
     ]
    }
   ],
   "source": [
    "df['음악'] = 100\n",
    "df['총합'] = df['총합'] + df['음악']\n",
    "print(df)"
   ]
  },
  {
   "cell_type": "code",
   "execution_count": 8,
   "metadata": {},
   "outputs": [
    {
     "name": "stdout",
     "output_type": "stream",
     "text": [
      "       이름       학교   총합      키   국어   영어   수학  과학  사회  학년    결과        SW특기  \\\n",
      "지원번호                                                                          \n",
      "1번    강나래   구로고등학교  555  197cm   90   85  100  95  85   3  Pass      Python   \n",
      "2번    강태원   구로고등학교  305  184cm   40   35   50  55  25   3  Fail        Java   \n",
      "3번    강호림   구로고등학교  480  168cm   80   75   70  80  75   2  Pass  Javascript   \n",
      "4번    김수찬   구로고등학교  425  187cm   40   60   70  75  80   1  Fail         NaN   \n",
      "5번    김재욱   구로고등학교  190  188cm   15   20   10  35  10   1  Fail         NaN   \n",
      "6번    박동현  디지털고등학교  540  202cm   80  100   95  85  80   3  Pass           C   \n",
      "7번    박혜정  디지털고등학교  340  188cm   55   65   45  40  35   2  Fail      PYTHON   \n",
      "8번    승근열  디지털고등학교  565  190cm  100   85   90  95  95   2  Pass          C#   \n",
      "\n",
      "       음악  \n",
      "지원번호       \n",
      "1번    100  \n",
      "2번    100  \n",
      "3번    100  \n",
      "4번    100  \n",
      "5번    100  \n",
      "6번    100  \n",
      "7번    100  \n",
      "8번    100  \n"
     ]
    }
   ],
   "source": [
    "df['키'] = df['키'].astype(str) + 'cm'\n",
    "print(df)"
   ]
  },
  {
   "cell_type": "code",
   "execution_count": 9,
   "metadata": {},
   "outputs": [
    {
     "name": "stdout",
     "output_type": "stream",
     "text": [
      "       이름    학교   총합      키   국어   영어   수학  과학  사회  학년    결과        SW특기\n",
      "지원번호                                                                    \n",
      "1번    강나래   구로고  455  197cm   90   85  100  95  85   3  Pass      Python\n",
      "2번    강태원   구로고  205  184cm   40   35   50  55  25   3  Fail        Java\n",
      "3번    강호림   구로고  380  168cm   80   75   70  80  75   2  Pass  Javascript\n",
      "4번    김수찬   구로고  325  187cm   40   60   70  75  80   1  Fail         NaN\n",
      "5번    김재욱   구로고   90  188cm   15   20   10  35  10   1  Fail         NaN\n",
      "6번    박동현  디지털고  440  202cm   80  100   95  85  80   3  Pass           C\n",
      "7번    박혜정  디지털고  240  188cm   55   65   45  40  35   2  Fail      PYTHON\n",
      "8번    승근열  디지털고  465  190cm  100   85   90  95  95   2  Pass          C#\n"
     ]
    }
   ],
   "source": [
    "df = pd.read_excel('score.xlsx', index_col='지원번호')\n",
    "\n",
    "def add_cm(height):\n",
    "    return str(height)+'cm'\n",
    "\n",
    "df['키'] = df['키'].apply(add_cm)\n",
    "print(df)"
   ]
  },
  {
   "cell_type": "code",
   "execution_count": null,
   "metadata": {},
   "outputs": [],
   "source": []
  }
 ],
 "metadata": {
  "interpreter": {
   "hash": "38740d3277777e2cd7c6c2cc9d8addf5118fdf3f82b1b39231fd12aeac8aee8b"
  },
  "kernelspec": {
   "display_name": "Python 3.9.9 64-bit",
   "language": "python",
   "name": "python3"
  },
  "language_info": {
   "codemirror_mode": {
    "name": "ipython",
    "version": 3
   },
   "file_extension": ".py",
   "mimetype": "text/x-python",
   "name": "python",
   "nbconvert_exporter": "python",
   "pygments_lexer": "ipython3",
   "version": "3.9.9"
  },
  "orig_nbformat": 4
 },
 "nbformat": 4,
 "nbformat_minor": 2
}
