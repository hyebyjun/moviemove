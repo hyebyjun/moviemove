{
 "cells": [
  {
   "cell_type": "code",
   "execution_count": 2,
   "metadata": {},
   "outputs": [],
   "source": [
    "import pandas as pd"
   ]
  },
  {
   "cell_type": "code",
   "execution_count": 3,
   "metadata": {},
   "outputs": [
    {
     "name": "stdout",
     "output_type": "stream",
     "text": [
      "       이름    학교   총합    키   국어   영어   수학  과학  사회  학년    결과        SW특기\n",
      "지원번호                                                                  \n",
      "1번    강나래   구로고  455  197   90   85  100  95  85   3  Pass      Python\n",
      "2번    강태원   구로고  205  184   40   35   50  55  25   3  Fail        Java\n",
      "3번    강호림   구로고  380  168   80   75   70  80  75   2  Pass  Javascript\n",
      "4번    김수찬   구로고  325  187   40   60   70  75  80   1  Fail         NaN\n",
      "5번    김재욱   구로고   90  188   15   20   10  35  10   1  Fail         NaN\n",
      "6번    박동현  디지털고  440  202   80  100   95  85  80   3  Pass           C\n",
      "7번    박혜정  디지털고  240  188   55   65   45  40  35   2  Fail      PYTHON\n",
      "8번    승근열  디지털고  465  190  100   85   90  95  95   2  Pass          C#\n"
     ]
    }
   ],
   "source": [
    "df = pd.read_excel('score.xlsx', index_col='지원번호')\n",
    "print(df)"
   ]
  },
  {
   "cell_type": "code",
   "execution_count": 4,
   "metadata": {},
   "outputs": [
    {
     "name": "stdout",
     "output_type": "stream",
     "text": [
      "       이름    학교   총합    키   국어   영어   수학  과학  사회  학년    결과        SW특기\n",
      "지원번호                                                                  \n",
      "1번    강나래   구로고  455  197   90   85  100  95  85   3  Pass      Python\n",
      "2번    강태원   구로고  205  184   40   35   50  55  25   3  Fail        Java\n",
      "3번    강호림   구로고  380  168   80   75   70  80  75   2  Pass  Javascript\n",
      "4번    김수찬   단지고  325  187   40   60   70  75  80   1  Fail      python\n",
      "5번    김재욱   구로고   90  188   15   20   10  35  10   1  Fail         NaN\n",
      "6번    박동현  디지털고  440  202   80  100   95  85  80   3  Pass           C\n",
      "7번    박혜정  디지털고  240  188   55   65   45  40  35   2  Fail      PYTHON\n",
      "8번    승근열  디지털고  465  190  100   85   90  95  95   2  Pass          C#\n"
     ]
    }
   ],
   "source": [
    "df.loc['4번', ['학교', 'SW특기']] = ['단지고', 'python']\n",
    "print(df)"
   ]
  },
  {
   "cell_type": "code",
   "execution_count": 5,
   "metadata": {},
   "outputs": [],
   "source": [
    "def txtchange(lang):\n",
    "    return lang.capitalize()"
   ]
  },
  {
   "cell_type": "code",
   "execution_count": 6,
   "metadata": {},
   "outputs": [
    {
     "name": "stdout",
     "output_type": "stream",
     "text": [
      "          영화  개봉 연도  관객 수    평점\n",
      "1       극한직업   2019  1626  9.20\n",
      "2  신과함께-죄와 벌   2017  1441  8.73\n",
      "7         암살   2015  1270  9.10\n",
      "0         명량   2014  1761  8.88\n",
      "3       국제시장   2014  1426  9.16\n",
      "6    7번방의 선물   2013  1281  8.83\n",
      "5        도둑들   2012  1298  7.64\n",
      "4         괴물   2006  1301  8.62\n",
      "--------------------------------------------------\n",
      "     영화  개봉 연도  관객 수    평점\n",
      "1  극한직업   2019  1626  9.20\n",
      "3  국제시장   2014  1426  9.16\n",
      "7    암살   2015  1270  9.10\n",
      "--------------------------------------------------\n",
      "        영화  개봉 연도  관객 수    평점\n",
      "0       명량   2014  1761  8.88\n",
      "1     극한직업   2019  1626  9.20\n",
      "3     국제시장   2014  1426  9.16\n",
      "6  7번방의 선물   2013  1281  8.83\n",
      "7       암살   2015  1270  9.10\n",
      "--------------------------------------------------\n",
      "          영화  개봉 연도  관객 수     평점\n",
      "0         명량   2014  1761  8.88점\n",
      "1       극한직업   2019  1626   9.2점\n",
      "2  신과함께-죄와 벌   2017  1441  8.73점\n",
      "3       국제시장   2014  1426  9.16점\n",
      "4         괴물   2006  1301  8.62점\n",
      "5        도둑들   2012  1298  7.64점\n",
      "6    7번방의 선물   2013  1281  8.83점\n",
      "7         암살   2015  1270   9.1점\n"
     ]
    }
   ],
   "source": [
    "data = {\n",
    "'영화' : ['명량', '극한직업', '신과함께-죄와 벌', '국제시장', '괴물', '도둑들', '7번방의 선물', '암살'],\n",
    "'개봉 연도' : [2014, 2019, 2017, 2014, 2006, 2012, 2013, 2015],\n",
    "'관객 수' : [1761, 1626, 1441, 1426, 1301, 1298, 1281, 1270], # (단위 : 만 명)\n",
    "'평점' : [8.88, 9.20, 8.73, 9.16, 8.62, 7.64, 8.83, 9.10]\n",
    "}\n",
    "\n",
    "df = pd.DataFrame(data)\n",
    "print(df.sort_values('개봉 연도', ascending=False))\n",
    "print('-'*50)\n",
    "jumsu = df['평점']>=9.0\n",
    "print(df[jumsu])\n",
    "print('-'*50)\n",
    "avgover = df['평점']>=df['평점'].mean()\n",
    "print(df[avgover])\n",
    "print('-'*50)\n",
    "df['평점'] = df['평점'].astype(str) + '점'\n",
    "print(df)"
   ]
  },
  {
   "cell_type": "code",
   "execution_count": 7,
   "metadata": {},
   "outputs": [
    {
     "name": "stdout",
     "output_type": "stream",
     "text": [
      "          영화  개봉 연도  관객 수    평점\n",
      "1       극한직업   2019  1626  9.20\n",
      "2  신과함께-죄와 벌   2017  1441  8.73\n"
     ]
    }
   ],
   "source": [
    "df = pd.DataFrame(data)\n",
    "\n",
    "viewer = df['관객 수'] > 1400\n",
    "years = df['개봉 연도'] > 2015\n",
    "print(df[viewer&years])"
   ]
  },
  {
   "cell_type": "code",
   "execution_count": 8,
   "metadata": {},
   "outputs": [],
   "source": [
    "df['추천 점수'] = (df['관객 수']*df['평점']) // 100"
   ]
  },
  {
   "cell_type": "code",
   "execution_count": 9,
   "metadata": {},
   "outputs": [
    {
     "name": "stdout",
     "output_type": "stream",
     "text": [
      "          영화  개봉 연도  관객 수    평점  추천 점수\n",
      "0         명량   2014  1761  8.88  156.0\n",
      "1       극한직업   2019  1626  9.20  149.0\n",
      "2  신과함께-죄와 벌   2017  1441  8.73  125.0\n",
      "3       국제시장   2014  1426  9.16  130.0\n",
      "4         괴물   2006  1301  8.62  112.0\n",
      "5        도둑들   2012  1298  7.64   99.0\n",
      "6    7번방의 선물   2013  1281  8.83  113.0\n",
      "7         암살   2015  1270  9.10  115.0\n"
     ]
    }
   ],
   "source": [
    "print(df)"
   ]
  },
  {
   "cell_type": "code",
   "execution_count": 11,
   "metadata": {},
   "outputs": [
    {
     "name": "stdout",
     "output_type": "stream",
     "text": [
      "          영화  추천 점수  개봉 연도  관객 수    평점\n",
      "0         명량  156.0   2014  1761  8.88\n",
      "1       극한직업  149.0   2019  1626  9.20\n",
      "2  신과함께-죄와 벌  125.0   2017  1441  8.73\n",
      "3       국제시장  130.0   2014  1426  9.16\n",
      "4         괴물  112.0   2006  1301  8.62\n",
      "5        도둑들   99.0   2012  1298  7.64\n",
      "6    7번방의 선물  113.0   2013  1281  8.83\n",
      "7         암살  115.0   2015  1270  9.10\n"
     ]
    }
   ],
   "source": [
    "df = df[['영화', '추천 점수', '개봉 연도', '관객 수', '평점']]\n",
    "print(df)"
   ]
  },
  {
   "cell_type": "code",
   "execution_count": null,
   "metadata": {},
   "outputs": [],
   "source": []
  }
 ],
 "metadata": {
  "interpreter": {
   "hash": "38740d3277777e2cd7c6c2cc9d8addf5118fdf3f82b1b39231fd12aeac8aee8b"
  },
  "kernelspec": {
   "display_name": "Python 3.9.9 64-bit",
   "language": "python",
   "name": "python3"
  },
  "language_info": {
   "codemirror_mode": {
    "name": "ipython",
    "version": 3
   },
   "file_extension": ".py",
   "mimetype": "text/x-python",
   "name": "python",
   "nbconvert_exporter": "python",
   "pygments_lexer": "ipython3",
   "version": "3.9.9"
  },
  "orig_nbformat": 4
 },
 "nbformat": 4,
 "nbformat_minor": 2
}
