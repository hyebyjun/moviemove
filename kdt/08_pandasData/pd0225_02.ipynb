{
 "cells": [
  {
   "cell_type": "code",
   "execution_count": 45,
   "metadata": {},
   "outputs": [],
   "source": [
    "import pandas as pd"
   ]
  },
  {
   "cell_type": "code",
   "execution_count": 46,
   "metadata": {},
   "outputs": [
    {
     "name": "stdout",
     "output_type": "stream",
     "text": [
      "       이름    학교   총합    키   국어   영어   수학  과학  사회  학년    결과        SW특기\n",
      "지원번호                                                                  \n",
      "1번    강나래   구로고  455  197   90   85  100  95  85   3  Pass      Python\n",
      "2번    강태원   구로고  205  184   40   35   50  55  25   3  Fail        Java\n",
      "3번    강호림   구로고  380  168   80   75   70  80  75   2  Pass  Javascript\n",
      "4번    김수찬   구로고  325  187   40   60   70  75  80   1  Fail         NaN\n",
      "5번    김재욱   구로고   90  188   15   20   10  35  10   1  Fail         NaN\n",
      "6번    박동현  디지털고  440  202   80  100   95  85  80   3  Pass           C\n",
      "7번    박혜정  디지털고  240  188   55   65   45  40  35   2  Fail      PYTHON\n",
      "8번    승근열  디지털고  465  190  100   85   90  95  95   2  Pass          C#\n"
     ]
    }
   ],
   "source": [
    "df = pd.read_excel('score.xlsx', index_col='지원번호')\n",
    "print(df)"
   ]
  },
  {
   "cell_type": "code",
   "execution_count": 47,
   "metadata": {},
   "outputs": [
    {
     "name": "stdout",
     "output_type": "stream",
     "text": [
      "       이름    학교   총합    키   국어   영어  수학  과학  사회  학년    결과    SW특기\n",
      "지원번호                                                             \n",
      "6번    박동현  디지털고  440  202   80  100  95  85  80   3  Pass       C\n",
      "7번    박혜정  디지털고  240  188   55   65  45  40  35   2  Fail  PYTHON\n",
      "8번    승근열  디지털고  465  190  100   85  90  95  95   2  Pass      C#\n",
      "--------------------------------------------------\n",
      "       이름   학교   총합    키  국어  영어   수학  과학  사회  학년    결과        SW특기\n",
      "지원번호                                                               \n",
      "1번    강나래  구로고  455  197  90  85  100  95  85   3  Pass      Python\n",
      "2번    강태원  구로고  205  184  40  35   50  55  25   3  Fail        Java\n",
      "3번    강호림  구로고  380  168  80  75   70  80  75   2  Pass  Javascript\n",
      "4번    김수찬  구로고  325  187  40  60   70  75  80   1  Fail         NaN\n",
      "5번    김재욱  구로고   90  188  15  20   10  35  10   1  Fail         NaN\n"
     ]
    }
   ],
   "source": [
    "print(df.groupby('학교').get_group('디지털고'))\n",
    "print('-'*50)\n",
    "print(df.groupby('학교').get_group('구로고'))"
   ]
  },
  {
   "cell_type": "code",
   "execution_count": 48,
   "metadata": {},
   "outputs": [
    {
     "name": "stdout",
     "output_type": "stream",
     "text": [
      "학교\n",
      "구로고     184.800000\n",
      "디지털고    193.333333\n",
      "Name: 키, dtype: float64\n",
      "학교\n",
      "구로고     5\n",
      "디지털고    3\n",
      "dtype: int64\n"
     ]
    }
   ],
   "source": [
    "print(df.groupby('학교')['키'].mean())\n",
    "print(df.groupby('학교').size())"
   ]
  },
  {
   "cell_type": "code",
   "execution_count": 49,
   "metadata": {},
   "outputs": [
    {
     "name": "stdout",
     "output_type": "stream",
     "text": [
      "            총합           키         국어         영어         수학         과학  \\\n",
      "학년                                                                       \n",
      "1   207.500000  187.500000  27.500000  40.000000  40.000000  55.000000   \n",
      "2   361.666667  182.000000  78.333333  75.000000  68.333333  71.666667   \n",
      "3   366.666667  194.333333  70.000000  73.333333  81.666667  78.333333   \n",
      "\n",
      "           사회  \n",
      "학년             \n",
      "1   45.000000  \n",
      "2   68.333333  \n",
      "3   63.333333  \n"
     ]
    }
   ],
   "source": [
    "print(df.groupby('학년').mean())"
   ]
  },
  {
   "cell_type": "code",
   "execution_count": 50,
   "metadata": {},
   "outputs": [
    {
     "name": "stdout",
     "output_type": "stream",
     "text": [
      "              총합           키         국어         영어         수학         과학  \\\n",
      "학교                                                                         \n",
      "구로고   291.000000  184.800000  53.000000  55.000000  60.000000  68.000000   \n",
      "디지털고  381.666667  193.333333  78.333333  83.333333  76.666667  73.333333   \n",
      "\n",
      "        사회        학년  \n",
      "학교                    \n",
      "구로고   55.0  2.000000  \n",
      "디지털고  70.0  2.333333  \n"
     ]
    }
   ],
   "source": [
    "print(df.groupby('학교').mean().sort_values('학년', ascending=True))"
   ]
  },
  {
   "cell_type": "code",
   "execution_count": 51,
   "metadata": {},
   "outputs": [
    {
     "name": "stdout",
     "output_type": "stream",
     "text": [
      "       이름  sw특기\n",
      "학교             \n",
      "구로고   350   186\n",
      "단지고   329   183\n",
      "디지털고  321   161\n"
     ]
    },
    {
     "name": "stderr",
     "output_type": "stream",
     "text": [
      "C:\\Users\\parkh\\AppData\\Local\\Temp\\ipykernel_15380\\3724722509.py:3: FutureWarning: Indexing with multiple keys (implicitly converted to a tuple of keys) will be deprecated, use a list instead.\n",
      "  print(df.groupby('학교')['이름', 'sw특기'].count())\n"
     ]
    }
   ],
   "source": [
    "df = pd.read_excel('C:/workspace/dataClass/03_pandasData/pandas_code.xlsx')\n",
    "\n",
    "print(df.groupby('학교')['이름', 'sw특기'].count())"
   ]
  }
 ],
 "metadata": {
  "interpreter": {
   "hash": "38740d3277777e2cd7c6c2cc9d8addf5118fdf3f82b1b39231fd12aeac8aee8b"
  },
  "kernelspec": {
   "display_name": "Python 3.9.9 64-bit",
   "language": "python",
   "name": "python3"
  },
  "language_info": {
   "codemirror_mode": {
    "name": "ipython",
    "version": 3
   },
   "file_extension": ".py",
   "mimetype": "text/x-python",
   "name": "python",
   "nbconvert_exporter": "python",
   "pygments_lexer": "ipython3",
   "version": "3.9.9"
  },
  "orig_nbformat": 4
 },
 "nbformat": 4,
 "nbformat_minor": 2
}
