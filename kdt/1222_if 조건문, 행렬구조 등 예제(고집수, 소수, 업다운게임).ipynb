{
 "cells": [
  {
   "cell_type": "code",
   "execution_count": 1,
   "id": "a3706026",
   "metadata": {},
   "outputs": [
    {
     "name": "stdout",
     "output_type": "stream",
     "text": [
      "0이게 양수게 음수게?1\n",
      "1 은 plus지롱~\n"
     ]
    }
   ],
   "source": [
    "num = int(input(\"0이게 양수게 음수게?\"))\n",
    "\n",
    "if num==0 :\n",
    "    print(num,\"은 zero입니다.\")\n",
    "    \n",
    "elif 0<num :\n",
    "    print(num,\"은 plus지롱~\")\n",
    "\n",
    "else :\n",
    "    print(num,\"은 minus.....\")"
   ]
  },
  {
   "cell_type": "code",
   "execution_count": 2,
   "id": "36355cac",
   "metadata": {
    "scrolled": true
   },
   "outputs": [
    {
     "name": "stdout",
     "output_type": "stream",
     "text": [
      "( 1 , 1 ) ( 1 , 2 ) ( 1 , 3 ) ( 1 , 4 ) ( 1 , 5 ) \n",
      "( 2 , 2 ) ( 2 , 3 ) ( 2 , 4 ) ( 2 , 5 ) \n",
      "( 3 , 3 ) ( 3 , 4 ) ( 3 , 5 ) \n",
      "( 4 , 4 ) ( 4 , 5 ) \n",
      "( 5 , 5 ) \n"
     ]
    }
   ],
   "source": [
    "for row in range(1,6):\n",
    "    for col in range(1,6):\n",
    "        if col >= row :\n",
    "            print(\"(\",row,\",\",col,\")\",end=\" \")\n",
    "    print()"
   ]
  },
  {
   "cell_type": "markdown",
   "id": "2ad7df0c",
   "metadata": {},
   "source": [
    "### 구구단"
   ]
  },
  {
   "cell_type": "code",
   "execution_count": 3,
   "id": "690d0d26",
   "metadata": {
    "scrolled": true
   },
   "outputs": [
    {
     "name": "stdout",
     "output_type": "stream",
     "text": [
      "2 * 1 = 2\n",
      "2 * 2 = 4\n",
      "2 * 3 = 6\n",
      "2 * 4 = 8\n",
      "2 * 5 = 10\n",
      "2 * 6 = 12\n",
      "2 * 7 = 14\n",
      "2 * 8 = 16\n",
      "2 * 9 = 18\n",
      "\n",
      "3 * 1 = 3\n",
      "3 * 2 = 6\n",
      "3 * 3 = 9\n",
      "3 * 4 = 12\n",
      "3 * 5 = 15\n",
      "3 * 6 = 18\n",
      "3 * 7 = 21\n",
      "3 * 8 = 24\n",
      "3 * 9 = 27\n",
      "\n",
      "4 * 1 = 4\n",
      "4 * 2 = 8\n",
      "4 * 3 = 12\n",
      "4 * 4 = 16\n",
      "4 * 5 = 20\n",
      "4 * 6 = 24\n",
      "4 * 7 = 28\n",
      "4 * 8 = 32\n",
      "4 * 9 = 36\n",
      "\n",
      "5 * 1 = 5\n",
      "5 * 2 = 10\n",
      "5 * 3 = 15\n",
      "5 * 4 = 20\n",
      "5 * 5 = 25\n",
      "5 * 6 = 30\n",
      "5 * 7 = 35\n",
      "5 * 8 = 40\n",
      "5 * 9 = 45\n",
      "\n",
      "6 * 1 = 6\n",
      "6 * 2 = 12\n",
      "6 * 3 = 18\n",
      "6 * 4 = 24\n",
      "6 * 5 = 30\n",
      "6 * 6 = 36\n",
      "6 * 7 = 42\n",
      "6 * 8 = 48\n",
      "6 * 9 = 54\n",
      "\n",
      "7 * 1 = 7\n",
      "7 * 2 = 14\n",
      "7 * 3 = 21\n",
      "7 * 4 = 28\n",
      "7 * 5 = 35\n",
      "7 * 6 = 42\n",
      "7 * 7 = 49\n",
      "7 * 8 = 56\n",
      "7 * 9 = 63\n",
      "\n",
      "8 * 1 = 8\n",
      "8 * 2 = 16\n",
      "8 * 3 = 24\n",
      "8 * 4 = 32\n",
      "8 * 5 = 40\n",
      "8 * 6 = 48\n",
      "8 * 7 = 56\n",
      "8 * 8 = 64\n",
      "8 * 9 = 72\n",
      "\n",
      "9 * 1 = 9\n",
      "9 * 2 = 18\n",
      "9 * 3 = 27\n",
      "9 * 4 = 36\n",
      "9 * 5 = 45\n",
      "9 * 6 = 54\n",
      "9 * 7 = 63\n",
      "9 * 8 = 72\n",
      "9 * 9 = 81\n",
      "\n"
     ]
    }
   ],
   "source": [
    "for row in range (2,10):\n",
    "    for col in range (1,10):\n",
    "        print(row,\"*\",col,\"=\",row*col)\n",
    "    print()"
   ]
  },
  {
   "cell_type": "markdown",
   "id": "54976d95",
   "metadata": {},
   "source": [
    "### 구구단 가로세로 다른 배치"
   ]
  },
  {
   "cell_type": "code",
   "execution_count": 4,
   "id": "43e41153",
   "metadata": {},
   "outputs": [
    {
     "name": "stdout",
     "output_type": "stream",
     "text": [
      "2 * 1 = 2 2 * 2 = 4 2 * 3 = 6 2 * 4 = 8 2 * 5 = 10 2 * 6 = 12 2 * 7 = 14 2 * 8 = 16 2 * 9 = 18 \n",
      "3 * 1 = 3 3 * 2 = 6 3 * 3 = 9 3 * 4 = 12 3 * 5 = 15 3 * 6 = 18 3 * 7 = 21 3 * 8 = 24 3 * 9 = 27 \n",
      "4 * 1 = 4 4 * 2 = 8 4 * 3 = 12 4 * 4 = 16 4 * 5 = 20 4 * 6 = 24 4 * 7 = 28 4 * 8 = 32 4 * 9 = 36 \n",
      "5 * 1 = 5 5 * 2 = 10 5 * 3 = 15 5 * 4 = 20 5 * 5 = 25 5 * 6 = 30 5 * 7 = 35 5 * 8 = 40 5 * 9 = 45 \n",
      "6 * 1 = 6 6 * 2 = 12 6 * 3 = 18 6 * 4 = 24 6 * 5 = 30 6 * 6 = 36 6 * 7 = 42 6 * 8 = 48 6 * 9 = 54 \n",
      "7 * 1 = 7 7 * 2 = 14 7 * 3 = 21 7 * 4 = 28 7 * 5 = 35 7 * 6 = 42 7 * 7 = 49 7 * 8 = 56 7 * 9 = 63 \n",
      "8 * 1 = 8 8 * 2 = 16 8 * 3 = 24 8 * 4 = 32 8 * 5 = 40 8 * 6 = 48 8 * 7 = 56 8 * 8 = 64 8 * 9 = 72 \n",
      "9 * 1 = 9 9 * 2 = 18 9 * 3 = 27 9 * 4 = 36 9 * 5 = 45 9 * 6 = 54 9 * 7 = 63 9 * 8 = 72 9 * 9 = 81 \n"
     ]
    }
   ],
   "source": [
    "# 도전~!\n",
    "\n",
    "for row in range (2,10):\n",
    "    for col in range (1,10):\n",
    "        print(row,\"*\",col,\"=\",row*col, end=\" \")\n",
    "    print()"
   ]
  },
  {
   "cell_type": "code",
   "execution_count": 4,
   "id": "23d2b79b",
   "metadata": {},
   "outputs": [
    {
     "name": "stdout",
     "output_type": "stream",
     "text": [
      "2 * 1 = 2 / 3 * 1 = 3 / 4 * 1 = 4 / 5 * 1 = 5 / 6 * 1 = 6 / 7 * 1 = 7 / 8 * 1 = 8 / 9 * 1 = 9 / "
     ]
    }
   ],
   "source": [
    "i=0\n",
    "for row in range (2,10):\n",
    "    print(row,\"*\",i+1,\"=\",row*(i+1),end=\" / \")"
   ]
  },
  {
   "cell_type": "code",
   "execution_count": 6,
   "id": "78b77903",
   "metadata": {
    "scrolled": false
   },
   "outputs": [
    {
     "name": "stdout",
     "output_type": "stream",
     "text": [
      "2 * 1 = 2 3 * 1 = 3 4 * 1 = 4 5 * 1 = 5 6 * 1 = 6 7 * 1 = 7 8 * 1 = 8 9 * 1 = 9 \n",
      "2 * 2 = 4 3 * 2 = 6 4 * 2 = 8 5 * 2 = 10 6 * 2 = 12 7 * 2 = 14 8 * 2 = 16 9 * 2 = 18 \n",
      "2 * 3 = 6 3 * 3 = 9 4 * 3 = 12 5 * 3 = 15 6 * 3 = 18 7 * 3 = 21 8 * 3 = 24 9 * 3 = 27 \n",
      "2 * 4 = 8 3 * 4 = 12 4 * 4 = 16 5 * 4 = 20 6 * 4 = 24 7 * 4 = 28 8 * 4 = 32 9 * 4 = 36 \n",
      "2 * 5 = 10 3 * 5 = 15 4 * 5 = 20 5 * 5 = 25 6 * 5 = 30 7 * 5 = 35 8 * 5 = 40 9 * 5 = 45 \n",
      "2 * 6 = 12 3 * 6 = 18 4 * 6 = 24 5 * 6 = 30 6 * 6 = 36 7 * 6 = 42 8 * 6 = 48 9 * 6 = 54 \n",
      "2 * 7 = 14 3 * 7 = 21 4 * 7 = 28 5 * 7 = 35 6 * 7 = 42 7 * 7 = 49 8 * 7 = 56 9 * 7 = 63 \n",
      "2 * 8 = 16 3 * 8 = 24 4 * 8 = 32 5 * 8 = 40 6 * 8 = 48 7 * 8 = 56 8 * 8 = 64 9 * 8 = 72 \n",
      "2 * 9 = 18 3 * 9 = 27 4 * 9 = 36 5 * 9 = 45 6 * 9 = 54 7 * 9 = 63 8 * 9 = 72 9 * 9 = 81 \n"
     ]
    }
   ],
   "source": [
    "for col in range (1,10):\n",
    "    for row in range (2,10):\n",
    "        print(row,\"*\",col,\"=\",row*col, end=\" \")\n",
    "    print()"
   ]
  },
  {
   "cell_type": "markdown",
   "id": "a5b76ca2",
   "metadata": {},
   "source": [
    "### 10개의 정수를 입력받고, 받은 수들 중 짝수 홀수의 개수를 각각 구하여 출력하는 프로그램을 만드시오."
   ]
  },
  {
   "cell_type": "code",
   "execution_count": 1,
   "id": "e7f81207",
   "metadata": {},
   "outputs": [
    {
     "ename": "SyntaxError",
     "evalue": "invalid syntax (Temp/ipykernel_8364/1647746441.py, line 13)",
     "output_type": "error",
     "traceback": [
      "\u001b[1;36m  File \u001b[1;32m\"C:\\Users\\B-13\\AppData\\Local\\Temp/ipykernel_8364/1647746441.py\"\u001b[1;36m, line \u001b[1;32m13\u001b[0m\n\u001b[1;33m    if random%2=0:\u001b[0m\n\u001b[1;37m               ^\u001b[0m\n\u001b[1;31mSyntaxError\u001b[0m\u001b[1;31m:\u001b[0m invalid syntax\n"
     ]
    }
   ],
   "source": [
    "a =  int(input(\"첫번째 정수를 입력하세요.\"))\n",
    "b =  int(input(\"두번째 정수를 입력하세요.\"))\n",
    "c =  int(input(\"세번째 정수를 입력하세요.\"))\n",
    "d =  int(input(\"네번째 정수를 입력하세요.\"))\n",
    "e =  int(input(\"다섯번째 정수를 입력하세요.\"))\n",
    "f =  int(input(\"여섯번째 정수를 입력하세요.\"))\n",
    "g =  int(input(\"일곱째 정수를 입력하세요.\"))\n",
    "h =  int(input(\"여덟째 정수를 입력하세요.\"))\n",
    "i =  int(input(\"아홉번째 정수를 입력하세요.\"))\n",
    "j =  int(input(\"열번째 정수를 입력하세요.\"))\n",
    "\n",
    "# for random in range (a, k):\n",
    "#     if random%2=0:\n",
    "\n",
    "# 망한 것"
   ]
  },
  {
   "cell_type": "code",
   "execution_count": 3,
   "id": "2a4ae45f",
   "metadata": {},
   "outputs": [
    {
     "name": "stdout",
     "output_type": "stream",
     "text": [
      "숫자 10개 써보세요~3\n",
      "숫자 10개 써보세요~8\n",
      "숫자 10개 써보세요~6\n",
      "숫자 10개 써보세요~4\n",
      "숫자 10개 써보세요~7\n",
      "숫자 10개 써보세요~2\n",
      "숫자 10개 써보세요~1\n",
      "숫자 10개 써보세요~6\n",
      "숫자 10개 써보세요~5\n",
      "숫자 10개 써보세요~9\n",
      "[3, 8, 6, 4, 7, 2, 1, 6, 5, 9]\n",
      "짝수: 5 개\n",
      "홀수: 5 개\n"
     ]
    }
   ],
   "source": [
    "# 선생님st 정답\n",
    "\n",
    "even=0\n",
    "odd=0\n",
    "\n",
    "num_box = []\n",
    "for i in range (0, 10):\n",
    "    num = int(input(\"숫자 10개 써보세요~\"))\n",
    "    num_box.append(num)\n",
    "\n",
    "    if num%2==0 :\n",
    "        even += 1\n",
    "    \n",
    "    elif num%2!=0 :\n",
    "        odd += 1\n",
    "\n",
    "print(num_box)\n",
    "print(\"짝수:\",even,\"개\")\n",
    "print(\"홀수:\",odd,\"개\")"
   ]
  },
  {
   "cell_type": "markdown",
   "id": "473baae5",
   "metadata": {},
   "source": [
    "### 나르시스트의 수 구하기\n",
    "3자리의 양의 정수(100~999)만 실행합니다.\n",
    "100의 자릿수, 10의 자릿수, 1의 자릿수를 각각 구하고,\n",
    "각 자릿수를 3제곱하여 더한 수와 원래의 수와 같은지를 비교하여 같은 경우 출력하시오.\n",
    "마지막에 이러한 수들의 총 개수를 출력하시오."
   ]
  },
  {
   "cell_type": "code",
   "execution_count": 1,
   "id": "6dbefc56",
   "metadata": {},
   "outputs": [
    {
     "ename": "IndentationError",
     "evalue": "expected an indented block (Temp/ipykernel_10124/3250782257.py, line 8)",
     "output_type": "error",
     "traceback": [
      "\u001b[1;36m  File \u001b[1;32m\"C:\\Users\\B-13\\AppData\\Local\\Temp/ipykernel_10124/3250782257.py\"\u001b[1;36m, line \u001b[1;32m8\u001b[0m\n\u001b[1;33m    for y in range (0,10):\u001b[0m\n\u001b[1;37m    ^\u001b[0m\n\u001b[1;31mIndentationError\u001b[0m\u001b[1;31m:\u001b[0m expected an indented block\n"
     ]
    }
   ],
   "source": [
    "\"\"\"범위 100~999 세 자리 양의 정수로만 실행\n",
    "100의 자리, 10의 자리, 1의 자리의 수를 구하고,\n",
    "각 자릿수를 3제곱하여 더한 수와 원래의 수가 같은 지 비교\n",
    "같으면 출력. 이러한 수들의 총 개수를 출력\"\"\"\n",
    "\n",
    "for x in range (1,10):\n",
    "\n",
    "for y in range (0,10):\n",
    "\n",
    "for z in range (0,10):\n",
    "\n",
    "    \n",
    "if ((x**3)+(y**3)+(z**3))==(x*100)+(y*10)+z():\n",
    "    print(\"jackpot\")"
   ]
  },
  {
   "cell_type": "code",
   "execution_count": 10,
   "id": "1ba90ca0",
   "metadata": {},
   "outputs": [
    {
     "name": "stdout",
     "output_type": "stream",
     "text": [
      "153 370 371 407 나르시스트의 수 총 개수 : 4\n"
     ]
    }
   ],
   "source": [
    "# 선생님 답\n",
    "count = 0\n",
    "for  num in range(100, 1000):\n",
    "    h = num // 100  \n",
    "    t = (num%100) // 10\n",
    "    o = num % 10\n",
    "    \n",
    "    if num == (h*h*h+t*t*t+o*o*o) :\n",
    "        print(num, end=\" \")\n",
    "        count += 1\n",
    "print(\"나르시스트의 수 총 개수 :\", count)"
   ]
  },
  {
   "cell_type": "markdown",
   "id": "b12006f2",
   "metadata": {},
   "source": [
    "### 고집수 구하기\n",
    "2자리의 양의 정수만 처리합니다.(범위 10~99)\n",
    "2자리의 각 자릿수를 분할하여 서로 곱합니다. 곱하여진 결과를 다시 각 자릿수로 분할하여 곱해 나갑니다.\n",
    "이러한 과정을 계속해 나가면 1의 자리의 수에 도달하게 되며, 곱해 나가는 반복 횟수를 고집수라고 합니다.\n",
    "고집수가 4 이상되는 수들만 출력하세요.\n",
    "예) 96->54->20->0"
   ]
  },
  {
   "cell_type": "code",
   "execution_count": 11,
   "id": "d49c8712",
   "metadata": {
    "scrolled": true
   },
   "outputs": [
    {
     "ename": "IndentationError",
     "evalue": "expected an indented block (Temp/ipykernel_468/138457456.py, line 8)",
     "output_type": "error",
     "traceback": [
      "\u001b[1;36m  File \u001b[1;32m\"C:\\Users\\B-23\\AppData\\Local\\Temp/ipykernel_468/138457456.py\"\u001b[1;36m, line \u001b[1;32m8\u001b[0m\n\u001b[1;33m    print(\"고집수는\",x,\"입니다.\")\u001b[0m\n\u001b[1;37m    ^\u001b[0m\n\u001b[1;31mIndentationError\u001b[0m\u001b[1;31m:\u001b[0m expected an indented block\n"
     ]
    }
   ],
   "source": [
    "for x in range (10,100):\n",
    "    y = x//10\n",
    "    z = x%10\n",
    "    n = y*z\n",
    "    for n in range (4<=n):\n",
    "\n",
    "        if 4<=n :\n",
    "        print(\"고집수는\",x,\"입니다.\")"
   ]
  },
  {
   "cell_type": "code",
   "execution_count": 12,
   "id": "d1b8a173",
   "metadata": {},
   "outputs": [
    {
     "name": "stdout",
     "output_type": "stream",
     "text": [
      "고집수가 4 이상인 수는 77 입니다.\n"
     ]
    }
   ],
   "source": [
    "# 선생님 답\n",
    "\n",
    "for  num in range(10, 100):\n",
    "    k = num\n",
    "    count = 0\n",
    "    while(k>9):\n",
    "        k = k//10*(k%10)\n",
    "        count+=1\n",
    "        \n",
    "    if count >= 4 :\n",
    "        print(\"고집수가 4 이상인 수는\", num, \"입니다.\")"
   ]
  },
  {
   "cell_type": "markdown",
   "id": "77e94cf3",
   "metadata": {},
   "source": [
    "### 1~100 사이의 소수 출력하기"
   ]
  },
  {
   "cell_type": "code",
   "execution_count": 13,
   "id": "04539b76",
   "metadata": {},
   "outputs": [
    {
     "ename": "ZeroDivisionError",
     "evalue": "integer division or modulo by zero",
     "output_type": "error",
     "traceback": [
      "\u001b[1;31m---------------------------------------------------------------------------\u001b[0m",
      "\u001b[1;31mZeroDivisionError\u001b[0m                         Traceback (most recent call last)",
      "\u001b[1;32m~\\AppData\\Local\\Temp/ipykernel_468/112368622.py\u001b[0m in \u001b[0;36m<module>\u001b[1;34m\u001b[0m\n\u001b[0;32m      3\u001b[0m \u001b[1;32mfor\u001b[0m \u001b[0mi\u001b[0m \u001b[1;32min\u001b[0m \u001b[0mrange\u001b[0m \u001b[1;33m(\u001b[0m\u001b[1;36m1\u001b[0m\u001b[1;33m,\u001b[0m \u001b[1;36m101\u001b[0m\u001b[1;33m)\u001b[0m\u001b[1;33m:\u001b[0m\u001b[1;33m\u001b[0m\u001b[1;33m\u001b[0m\u001b[0m\n\u001b[0;32m      4\u001b[0m     \u001b[0mk\u001b[0m \u001b[1;33m=\u001b[0m \u001b[1;36m0\u001b[0m\u001b[1;33m\u001b[0m\u001b[1;33m\u001b[0m\u001b[0m\n\u001b[1;32m----> 5\u001b[1;33m     \u001b[1;32mif\u001b[0m \u001b[0mi\u001b[0m\u001b[1;33m%\u001b[0m\u001b[0mk\u001b[0m\u001b[1;33m==\u001b[0m\u001b[1;36m0\u001b[0m\u001b[1;33m:\u001b[0m\u001b[1;33m\u001b[0m\u001b[1;33m\u001b[0m\u001b[0m\n\u001b[0m\u001b[0;32m      6\u001b[0m         \u001b[0mk\u001b[0m \u001b[1;33m+=\u001b[0m \u001b[1;36m1\u001b[0m\u001b[1;33m\u001b[0m\u001b[1;33m\u001b[0m\u001b[0m\n",
      "\u001b[1;31mZeroDivisionError\u001b[0m: integer division or modulo by zero"
     ]
    }
   ],
   "source": [
    "#시도\n",
    "\n",
    "for i in range (1, 101):\n",
    "    k = 0\n",
    "    if i%k==0:\n",
    "        k += 1"
   ]
  },
  {
   "cell_type": "code",
   "execution_count": 14,
   "id": "b91f4f3b",
   "metadata": {},
   "outputs": [
    {
     "ename": "IndentationError",
     "evalue": "unexpected indent (Temp/ipykernel_468/1766883877.py, line 9)",
     "output_type": "error",
     "traceback": [
      "\u001b[1;36m  File \u001b[1;32m\"C:\\Users\\B-23\\AppData\\Local\\Temp/ipykernel_468/1766883877.py\"\u001b[1;36m, line \u001b[1;32m9\u001b[0m\n\u001b[1;33m    break\u001b[0m\n\u001b[1;37m    ^\u001b[0m\n\u001b[1;31mIndentationError\u001b[0m\u001b[1;31m:\u001b[0m unexpected indent\n"
     ]
    }
   ],
   "source": [
    "flag = False\n",
    "for i in range(1, 100) :\n",
    "    if i == 2 or i ==3 or i==5 :\n",
    "        flag = True\n",
    "    else :\n",
    "        for j in range (2, i) :\n",
    "            if i % j == 0 :\n",
    "               flag = False\n",
    "                break\n",
    "            else :\n",
    "               flag=True\n",
    "    if flag :            \n",
    "        print(i , end=\" \")"
   ]
  },
  {
   "cell_type": "markdown",
   "id": "dce7250a",
   "metadata": {},
   "source": [
    "### 1~10 사이의 홀수를 역순으로 출력하기"
   ]
  },
  {
   "cell_type": "code",
   "execution_count": 5,
   "id": "d412dbe0",
   "metadata": {},
   "outputs": [
    {
     "name": "stdout",
     "output_type": "stream",
     "text": [
      "9\n",
      "7\n",
      "5\n",
      "3\n",
      "1\n"
     ]
    }
   ],
   "source": [
    "for i in range (10, 0, -1):\n",
    "    if i%2==1:\n",
    "        print(i)"
   ]
  },
  {
   "cell_type": "code",
   "execution_count": 16,
   "id": "bb0ae2cd",
   "metadata": {
    "scrolled": true
   },
   "outputs": [
    {
     "name": "stdout",
     "output_type": "stream",
     "text": [
      "9\n",
      "7\n",
      "5\n",
      "3\n",
      "1\n"
     ]
    }
   ],
   "source": [
    "# 선생님 정답2\n",
    "\n",
    "su = 10\n",
    "while (su>0) :\n",
    "    if su%2==1 :\n",
    "        print(su)\n",
    "    su -= 1"
   ]
  },
  {
   "cell_type": "markdown",
   "id": "d717541e",
   "metadata": {},
   "source": [
    "### 난수 만들기~~"
   ]
  },
  {
   "cell_type": "code",
   "execution_count": 17,
   "id": "e68050bd",
   "metadata": {},
   "outputs": [
    {
     "name": "stdout",
     "output_type": "stream",
     "text": [
      "57\n",
      "0.8139235784426235\n"
     ]
    }
   ],
   "source": [
    "from random import randint, random\n",
    "\n",
    "rnum1 = randint(1,100)\n",
    "print(rnum1)\n",
    "\n",
    "rnum2 = random()          # 왜 랜덤은 1 미만으로 랜덤인지?\n",
    "print(rnum2)"
   ]
  },
  {
   "cell_type": "markdown",
   "id": "0b3ad838",
   "metadata": {},
   "source": [
    "### 업다운 게임 : 기회는 5번"
   ]
  },
  {
   "cell_type": "code",
   "execution_count": null,
   "id": "d9ca9ef5",
   "metadata": {},
   "outputs": [],
   "source": [
    "from random import randint, random\n",
    "\n",
    "jackpot = randint(1,101)\n",
    "# print(jackpot) # 일단 이건 숨기기.\n",
    "\n",
    "count=5\n",
    "while 1 :\n",
    "    answer=int(input(\"랜덤숫자가 뭘까요? 인생을 걸고 진검승부!\"))\n",
    "    \n",
    "    if answer<jackpot:\n",
    "        print(\"up, 기회는\",count-1,\"번 남았습니다.\")\n",
    "    elif answer>jackpot:\n",
    "        print(\"down, 기회는\",count-1,\"번 남았습니다.\")\n",
    "\n",
    "    elif answer==jackpot:\n",
    "        print(\"축하합니다. 당신은 살아남았다!\")\n",
    "        break\n",
    "    count -= 1    # 카운트가 맨 밑에 있을 땐 -1번 남았습니다 -2번 남았습니다 하면서 계속 넘어갔음..\n",
    "    if count==0:\n",
    "        print(\"나가세요 선생님.\")\n",
    "        break"
   ]
  }
 ],
 "metadata": {
  "kernelspec": {
   "display_name": "Python 3 (ipykernel)",
   "language": "python",
   "name": "python3"
  },
  "language_info": {
   "codemirror_mode": {
    "name": "ipython",
    "version": 3
   },
   "file_extension": ".py",
   "mimetype": "text/x-python",
   "name": "python",
   "nbconvert_exporter": "python",
   "pygments_lexer": "ipython3",
   "version": "3.9.7"
  }
 },
 "nbformat": 4,
 "nbformat_minor": 5
}
