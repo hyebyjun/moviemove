{
 "cells": [
  {
   "cell_type": "code",
   "execution_count": 2,
   "id": "82cbeecd",
   "metadata": {},
   "outputs": [
    {
     "name": "stdout",
     "output_type": "stream",
     "text": [
      "   dreamed about success   \n",
      "27\n",
      "21\n",
      "24\n",
      "24\n",
      "<class 'list'>\n",
      "['dreamed', 'about', 'success']\n"
     ]
    }
   ],
   "source": [
    "string1 = \"   dreamed about success   \"\n",
    "\n",
    "print(string1)\n",
    "print(len(string1))\n",
    "print(len(string1.strip()))\n",
    "print(len(string1.rstrip()))\n",
    "print(len(string1.lstrip()))\n",
    "\n",
    "strings = string1.split()     # 스플릿 중요! 공백을 기준으로 쪼개는 것을 tokenizing, 집합자료형 list로 리턴\n",
    "print(type(strings))\n",
    "print(strings)"
   ]
  },
  {
   "cell_type": "code",
   "execution_count": 3,
   "id": "acec21bb",
   "metadata": {},
   "outputs": [
    {
     "name": "stdout",
     "output_type": "stream",
     "text": [
      "['짜장', '짬뽕', '탕수육']\n",
      "['서울', '대전', '대구', '부산']\n",
      "서울 찍고, 대전 찍고, 대구 찍고, 부산 찍고, 대._.한._.민._.국\n"
     ]
    }
   ],
   "source": [
    "s = \"짜장 짬뽕 탕수육\"\n",
    "print(s.split())\n",
    "\n",
    "s2 = \"서울->대전->대구->부산\"\n",
    "city = s2.split(\"->\")\n",
    "print(city)\n",
    "\n",
    "for c in city :\n",
    "    print(c, \"찍고, \", end=\"\")\n",
    "    \n",
    "s = \"._.\"\n",
    "print(s.join(\"대한민국\"))"
   ]
  },
  {
   "cell_type": "code",
   "execution_count": 4,
   "id": "5800f591",
   "metadata": {},
   "outputs": [
    {
     "name": "stdout",
     "output_type": "stream",
     "text": [
      "  내가 세상에서 가장 질투하는 것, 당신의 첫.   \n",
      "당신이 세상에서 가장 질투하는 것, 그건 내가 모르지.\n",
      "당신의 잠든 얼굴 속에서 슬며시 스며 나오는 당신의 첫.\n",
      "    당신이 여기 올 때 거기서 가져온 것.     \n",
      "     나는 당신의 첫을 끊어버리고 싶어.      \n",
      "  나는 당신의 얼굴, 그 속의 무엇을 질투하지?   \n",
      "     무엇이 무엇인데? 그건 나도 모르지.     \n",
      " 아마도 당신을 만든 당신어머니의 첫 젖 같은 것.  \n",
      "     그런 성분으로 만들어진 당신의 첫.      \n",
      "                              \n",
      "당신은 사진첩을 열고 당신의 첫을 본다. 아마도 사진 속 첫이 당신을 생각한다. 생각한다고 생각한다. 당신의 사랑하는 첫은 사진 속에 숨어 있는데, 당신의 손목은 이제 컴퓨터 자판의 벌판 위로 기차를 띄우고 첫, 첫, 첫, 첫, 기차의 칸칸을 더듬는다. 당신의 첫. 어디에 숨어 있을까? 그 옛날 당신 몸속으로 뿜어지던 엄마 젖으로 만든 수증기처럼 수줍고 더운 첫. 뭉클뭉클 전율하며 당신 몸이 되던 첫. 첫을 만난 당신에겐 노을 속으로 기러기 떼 지나갈 때 같은 간지러움. 지금 당신이 나에게 작별의 편지를 쓰고 있으므로, 당신의 첫은 살며시 웃고 있을까? 사진 속에서 더 열심히 당신을 생각하고 있을까? 엄마 뱃속에 몸을 웅크리고 매달려 가던 당신의 무서운 첫 고독이이여. 그 고독을 나누어 먹던 첫사랑이여. 세상의 모든 첫 가슴엔 칼이 들어 있다. 첫처럼 매정한 것이 또 있을까. 첫은 항상 잘라버린다. 첫은 항상 죽는다. 첫이라고 부르는 순간 죽는다. 첫이 끊고 달아난 당신의 입술 한 점. 첫. 첫. 첫. 첫. 자판의 레일 위를 몸도 없이 혼자 달려가는 당신의 손목 두 개, 당신의 첫과 당신. 뿌연 달밤에 모가지가 두 개인 개 한 마리가 울부짖으며, 달려가며 찾고 있는 것. 잊어버린 줄도 모르면서 잊어버린 것. 죽었다. 당신의 첫은 죽었다. 당신의 관자놀이에 아직도 파닥이는 첫.\n",
      "                              \n",
      " 당신의 첫, 나의 첫, 영원히 만날 수 없는 첫.  \n",
      "   오늘 밤 처음 만난 것처럼 당신에게 다가가서   \n",
      "나는 첫을 잃었어요 당신도 그런가요 그럼 손 잡고 뽀뽀라도?\n",
      "          그렇게 말할까요?           \n",
      "                              \n",
      "   그리고 그때 당신의 첫은 끝, 꽃, 꺼억.    \n",
      "       죽었다. 주 긋 다. 주깃다.       \n",
      "          그렇게 말해줄까요?          \n",
      "37\n"
     ]
    }
   ],
   "source": [
    "traveler=\"\"\"내가 세상에서 가장 질투하는 것, 당신의 첫.\n",
    "당신이 세상에서 가장 질투하는 것, 그건 내가 모르지.\n",
    "당신의 잠든 얼굴 속에서 슬며시 스며 나오는 당신의 첫.\n",
    "당신이 여기 올 때 거기서 가져온 것.\n",
    "나는 당신의 첫을 끊어버리고 싶어.\n",
    "나는 당신의 얼굴, 그 속의 무엇을 질투하지?\n",
    "무엇이 무엇인데? 그건 나도 모르지.\n",
    "아마도 당신을 만든 당신어머니의 첫 젖 같은 것.\n",
    "그런 성분으로 만들어진 당신의 첫.\n",
    "\n",
    "당신은 사진첩을 열고 당신의 첫을 본다. 아마도 사진 속 첫이 당신을 생각한다. 생각한다고 생각한다. 당신의 사랑하는 첫은 사진 속에 숨어 있는데, 당신의 손목은 이제 컴퓨터 자판의 벌판 위로 기차를 띄우고 첫, 첫, 첫, 첫, 기차의 칸칸을 더듬는다. 당신의 첫. 어디에 숨어 있을까? 그 옛날 당신 몸속으로 뿜어지던 엄마 젖으로 만든 수증기처럼 수줍고 더운 첫. 뭉클뭉클 전율하며 당신 몸이 되던 첫. 첫을 만난 당신에겐 노을 속으로 기러기 떼 지나갈 때 같은 간지러움. 지금 당신이 나에게 작별의 편지를 쓰고 있으므로, 당신의 첫은 살며시 웃고 있을까? 사진 속에서 더 열심히 당신을 생각하고 있을까? 엄마 뱃속에 몸을 웅크리고 매달려 가던 당신의 무서운 첫 고독이이여. 그 고독을 나누어 먹던 첫사랑이여. 세상의 모든 첫 가슴엔 칼이 들어 있다. 첫처럼 매정한 것이 또 있을까. 첫은 항상 잘라버린다. 첫은 항상 죽는다. 첫이라고 부르는 순간 죽는다. 첫이 끊고 달아난 당신의 입술 한 점. 첫. 첫. 첫. 첫. 자판의 레일 위를 몸도 없이 혼자 달려가는 당신의 손목 두 개, 당신의 첫과 당신. 뿌연 달밤에 모가지가 두 개인 개 한 마리가 울부짖으며, 달려가며 찾고 있는 것. 잊어버린 줄도 모르면서 잊어버린 것. 죽었다. 당신의 첫은 죽었다. 당신의 관자놀이에 아직도 파닥이는 첫.\n",
    "\n",
    "당신의 첫, 나의 첫, 영원히 만날 수 없는 첫.\n",
    "오늘 밤 처음 만난 것처럼 당신에게 다가가서\n",
    "나는 첫을 잃었어요 당신도 그런가요 그럼 손 잡고 뽀뽀라도?\n",
    "그렇게 말할까요?\n",
    "\n",
    "그리고 그때 당신의 첫은 끝, 꽃, 꺼억.\n",
    "죽었다. 주 긋 다. 주깃다.\n",
    "그렇게 말해줄까요?\"\"\"\n",
    "\n",
    "poet=traveler.splitlines()\n",
    "for line in poet:\n",
    "    print(line.center(30))\n",
    "    \n",
    "first=traveler.count('첫')\n",
    "print(first)"
   ]
  },
  {
   "cell_type": "code",
   "execution_count": 5,
   "id": "f036082a",
   "metadata": {
    "scrolled": true
   },
   "outputs": [
    {
     "name": "stdout",
     "output_type": "stream",
     "text": [
      "Yesterday\n",
      "All My Troubles Seemed To Far Away\n",
      "Now It Looks As Though They'Re Here To Stay\n",
      "Oh, I Believe In Yesterday\n",
      "Suddenly\n",
      "I'M Not Half The Man I Used To Be\n",
      "There'S A Shadow Hanging Over Me\n",
      "Oh, Yesterday Came Suddenly\n",
      "Why She Had To Go\n",
      "I Don'T Know, She Wouldn'T Say\n",
      "I Said Something Wrong\n",
      "Now I Long For Yesterday\n",
      "Yesterday\n",
      "Love Was Such An Easy Game To Play\n",
      "Now I Need A Place To Hide Away\n",
      "Oh, I Believe In Yesterday\n",
      "Why She Had To Go\n",
      "I Don'T Know, She Wouldn'T Say\n",
      "I Said Something Wrong\n",
      "Now I Long For Yesterday\n",
      "Yesterday\n",
      "Love Was Such An Easy Game To Play\n",
      "Now I Need A Place To Hide Away\n",
      "Oh, I Believe In Yesterday\n",
      "9\n"
     ]
    }
   ],
   "source": [
    "f=open(\"yesterday.txt\",'r')\n",
    "y_lyric=f.read()\n",
    "f.close()\n",
    "\n",
    "t=y_lyric.title()\n",
    "fy=t.count('Yesterday')\n",
    "\n",
    "print(t)\n",
    "print(fy)"
   ]
  },
  {
   "cell_type": "code",
   "execution_count": 6,
   "id": "76c210e8",
   "metadata": {},
   "outputs": [
    {
     "name": "stdout",
     "output_type": "stream",
     "text": [
      "<class 'str'>\n",
      "5\n",
      "<class 'list'>\n",
      "4\n",
      "['red', 'green', 'blue', 'gray', 'red', 'green', 'blue', 'gray', 'white', 'black', 'pink']\n",
      "['red', 'green', 'blue', 'gray', 'orange']\n",
      "3\n",
      "['orange', 'gray', 'blue', 'green', 'red']\n",
      "None\n",
      "['blue', 'gray', 'green', 'orange', 'red']\n",
      "[2, 3, 5, 6, 6, 7]\n",
      "[7, 6, 6, 5, 3, 2]\n"
     ]
    }
   ],
   "source": [
    "color = \"green\"\n",
    "print(type(color))\n",
    "print(len(color))\n",
    "\n",
    "colors=[\"red\",\"green\",\"blue\",\"gray\"]\n",
    "print(type(colors))\n",
    "print(len(colors))\n",
    "\n",
    "colors2 = [\"white\", \"black\", \"pink\"]\n",
    "result = colors+colors+colors2\n",
    "print(result)\n",
    "\n",
    "colors.append(\"orange\")\n",
    "print(colors)\n",
    "\n",
    "print(colors.index('gray'))\n",
    "colors.reverse()\n",
    "print(colors)\n",
    "\n",
    "print(colors.sort())\n",
    "print(colors)\n",
    "\n",
    "nums=[5,2,7,6,3,6]\n",
    "print(sorted(nums))\n",
    "print(sorted(nums, reverse=True))"
   ]
  },
  {
   "cell_type": "code",
   "execution_count": 9,
   "id": "62abe884",
   "metadata": {},
   "outputs": [
    {
     "name": "stdout",
     "output_type": "stream",
     "text": [
      "['blue', 'gray', 'green', 'orange', 'red']\n",
      "white black pink\n",
      "<class 'list'>\n"
     ]
    }
   ],
   "source": [
    "colors2=[\"white\",\"black\",\"pink\"]\n",
    "print(colors)\n",
    "a,b,c=colors2    # unpacking\n",
    "print(a,b,c)\n",
    "\n",
    "colors5=[a,b,c]\n",
    "print(type(colors5))"
   ]
  },
  {
   "cell_type": "code",
   "execution_count": 30,
   "id": "ec9c5e24",
   "metadata": {
    "scrolled": true
   },
   "outputs": [
    {
     "name": "stdout",
     "output_type": "stream",
     "text": [
      "[[49, 79, 50, 95, 80], [60, 70, 80, 90, 70], [80, 70, 60, 50, 90]]\n",
      "<class 'list'>\n",
      "총점 : [189, 219, 190, 235, 240]\n",
      "평균 : 63 73 63 78 80 "
     ]
    }
   ],
   "source": [
    "kor_score=[49,79,50,95,80]\n",
    "mth_score=[60,70,80,90,70]\n",
    "eng_score=[80,70,60,50,90]\n",
    "midterm_score=[kor_score, mth_score, eng_score]\n",
    "\n",
    "print(midterm_score)\n",
    "print(type(midterm_score))\n",
    "\n",
    "total=[0,0,0,0,0]              # 총점 저장용 리스트박스\n",
    "\n",
    "for subject in midterm_score:\n",
    "    idx = 0\n",
    "    for jumsu in subject:\n",
    "        total [idx] += jumsu\n",
    "        idx += 1\n",
    "        \n",
    "print(\"총점 :\",total)\n",
    "print(\"평균 :\",end=\" \")\n",
    "\n",
    "for jumsu in total:\n",
    "    print(int(jumsu/3),end=\" \")"
   ]
  },
  {
   "cell_type": "markdown",
   "id": "60b2225d",
   "metadata": {},
   "source": [
    "### 1~100 사이의 정수 중 10개의 난수를 생성, 리스트에 저장 후 리스트 내 데이터 중 가장 큰 값을 출력하시오."
   ]
  },
  {
   "cell_type": "code",
   "execution_count": 25,
   "id": "bd7b2f73",
   "metadata": {
    "scrolled": true
   },
   "outputs": [
    {
     "name": "stdout",
     "output_type": "stream",
     "text": [
      "[12, 33, 45, 52, 52, 53, 54, 65, 66, 79]\n",
      "79\n"
     ]
    }
   ],
   "source": [
    "import random\n",
    "\n",
    "box = []\n",
    "for i in range(0,10):           # for ?? in ~ 에서 ??는 변수이름 미지정인 상태. 공식!!!\n",
    "    x = random.randint(1,101)\n",
    "    box.append(x)\n",
    "    box.sort()\n",
    "print(box)                      # 줄이 for 하위면 출력 후 반복 출력 반복 / 바깥이면 반복반복반복~ 후 출력\n",
    "\n",
    "print(box[-1])                  # []인덱스 역순으로 1개만 출력"
   ]
  },
  {
   "cell_type": "code",
   "execution_count": 26,
   "id": "0563599c",
   "metadata": {},
   "outputs": [
    {
     "name": "stdout",
     "output_type": "stream",
     "text": [
      "[42, 86, 81, 6, 25, 34, 36, 62, 47, 10]\n",
      "86\n"
     ]
    }
   ],
   "source": [
    "# 선생님 정답\n",
    "\n",
    "import random\n",
    "nums =[]\n",
    "for i in range(0, 10) :\n",
    "    nums.append(random.randint(1, 100))\n",
    "print(nums)    \n",
    "max = nums[0]\n",
    "for i in range(1, 10) :\n",
    "    if (max<nums[i]) :\n",
    "        max = nums[i]\n",
    "print(max)"
   ]
  },
  {
   "cell_type": "markdown",
   "id": "c8624e02",
   "metadata": {},
   "source": [
    "1. 난수 생성\\\n",
    "2. 1번을 10번 반복\\\n",
    "3. 2번의 값들을 리스트화\\\n",
    "4. 3번을 ~차순 정렬하기\\\n",
    "5. 끝에꺼 출력하기"
   ]
  },
  {
   "cell_type": "markdown",
   "id": "d2b42ee1",
   "metadata": {},
   "source": [
    "### 로또 번호 6개 생성, 리스트 저장 후 출력 (lotto 번호는 1~45의 숫자중 , 6개)"
   ]
  },
  {
   "cell_type": "code",
   "execution_count": 27,
   "id": "ec1cb6df",
   "metadata": {
    "scrolled": true
   },
   "outputs": [
    {
     "name": "stdout",
     "output_type": "stream",
     "text": [
      "pick list : [41, 35, 36, 10, 30, 22]\n",
      "sorted list(ASC) : [41, 36, 35, 30, 22, 10]\n",
      "sorted list(DESC) : [10, 22, 30, 35, 36, 41]\n"
     ]
    }
   ],
   "source": [
    "# 선생님 답\n",
    "\n",
    "import random\n",
    "lotto=[]\n",
    "while len(lotto) < 6:           # len 쓰인 의미와 작동 원리 다시 공부하기 : 겹치지 않는 데이터의 종류가 6개\n",
    "    num = random.randint(1,45)  # 1<=x<=45\n",
    "    if num not in lotto:\n",
    "        lotto.append(num)\n",
    "\n",
    "print(\"pick list : \",end=\"\"); print(lotto)\n",
    "lotto.sort(reverse=True)\n",
    "print(\"sorted list(ASC) : \", end=\"\"); print(lotto)\n",
    "lotto.sort()\n",
    "print(\"sorted list(DESC) : \", end=\"\"); print(lotto)"
   ]
  },
  {
   "cell_type": "code",
   "execution_count": 1,
   "id": "1b993245",
   "metadata": {},
   "outputs": [
    {
     "name": "stdout",
     "output_type": "stream",
     "text": [
      "[8, 21, 27, 28, 31, 38]\n"
     ]
    }
   ],
   "source": [
    "# 다른 사람 답(https://creavart.tistory.com/183#gsc.tab=0)\n",
    "\n",
    "from random import*\n",
    "\n",
    "lotto = set()\n",
    "lotto_list = []\n",
    "\n",
    "while len(lotto) < 6:\n",
    "    lotto.add(randint(1,45))\n",
    "\n",
    "lotto_list=list(lotto)\n",
    "lotto_list.sort()\n",
    "print(lotto_list)"
   ]
  },
  {
   "cell_type": "markdown",
   "id": "4d28bcb3",
   "metadata": {},
   "source": [
    "### 1~100 사이의 정수 난수 10개를 생성해서 리스트에 저장하고, 저장된 리스트 내에 데이터 중에서 5의 배수의 개수와 합계 평균을 출력하시오"
   ]
  },
  {
   "cell_type": "code",
   "execution_count": 33,
   "id": "49cdea96",
   "metadata": {},
   "outputs": [
    {
     "name": "stdout",
     "output_type": "stream",
     "text": [
      "[1, 8, 12, 36, 52, 66, 68, 94, 96, 99]\n"
     ]
    }
   ],
   "source": [
    "import random\n",
    "\n",
    "box = []\n",
    "for i in range(0,10):\n",
    "    box.append(random.randint(1,100))\n",
    "    box.sort()\n",
    "    \n",
    "print(box)"
   ]
  },
  {
   "cell_type": "code",
   "execution_count": 32,
   "id": "f0dc4fc2",
   "metadata": {},
   "outputs": [
    {
     "name": "stdout",
     "output_type": "stream",
     "text": [
      "[8, 42, 12, 34, 79, 89, 55, 44, 48, 14]\n",
      "5의 배수 개수 : 1\n",
      "5의 배수 합계 : 55\n",
      "5의 배수 평균 : 55.0\n"
     ]
    }
   ],
   "source": [
    "# 선생님 답\n",
    "\n",
    "import random\n",
    "nums =[]\n",
    "for i in range(0, 10) :\n",
    "    nums.append(random.randint(1, 100))\n",
    "print(nums)    \n",
    "\n",
    "cnt = 0\n",
    "total = 0\n",
    "for i in range(0, 10) :\n",
    "    if (nums[i]%5==0) : #......\n",
    "        cnt+=1\n",
    "        total += nums[i]\n",
    "        \n",
    "print(\"5의 배수 개수 :\", cnt) \n",
    "print(\"5의 배수 합계 :\", total) \n",
    "print(\"5의 배수 평균 :\", total/cnt) "
   ]
  },
  {
   "cell_type": "markdown",
   "id": "302dce00",
   "metadata": {},
   "source": [
    "### 주사위를 10번 던져서 각 숫자가 몇 번씩 나왔는지 알아보려고 한다.\n",
    "리스트를 활용하여 리스트에 각 주사위를 던져서 나온 숫자의 개수를 저장하고 출력하시오"
   ]
  },
  {
   "cell_type": "code",
   "execution_count": 1,
   "id": "7dd00406",
   "metadata": {},
   "outputs": [
    {
     "name": "stdout",
     "output_type": "stream",
     "text": [
      "[2, 2, 4, 4, 4, 5, 5, 5, 6, 6]\n",
      "[0, 2, 0, 3, 3, 2]\n",
      "[ 0 2 0 3 3 2 ]\n"
     ]
    }
   ],
   "source": [
    "import random\n",
    "\n",
    "box = []\n",
    "\n",
    "for i in range(0,10):\n",
    "    x = random.randint(1,6)\n",
    "    box.append(x)\n",
    "    box.sort()\n",
    "print(box)\n",
    "\n",
    "# n=box.count(n)를 하고싶은데..\n",
    "# 1번 방법. 선생님 방법\n",
    "n=[]\n",
    "for j in range(1,7):    \n",
    "    n.append(box.count(j))\n",
    "print(n)\n",
    "\n",
    "# 2번 방법. 하면 안되는 개노가다 방법\n",
    "\n",
    "one=box.count(1)\n",
    "two=box.count(2)\n",
    "thr=box.count(3)\n",
    "fou=box.count(4)\n",
    "fiv=box.count(5)\n",
    "six=box.count(6)\n",
    "\n",
    "print(\"[\",one,two,thr,fou,fiv,six,\"]\")"
   ]
  }
 ],
 "metadata": {
  "kernelspec": {
   "display_name": "Python 3 (ipykernel)",
   "language": "python",
   "name": "python3"
  },
  "language_info": {
   "codemirror_mode": {
    "name": "ipython",
    "version": 3
   },
   "file_extension": ".py",
   "mimetype": "text/x-python",
   "name": "python",
   "nbconvert_exporter": "python",
   "pygments_lexer": "ipython3",
   "version": "3.9.7"
  }
 },
 "nbformat": 4,
 "nbformat_minor": 5
}
