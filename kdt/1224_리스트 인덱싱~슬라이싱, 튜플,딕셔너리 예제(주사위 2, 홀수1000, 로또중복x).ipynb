{
 "cells": [
  {
   "cell_type": "code",
   "execution_count": 1,
   "id": "e1a18d0f",
   "metadata": {
    "scrolled": true
   },
   "outputs": [
    {
     "name": "stdout",
     "output_type": "stream",
     "text": [
      "2554176130368\n",
      "2554176130176\n",
      "True\n",
      "False\n",
      "[10, 100, 30, 40]\n",
      "[10, 20, 30, 40]\n",
      "2554176130368\n",
      "2554176130368\n",
      "[33, 100, 30, 40]\n",
      "[33, 100, 30, 40]\n"
     ]
    }
   ],
   "source": [
    "lst = [10, 20, 30, 40]\n",
    "cp_lst = lst.copy()\n",
    "print(id(lst))           # 메모리에서 객체를 식별값 (논리적 주소 개념)\n",
    "print(id(cp_lst))        # 메모리에서 객체를 식별값 (논리적 주소 개념)\n",
    "                         # 일란성 쌍둥이로 겉보기에 생긴 건 같아도 주민등록번호 다른 느낌\n",
    "\n",
    "print(lst == cp_lst)     # 껍데기 같니? ㅇㅇ\n",
    "print(lst is cp_lst)     # 속 논리적? 영혼,주소가 같니? ㄴㄴ\n",
    "\n",
    "lst[1] = 100\n",
    "print(lst)\n",
    "print(cp_lst)\n",
    "\n",
    "scp_lst = lst            # 얕은 복사는 원본 객체의 주소가 할당되어 동일한 객체를 참조\n",
    "print(id(lst))\n",
    "print(id(scp_lst))\n",
    "\n",
    "lst[0] = 33\n",
    "print(lst)\n",
    "print(scp_lst)"
   ]
  },
  {
   "cell_type": "code",
   "execution_count": 64,
   "id": "01397c59",
   "metadata": {},
   "outputs": [
    {
     "ename": "TypeError",
     "evalue": "'list' object is not callable",
     "output_type": "error",
     "traceback": [
      "\u001b[1;31m---------------------------------------------------------------------------\u001b[0m",
      "\u001b[1;31mTypeError\u001b[0m                                 Traceback (most recent call last)",
      "\u001b[1;32m~\\AppData\\Local\\Temp/ipykernel_6724/1235252625.py\u001b[0m in \u001b[0;36m<module>\u001b[1;34m\u001b[0m\n\u001b[0;32m      1\u001b[0m \u001b[0ma\u001b[0m \u001b[1;33m=\u001b[0m \u001b[1;33m[\u001b[0m\u001b[1;36m1\u001b[0m\u001b[1;33m,\u001b[0m\u001b[1;36m2\u001b[0m\u001b[1;33m,\u001b[0m\u001b[1;36m3\u001b[0m\u001b[1;33m,\u001b[0m\u001b[1;36m4\u001b[0m\u001b[1;33m,\u001b[0m\u001b[1;36m5\u001b[0m\u001b[1;33m]\u001b[0m\u001b[1;33m\u001b[0m\u001b[1;33m\u001b[0m\u001b[0m\n\u001b[0;32m      2\u001b[0m \u001b[0mb\u001b[0m \u001b[1;33m=\u001b[0m \u001b[1;33m(\u001b[0m\u001b[1;36m1\u001b[0m\u001b[1;33m,\u001b[0m\u001b[1;36m2\u001b[0m\u001b[1;33m,\u001b[0m\u001b[1;36m3\u001b[0m\u001b[1;33m,\u001b[0m\u001b[1;36m4\u001b[0m\u001b[1;33m,\u001b[0m\u001b[1;36m5\u001b[0m\u001b[1;33m)\u001b[0m\u001b[1;33m\u001b[0m\u001b[1;33m\u001b[0m\u001b[0m\n\u001b[1;32m----> 3\u001b[1;33m \u001b[0mc\u001b[0m \u001b[1;33m=\u001b[0m \u001b[0mlist\u001b[0m\u001b[1;33m(\u001b[0m\u001b[0mb\u001b[0m\u001b[1;33m)\u001b[0m \u001b[1;31m#list() 리스트 생성자를 통해서도 할수 있다고 했는디..\u001b[0m\u001b[1;33m\u001b[0m\u001b[1;33m\u001b[0m\u001b[0m\n\u001b[0m\u001b[0;32m      4\u001b[0m \u001b[1;33m\u001b[0m\u001b[0m\n\u001b[0;32m      5\u001b[0m \u001b[0mprint\u001b[0m\u001b[1;33m(\u001b[0m\u001b[0mc\u001b[0m\u001b[1;33m)\u001b[0m\u001b[1;33m\u001b[0m\u001b[1;33m\u001b[0m\u001b[0m\n",
      "\u001b[1;31mTypeError\u001b[0m: 'list' object is not callable"
     ]
    }
   ],
   "source": [
    "a = [1,2,3,4,5]\n",
    "b = (1,2,3,4,5)\n",
    "c = list(b)        # list() 리스트 생성자를 통해서도 할수 있다고 했는디..\n",
    "\n",
    "print(c)\n",
    "\n",
    "# 튜플 자료형은 인덱싱, 슬라이싱, 더하기, 곱하기 연산 지원 / 편집은 안 됨\n",
    "# 리스트는 확장 가능한 서랍 / 튜플은 이미 최종 다 만들어진 서랍장"
   ]
  },
  {
   "cell_type": "code",
   "execution_count": 22,
   "id": "71b925e0",
   "metadata": {},
   "outputs": [
    {
     "name": "stdout",
     "output_type": "stream",
     "text": [
      "<class 'tuple'>\n",
      "부산\n",
      "('서울', '인천', '대전', '울산')\n",
      "('수원', '울산', '광주', '대전', '대구', '인천', '부산', '서울')\n",
      "('대구', '대전', '광주')\n"
     ]
    }
   ],
   "source": [
    "cities = ('서울','부산','인천','대구','대전','광주','울산','수원')\n",
    "print(type(cities))\n",
    "print(cities[1])     # 인덱싱\n",
    "print(cities[::2])   # 슬라이싱\n",
    "print(cities[::-1])  # 슬라이싱\n",
    "print(cities[-5:6])"
   ]
  },
  {
   "cell_type": "code",
   "execution_count": 63,
   "id": "4d873a40",
   "metadata": {},
   "outputs": [
    {
     "name": "stdout",
     "output_type": "stream",
     "text": [
      "{'a', 'b'}\n",
      "<class 'set'>\n",
      "2\n",
      "{'a', 'b'}\n",
      "<class 'set'>\n",
      "2\n",
      "{'a', 'b', 'c'}\n",
      "{'b', 'a', 'd', 'c', 'g', 'e', 'f'}\n",
      "{'a', 'b'}\n",
      "{1, 2, 3, 4, 5, 6, 7, 8}\n",
      "{3, 4, 5}\n",
      "{1, 2}\n",
      "{6, 7, 8}\n",
      "True\n",
      "<class 'set'>\n",
      "0\n",
      "<class 'dict'>\n",
      "0\n"
     ]
    }
   ],
   "source": [
    "s1 = set(['a','b','b','a'])\n",
    "print(s1)\n",
    "print(type(s1))\n",
    "print(len(s1))\n",
    "\n",
    "s2 = {'a','b','a','b'}\n",
    "print(s2)\n",
    "print(type(s2))\n",
    "print(len(s2))\n",
    "\n",
    "s1.add('c')\n",
    "print(s1)\n",
    "s1.update(['d','e','f','g'])\n",
    "print(s1)\n",
    "print(s2)\n",
    "\n",
    "s2 = {1,2,3,4,5}\n",
    "s3 = {8,7,6,5,4,3}\n",
    "\n",
    "print(s2.union(s3))             # 합집합?\n",
    "print(s2.intersection(s3))      # 교집합\n",
    "print(s2.difference(s3))        # 차집합\n",
    "\n",
    "s3.difference_update(s2)        # 오 이거 잘 모르겠는데..\n",
    "print(s3)\n",
    "\n",
    "s3 = {1,2,3,4,5,6,7,8}\n",
    "print(s3>=s2)\n",
    "\n",
    "# 원소가 없는 empty set 객체를 생성할 때는 {}로 안된다이.. 반드시 set()으로만 가능!!!\n",
    "\n",
    "s5 = set()\n",
    "print(type(s5))\n",
    "print(len(s5))\n",
    "s6 = {}           # 걍 이렇게 만들면 set이 아니라 딕셔너리?가 된다.. 딕셔너리가 뭔지는 모른다 아직..\n",
    "print(type(s6))\n",
    "print(len(s6))"
   ]
  },
  {
   "cell_type": "code",
   "execution_count": 83,
   "id": "6def46f0",
   "metadata": {},
   "outputs": [
    {
     "name": "stdout",
     "output_type": "stream",
     "text": [
      "<class 'dict'>\n",
      "3\n",
      "{202101: 'park', 202102: 'lee', 202103: 'choi', 202104: 'kim'}\n",
      "{'apple': 500, 'orange': 700, 'kiwi': 1000}\n",
      "<class 'dict'>\n",
      "dict_keys(['apple', 'orange', 'kiwi'])\n",
      "dict_values([500, 700, 1000])\n",
      "dict_keys(['apple', 'orange', 'kiwi'])\n",
      "apple : 500\n",
      "orange : 700\n",
      "kiwi : 1000\n"
     ]
    }
   ],
   "source": [
    "students = {202101:'park',202102:'lee',202103:'choi'}\n",
    "print(type(students))\n",
    "print(len(students))\n",
    "\n",
    "students[202104] = 'kim'            # 데이터 추가..\n",
    "                                    # students.add(202104:'kim') 이런 식이면 참 좋을텐디 뭐 없나..\n",
    "print(students)\n",
    "\n",
    "fruits = dict(apple=500, orange=700, kiwi=1000)\n",
    "print(fruits)\n",
    "print(type(fruits))\n",
    "\n",
    "print(fruits.keys())\n",
    "print(fruits.values())\n",
    "ks = fruits.keys()\n",
    "print(ks)\n",
    "\n",
    "for k, v in fruits.items() :\n",
    "    print(k,\":\",v)"
   ]
  },
  {
   "cell_type": "markdown",
   "id": "5e28ecf8",
   "metadata": {},
   "source": [
    "### 주사위 6개를 동시에 던져서 모두 같은 숫자가 나올 때까지 던진 횟수는?\n",
    "그리고 그때까지 각 1~6 숫자가 한번에 다 나온 적은 몇 번인가?"
   ]
  },
  {
   "cell_type": "code",
   "execution_count": 1,
   "id": "6feeff90",
   "metadata": {
    "scrolled": true
   },
   "outputs": [
    {
     "name": "stdout",
     "output_type": "stream",
     "text": [
      "1036 번 던져서\n",
      "[2, 2, 2, 2, 2, 2] 가 나와서 그만한다... 힘들당..\n",
      "1~6가 동시에 나온 횟수는 17 번입니다.\n"
     ]
    }
   ],
   "source": [
    "import random\n",
    "\n",
    "cnt = 0\n",
    "cmt = 0\n",
    "while 1:\n",
    "    dice = []\n",
    "    for i in range(1,7):\n",
    "        # x = random.randint(1,6)\n",
    "        # dice.append(x)\n",
    "        dice.append(random.randint(1,6))\n",
    "    setting = set(dice)\n",
    "    cnt += 1\n",
    "        \n",
    "    if len(setting)==1:\n",
    "        break\n",
    "    elif len(setting)==6:\n",
    "        cmt += 1\n",
    "\n",
    "# print(setting) 일단 여기까지하면 멈추긴 함.\n",
    "# 이제 멈춘 거 여태까지 몇 번 주사위 던졌는지 세야됨\n",
    "\n",
    "print(cnt,\"번 던져서\")\n",
    "print(dice,\"가 나와서 그만한다... 힘들당..\")\n",
    "\n",
    "# 123456이 몇번 나왔는지 해야됨\n",
    "print(\"1~6가 동시에 나온 횟수는\",cmt,\"번입니다.\")"
   ]
  },
  {
   "cell_type": "markdown",
   "id": "976936c4",
   "metadata": {},
   "source": [
    "while True :\\\n",
    "    주사위를 던진 횟수 1증가\\\n",
    "    for i in range(0, 6):  # 주사위 6개 숫자 생성해서 list또는 set에 저장\\\n",
    "      생성된 주사위값을 비교해서 모두 일치하면 while반복문 탈출\\\n",
    "      주사위값이 1, 2, 3, 4, 5, 6이면 연속번호가 나온 횟수 1증가"
   ]
  },
  {
   "cell_type": "code",
   "execution_count": 60,
   "id": "694106e6",
   "metadata": {},
   "outputs": [
    {
     "name": "stdout",
     "output_type": "stream",
     "text": [
      "6개 주사위가 모두 동일한 숫자가 나옴--> 2 2 2 2 2 2 \n",
      "6개가 동일한 숫자가 나올 때까지 주사위를 던진 횟수 --> 1968\n",
      "6개가  동일한 숫자가 나올 때까지 1 ~6의 연속번호가 나온 횟수 --> 29\n"
     ]
    }
   ],
   "source": [
    "# 선생님 답\n",
    "\n",
    "import random;\n",
    "count1 = 0                                # 주사위를 던진 횟수 저장 변수\n",
    "serial  = 0                               # 연속번호가 나온 횟수 저장 변수\n",
    "while True :\n",
    "    dices = set()                         # 빈 set객체\n",
    "    count1 += 1\n",
    "    for i in range(0, 6):\n",
    "        dices.add(random.randint(1, 6))\n",
    "    if len(dices) == 6 :\n",
    "        serial +=1\n",
    "    elif len(dices) == 1 :\n",
    "        break\n",
    "dice = tuple(dices)\n",
    "print (\"6개 주사위가 모두 동일한 숫자가 나옴-->\" ,  end=\" \")\n",
    "for i in range(0, 6):\n",
    "    print(dice[0], end=\" \")\n",
    "print()\n",
    "print (\"6개가 동일한 숫자가 나올 때까지 주사위를 던진 횟수 -->\" , count1)    \n",
    "print (\"6개가  동일한 숫자가 나올 때까지 1 ~6의 연속번호가 나온 횟수 -->\" , serial)"
   ]
  },
  {
   "cell_type": "markdown",
   "id": "703edb38",
   "metadata": {},
   "source": [
    "### 1~1000 사이에 있는 홀수의 합계 중 n번째 홀수까지의 합이 1000이 넘어가는 타이밍인가?"
   ]
  },
  {
   "cell_type": "code",
   "execution_count": 79,
   "id": "6b174d92",
   "metadata": {
    "scrolled": false
   },
   "outputs": [
    {
     "name": "stdout",
     "output_type": "stream",
     "text": [
      "63\n"
     ]
    }
   ],
   "source": [
    "num = 0\n",
    "while 1 :\n",
    "    if (num+1)**2>4000 :  # (n+1)(n+1)/4 > 1000 활용\n",
    "        break\n",
    "    num += 1\n",
    "print(num)"
   ]
  },
  {
   "cell_type": "code",
   "execution_count": 77,
   "id": "d6c57231",
   "metadata": {},
   "outputs": [
    {
     "name": "stdout",
     "output_type": "stream",
     "text": [
      "63\n"
     ]
    }
   ],
   "source": [
    "#한솔님 답\n",
    "odd = 0\n",
    "for i in range(1,1001):\n",
    "    if i%2==1:\n",
    "        odd += i\n",
    "    if odd >= 1000:\n",
    "        break\n",
    "        \n",
    "print(i)"
   ]
  },
  {
   "cell_type": "markdown",
   "id": "107bd78e",
   "metadata": {},
   "source": [
    "### 영문+숫자 섞어 쓴 문구에서 숫자 삭제하는 프로그램 만들기~"
   ]
  },
  {
   "cell_type": "code",
   "execution_count": 1,
   "id": "377023e2",
   "metadata": {},
   "outputs": [
    {
     "name": "stdout",
     "output_type": "stream",
     "text": [
      "영문+숫자 암거나 써보도록..3 concept\n",
      "('3', ' ', 'c', 'o', 'n', 'c', 'e', 'p', 't')\n",
      "<class 'tuple'>\n"
     ]
    }
   ],
   "source": [
    "x = input(\"영문+숫자 암거나 써보도록..\")\n",
    "y = tuple(x)\n",
    "\n",
    "print(y)\n",
    "print(type(y))"
   ]
  },
  {
   "cell_type": "code",
   "execution_count": 6,
   "id": "7d9378fe",
   "metadata": {},
   "outputs": [
    {
     "name": "stdout",
     "output_type": "stream",
     "text": [
      "문자열 --> 234 sldk 32\n",
      "숫자제거 -->   sldk   "
     ]
    }
   ],
   "source": [
    "# [Sample Run]\n",
    "# 문자열 -->  IT python 1234 Flask\n",
    "# 숫자제거 -->  IT python  Flask\n",
    "\n",
    "text = input(\"문자열 --> \")\n",
    "text_list = text.split()\n",
    "for idx in range(len(text_list)):       \n",
    "    if text_list[idx].isdigit() :\n",
    "        text_list[idx] =\" \"\n",
    "print (\"숫자제거 -->\" , end=\" \") \n",
    "for idx in range(len(text_list)):\n",
    "    print(text_list[idx], end=\" \")"
   ]
  },
  {
   "cell_type": "markdown",
   "id": "2b21d5ed",
   "metadata": {},
   "source": [
    "### 로또 추첨 6개~"
   ]
  },
  {
   "cell_type": "code",
   "execution_count": 16,
   "id": "748ad9d0",
   "metadata": {},
   "outputs": [
    {
     "name": "stdout",
     "output_type": "stream",
     "text": [
      "[1, 12, 15, 26, 38, 45]\n"
     ]
    }
   ],
   "source": [
    "from random import*\n",
    "\n",
    "lotto = set()\n",
    "lotto_list = []                # 이거 없어도 잘만 되던데 왜그래요?\n",
    "\n",
    "while len(lotto) < 6:\n",
    "    lotto.add(randint(1,45))\n",
    "\n",
    "lotto_list=list(lotto)         # 여기서 lotto를 list(lotto) <-- 리스트화해서 그런건감?\n",
    "lotto_list.sort()\n",
    "print(lotto_list)"
   ]
  },
  {
   "cell_type": "code",
   "execution_count": 17,
   "id": "331178b0",
   "metadata": {},
   "outputs": [
    {
     "name": "stdout",
     "output_type": "stream",
     "text": [
      "[14, 16, 18, 22, 23, 31]\n"
     ]
    }
   ],
   "source": [
    "from random import*\n",
    "\n",
    "lotto = set()\n",
    "while 1 :\n",
    "    lotto.add(randint(1,45))\n",
    "    if len(lotto)==6:\n",
    "        break\n",
    "\n",
    "lotto_list=list(lotto)\n",
    "lotto_list.sort()\n",
    "print(lotto_list)"
   ]
  },
  {
   "cell_type": "code",
   "execution_count": 13,
   "id": "b72ef75f",
   "metadata": {},
   "outputs": [
    {
     "name": "stdout",
     "output_type": "stream",
     "text": [
      "( 1 , 1 ) ( 1 , 2 ) ( 1 , 3 ) \n",
      "( 2 , 1 ) ( 2 , 2 ) ( 2 , 3 ) \n",
      "( 3 , 1 ) ( 3 , 2 ) ( 3 , 3 ) \n",
      "( 4 , 1 ) ( 4 , 2 ) ( 4 , 3 ) \n"
     ]
    }
   ],
   "source": [
    "for row in range(1,5):\n",
    "    for col in range(1,4):\n",
    "        # if col >= row :\n",
    "        print(\"(\",row,\",\",col,\")\",end=\" \")\n",
    "    print()"
   ]
  },
  {
   "cell_type": "code",
   "execution_count": 4,
   "id": "a804655c",
   "metadata": {
    "scrolled": false
   },
   "outputs": [
    {
     "name": "stdout",
     "output_type": "stream",
     "text": [
      "리스트 1.1: 1\n",
      "리스트 1.2: 2\n",
      "리스트 1.3: 3\n",
      "리스트 1.4: 4\n",
      "리스트 1.5: 5\n",
      "리스트 1.6: 6\n",
      "리스트 2.1: 6\n",
      "리스트 2.2: 5\n",
      "리스트 2.3: 4\n",
      "리스트 2.4: 3\n",
      "리스트 2.5: 2\n",
      "리스트 2.6: 1\n",
      "6 10 12\n",
      "12 10 6\n"
     ]
    }
   ],
   "source": [
    "fst1 = int(input(\"리스트 1.1: \"))\n",
    "fst2 = int(input(\"리스트 1.2: \"))\n",
    "fst3 = int(input(\"리스트 1.3: \"))\n",
    "fst4 = int(input(\"리스트 1.4: \"))\n",
    "fst5 = int(input(\"리스트 1.5: \"))\n",
    "fst6 = int(input(\"리스트 1.6: \"))\n",
    "\n",
    "scd1 = int(input(\"리스트 2.1: \"))\n",
    "scd2 = int(input(\"리스트 2.2: \"))\n",
    "scd3 = int(input(\"리스트 2.3: \"))\n",
    "scd4 = int(input(\"리스트 2.4: \"))\n",
    "scd5 = int(input(\"리스트 2.5: \"))\n",
    "scd6 = int(input(\"리스트 2.6: \"))\n",
    "\n",
    "fst_list=[fst1, fst2, fst3, fst4, fst5, fst6]\n",
    "scd_list=[scd1, scd2, scd3, scd4, scd5, scd6]\n",
    "\n",
    "x1 = (fst_list[0])*(scd_list[0])\n",
    "x2 = (fst_list[1])*(scd_list[1])\n",
    "x3 = (fst_list[2])*(scd_list[2])\n",
    "x4 = (fst_list[3])*(scd_list[3])\n",
    "x5 = (fst_list[4])*(scd_list[4])\n",
    "x6 = (fst_list[5])*(scd_list[5])\n",
    "\n",
    "print(x1, x2, x3)\n",
    "print(x4, x5, x6)"
   ]
  },
  {
   "cell_type": "code",
   "execution_count": 36,
   "id": "6ff5d691",
   "metadata": {
    "scrolled": true
   },
   "outputs": [
    {
     "name": "stdout",
     "output_type": "stream",
     "text": [
      "[16, 27, 39, 100, 19, 88, 61, 20]\n",
      "[16, 39, 19, 61]\n",
      "[27, 100, 88, 20]\n",
      "33.75\n",
      "58.75\n",
      "[16, 27, 39, 100, 19, 88, 61, 20]\n",
      "27\n",
      "\n",
      "\n",
      "\n",
      "\n"
     ]
    }
   ],
   "source": [
    "fst = [16,27]\n",
    "scd = [39,100]\n",
    "thd = [19, 88]\n",
    "fth = [61, 20]\n",
    "\n",
    "a = fst+scd+thd+fth\n",
    "print(a)\n",
    "b = a[::2]\n",
    "c = a[1::2]\n",
    "print(a[::2])\n",
    "print(c)\n",
    "\n",
    "print((b[0]+b[1]+b[2]+b[3])/4)\n",
    "print((c[0]+c[1]+c[2]+c[3])/4)\n",
    "print(a)\n",
    "\n",
    "#------------------------------------------\n",
    "\n",
    "total = [[16,27], [39,100], [19,88], [61,20]]\n",
    "print(total[0][1])"
   ]
  },
  {
   "cell_type": "markdown",
   "id": "00016762",
   "metadata": {},
   "source": [
    "### 3개의 정수를 입력 받아 그 셋을 곱하고, 계산한 결과에서 0~9의 숫자가 몇 개씩 포함되어 있는지 출력하시오.\n",
    "입력 예)\\\n",
    "정수1 입력 : 150\\\n",
    "정수2 입력 : 266\\\n",
    "정수3 입력 : 427\\\n",
    "출력 예)\\\n",
    "150 X 266 X 427 = 17037300\\\n",
    "3 1 0 2 0 0 0 2 0 0"
   ]
  },
  {
   "cell_type": "code",
   "execution_count": 29,
   "id": "49245843",
   "metadata": {},
   "outputs": [
    {
     "name": "stdout",
     "output_type": "stream",
     "text": [
      "숫자를 총 3번 입력할 거예요! :10\n",
      "숫자를 총 3번 입력할 거예요! :20\n",
      "숫자를 총 3번 입력할 거예요! :30\n",
      "[10, 20, 30]\n",
      "6000\n"
     ]
    },
    {
     "ename": "AttributeError",
     "evalue": "'int' object has no attribute 'count'",
     "output_type": "error",
     "traceback": [
      "\u001b[1;31m---------------------------------------------------------------------------\u001b[0m",
      "\u001b[1;31mAttributeError\u001b[0m                            Traceback (most recent call last)",
      "\u001b[1;32m~\\AppData\\Local\\Temp/ipykernel_4680/3399371981.py\u001b[0m in \u001b[0;36m<module>\u001b[1;34m\u001b[0m\n\u001b[0;32m     11\u001b[0m \u001b[0mcnt\u001b[0m\u001b[1;33m=\u001b[0m\u001b[1;33m[\u001b[0m\u001b[1;33m]\u001b[0m\u001b[1;33m\u001b[0m\u001b[1;33m\u001b[0m\u001b[0m\n\u001b[0;32m     12\u001b[0m \u001b[1;32mfor\u001b[0m \u001b[0mj\u001b[0m \u001b[1;32min\u001b[0m \u001b[0mrange\u001b[0m\u001b[1;33m(\u001b[0m\u001b[1;36m0\u001b[0m\u001b[1;33m,\u001b[0m\u001b[1;36m10\u001b[0m\u001b[1;33m)\u001b[0m\u001b[1;33m:\u001b[0m\u001b[1;33m\u001b[0m\u001b[1;33m\u001b[0m\u001b[0m\n\u001b[1;32m---> 13\u001b[1;33m     \u001b[0mcnt\u001b[0m\u001b[1;33m.\u001b[0m\u001b[0mappend\u001b[0m\u001b[1;33m(\u001b[0m\u001b[0mxxx\u001b[0m\u001b[1;33m.\u001b[0m\u001b[0mcount\u001b[0m\u001b[1;33m(\u001b[0m\u001b[0mj\u001b[0m\u001b[1;33m)\u001b[0m\u001b[1;33m)\u001b[0m\u001b[1;33m\u001b[0m\u001b[1;33m\u001b[0m\u001b[0m\n\u001b[0m\u001b[0;32m     14\u001b[0m \u001b[0mprint\u001b[0m\u001b[1;33m(\u001b[0m\u001b[0mcnt\u001b[0m\u001b[1;33m)\u001b[0m\u001b[1;33m\u001b[0m\u001b[1;33m\u001b[0m\u001b[0m\n",
      "\u001b[1;31mAttributeError\u001b[0m: 'int' object has no attribute 'count'"
     ]
    }
   ],
   "source": [
    "three = []\n",
    "\n",
    "for i in range(0,3):\n",
    "    i=int(input(\"숫자를 총 3번 입력할 거예요! :\"))\n",
    "    three.append(i)\n",
    "print(three)\n",
    "\n",
    "xxx = three[0]*three[1]*three[2]\n",
    "print(str(xxx))\n",
    "\n",
    "cnt=[]\n",
    "for j in range(0,10):    \n",
    "    cnt.append(xxx.count(j))\n",
    "print(cnt)"
   ]
  },
  {
   "cell_type": "markdown",
   "id": "c1876994",
   "metadata": {},
   "source": [
    "### OXOX 점수 계산기\n",
    "\"OOXXOXXOOO\"와 같은 OX퀴즈의 결과가 있다. O는 문제를 맞은 것이고, X는 문제를 틀린 것이다.\\\n",
    "문제를 맞힌 경우 그 문제의 점수는 그 문제까지 연속된 O의 개수가 된다.\\\n",
    "예를 들어, 10번 문제의 점수는 3이 된다.\\\n",
    "\\\n",
    "\"OOXXOXXOOO\"의 점수는 1+2+0+0+1+0+0+1+2+3 = 10점이다.\\\n",
    "OX퀴즈의 결과가 주어졌을 때, 점수를 구하는 프로그램을 작성하시오.\\\n",
    "\\\n",
    "예시]\\\n",
    "OOXXOXXOOO  =>  10점\\\n",
    "OOXXOOXXOO  = >  9점\\\n",
    "OXOXOXOXOXOXOX => 7점\\\n",
    "OOOOOOOOOO  => 55점\\\n",
    "OOOOXOOOOXOOOOX   => 30점"
   ]
  },
  {
   "cell_type": "code",
   "execution_count": 101,
   "id": "95f3f8f7",
   "metadata": {
    "scrolled": true
   },
   "outputs": [
    {
     "name": "stdout",
     "output_type": "stream",
     "text": [
      "[1, 0, 0, 1, 1, 0, 1, 0, 1, 0]\n",
      "6\n"
     ]
    }
   ],
   "source": [
    "import random\n",
    "\n",
    "box = []\n",
    "for i in range(0,10):\n",
    "    i = random.randint(0,1)\n",
    "    box.append(i)\n",
    "\n",
    "# o = 1\n",
    "# x = 0\n",
    "\n",
    "print(box)\n",
    "\n",
    "cnt = 0\n",
    "total = 0\n",
    "jumsu = 0\n",
    "for k in range(0,10):\n",
    "    if box[cnt]==1:              # 맞으면\n",
    "        cnt += 1\n",
    "        jumsu += 1\n",
    "        total += jumsu           # 그냥 1이면 맞은 갯수고 여기에 j를 더하면 누적점수?\n",
    "    elif box[cnt]==0:            # 틀리면\n",
    "        cnt += 1\n",
    "        jumsu = 0\n",
    "print(total)"
   ]
  },
  {
   "cell_type": "code",
   "execution_count": 78,
   "id": "8e2c04fb",
   "metadata": {},
   "outputs": [
    {
     "name": "stdout",
     "output_type": "stream",
     "text": [
      "OX 입력 :OXOXOXOXOX\n",
      "5 점\n",
      "0101 총 10개 입력 :1010101010\n",
      "5 점\n"
     ]
    }
   ],
   "source": [
    "# 선생님 정답\n",
    "\n",
    "OX_str = input(\"OX 입력 :\")\n",
    "total = 0\n",
    "jumsu = 0\n",
    "for ch in OX_str :    \n",
    "    if ch==\"O\" :\n",
    "        jumsu +=1\n",
    "        total +=jumsu\n",
    "    elif ch=='X' :\n",
    "        jumsu = 0\n",
    "print(total, \"점\")\n",
    "\n",
    "OX = input(\"0101 총 10개 입력 :\")\n",
    "total = 0\n",
    "jumsu = 0\n",
    "for ch in OX :    \n",
    "    if ch==\"1\" :\n",
    "        jumsu +=1\n",
    "        total +=jumsu\n",
    "    elif ch=='0' :\n",
    "        jumsu = 0\n",
    "print(total, \"점\")"
   ]
  }
 ],
 "metadata": {
  "kernelspec": {
   "display_name": "Python 3 (ipykernel)",
   "language": "python",
   "name": "python3"
  },
  "language_info": {
   "codemirror_mode": {
    "name": "ipython",
    "version": 3
   },
   "file_extension": ".py",
   "mimetype": "text/x-python",
   "name": "python",
   "nbconvert_exporter": "python",
   "pygments_lexer": "ipython3",
   "version": "3.9.7"
  }
 },
 "nbformat": 4,
 "nbformat_minor": 5
}
