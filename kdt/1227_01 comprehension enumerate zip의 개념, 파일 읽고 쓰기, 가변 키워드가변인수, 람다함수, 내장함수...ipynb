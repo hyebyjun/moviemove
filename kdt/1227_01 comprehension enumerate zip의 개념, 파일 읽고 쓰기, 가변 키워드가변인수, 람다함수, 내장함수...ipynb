{
 "cells": [
  {
   "cell_type": "code",
   "execution_count": 1,
   "id": "39530c36",
   "metadata": {},
   "outputs": [
    {
     "name": "stdout",
     "output_type": "stream",
     "text": [
      "0\n",
      "1\n",
      "0\n",
      "1\n",
      "3\n",
      "4\n",
      "end\n"
     ]
    }
   ],
   "source": [
    "for num in range(5):\n",
    "    if(num==2):\n",
    "        break\n",
    "    print(num)\n",
    "else:\n",
    "    print(\"end\")            # for문에서 else는 중단 없이 for문이 정상종료일 때 수행됨.\n",
    "                            # 여긴 중간에 잘려서 end가 안 나옴.\n",
    "for num in range(5):\n",
    "    if(num==2):\n",
    "        continue\n",
    "    print(num)\n",
    "else:\n",
    "    print(\"end\")"
   ]
  },
  {
   "cell_type": "markdown",
   "id": "ada8ab96",
   "metadata": {},
   "source": [
    "### result comprehension으로 list 생성하는 방법들"
   ]
  },
  {
   "cell_type": "code",
   "execution_count": 2,
   "id": "43f312f0",
   "metadata": {
    "scrolled": true
   },
   "outputs": [
    {
     "name": "stdout",
     "output_type": "stream",
     "text": [
      "[0, 1, 2, 3, 4, 5, 6, 7, 8, 9]\n",
      "[1, 3, 5, 7, 9]\n",
      "[0, '홀수', 2, '홀수', 4, '홀수', 6, '홀수', 8, '홀수']\n"
     ]
    }
   ],
   "source": [
    "# 1번\n",
    "result1=[]\n",
    "for i in range(10):\n",
    "    result1.append(i)\n",
    "print(result1)\n",
    "\n",
    "# 2번\n",
    "result2=[i for i in range(10) if i%2==1]      # 뭔가 더 간략?하긴 함..\n",
    "print(result2)                   # 걍 공식처럼? for, if, 순서 외워야 함 else 쓸거면 아래처럼 써야됨\n",
    "\n",
    "# 3번\n",
    "result3=[i if i%2==0 else \"홀수\" for i in range(10)]\n",
    "print(result3)"
   ]
  },
  {
   "cell_type": "markdown",
   "id": "1f8e492f",
   "metadata": {},
   "source": [
    "### 이차원 리스트를 생성하는 list comprehension"
   ]
  },
  {
   "cell_type": "code",
   "execution_count": 3,
   "id": "7c35c6a0",
   "metadata": {},
   "outputs": [
    {
     "name": "stdout",
     "output_type": "stream",
     "text": [
      "['HW', 'Ho', 'Hr', 'Hl', 'Hd', 'eW', 'eo', 'er', 'el', 'ed', 'lW', 'lo', 'lr', 'll', 'ld', 'lW', 'lo', 'lr', 'll', 'ld', 'oW', 'oo', 'or', 'ol', 'od']\n",
      "['1a', '1b', '1c', '1d', '1e', '2a', '2b', '2c', '2d', '2e', '3a', '3b', '3c', '3d', '3e', '4a', '4b', '4c', '4d', '4e', '5a', '5b', '5c', '5d', '5e']\n",
      "['ad', 'ae', 'bd', 'be', 'ba', 'cd', 'ce', 'ca']\n"
     ]
    }
   ],
   "source": [
    "word_1=\"Hello\"\n",
    "word_2=\"World\"\n",
    "result1=[i+j for i in word_1 for j in word_2] # 오.. 행렬처럼.. 오옹..\n",
    "print(result1)\n",
    "\n",
    "word_1=\"12345\"\n",
    "word_2=\"abcde\"\n",
    "result2=[i+j for i in word_1 for j in word_2] # 좀더 잘 보이게\n",
    "print(result2)\n",
    "\n",
    "case_1=[\"a\",\"b\",\"c\"]\n",
    "case_2=[\"d\",\"e\",\"a\"]\n",
    "result3=[i+j for i in case_1 for j in case_2 if not(i==j)]\n",
    "print(result3)                                # 마지막은 (a,a)로 i==j라서 안나오쥬?"
   ]
  },
  {
   "cell_type": "code",
   "execution_count": 4,
   "id": "ab2ad08f",
   "metadata": {},
   "outputs": [
    {
     "name": "stdout",
     "output_type": "stream",
     "text": [
      "['Where', 'there', 'is', 'a', 'will', 'there', 'is', 'a', 'way']\n",
      "['WHERE', 'where', 5]\n",
      "['THERE', 'there', 5]\n",
      "['IS', 'is', 2]\n",
      "['A', 'a', 1]\n",
      "['WILL', 'will', 4]\n",
      "['THERE', 'there', 5]\n",
      "['IS', 'is', 2]\n",
      "['A', 'a', 1]\n",
      "['WAY', 'way', 3]\n"
     ]
    }
   ],
   "source": [
    "words=\"Where there is a will there is a way\".split()\n",
    "print(words)\n",
    "stuff=[[w.upper(), w.lower(), len(w)] for w in words]\n",
    "for i in stuff:\n",
    "    print(i)"
   ]
  },
  {
   "cell_type": "code",
   "execution_count": 5,
   "id": "9deec981",
   "metadata": {},
   "outputs": [
    {
     "name": "stdout",
     "output_type": "stream",
     "text": [
      "['ad', 'ae', 'aa', 'bd', 'be', 'ba', 'cd', 'ce', 'ca']\n"
     ]
    }
   ],
   "source": [
    "case_1=[\"a\", \"b\", \"c\"]\n",
    "case_2=[\"d\", \"e\", \"a\"]\n",
    "result=[i+j for i in case_1 for j in case_2]\n",
    "print(result)"
   ]
  },
  {
   "cell_type": "code",
   "execution_count": null,
   "id": "c0bb3572",
   "metadata": {},
   "outputs": [],
   "source": []
  },
  {
   "cell_type": "markdown",
   "id": "31c39070",
   "metadata": {},
   "source": [
    "### enumerate()는 리스트에서 데이터를 추출할 때 인덱스도 함께 리턴한다!"
   ]
  },
  {
   "cell_type": "code",
   "execution_count": 6,
   "id": "c7b2d089",
   "metadata": {
    "scrolled": true
   },
   "outputs": [
    {
     "name": "stdout",
     "output_type": "stream",
     "text": [
      "0 Courage\n",
      "1 is\n",
      "2 very\n",
      "3 important\n",
      "4 when\n",
      "5 i\n",
      "6 comes\n",
      "7 to\n",
      "8 anything\n",
      "{0: 'Courage', 1: 'is', 2: 'very', 3: 'important', 4: 'when', 5: 'i', 6: 'comes', 7: 'to', 8: 'anything'}\n",
      "{0: 'Courage', 1: 'is', 2: 'very', 3: 'important', 4: 'when', 5: 'i', 6: 'comes', 7: 'to', 8: 'anything'}\n"
     ]
    }
   ],
   "source": [
    "words=\"Courage is very important when i comes to anything\".split()\n",
    "for i, v in enumerate(words):\n",
    "    print(i, v)\n",
    "    \n",
    "result1={i:j for i,j in enumerate(\"Courage is very important when i comes to anything\".split())}\n",
    "print(result1)\n",
    "\n",
    "result2={i:j for i,j in enumerate(words)}\n",
    "print(result2)"
   ]
  },
  {
   "cell_type": "markdown",
   "id": "5f7c7529",
   "metadata": {},
   "source": [
    "###  zip, enumerate 등 어떤 식으로 출력되는지 익혀두기 / 이게 어떻게 이렇게 나오는지 손으로 눈으로 따져보기"
   ]
  },
  {
   "cell_type": "code",
   "execution_count": 7,
   "id": "a863a146",
   "metadata": {},
   "outputs": [
    {
     "name": "stdout",
     "output_type": "stream",
     "text": [
      "(1, 10, 100) (2, 20, 200) (3, 30, 300)\n",
      "[111, 222, 333]\n",
      "0 a1 b1\n",
      "1 a2 b2\n",
      "2 a3 b3\n",
      "[[0, 'a1', 'b1'], [1, 'a2', 'b2'], [2, 'a3', 'b3']]\n"
     ]
    }
   ],
   "source": [
    "a, b, c = zip((1,2,3), (10, 20, 30), (100, 200, 300))\n",
    "print(a, b, c)\n",
    "\n",
    "result1 = [sum(x) for x in zip((1,2,3), (10, 20, 30), (100, 200, 300))]\n",
    "print(result1)\n",
    "\n",
    "alist = ['a1', 'a2', 'a3']\n",
    "blist = ['b1', 'b2', 'b3']\n",
    "\n",
    "for i, (a, b) in enumerate(zip(alist, blist)) :\n",
    "    print(i, a, b)\n",
    "    \n",
    "result2 = [[i, a, b] for i, (a, b) in enumerate(zip(alist, blist))] # zip은 인덱스가 같은 요소를 뽑아준다\n",
    "print(result2)"
   ]
  },
  {
   "cell_type": "code",
   "execution_count": 8,
   "id": "359cb895",
   "metadata": {},
   "outputs": [],
   "source": [
    "f = open('myFile.txt', 'w')\n",
    "f.write('this is my first file')\n",
    "f.close()"
   ]
  },
  {
   "cell_type": "code",
   "execution_count": 9,
   "id": "8e4e0d93",
   "metadata": {},
   "outputs": [],
   "source": [
    "f = open('myFile.txt', 'w')            # replace 개념에 가까움\n",
    "f.write('Courage is very important when i comes to anything')\n",
    "f.close()"
   ]
  },
  {
   "cell_type": "code",
   "execution_count": 10,
   "id": "d0013aac",
   "metadata": {},
   "outputs": [],
   "source": [
    "f = open('myFile.txt', 'a')            # append로 문장이 추가됐음\n",
    "f.write('Where there is a will there is a way')\n",
    "f.close()"
   ]
  },
  {
   "cell_type": "code",
   "execution_count": 11,
   "id": "88ec9682",
   "metadata": {},
   "outputs": [
    {
     "name": "stdout",
     "output_type": "stream",
     "text": [
      "<class '_io.TextIOWrapper'>\n",
      "<class 'list'>\n",
      "['Courage is very important when i comes to anythingWhere there is a will there is a way']\n"
     ]
    }
   ],
   "source": [
    "f = open('myFile.txt', 'r')\n",
    "print(type(f))\n",
    "contents = f.readlines()               # 파일의 내용을 라인 단위로 데이터 요소로 저장 후 리스트로 리턴\n",
    "print(type(contents))\n",
    "print(contents)\n",
    "f.close()"
   ]
  },
  {
   "cell_type": "code",
   "execution_count": 12,
   "id": "063dec38",
   "metadata": {},
   "outputs": [
    {
     "name": "stdout",
     "output_type": "stream",
     "text": [
      "<class '_io.TextIOWrapper'>\n",
      "<class 'str'>\n",
      "Courage is very important when i comes to anythingWhere there is a will there is a way\n"
     ]
    }
   ],
   "source": [
    "f = open('myFile.txt', 'r')\n",
    "print(type(f))\n",
    "contents = f.read()                    # 파일의 내용을 하나의 문자열로 리턴\n",
    "print(type(contents))\n",
    "print(contents)\n",
    "f.close()"
   ]
  },
  {
   "cell_type": "code",
   "execution_count": 13,
   "id": "69e402fe",
   "metadata": {},
   "outputs": [
    {
     "name": "stdout",
     "output_type": "stream",
     "text": [
      "<class '_io.TextIOWrapper'>\n",
      "Courage is very important when i comes to anythingWhere there is a will there is a way\n"
     ]
    }
   ],
   "source": [
    "f = open('myFile.txt', 'r')\n",
    "print(type(f))\n",
    "line = f.readline()                    # 파일의 내용을 문장(라인) 단위로 하나씩 읽어 반환함\n",
    "while line :\n",
    "    print(line)\n",
    "    line = f.readline()\n",
    "f.close()"
   ]
  },
  {
   "cell_type": "markdown",
   "id": "259a655b",
   "metadata": {},
   "source": [
    "### 함수 정의하기!!"
   ]
  },
  {
   "cell_type": "code",
   "execution_count": 14,
   "id": "38841131",
   "metadata": {
    "scrolled": true
   },
   "outputs": [
    {
     "name": "stdout",
     "output_type": "stream",
     "text": [
      "7\n",
      "12\n",
      "0\n",
      "3\n"
     ]
    }
   ],
   "source": [
    "def calc(a, b, operator) :\n",
    "    # result = 0\n",
    "    if operator == \"+\" :\n",
    "        result = a+b\n",
    "    elif operator == \"*\" :\n",
    "        result = a*b\n",
    "    elif operator == \"//\" :\n",
    "        result = a//b\n",
    "    elif operator == \"%\" :\n",
    "        result = a%b\n",
    "    return result\n",
    "\n",
    "print(calc(3, 4, \"+\"))\n",
    "print(calc(3, 4, \"*\"))\n",
    "print(calc(3, 4, \"//\"))\n",
    "print(calc(3, 4, \"%\"))"
   ]
  },
  {
   "cell_type": "markdown",
   "id": "2ad8499e",
   "metadata": {},
   "source": [
    "함수로 만들고 호출해서 결과 출력 :\\\n",
    "두 개의 음이 아닌 정수를 입력받아 큰 수의 제곱에서 작은 수의 제곱을 뺀 결과값을 반환하는 함수"
   ]
  },
  {
   "cell_type": "code",
   "execution_count": 1,
   "id": "ddea5a54",
   "metadata": {},
   "outputs": [
    {
     "name": "stdout",
     "output_type": "stream",
     "text": [
      "4 7\n",
      "33\n"
     ]
    }
   ],
   "source": [
    "x, y = map(int,input().split())                # map의 기능 한 번 더 익혀두기!\n",
    "\n",
    "def jegop(x, y) :\n",
    "    if x > y :\n",
    "        result = x**2-y**2\n",
    "    elif x < y :\n",
    "        result = y**2-x**2\n",
    "    return result\n",
    "\n",
    "print(jegop(x, y))"
   ]
  },
  {
   "cell_type": "code",
   "execution_count": 2,
   "id": "ca3c75f7",
   "metadata": {},
   "outputs": [
    {
     "name": "stdout",
     "output_type": "stream",
     "text": [
      "19\n"
     ]
    }
   ],
   "source": [
    "print(jegop(10, 9))"
   ]
  },
  {
   "cell_type": "code",
   "execution_count": 3,
   "id": "ce1955e4",
   "metadata": {
    "scrolled": true
   },
   "outputs": [
    {
     "name": "stdout",
     "output_type": "stream",
     "text": [
      "엄상백 선수는 KT 소속입니다.\n",
      "양의지 선수는 NC 소속입니다.\n",
      "이정후 선수는 키움 소속입니다.\n",
      "이용규 선수는 키움 소속입니다.\n"
     ]
    }
   ],
   "source": [
    "def something(name, team=\"KT\") :              # 기본값을 가지는 매개변수\n",
    "    print(\"{0} 선수는 {1} 소속입니다.\".format(name, team))\n",
    "\n",
    "something(\"엄상백\")\n",
    "something(\"양의지\", \"NC\")\n",
    "something(team=\"키움\", name=\"이정후\")\n",
    "something(\"이용규\", \"키움\")"
   ]
  },
  {
   "cell_type": "markdown",
   "id": "c6012903",
   "metadata": {},
   "source": [
    "### 가변인수는 * 별표 달아줘야 됨.. 걍 그런 줄 알자.."
   ]
  },
  {
   "cell_type": "code",
   "execution_count": 1,
   "id": "581f539e",
   "metadata": {
    "scrolled": true
   },
   "outputs": [
    {
     "name": "stdout",
     "output_type": "stream",
     "text": [
      "15\n",
      "3\n"
     ]
    },
    {
     "ename": "TypeError",
     "evalue": "unsupported operand type(s) for +: 'int' and 'list'",
     "output_type": "error",
     "traceback": [
      "\u001b[1;31m---------------------------------------------------------------------------\u001b[0m",
      "\u001b[1;31mTypeError\u001b[0m                                 Traceback (most recent call last)",
      "\u001b[1;32m~\\AppData\\Local\\Temp/ipykernel_10748/4159233461.py\u001b[0m in \u001b[0;36m<module>\u001b[1;34m\u001b[0m\n\u001b[0;32m      6\u001b[0m \u001b[0mprint\u001b[0m\u001b[1;33m(\u001b[0m\u001b[0masterisk_test\u001b[0m\u001b[1;33m(\u001b[0m\u001b[1;36m1\u001b[0m\u001b[1;33m,\u001b[0m \u001b[1;36m2\u001b[0m\u001b[1;33m,\u001b[0m \u001b[1;36m3\u001b[0m\u001b[1;33m,\u001b[0m \u001b[1;36m4\u001b[0m\u001b[1;33m,\u001b[0m \u001b[1;36m5\u001b[0m\u001b[1;33m)\u001b[0m\u001b[1;33m)\u001b[0m\u001b[1;33m\u001b[0m\u001b[1;33m\u001b[0m\u001b[0m\n\u001b[0;32m      7\u001b[0m \u001b[0mprint\u001b[0m\u001b[1;33m(\u001b[0m\u001b[0masterisk_test\u001b[0m\u001b[1;33m(\u001b[0m\u001b[1;36m1\u001b[0m\u001b[1;33m,\u001b[0m \u001b[1;36m2\u001b[0m\u001b[1;33m)\u001b[0m\u001b[1;33m)\u001b[0m\u001b[1;33m\u001b[0m\u001b[1;33m\u001b[0m\u001b[0m\n\u001b[1;32m----> 8\u001b[1;33m \u001b[0mprint\u001b[0m\u001b[1;33m(\u001b[0m\u001b[0masterisk_test\u001b[0m\u001b[1;33m(\u001b[0m\u001b[1;36m1\u001b[0m\u001b[1;33m,\u001b[0m \u001b[1;36m2\u001b[0m\u001b[1;33m,\u001b[0m \u001b[1;33m[\u001b[0m\u001b[1;36m1\u001b[0m\u001b[1;33m,\u001b[0m \u001b[1;36m2\u001b[0m\u001b[1;33m,\u001b[0m \u001b[1;36m3\u001b[0m\u001b[1;33m,\u001b[0m \u001b[1;36m4\u001b[0m\u001b[1;33m,\u001b[0m \u001b[1;36m5\u001b[0m\u001b[1;33m]\u001b[0m\u001b[1;33m)\u001b[0m\u001b[1;33m)\u001b[0m \u001b[1;31m# 집합객체는 가변인수로 전달할 때 언패킹해서 전달해야 됨\u001b[0m\u001b[1;33m\u001b[0m\u001b[1;33m\u001b[0m\u001b[0m\n\u001b[0m",
      "\u001b[1;32m~\\AppData\\Local\\Temp/ipykernel_10748/4159233461.py\u001b[0m in \u001b[0;36masterisk_test\u001b[1;34m(a, b, *args)\u001b[0m\n\u001b[0;32m      2\u001b[0m     \u001b[1;31m# 함수의 매개변수가 정해지지 않은 경우, 가변 인수를 사용하여 함수를 정의합니다.\u001b[0m\u001b[1;33m\u001b[0m\u001b[1;33m\u001b[0m\u001b[0m\n\u001b[0;32m      3\u001b[0m     \u001b[1;31m# 가변인수를 가지는 함수를 호출할 때, 가변인수는 0 or more로 전달할 수 있습니다.\u001b[0m\u001b[1;33m\u001b[0m\u001b[1;33m\u001b[0m\u001b[0m\n\u001b[1;32m----> 4\u001b[1;33m     \u001b[1;32mreturn\u001b[0m \u001b[0ma\u001b[0m\u001b[1;33m+\u001b[0m\u001b[0mb\u001b[0m\u001b[1;33m+\u001b[0m\u001b[0msum\u001b[0m\u001b[1;33m(\u001b[0m\u001b[0margs\u001b[0m\u001b[1;33m)\u001b[0m\u001b[1;33m\u001b[0m\u001b[1;33m\u001b[0m\u001b[0m\n\u001b[0m\u001b[0;32m      5\u001b[0m \u001b[1;33m\u001b[0m\u001b[0m\n\u001b[0;32m      6\u001b[0m \u001b[0mprint\u001b[0m\u001b[1;33m(\u001b[0m\u001b[0masterisk_test\u001b[0m\u001b[1;33m(\u001b[0m\u001b[1;36m1\u001b[0m\u001b[1;33m,\u001b[0m \u001b[1;36m2\u001b[0m\u001b[1;33m,\u001b[0m \u001b[1;36m3\u001b[0m\u001b[1;33m,\u001b[0m \u001b[1;36m4\u001b[0m\u001b[1;33m,\u001b[0m \u001b[1;36m5\u001b[0m\u001b[1;33m)\u001b[0m\u001b[1;33m)\u001b[0m\u001b[1;33m\u001b[0m\u001b[1;33m\u001b[0m\u001b[0m\n",
      "\u001b[1;31mTypeError\u001b[0m: unsupported operand type(s) for +: 'int' and 'list'"
     ]
    }
   ],
   "source": [
    "def asterisk_test(a, b, *args) :\n",
    "    # 함수의 매개변수가 정해지지 않은 경우, 가변 인수를 사용하여 함수를 정의합니다.\n",
    "    # 가변인수를 가지는 함수를 호출할 때, 가변인수는 0 or more로 전달할 수 있습니다.\n",
    "    return a+b+sum(args)\n",
    "\n",
    "print(asterisk_test(1, 2, 3, 4, 5))\n",
    "print(asterisk_test(1, 2))\n",
    "print(asterisk_test(1, 2, [1, 2, 3, 4, 5])) # 집합객체는 가변인수로 전달할 때 언패킹해서 전달해야 됨"
   ]
  },
  {
   "cell_type": "markdown",
   "id": "5648c630",
   "metadata": {},
   "source": [
    "### 키워드 가변인수는 ** 별 두개 단다.."
   ]
  },
  {
   "cell_type": "code",
   "execution_count": 5,
   "id": "6394468a",
   "metadata": {},
   "outputs": [
    {
     "name": "stdout",
     "output_type": "stream",
     "text": [
      "{'first': 3, 'second': 4, 'third': 5}\n",
      "<class 'dict'>\n",
      "3\n",
      "{'apple': 300, 'orange': 200, 'banana': 100, 'melon': 500, 'peach': 700}\n",
      "<class 'dict'>\n",
      "5\n"
     ]
    }
   ],
   "source": [
    "def kwargs_test(**kwargs) :\n",
    "    print(kwargs)\n",
    "    print(type(kwargs))\n",
    "    print(len(kwargs))\n",
    "    \n",
    "kwargs_test(first=3, second=4, third=5)\n",
    "kwargs_test(apple=300, orange=200, banana=100, melon=500, peach=700)"
   ]
  },
  {
   "cell_type": "code",
   "execution_count": 6,
   "id": "abec7218",
   "metadata": {},
   "outputs": [
    {
     "name": "stdout",
     "output_type": "stream",
     "text": [
      "first price is 3\n",
      "second price is 4\n",
      "third price is 5\n",
      "apple price is 300\n",
      "orange price is 200\n",
      "banana price is 100\n",
      "melon price is 500\n",
      "peach price is 700\n"
     ]
    }
   ],
   "source": [
    "def kwargs_test(**kwargs) :\n",
    "    for k,v in kwargs.items() :\n",
    "        print(k,\"price is\", v)\n",
    "\n",
    "kwargs_test(first=3, second=4, third=5)\n",
    "kwargs_test(apple=300, orange=200, banana=100, melon=500, peach=700)"
   ]
  },
  {
   "cell_type": "code",
   "execution_count": null,
   "id": "4aa5337c",
   "metadata": {},
   "outputs": [],
   "source": [
    "def function_test(*a, b, c) :\n",
    "    pass\n",
    "\n",
    "function_test(1, 2, 3, 4, 5)"
   ]
  },
  {
   "cell_type": "code",
   "execution_count": null,
   "id": "0adaaccb",
   "metadata": {},
   "outputs": [],
   "source": [
    "def function_test(a, *b, c) :\n",
    "    pass\n",
    "\n",
    "function_test(1, 2, 3, 4, 5)"
   ]
  },
  {
   "cell_type": "code",
   "execution_count": 9,
   "id": "98545c85",
   "metadata": {},
   "outputs": [],
   "source": [
    "def function_test(a, b, *c) :\n",
    "    pass\n",
    "\n",
    "function_test(1, 2, 3, 4, 5)"
   ]
  },
  {
   "cell_type": "markdown",
   "id": "d0bc563c",
   "metadata": {},
   "source": [
    "이로써 가변인수는 (a, b, c, d, ..., z) 마지막에 와야한다는 것을 알 수 있다."
   ]
  },
  {
   "cell_type": "code",
   "execution_count": 10,
   "id": "f487882e",
   "metadata": {},
   "outputs": [
    {
     "ename": "SyntaxError",
     "evalue": "invalid syntax (Temp/ipykernel_7572/3320842143.py, line 6)",
     "output_type": "error",
     "traceback": [
      "\u001b[1;36m  File \u001b[1;32m\"C:\\Users\\B-23\\AppData\\Local\\Temp/ipykernel_7572/3320842143.py\"\u001b[1;36m, line \u001b[1;32m6\u001b[0m\n\u001b[1;33m    def function_test(**kwargs, b, c, *a) :\u001b[0m\n\u001b[1;37m                                ^\u001b[0m\n\u001b[1;31mSyntaxError\u001b[0m\u001b[1;31m:\u001b[0m invalid syntax\n"
     ]
    }
   ],
   "source": [
    "def function_test(c, b, *a) :\n",
    "    pass\n",
    "\n",
    "function_test(1, 2, 3, 4, 5)\n",
    "\n",
    "def function_test(**kwargs, b, c, *a) :\n",
    "    pass\n",
    "\n",
    "function_test(one=1, two=2, 3, 4, 5)"
   ]
  },
  {
   "cell_type": "code",
   "execution_count": 11,
   "id": "8e14ed70",
   "metadata": {},
   "outputs": [],
   "source": [
    "def function_test(c, b, *a) :\n",
    "    pass\n",
    "\n",
    "function_test(1, 2, 3, 4, 5)\n",
    "\n",
    "def function_test(b, c, *a, **kwargs) :\n",
    "    pass\n",
    "\n",
    "function_test(1, 2, 3, 4, five=5, six=6, seven=7)"
   ]
  },
  {
   "cell_type": "markdown",
   "id": "75498e6a",
   "metadata": {},
   "source": [
    "키워드 가변인수는 함수 선언 시에 반드시 \"마지막\"에 선언해야 합니다."
   ]
  },
  {
   "cell_type": "markdown",
   "id": "9baac4e0",
   "metadata": {},
   "source": [
    "## 람다식, 람다함수란??"
   ]
  },
  {
   "cell_type": "code",
   "execution_count": 6,
   "id": "9123b502",
   "metadata": {},
   "outputs": [
    {
     "data": {
      "text/plain": [
       "4"
      ]
     },
     "execution_count": 6,
     "metadata": {},
     "output_type": "execute_result"
    }
   ],
   "source": [
    "def f(x, y) :\n",
    "    return x+y\n",
    "\n",
    "print(f(1, 3))"
   ]
  },
  {
   "cell_type": "code",
   "execution_count": 13,
   "id": "3fe28bb8",
   "metadata": {},
   "outputs": [
    {
     "name": "stdout",
     "output_type": "stream",
     "text": [
      "4\n",
      "6\n"
     ]
    }
   ],
   "source": [
    "f = lambda x, y : x+y\n",
    "print(f(1, 3))\n",
    "\n",
    "print((lambda x:x+1)(5)) # ????"
   ]
  },
  {
   "cell_type": "code",
   "execution_count": 14,
   "id": "b93e46bd",
   "metadata": {},
   "outputs": [
    {
     "name": "stdout",
     "output_type": "stream",
     "text": [
      "True\n",
      "False\n",
      "True\n",
      "False\n"
     ]
    }
   ],
   "source": [
    "k = [1, 3, 5, 7]\n",
    "print(all(k))\n",
    "\n",
    "k = [1, 3, 5, 0]\n",
    "print(all(k))\n",
    "\n",
    "k = [0, \"\", False, 5]\n",
    "print(any(k))\n",
    "\n",
    "k = [0, \"\", False, ()]\n",
    "print(any(k))"
   ]
  },
  {
   "cell_type": "code",
   "execution_count": 16,
   "id": "58def2f3",
   "metadata": {},
   "outputs": [
    {
     "name": "stdout",
     "output_type": "stream",
     "text": [
      "'I am \\ub300\\ud55c Korean'\n",
      "<class 'str'>\n"
     ]
    }
   ],
   "source": [
    "print(ascii('I am 대한 Korean'))"
   ]
  },
  {
   "cell_type": "code",
   "execution_count": 19,
   "id": "1887bdcf",
   "metadata": {},
   "outputs": [
    {
     "name": "stdout",
     "output_type": "stream",
     "text": [
      "b'Python is fun'\n",
      "b'\\xed\\x8c\\x8c\\xec\\x9d\\xb4\\xec\\x8d\\xac\\xec\\x9d\\x80 \\xec\\xa0\\x81\\xed\\x8f\\x90\\xeb\\x8b\\xa4.'\n"
     ]
    }
   ],
   "source": [
    "message = \"Python is fun\"\n",
    "byte_message = bytes(message, 'utf-8')\n",
    "print(byte_message)\n",
    "\n",
    "message = \"파이썬은 적폐다.\"\n",
    "byte_message = bytes(message, 'utf-8')\n",
    "print(byte_message)"
   ]
  },
  {
   "cell_type": "markdown",
   "id": "75d075a1",
   "metadata": {},
   "source": [
    "### 내장함수 : chr, divmod, eval"
   ]
  },
  {
   "cell_type": "code",
   "execution_count": 24,
   "id": "7546c9af",
   "metadata": {},
   "outputs": [
    {
     "name": "stdout",
     "output_type": "stream",
     "text": [
      "a\n",
      "(2, 2)\n",
      "(2.0, 2.0)\n",
      "number*number\n",
      "81\n"
     ]
    }
   ],
   "source": [
    "print(chr(97))\n",
    "\n",
    "print(divmod(8, 3))\n",
    "print(divmod(8.0, 3))\n",
    "\n",
    "number = 9\n",
    "print('number*number')\n",
    "square_number = eval('number*number')\n",
    "print(square_number)"
   ]
  },
  {
   "cell_type": "code",
   "execution_count": null,
   "id": "de0a9c15",
   "metadata": {},
   "outputs": [],
   "source": []
  }
 ],
 "metadata": {
  "kernelspec": {
   "display_name": "Python 3 (ipykernel)",
   "language": "python",
   "name": "python3"
  },
  "language_info": {
   "codemirror_mode": {
    "name": "ipython",
    "version": 3
   },
   "file_extension": ".py",
   "mimetype": "text/x-python",
   "name": "python",
   "nbconvert_exporter": "python",
   "pygments_lexer": "ipython3",
   "version": "3.9.7"
  }
 },
 "nbformat": 4,
 "nbformat_minor": 5
}
