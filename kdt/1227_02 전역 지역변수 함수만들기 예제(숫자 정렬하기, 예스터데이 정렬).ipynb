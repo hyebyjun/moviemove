{
 "cells": [
  {
   "cell_type": "code",
   "execution_count": 1,
   "id": "e1a02e86",
   "metadata": {
    "scrolled": true
   },
   "outputs": [
    {
     "name": "stdout",
     "output_type": "stream",
     "text": [
      "5\n",
      "0\n",
      "0\n"
     ]
    },
    {
     "ename": "NameError",
     "evalue": "name 'local' is not defined",
     "output_type": "error",
     "traceback": [
      "\u001b[1;31m---------------------------------------------------------------------------\u001b[0m",
      "\u001b[1;31mNameError\u001b[0m                                 Traceback (most recent call last)",
      "\u001b[1;32m~\\AppData\\Local\\Temp/ipykernel_1452/1461347759.py\u001b[0m in \u001b[0;36m<module>\u001b[1;34m\u001b[0m\n\u001b[0;32m     16\u001b[0m \u001b[1;33m\u001b[0m\u001b[0m\n\u001b[0;32m     17\u001b[0m \u001b[0mfunc\u001b[0m\u001b[1;33m(\u001b[0m\u001b[1;33m)\u001b[0m\u001b[1;33m\u001b[0m\u001b[1;33m\u001b[0m\u001b[0m\n\u001b[1;32m---> 18\u001b[1;33m \u001b[0mprint\u001b[0m\u001b[1;33m(\u001b[0m\u001b[0mlocal\u001b[0m\u001b[1;33m)\u001b[0m\u001b[1;33m\u001b[0m\u001b[1;33m\u001b[0m\u001b[0m\n\u001b[0m\u001b[0;32m     19\u001b[0m \u001b[1;33m\u001b[0m\u001b[0m\n\u001b[0;32m     20\u001b[0m \u001b[1;33m\u001b[0m\u001b[0m\n",
      "\u001b[1;31mNameError\u001b[0m: name 'local' is not defined"
     ]
    }
   ],
   "source": [
    "a = 5 #전역변수\n",
    "def func() :\n",
    "    print(a)\n",
    "    \n",
    "func()\n",
    "\n",
    "def func() :\n",
    "    a = 0\n",
    "    print(a)\n",
    "    \n",
    "func()\n",
    "\n",
    "def func() :\n",
    "    local = 0\n",
    "    print(local)\n",
    "    \n",
    "func()\n",
    "print(local)\n",
    "\n",
    "\n",
    "#안에 변수 값이 없으면 밖으로 나가서 잡아오는데(밖이 보이는데) ex.전역변수\n",
    "#밖에 변수값이 필요한데 없는 걸 안에 들어가서 집어오진 못함 ex. local 출력 안 됨"
   ]
  },
  {
   "cell_type": "code",
   "execution_count": 2,
   "id": "7220c257",
   "metadata": {},
   "outputs": [
    {
     "name": "stdout",
     "output_type": "stream",
     "text": [
      "25\n"
     ]
    }
   ],
   "source": [
    "a = 5\n",
    "def func() :\n",
    "    global a\n",
    "    a *= 5 #a = a+5 는 연산 전에 a 변수를 선언하고 초기값이 할당되어야 함\n",
    "    print(a)\n",
    "\n",
    "func()"
   ]
  },
  {
   "cell_type": "markdown",
   "id": "d0038154",
   "metadata": {},
   "source": [
    "### 인자는 있으나 반환값이 없는 함수"
   ]
  },
  {
   "cell_type": "code",
   "execution_count": 8,
   "id": "52ea42fc",
   "metadata": {},
   "outputs": [],
   "source": [
    "def my_student_info(name, school_id, phoneNumber) :\n",
    "    print(\"------------------------\")\n",
    "    print(\"- 학생이름 :\", name)\n",
    "    print(\"- 학급번호 :\", school_id)\n",
    "    print(\"- 전화번호 :\", phoneNumber)"
   ]
  },
  {
   "cell_type": "code",
   "execution_count": 9,
   "id": "e6ca4025",
   "metadata": {},
   "outputs": [
    {
     "name": "stdout",
     "output_type": "stream",
     "text": [
      "------------------------\n",
      "- 학생이름 : 현아\n",
      "- 학급번호 : 01\n",
      "- 전화번호 : 01-123-3453\n",
      "------------------------\n",
      "- 학생이름 : 지현\n",
      "- 학급번호 : 02\n",
      "- 전화번호 : 02-123-3453\n"
     ]
    }
   ],
   "source": [
    "my_student_info(\"현아\",\"01\",\"01-123-3453\")\n",
    "my_student_info(\"지현\",\"02\",\"02-123-3453\")"
   ]
  },
  {
   "cell_type": "markdown",
   "id": "1e4cbd42",
   "metadata": {},
   "source": [
    "### 인자도 있고 반환값도 있는 함수"
   ]
  },
  {
   "cell_type": "code",
   "execution_count": 10,
   "id": "2e0ec592",
   "metadata": {},
   "outputs": [],
   "source": [
    "def calc(x, y) :\n",
    "    z = x*y\n",
    "    return z"
   ]
  },
  {
   "cell_type": "code",
   "execution_count": 11,
   "id": "2bfa30ea",
   "metadata": {},
   "outputs": [
    {
     "data": {
      "text/plain": [
       "500"
      ]
     },
     "execution_count": 11,
     "metadata": {},
     "output_type": "execute_result"
    }
   ],
   "source": [
    "calc(100, 5)"
   ]
  },
  {
   "cell_type": "code",
   "execution_count": 9,
   "id": "4e86d7d5",
   "metadata": {},
   "outputs": [
    {
     "name": "stdout",
     "output_type": "stream",
     "text": [
      "<class 'str'>\n",
      "에스프레소 플랫화이트 아이스드롱블랙\n",
      "<class 'list'>\n",
      "['에스프레소', '플랫화이트', '아이스드롱블랙']\n"
     ]
    }
   ],
   "source": [
    "menu = \"에스프레소 플랫화이트 아이스드롱블랙\"\n",
    "menu.split()\n",
    "print(type(menu))\n",
    "print(menu)\n",
    "print(type(menu.split()))\n",
    "print(menu.split())"
   ]
  },
  {
   "cell_type": "markdown",
   "id": "6caf213d",
   "metadata": {},
   "source": [
    "### 함수 연습문제 1\n",
    "정수 N을 입력받고 다시 N개의 정수를 입력받아 내림차순으로 정렬하여 출력하는 함수를 만드시오.\\\n",
    "입력 예] 입력받을 정수 개수 : 5\\\n",
    "            정수 입력 : 12 35 1 48 9\\\n",
    "출력 예] 78 35 12 9 1"
   ]
  },
  {
   "cell_type": "code",
   "execution_count": 2,
   "id": "0433ec65",
   "metadata": {
    "scrolled": true
   },
   "outputs": [
    {
     "name": "stdout",
     "output_type": "stream",
     "text": [
      "몇 개의 수를 정렬하실 건가요? :4\n",
      "[85, 84, 76, 3]\n"
     ]
    }
   ],
   "source": [
    "# 난수 버전 : 혜정\n",
    "\n",
    "number = int(input(\"몇 개의 수를 정렬하실 건가요? :\"))\n",
    "\n",
    "from random import*\n",
    "\n",
    "num = set()\n",
    "while 1 :\n",
    "    num.add(randint(1,100)) #범위 지정의 한계..ㅎ\n",
    "    if len(num)==number:\n",
    "        break\n",
    "\n",
    "num_list=list(num)\n",
    "num_list.sort(reverse=True)\n",
    "print(num_list)"
   ]
  },
  {
   "cell_type": "code",
   "execution_count": 4,
   "id": "d4db6c56",
   "metadata": {},
   "outputs": [
    {
     "name": "stdout",
     "output_type": "stream",
     "text": [
      "입력받을 정수 개수 :5\n",
      " 정수 입력 :76\n",
      " 정수 입력 :23\n",
      " 정수 입력 :1\n",
      " 정수 입력 :2\n",
      " 정수 입력 :5\n",
      "[76, 23, 5, 2, 1]\n"
     ]
    }
   ],
   "source": [
    "# 선생님 답\n",
    "# 1단계 : input함수로 정수를 입력받고\n",
    "# 2단계 : 입력받은 정수로 함수로 호출하면 인수로 전달\n",
    "# 3단계 : 호출된 함수에서는 입력받은 정수만큼 반복수행해서 정수를 입력받고\n",
    "        # 리스트에 저장하고  , sort() 또는  sorted() 함수를 이용해서 내림차순 정렬하고 출력\n",
    "\n",
    "cnt = int(input(\"입력받을 정수 개수 :\"))\n",
    "\n",
    "def func(nums) : #함수 정의\n",
    "    lst = [] \n",
    "    for i in range(nums) :\n",
    "        lst.append(int(input(\" 정수 입력 :\")))\n",
    "    \n",
    "    sorted_lst = sorted(lst, reverse=True)\n",
    "    print(sorted_lst)\n",
    "    \n",
    "\n",
    "func(cnt)  #함수 호출/실행"
   ]
  },
  {
   "cell_type": "markdown",
   "id": "fbc3f771",
   "metadata": {},
   "source": [
    "### 함수 연습문제 2\n",
    "yesterday.txt 파일을 읽어서  문장 개수와 단어 개수를 출력하는 함수를 정의하시오.\\\n",
    "함수를 실행시켜서 결과를 출력하시오."
   ]
  },
  {
   "cell_type": "code",
   "execution_count": 24,
   "id": "aa3dd002",
   "metadata": {},
   "outputs": [
    {
     "name": "stdout",
     "output_type": "stream",
     "text": [
      "단어의 개수는 126 개입니다.\n",
      "문장의 개수는 24 개입니다.\n"
     ]
    }
   ],
   "source": [
    "f=open(\"yesterday.txt\",'r')\n",
    "yesterday=f.read()\n",
    "f.close()\n",
    "\n",
    "words=yesterday.split()\n",
    "phrase=yesterday.splitlines()\n",
    "\n",
    "print(\"단어의 개수는\",len(words),\"개입니다.\")\n",
    "print(\"문장의 개수는\",len(phrase),\"개입니다.\")"
   ]
  },
  {
   "cell_type": "code",
   "execution_count": 5,
   "id": "8f68dba1",
   "metadata": {},
   "outputs": [
    {
     "name": "stdout",
     "output_type": "stream",
     "text": [
      "문장 개수 :  24\n",
      "단어  개수 :  126\n"
     ]
    }
   ],
   "source": [
    "# 선생님 답\n",
    "\n",
    "def sentences_words_count() :\n",
    "    f = open('yesterday.txt', 'r')\n",
    "    sentences = f.readlines()\n",
    "    print(\"문장 개수 : \", len(sentences))\n",
    "    word_count = 0\n",
    "    for sentence in sentences :\n",
    "        word_count += len(sentence.split())\n",
    "    print(\"단어  개수 : \", word_count)\n",
    "    \n",
    "sentences_words_count() "
   ]
  },
  {
   "cell_type": "markdown",
   "id": "b0702c1d",
   "metadata": {},
   "source": [
    "### 함수 연습문제 3\n",
    "5개의 정수를 입력받아 각 정수의 절대값의 합을 출력하는 함수를 정의하고 함수를 실행시켜서 결과를 출력하시오.\\\n",
    "입력 예] 35, 20, 10, 0, 55\\\n",
    "출력 예] 120"
   ]
  },
  {
   "cell_type": "markdown",
   "id": "f963ab12",
   "metadata": {},
   "source": [
    "1. 5개의 정수 입력받기. > (리스트화?) > 절대값으로 변환하기 > 그것들의 합"
   ]
  },
  {
   "cell_type": "code",
   "execution_count": null,
   "id": "1a25389a",
   "metadata": {},
   "outputs": [],
   "source": [
    "number5 = map(int,input(\"5개의 숫자를 입력하세요!: \").split())\n",
    "print(number5)\n",
    "list5 = list(number5)\n",
    "def plus() :\n",
    "    result = list5[0]+list5[1]+list5[2]+list5[3]+list5[4]\n",
    "    return result\n",
    "print(plus()) #절대값 먹이기.. 안되네.."
   ]
  },
  {
   "cell_type": "code",
   "execution_count": null,
   "id": "2663edf1",
   "metadata": {},
   "outputs": [],
   "source": [
    "# 선생님 답\n",
    "\n",
    "def abs_sum():\n",
    "    total = 0 \n",
    "    for i in range(5) :\n",
    "        total += abs(int(input(\" 정수 입력 :\")))\n",
    "    return total\n",
    "\n",
    "print(abs_sum())"
   ]
  },
  {
   "cell_type": "code",
   "execution_count": 5,
   "id": "e45c502e",
   "metadata": {
    "scrolled": true
   },
   "outputs": [
    {
     "name": "stdout",
     "output_type": "stream",
     "text": [
      "15\n"
     ]
    }
   ],
   "source": [
    "def plus(num1, num2, num3, num4, num5) :\n",
    "    list5 = [num1, num2, num3, num4, num5]\n",
    "    result = list5[0]+list5[1]+list5[2]+list5[3]+list5[4]\n",
    "    return result\n",
    "print(plus(-1, 5, 3, 2, 6)) #절대값 먹이기.. 안되네.."
   ]
  },
  {
   "cell_type": "markdown",
   "id": "46fca260",
   "metadata": {},
   "source": [
    "### 함수 연습문제 4\n",
    "yesterday.txt 파일을 읽어서 단어의 출현 횟수를 기준으로 정렬된 결과를 출력하는 함수를 정의하시오."
   ]
  },
  {
   "cell_type": "code",
   "execution_count": 3,
   "id": "eeb32530",
   "metadata": {
    "scrolled": true
   },
   "outputs": [
    {
     "name": "stdout",
     "output_type": "stream",
     "text": [
      "yesterday는 ['All', 'I', \"I'm\", 'Love', 'Now', 'Oh,', 'Suddenly', \"There's\", 'Why', 'Yesterday', 'a', 'an', 'as', 'away', 'be', 'believe', 'came', \"don't\", 'easy', 'far', 'for', 'game', 'go', 'had', 'half', 'hanging', 'here', 'hide', 'in', 'it', 'know,', 'long', 'looks', 'man', 'me', 'my', 'need', 'not', 'over', 'place', 'play', 'said', 'say', 'seemed', 'shadow', 'she', 'something', 'stay', 'such', 'suddenly', 'the', \"they're\", 'though', 'to', 'troubles', 'used', 'was', \"wouldn't\", 'wrong', 'yesterday']\n",
      "60 개의 단어로 이루어진 문장들로 총 단어는 중복 포함 126개입니다.\n"
     ]
    }
   ],
   "source": [
    "f = open(\"yesterday.txt\",'r')\n",
    "yesterday = f.read()\n",
    "f.close()\n",
    "\n",
    "words = yesterday.split()\n",
    "setting = set(words)\n",
    "\n",
    "print(\"yesterday는\",sorted(setting))\n",
    "print(len(setting),\"개의 단어로 이루어진 문장들로 총 단어는 중복 포함 126개입니다.\")"
   ]
  },
  {
   "cell_type": "code",
   "execution_count": 2,
   "id": "66fde14e",
   "metadata": {
    "scrolled": true
   },
   "outputs": [
    {
     "ename": "IndentationError",
     "evalue": "expected an indented block (Temp/ipykernel_276/407506259.py, line 18)",
     "output_type": "error",
     "traceback": [
      "\u001b[1;36m  File \u001b[1;32m\"C:\\Users\\B-23\\AppData\\Local\\Temp/ipykernel_276/407506259.py\"\u001b[1;36m, line \u001b[1;32m18\u001b[0m\n\u001b[1;33m    cnt += 1\u001b[0m\n\u001b[1;37m    ^\u001b[0m\n\u001b[1;31mIndentationError\u001b[0m\u001b[1;31m:\u001b[0m expected an indented block\n"
     ]
    }
   ],
   "source": [
    "f = open(\"yesterday.txt\",'r')\n",
    "yesterday = f.read()\n",
    "f.close()\n",
    "\n",
    "words = yesterday.split()\n",
    "\n",
    "setting = set(words)\n",
    "listing = list(words)\n",
    "\n",
    "print(sorted(setting))\n",
    "print(len(setting))\n",
    "\n",
    "cnt = 1\n",
    "box = []\n",
    "while 1 :\n",
    "    if len(listing)==cnt :\n",
    "    cnt += 1\n",
    "    print(box)"
   ]
  },
  {
   "cell_type": "code",
   "execution_count": 20,
   "id": "ebefe694",
   "metadata": {},
   "outputs": [
    {
     "name": "stdout",
     "output_type": "stream",
     "text": [
      "[('All', 1), ('I', 13), (\"I'm\", 1), ('Love', 2), ('Now', 5), ('Oh,', 4), ('Suddenly', 1), (\"There's\", 1), ('Why', 2), ('Yesterday', 3), ('a', 44), ('an', 4), ('as', 5), ('away', 3), ('be', 4), ('believe', 3), ('came', 1), (\"don't\", 2), ('easy', 2), ('far', 1), ('for', 2), ('game', 2), ('go', 2), ('had', 3), ('half', 1), ('hanging', 1), ('here', 2), ('hide', 2), ('in', 6), ('it', 1), ('know,', 2), ('long', 2), ('looks', 1), ('man', 1), ('me', 7), ('my', 1), ('need', 2), ('not', 1), ('over', 1), ('place', 2), ('play', 2), ('said', 2), ('say', 2), ('seemed', 1), ('shadow', 1), ('she', 4), ('something', 2), ('stay', 1), ('such', 2), ('suddenly', 1), ('the', 2), (\"they're\", 1), ('though', 1), ('to', 9), ('troubles', 1), ('used', 1), ('was', 2), (\"wouldn't\", 2), ('wrong', 2), ('yesterday', 6)]\n"
     ]
    }
   ],
   "source": [
    "# 선생님 답\n",
    "\n",
    "word_list = []\n",
    "yesterday_str = \"\"\n",
    "with open('yesterday.txt', 'r') as f :\n",
    "    yesterday_str = f.read()\n",
    "    word_list = yesterday_str.split()\n",
    "\n",
    "word_dict = {}\n",
    "for word in setting :\n",
    "    word_dict[word] = yesterday_str.count(word)\n",
    "    \n",
    "# print(word_dict) # key는 단어, value는 출현 횟수\n",
    "\n",
    "# dict의 key를 기준으로 오름차순 정렬\n",
    "sorted_word_dict = sorted(word_dict.items())\n",
    "print(sorted_word_dict)"
   ]
  },
  {
   "cell_type": "code",
   "execution_count": null,
   "id": "ad7712ec",
   "metadata": {},
   "outputs": [],
   "source": []
  }
 ],
 "metadata": {
  "kernelspec": {
   "display_name": "Python 3 (ipykernel)",
   "language": "python",
   "name": "python3"
  },
  "language_info": {
   "codemirror_mode": {
    "name": "ipython",
    "version": 3
   },
   "file_extension": ".py",
   "mimetype": "text/x-python",
   "name": "python",
   "nbconvert_exporter": "python",
   "pygments_lexer": "ipython3",
   "version": "3.9.7"
  }
 },
 "nbformat": 4,
 "nbformat_minor": 5
}
