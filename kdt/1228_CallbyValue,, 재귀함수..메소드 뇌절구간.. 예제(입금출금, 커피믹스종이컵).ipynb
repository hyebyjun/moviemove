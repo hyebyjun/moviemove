{
 "cells": [
  {
   "cell_type": "code",
   "execution_count": 1,
   "id": "7fea4519",
   "metadata": {},
   "outputs": [
    {
     "name": "stdout",
     "output_type": "stream",
     "text": [
      "9\n",
      "3\n",
      "[0, 1, 3, 5]\n"
     ]
    }
   ],
   "source": [
    "def f(x) :\n",
    "    y = x\n",
    "    x = 5\n",
    "    return y**2 #CallbyValue 뭔소린지 몰겠는디..\n",
    "\n",
    "x = 3\n",
    "print(f(x))\n",
    "print(x)\n",
    "\n",
    "\n",
    "def spam(eggs) :\n",
    "    eggs.append(5)\n",
    "\n",
    "ham = [0, 1, 3]\n",
    "spam(ham)\n",
    "print(ham)"
   ]
  },
  {
   "cell_type": "code",
   "execution_count": 2,
   "id": "1e90edeb",
   "metadata": {},
   "outputs": [
    {
     "name": "stdout",
     "output_type": "stream",
     "text": [
      "10\n",
      "In Function : 20\n",
      "In Main: 10\n",
      "In Main: 20\n"
     ]
    }
   ],
   "source": [
    "def test(t) :\n",
    "    print(x)\n",
    "    t = 20\n",
    "    print(\"In Function :\", t)\n",
    "    \n",
    "x = 10\n",
    "t = 20\n",
    "test(x)\n",
    "print(\"In Main:\", x)\n",
    "print(\"In Main:\", t)"
   ]
  },
  {
   "cell_type": "code",
   "execution_count": 3,
   "id": "123183c9",
   "metadata": {},
   "outputs": [
    {
     "name": "stdout",
     "output_type": "stream",
     "text": [
      "10000\n"
     ]
    }
   ],
   "source": [
    "def test() :\n",
    "    global x\n",
    "    x = x**2\n",
    "    return x\n",
    "s = 10\n",
    "test()\n",
    "print(test())"
   ]
  },
  {
   "cell_type": "markdown",
   "id": "388eeb05",
   "metadata": {},
   "source": [
    "### ! 팩토리얼 함수 만들기"
   ]
  },
  {
   "cell_type": "code",
   "execution_count": null,
   "id": "ab0eeaf1",
   "metadata": {},
   "outputs": [],
   "source": [
    "def fac(n) :\n",
    "    if n == 1 :\n",
    "        return 1\n",
    "    \n",
    "    else :\n",
    "        return n*fac(n-1)\n",
    "\n",
    "n = int(input(\"몇 팩토리얼? :\"))\n",
    "print(fac(n))\n",
    "\n",
    "# 5*fac(4) = 5*4*fac(3) = 5*4*3*fac(2) = 5*4*3*2*fac(1) = 5*4*3*2*1"
   ]
  },
  {
   "cell_type": "markdown",
   "id": "064fabfd",
   "metadata": {},
   "source": [
    "### 객체지향언어의 특성 세 가지 : 상속성, 캡슐화, 다형성\n",
    "클래스로부터 객체를 생성할 때 초기값을 전달하면,\\\n",
    "메모리에 객체가 생성되면서 객체의 속성(상태변수)들이 전달된 값으로 초기화를 수행하는 메서드"
   ]
  },
  {
   "cell_type": "code",
   "execution_count": 1,
   "id": "d3cd411a",
   "metadata": {
    "scrolled": false
   },
   "outputs": [
    {
     "name": "stdout",
     "output_type": "stream",
     "text": [
      "학번 : 2101001\n",
      "이름 : 이대한\n",
      "총점 : 240\n",
      "평균 : 80.0\n"
     ]
    }
   ],
   "source": [
    "class Student() : # ()를 비워두면 자동으로 최상위 오브젝트를 상속받음\n",
    "    \n",
    "    def __init__(self, sno, name, kor, eng, math) :\n",
    "        self.sno = sno\n",
    "        self.kor = kor\n",
    "        self.eng = eng\n",
    "        self.math = math\n",
    "        self.name = name\n",
    "    # 객체 생성 시에 초기화를 하는 메서드 < 라는데 뭔지 모르겠고요..\n",
    "\n",
    "    def total(self) :\n",
    "        return self.kor+self.eng+self.math\n",
    "    \n",
    "    def avg(self) :\n",
    "        return self.total()/3\n",
    "\n",
    "lee = Student(2101001, '이대한', 70, 80, 90)\n",
    "kim = Student(2001002, '김민국', 70, 70, 76)\n",
    "choi = Student(2021003, '최만세', 50, 90, 70)\n",
    "\n",
    "print(\"학번 :\", lee.sno)\n",
    "print(\"이름 :\", lee.name)\n",
    "print(\"총점 :\", lee.total())\n",
    "print(\"평균 :\", lee.avg())"
   ]
  },
  {
   "cell_type": "markdown",
   "id": "7d1a32d1",
   "metadata": {},
   "source": [
    "### 티비 조작 리모컨 만들기"
   ]
  },
  {
   "cell_type": "code",
   "execution_count": 2,
   "id": "9ab7daa9",
   "metadata": {},
   "outputs": [],
   "source": [
    "class TV() :\n",
    "    \n",
    "    def __init__(self, volume=0, channel=0, power=False) :\n",
    "        self.volume = volume\n",
    "        self.channel = channel\n",
    "        self.power = power\n",
    "    \n",
    "    def volumeUp(self) :\n",
    "        if 0 <= self.volume <= 49 :\n",
    "            self.volume += 1\n",
    "            return self.volume\n",
    "        else :\n",
    "            return self.volume\n",
    "        \n",
    "    def volumeDown(self) :\n",
    "        if 1 <= self.volume <= 50 :\n",
    "            self.volume -= 1\n",
    "            return self.volume\n",
    "        else :\n",
    "            return self.volume\n",
    "    \n",
    "    def channelUp(self) :\n",
    "        if 0 <= self.channel <= 99 :\n",
    "            self.channel += 1\n",
    "            return self.channel\n",
    "        else :\n",
    "            return self.channel\n",
    "\n",
    "    def channelDown(self) :\n",
    "        if 1 <= self.channel <= 100 :\n",
    "            self.channel -= 1\n",
    "            return self.channel\n",
    "        else :\n",
    "            return self.channel\n",
    "    \n",
    "    def onoff(self) :\n",
    "        if self.power == False :\n",
    "            return False\n",
    "        else :\n",
    "            return True\n",
    "\n",
    "lgTV = TV()"
   ]
  },
  {
   "cell_type": "code",
   "execution_count": 3,
   "id": "83e12933",
   "metadata": {
    "scrolled": true
   },
   "outputs": [],
   "source": [
    "# 선생님 답\n",
    "\n",
    "class TV():\n",
    "    def __init__(self, volume=0, channel=0, power=False):\n",
    "        self.power=power\n",
    "        self.channel = channel\n",
    "        self.volume = volume\n",
    "\n",
    "    def volumeUp(self):\n",
    "        self.volume +=1\n",
    "\n",
    "    def volumeDown(self):\n",
    "        self.volume -=1     \n",
    "\n",
    "    def channelChange(self, ch) :\n",
    "        if ch ==-1 :\n",
    "            self.channel -=1\n",
    "        elif  ch ==1 :\n",
    "            self.channel +=1\n",
    "        else :\n",
    "            self.channel = ch\n",
    "\n",
    "    def onoff(self) :\n",
    "        if self.power :\n",
    "            self.power = False\n",
    "        else :\n",
    "            self.power = True\n",
    "\n",
    "    def __str__(self) :   #object 부모객체로부터 상속받아서 재정의 : override\n",
    "        #return  \"power is %s. volume is %s. channel is %s\" % (self.power, self.volume, self.channel)\n",
    "        return  \"power is {0}. volume is {1}. channel is {2}\".format(self.power, self.volume, self.channel)\n",
    "\n",
    "lgTV = TV()   #TV(0, 0, True)"
   ]
  },
  {
   "cell_type": "code",
   "execution_count": 4,
   "id": "ccd5b321",
   "metadata": {
    "scrolled": true
   },
   "outputs": [
    {
     "name": "stdout",
     "output_type": "stream",
     "text": [
      "power is False. volume is 0. channel is 0\n",
      "power is True. volume is 1. channel is 1\n",
      "power is True. volume is 0. channel is 11\n",
      "power is False. volume is 0. channel is 11\n",
      "power is False. volume is 0. channel is 11\n"
     ]
    }
   ],
   "source": [
    "print(lgTV)  #객체 출력  print(lgTV.__str__())\n",
    "lgTV.onoff()\n",
    "lgTV.volumeUp()\n",
    "lgTV.channelChange(1)\n",
    "print(lgTV)\n",
    "lgTV.volumeDown()\n",
    "lgTV.channelChange(11)\n",
    "print(lgTV)\n",
    "lgTV.onoff()\n",
    "print(lgTV)\n",
    "print(lgTV.__str__())"
   ]
  },
  {
   "cell_type": "markdown",
   "id": "b9bc5f52",
   "metadata": {},
   "source": [
    "### __init__()는 객체가 생성횔 때 호출되는 메소드로써, 객체의 초기화를 담당합니다.\n",
    "### 객체가 처음부터 가져야 할 데이터 속성을 __init__()에서 정의합니다."
   ]
  },
  {
   "cell_type": "code",
   "execution_count": 5,
   "id": "e1fad08e",
   "metadata": {
    "scrolled": true
   },
   "outputs": [
    {
     "ename": "SyntaxError",
     "evalue": "invalid syntax (Temp/ipykernel_2584/2924829830.py, line 2)",
     "output_type": "error",
     "traceback": [
      "\u001b[1;36m  File \u001b[1;32m\"C:\\Users\\B-23\\AppData\\Local\\Temp/ipykernel_2584/2924829830.py\"\u001b[1;36m, line \u001b[1;32m2\u001b[0m\n\u001b[1;33m    @staticmethod 데코레이터로 선언\u001b[0m\n\u001b[1;37m                  ^\u001b[0m\n\u001b[1;31mSyntaxError\u001b[0m\u001b[1;31m:\u001b[0m invalid syntax\n"
     ]
    }
   ],
   "source": [
    "# static 메서드\n",
    "@staticmethod 데코레이터로 선언\n",
    "self 매개변수 없는 메소드\n",
    "인스턴스(객체)를 통해서 접근이 가능하지만 클래스를 통해 호출\n",
    "정적 메소드는 self 매개변수를 전달받을 방법이 없으므로 객체/인스턴스의 변수에 접근할 수 없습니다\n",
    "정적 메소드는 객체의 데이터 속성과는 관계가 없는 코드로 구현되는 것이 일반적입니다\n",
    "클래스와 객체들이 가지는 유틸리티 기능(입력 받기, 한영 변환)\n",
    "\n",
    "class Calculator:\n",
    "    @staticmethod\n",
    "    def plus(a, b):\n",
    "        return a+b\n",
    "\n",
    "Obj = Calculator()\n",
    "print(Obj.plus(3, 5))\n",
    "print( Calculator.plus(7, 4))\n",
    "\n",
    "# class 메소드\n",
    "@classmethod 데코레이터\n",
    "cls 매개변수가 필요한 메소드\n",
    "인스턴스 와 클래스를 통해 호출하는 것이 가능합니다\n",
    "클래스 변수를 다루기 위한 메서드\n",
    "\n",
    "class InstanceCounter :\n",
    "    count=0    # 클래스 변수\n",
    "    def __init__(self ):\n",
    "        InstanceCounter.count += 1\n",
    "\n",
    "    @classmethod\n",
    "    def print_instance_count(cls):\n",
    "         print(cls.count)\n",
    "\n",
    "\n",
    "a = InstanceCounter()   # 객체 생성\n",
    "InstanceCounter.print_instance_count()  # 클래스메서드를 호출\n",
    "\n",
    "b = InstanceCounter()   # 객체 생성\n",
    "InstanceCounter.print_instance_count()  # 클래스메서드를 호출\n",
    "\n",
    "c = InstanceCounter()\n",
    "c.print_instance_count()   # 객체로 클래스 메서드를 호출"
   ]
  },
  {
   "cell_type": "markdown",
   "id": "6b523687",
   "metadata": {},
   "source": [
    "### Private member : 클래스 안에서만 접근이 가능한 멤버"
   ]
  },
  {
   "cell_type": "code",
   "execution_count": 6,
   "id": "d7a6e3a5",
   "metadata": {},
   "outputs": [
    {
     "name": "stdout",
     "output_type": "stream",
     "text": [
      "Public\n",
      "Private\n",
      "Public\n"
     ]
    },
    {
     "ename": "AttributeError",
     "evalue": "'HashPrivate' object has no attribute '__private'",
     "output_type": "error",
     "traceback": [
      "\u001b[1;31m---------------------------------------------------------------------------\u001b[0m",
      "\u001b[1;31mAttributeError\u001b[0m                            Traceback (most recent call last)",
      "\u001b[1;32m~\\AppData\\Local\\Temp/ipykernel_2584/3977684022.py\u001b[0m in \u001b[0;36m<module>\u001b[1;34m\u001b[0m\n\u001b[0;32m     11\u001b[0m \u001b[0mobj\u001b[0m\u001b[1;33m.\u001b[0m \u001b[0mprint_from_internal\u001b[0m\u001b[1;33m(\u001b[0m\u001b[1;33m)\u001b[0m\u001b[1;33m\u001b[0m\u001b[1;33m\u001b[0m\u001b[0m\n\u001b[0;32m     12\u001b[0m \u001b[0mprint\u001b[0m\u001b[1;33m(\u001b[0m\u001b[0mobj\u001b[0m\u001b[1;33m.\u001b[0m\u001b[0mpublic\u001b[0m\u001b[1;33m)\u001b[0m\u001b[1;33m\u001b[0m\u001b[1;33m\u001b[0m\u001b[0m\n\u001b[1;32m---> 13\u001b[1;33m \u001b[0mprint\u001b[0m\u001b[1;33m(\u001b[0m\u001b[0mobj\u001b[0m\u001b[1;33m.\u001b[0m\u001b[0m__private\u001b[0m\u001b[1;33m)\u001b[0m \u001b[1;31m# 클래스 밖에서 access불가하므로 오류가 발생합니다.\u001b[0m\u001b[1;33m\u001b[0m\u001b[1;33m\u001b[0m\u001b[0m\n\u001b[0m",
      "\u001b[1;31mAttributeError\u001b[0m: 'HashPrivate' object has no attribute '__private'"
     ]
    }
   ],
   "source": [
    "class HashPrivate:\n",
    "    def __init__(self ):\n",
    "        self.public = \"Public\"   #클래스 밖에서  객체를 사용하여 access 가능\n",
    "        self.__private = \"Private\"   #클래스안에서만 access 가능\n",
    "    \n",
    "    def print_from_internal(self ):\n",
    "        print(self.public)\n",
    "        print(self.__private)\n",
    "\n",
    "obj = HashPrivate()\n",
    "obj. print_from_internal()\n",
    "print(obj.public)\n",
    "print(obj.__private) # 클래스 밖에서 access불가하므로 오류가 발생합니다."
   ]
  },
  {
   "cell_type": "markdown",
   "id": "4949fd05",
   "metadata": {},
   "source": [
    "### 통장 만들기"
   ]
  },
  {
   "cell_type": "code",
   "execution_count": 7,
   "id": "7cee4854",
   "metadata": {},
   "outputs": [
    {
     "name": "stdout",
     "output_type": "stream",
     "text": [
      "학생이름 : 소지섭\n",
      "학급번호 : 21305\n",
      "전화번호 : 010-1234-1234\n"
     ]
    }
   ],
   "source": [
    "def my_student_info(name, school_id, phoneNumber) :\n",
    "    print(\"학생이름 :\",name)\n",
    "    print(\"학급번호 :\",school_id)\n",
    "    print(\"전화번호 :\",phoneNumber)\n",
    "\n",
    "my_student_info(\"소지섭\", \"21305\", \"010-1234-1234\")"
   ]
  },
  {
   "cell_type": "code",
   "execution_count": 5,
   "id": "06a81c6b",
   "metadata": {},
   "outputs": [
    {
     "ename": "NameError",
     "evalue": "name 'coustomer' is not defined",
     "output_type": "error",
     "traceback": [
      "\u001b[1;31m---------------------------------------------------------------------------\u001b[0m",
      "\u001b[1;31mNameError\u001b[0m                                 Traceback (most recent call last)",
      "\u001b[1;32m~\\AppData\\Local\\Temp/ipykernel_9620/2725280482.py\u001b[0m in \u001b[0;36m<module>\u001b[1;34m\u001b[0m\n\u001b[0;32m     11\u001b[0m         \u001b[0mprint\u001b[0m\u001b[1;33m(\u001b[0m\u001b[1;34m\"계좌번호 :\"\u001b[0m\u001b[1;33m,\u001b[0m\u001b[0macnumber\u001b[0m\u001b[1;33m,\u001b[0m\u001b[1;34m\",\"\u001b[0m\u001b[1;33m,\u001b[0m\u001b[1;34m\"최초 입금액 :\"\u001b[0m\u001b[1;33m,\u001b[0m\u001b[0mfstinput\u001b[0m\u001b[1;33m)\u001b[0m\u001b[1;33m\u001b[0m\u001b[1;33m\u001b[0m\u001b[0m\n\u001b[0;32m     12\u001b[0m \u001b[1;33m\u001b[0m\u001b[0m\n\u001b[1;32m---> 13\u001b[1;33m \u001b[0mcoustomer\u001b[0m\u001b[1;33m(\u001b[0m\u001b[1;34m\"123-12413\"\u001b[0m\u001b[1;33m,\u001b[0m\u001b[1;34m\"소지섭\"\u001b[0m\u001b[1;33m,\u001b[0m\u001b[1;34m\"111-12341234-123\"\u001b[0m\u001b[1;33m,\u001b[0m\u001b[1;34m\"1000000\"\u001b[0m\u001b[1;33m)\u001b[0m\u001b[1;33m\u001b[0m\u001b[1;33m\u001b[0m\u001b[0m\n\u001b[0m",
      "\u001b[1;31mNameError\u001b[0m: name 'coustomer' is not defined"
     ]
    }
   ],
   "source": [
    "class bank() :\n",
    "    \n",
    "    def customer(self, number, name, acnumber, fstinput) :\n",
    "        self.number = number\n",
    "        self.name = name\n",
    "        self.acnumber = acnumber\n",
    "        self.fstinput = fstinput\n",
    "        \n",
    "        print(\"<고객정보>\")\n",
    "        print(\"고객번호 :\",number,\",\",\"고객명 :\",name)\n",
    "        print(\"계좌번호 :\",acnumber,\",\",\"최초 입금액 :\",fstinput)\n",
    "        \n",
    "coustomer(\"123-12413\",\"소지섭\",\"111-12341234-123\",\"1000000\")"
   ]
  },
  {
   "cell_type": "code",
   "execution_count": 9,
   "id": "bab2be6b",
   "metadata": {
    "scrolled": false
   },
   "outputs": [
    {
     "ename": "IndentationError",
     "evalue": "unexpected indent (Temp/ipykernel_2584/3811033803.py, line 19)",
     "output_type": "error",
     "traceback": [
      "\u001b[1;36m  File \u001b[1;32m\"C:\\Users\\B-23\\AppData\\Local\\Temp/ipykernel_2584/3811033803.py\"\u001b[1;36m, line \u001b[1;32m19\u001b[0m\n\u001b[1;33m    def menu(self, money=\"\", calc=\"\") :\u001b[0m\n\u001b[1;37m    ^\u001b[0m\n\u001b[1;31mIndentationError\u001b[0m\u001b[1;31m:\u001b[0m unexpected indent\n"
     ]
    }
   ],
   "source": [
    "class bank() :\n",
    "    \n",
    "    def __init__(self, number=\"\", name=\"\", acnumber=\"\", fstinput=\"\") :\n",
    "        self.number = number\n",
    "        self.name = name\n",
    "        self.acnumber = acnumber\n",
    "        self.fstinput = fstinput\n",
    "        \n",
    "        print(\"<고객정보>\")\n",
    "        print(\"=========================================\")\n",
    "        print(\"고객번호 :\",number)\n",
    "        print(\"고객명 :\",name)\n",
    "        print(\"계좌번호 :\",acnumber)\n",
    "        print(\"최초 입금액 :\",fstinput,\"원\")\n",
    "        print(\"=========================================\")\n",
    "\n",
    "bank(\"123-12413\",\"소지섭\",\"111-12341234-123\",\"1000000\")\n",
    "        \n",
    "    def menu(self, money=\"\", calc=\"\") :\n",
    "\n",
    "        print(\"1. 입금 , 2. 출금 , 9. 종료\")\n",
    "        x, y = map(int,input(\"금액과 메뉴 번호를 입력하세요.: \").split())\n",
    "\n",
    "        if y==1 :\n",
    "            return fstinput+x\n",
    "        elif y==2 :\n",
    "            return fstinput-x\n",
    "        else :\n",
    "            exit()"
   ]
  },
  {
   "cell_type": "markdown",
   "id": "d1eb8468",
   "metadata": {},
   "source": [
    "#### 선생님의 통장.."
   ]
  },
  {
   "cell_type": "code",
   "execution_count": 12,
   "id": "75123237",
   "metadata": {},
   "outputs": [
    {
     "name": "stdout",
     "output_type": "stream",
     "text": [
      "====================\n",
      "고객번호 : CUST01\n",
      "고객명 : 소지섭\n",
      "계좌번호 : 1-22-333\n",
      "잔액 : 100000\n",
      "====================\n",
      "[Menu]\n",
      "1.입금\n",
      "2.출금\n",
      "9.종료\n",
      "==> Menu 선택 :2\n",
      "금액 :50000\n",
      "50000원을 출금합니다.\n",
      "===================\n",
      "현재 잔액 :  50000\n",
      "===================\n",
      "[Menu]\n",
      "1.입금\n",
      "2.출금\n",
      "9.종료\n",
      "==> Menu 선택 :1\n",
      "금액 :10000\n",
      "10000원을 입금합니다.\n",
      "===================\n",
      "현재 잔액 :  60000\n",
      "===================\n",
      "[Menu]\n",
      "1.입금\n",
      "2.출금\n",
      "9.종료\n",
      "==> Menu 선택 :9\n",
      "Bye~~\n"
     ]
    }
   ],
   "source": [
    "class Account :\n",
    "    def __init__(self, custId=\"\",  custName=\"\",  accountNumber=\"\",  balance=0) :\n",
    "        self.__custId = custId\n",
    "        self.__custName = custName\n",
    "        self.__accountNumber =  accountNumber\n",
    "        self.__balance = balance\n",
    "\n",
    "    def getCustId(self):\n",
    "        return self.__custId\n",
    "\n",
    "    def getCustName(self):\n",
    "        return self.__custName\n",
    "\n",
    "    def getAccountNumber(self):\n",
    "        return self.__accountNumber\n",
    "\n",
    "    def getBalance(self):\n",
    "        return self.__balance\n",
    "\n",
    "    def setCustId(self, custId):\n",
    "        self.__custId = custId\n",
    "\n",
    "    def setCustName(self, custName):\n",
    "        self.__custName = custName\n",
    "\n",
    "    def setAccountNumber(self, accountNumber):\n",
    "        self.__accountNumber = accountNumber\n",
    "         \n",
    "    def setBalance(self, balance):\n",
    "        self.__balance = balance\n",
    "\n",
    "    def addBalance(self, balance):\n",
    "        print(\"{0}원을 입금합니다.\".format(balance))\n",
    "        if balance<=0 :\n",
    "            print(\"금액 오류입니다 : {0}원\".format(balance))\n",
    "        else :\n",
    "            self.__balance += balance\n",
    "        print(\"===================\")\n",
    "        print(\"현재 잔액 : \", self.__balance)\n",
    "        print(\"===================\")\t\n",
    "\n",
    "\n",
    "    def substractBalance(self, balance):\n",
    "        print(\"{0}원을 출금합니다.\".format(balance))\n",
    "        if(self.__balance < balance) :\n",
    "            print(\"출금 불가!! 잔고가 부족합니다.\")\n",
    "        else :\n",
    "            self.__balance -= balance\n",
    "        print(\"===================\")\n",
    "        print(\"현재 잔액 : \", self.__balance)\n",
    "        print(\"===================\")\n",
    "\n",
    "\n",
    "    def __str__(self):\n",
    "        return \"====================\\n고객번호 : {0}\\n고객명 : {1}\\n계좌번호 : {2}\\n잔액 : {3}\\n====================\".format(self.__custId, self.__custName, \n",
    "self.__accountNumber , self.__balance)\n",
    "\n",
    "    \n",
    "    @staticmethod\n",
    "    def getUserInput() :\n",
    "        return int(input(\"==> Menu 선택 :\" ))\n",
    "\n",
    "    \n",
    "    @staticmethod\n",
    "    def getMenuItem() :\n",
    "        print(\"[Menu]\")\n",
    "        print(\"1.입금\")\n",
    "        print(\"2.출금\")\n",
    "        print(\"9.종료\") \n",
    "\n",
    "\n",
    "    @staticmethod\n",
    "    def getAmount() :\n",
    "        return int(input(\"금액 :\" ))\n",
    "\n",
    "\n",
    "#객체 생성 후 setXXX()사용해서 상태값 초기화\n",
    "cust1 = Account()\n",
    "cust1.setCustId(\"CUST01\")\n",
    "cust1.setCustName(\"소지섭\")\n",
    "cust1.setAccountNumber(\"1-22-333\")\n",
    "cust1.setBalance(100000)\n",
    "\n",
    "# 내부적으로 __init__() 사용해서 객체 생성  \n",
    "cust2 = Account(\"CUST01\",\"소지섭\", \"1-22-333\", 100000)\n",
    "print(cust1)\n",
    "\n",
    "while True :\n",
    "    Account.getMenuItem()\n",
    "    menu = Account.getUserInput()\n",
    "    if menu == 9 :\n",
    "        print(\"Bye~~\")\n",
    "        break\n",
    "    elif menu == 1:\n",
    "        amount = Account.getAmount()\n",
    "        cust1.addBalance(amount)\n",
    "    elif menu == 2:\n",
    "        amount = Account.getAmount()\n",
    "        cust1.substractBalance(amount)"
   ]
  },
  {
   "cell_type": "code",
   "execution_count": 7,
   "id": "ac113d35",
   "metadata": {
    "scrolled": false
   },
   "outputs": [
    {
     "ename": "SyntaxError",
     "evalue": "expression cannot contain assignment, perhaps you meant \"==\"? (Temp/ipykernel_9620/740404199.py, line 12)",
     "output_type": "error",
     "traceback": [
      "\u001b[1;36m  File \u001b[1;32m\"C:\\Users\\B-23\\AppData\\Local\\Temp/ipykernel_9620/740404199.py\"\u001b[1;36m, line \u001b[1;32m12\u001b[0m\n\u001b[1;33m    print(\"======\",self.pdName,\"상품코드(\",self.pdCode = pdCode,\")======\")\u001b[0m\n\u001b[1;37m                                       ^\u001b[0m\n\u001b[1;31mSyntaxError\u001b[0m\u001b[1;31m:\u001b[0m expression cannot contain assignment, perhaps you meant \"==\"?\n"
     ]
    }
   ],
   "source": [
    "class product() :\n",
    "    \n",
    "    def __init__(self, pdCode=\"\", pdName=\"\", price=0, disRate=0) :\n",
    "        self.pdCode = pdCode  # 파라미터로 넘어온 값을 초기화 하고~ : 도 뭔말인지 몰겠음..\n",
    "        self.pdName = pdName\n",
    "        self.price = price\n",
    "        self.disRate = disRate\n",
    "        \n",
    "    def sellingpc(self, ) :\n",
    "        return price-(price*(discnt/100))\n",
    "             \n",
    "    print(\"======\",self.pdName,\"상품코드(\",self.pdCode = pdCode,\")======\")\n",
    "    print(\"정가 :\",self.price)\n",
    "    print(\"할인율 :\",self.disRate)\n",
    "    print(\"판매가 :\",sellingpc)\n",
    "    print(\"========================================\")\n",
    "\n",
    "product(\"PRD001\",\"커피믹스\",\"12000\",\"10%\")\n",
    "\n",
    "a = product()\n",
    "a.sellingpc(10000, 30)\n",
    "print(self.pdcode)"
   ]
  },
  {
   "cell_type": "code",
   "execution_count": 2,
   "id": "125265de",
   "metadata": {},
   "outputs": [
    {
     "name": "stdout",
     "output_type": "stream",
     "text": [
      "커피믹스의 할인율이 10%에서 20%로 바뀌었습니다.\n",
      "종이컵의 할인율이 0%에서 5%로 바뀌었습니다.\n",
      "==========커피믹스(PRD001)==============\n",
      "정가 : 12000 원\n",
      "할인률 : 20 %\n",
      "판매가 : 9600.0 원\n",
      "==========종이컵(PRD002)==============\n",
      "정가 : 3000 원\n",
      "할인률 : 5 %\n",
      "판매가 : 2850.0 원\n"
     ]
    }
   ],
   "source": [
    "class Product :\n",
    "    def __init__(self, productCode, productName, price, discountRate=0):\n",
    "        self.productCode = productCode\n",
    "        self.productName = productName\n",
    "        self.price = price\n",
    "        self.discountRate =  discountRate\n",
    "   \n",
    "    def changeDiscountRate(self, newRate):\n",
    "        print(\"{0}의 할인율이 {1}%에서 {2}%로 바뀌었습니다.\".format(self.productName, self.discountRate, newRate))\n",
    "        self.discountRate =newRate        \n",
    "\n",
    "    def calculatePrice(self):\n",
    "        return self.price * ((100-self.discountRate)/100)\n",
    "\n",
    "\n",
    "coffee = Product(\"PRD001\", \"커피믹스\", 12000, 10)\n",
    "cup = Product(\"PRD002\", \"종이컵\", 3000)\n",
    "\n",
    "coffee.changeDiscountRate(20)\n",
    "cup.changeDiscountRate(5)\n",
    "\n",
    "print(\"=========={0}({1})==============\".format(coffee.productName, coffee.productCode))\n",
    "print(\"정가 : {0} 원\".format(coffee.price))\n",
    "print(\"할인률 : {0} %\".format(coffee.discountRate))\n",
    "print(\"판매가 : {0} 원\".format(coffee.calculatePrice()))\n",
    "\n",
    "\n",
    "print(\"=========={0}({1})==============\".format(cup.productName, cup.productCode))\n",
    "print(\"정가 : {0} 원\".format(cup.price))\n",
    "print(\"할인률 : {0} %\".format(cup.discountRate))\n",
    "print(\"판매가 : {0} 원\".format(cup.calculatePrice()))"
   ]
  },
  {
   "cell_type": "markdown",
   "id": "2ec53b66",
   "metadata": {},
   "source": [
    "### 문자열을 전부 대문자 또는 소문자로 변환\n",
    "그 뒤 space를 기준으로 split를 하는 간단한 문자열 처리 프로그램을 만들어보자."
   ]
  },
  {
   "cell_type": "code",
   "execution_count": 23,
   "id": "235381c1",
   "metadata": {},
   "outputs": [
    {
     "name": "stdout",
     "output_type": "stream",
     "text": [
      "좋아하는 영어 노래 가사를 써보세요 :Now I need a place to hide away\n",
      "NOW I NEED A PLACE TO HIDE AWAY\n",
      "['NOW', 'I', 'NEED', 'A', 'PLACE', 'TO', 'HIDE', 'AWAY']\n"
     ]
    }
   ],
   "source": [
    "x = input(\"좋아하는 영어 노래 가사를 써보세요 :\")\n",
    "big_x = x.upper()\n",
    "big_split = big_x.split() # 어떤 건 () 안에 넣고 안 넣고 차이 헷갈림..\n",
    "print(big_x)\n",
    "print(big_split) # 걍 이렇게는 하겠는데 def 쓰라하는 순간 우주 가는 거임.."
   ]
  },
  {
   "cell_type": "code",
   "execution_count": null,
   "id": "05c2a6f7",
   "metadata": {},
   "outputs": [],
   "source": []
  }
 ],
 "metadata": {
  "kernelspec": {
   "display_name": "Python 3 (ipykernel)",
   "language": "python",
   "name": "python3"
  },
  "language_info": {
   "codemirror_mode": {
    "name": "ipython",
    "version": 3
   },
   "file_extension": ".py",
   "mimetype": "text/x-python",
   "name": "python",
   "nbconvert_exporter": "python",
   "pygments_lexer": "ipython3",
   "version": "3.9.7"
  }
 },
 "nbformat": 4,
 "nbformat_minor": 5
}
