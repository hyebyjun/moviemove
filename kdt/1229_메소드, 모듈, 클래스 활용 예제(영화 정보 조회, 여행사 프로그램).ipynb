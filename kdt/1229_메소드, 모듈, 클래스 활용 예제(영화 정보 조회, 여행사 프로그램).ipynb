{
 "cells": [
  {
   "cell_type": "code",
   "execution_count": 1,
   "id": "27c37618",
   "metadata": {},
   "outputs": [
    {
     "name": "stdout",
     "output_type": "stream",
     "text": [
      "Parent.__init__()\n",
      "Child.__init__()\n",
      "Made in Parent\n",
      "Parent에서 정의한 dance()\n"
     ]
    }
   ],
   "source": [
    "class Parent :\n",
    "    def __init__(self) :\n",
    "        print(\"Parent.__init__()\")\n",
    "        self.message = \"Made in Parent\"\n",
    "        \n",
    "    def dance(self) :\n",
    "        print(\"Parent에서 정의한 dance()\")\n",
    "        \n",
    "class Child(Parent) :\n",
    "    def __init__(self) :\n",
    "        Parent.__init__(self)\n",
    "        print(\"Child.__init__()\")\n",
    "        \n",
    "child1 = Child()  # 객체 생성 - 내부적으로 __init__()\n",
    "print(child1.message)\n",
    "child1.dance()    # 왜 이렇게 했을 때 이런 문장들이 줄줄이 나오는지를 정확히 이해할 것"
   ]
  },
  {
   "cell_type": "code",
   "execution_count": 2,
   "id": "d24a4851",
   "metadata": {},
   "outputs": [
    {
     "name": "stdout",
     "output_type": "stream",
     "text": [
      "GrandParent.__init__()\n",
      "Child.__init__()\n"
     ]
    }
   ],
   "source": [
    "#python은 다중 상속 지원\n",
    "\n",
    "class GrandParent:\n",
    "    def __init__(self):\n",
    "        print(\"GrandParent.__init__()\")\n",
    "        self.msg = \"Made in GrandParent\"\n",
    "    \n",
    "    def play(self):\n",
    "        print(\"GrandParent에서 정의한 dance()\")    \n",
    "\n",
    "\n",
    "class Parent :\n",
    "    def __init__(self):\n",
    "        print(\"Parent.__init__()\")\n",
    "        self.message = \"Made in Parent\"\n",
    "    \n",
    "    def dance(self):\n",
    "        print(\"Parent에서 정의한 dance()\")        \n",
    "\n",
    "\n",
    "class Child(GrandParent, Parent):\n",
    "    def __init__(self):         \n",
    "        super().__init__()   \n",
    "        print(\"Child.__init__()\")\n",
    "\n",
    "child1 = Child()   #객체 생성"
   ]
  },
  {
   "cell_type": "markdown",
   "id": "317eeaae",
   "metadata": {},
   "source": [
    "### 영화 정보 조회 프로그램 만들기.."
   ]
  },
  {
   "cell_type": "code",
   "execution_count": 3,
   "id": "697e6e3f",
   "metadata": {
    "scrolled": true
   },
   "outputs": [],
   "source": [
    "def movie_info(title, director, genre, actor, releaseYear, runTime, rating) :\n",
    "    print(\"영화 제목 :\", title)\n",
    "    print(\"영화 감독 :\", director)\n",
    "    print(\"장르 :\", genre)\n",
    "    print(\"주연 배우 :\", actor)\n",
    "    print(\"개봉연도 :\", releaseYear,\"년\")\n",
    "    print(\"상영시간 :\", runTime,\"분\")\n",
    "    print(\"관람등급 :\", rating)"
   ]
  },
  {
   "cell_type": "code",
   "execution_count": 4,
   "id": "c47c53a8",
   "metadata": {
    "scrolled": true
   },
   "outputs": [
    {
     "name": "stdout",
     "output_type": "stream",
     "text": [
      "영화 제목 : 반지의 제왕 - 반지 원정대\n",
      "영화 감독 : 피터 잭슨\n",
      "장르 : 판타지, 모험\n",
      "주연 배우 : 일라이저 우드\n",
      "개봉연도 : 2001 년\n",
      "상영시간 : 178 분\n",
      "관람등급 : 12세 관람가\n"
     ]
    }
   ],
   "source": [
    "movie_info(\"반지의 제왕 - 반지 원정대\", \"피터 잭슨\", \"판타지, 모험\", \"일라이저 우드\", 2001, 178, \"12세 관람가\")"
   ]
  },
  {
   "cell_type": "code",
   "execution_count": 5,
   "id": "bec94c32",
   "metadata": {
    "scrolled": true
   },
   "outputs": [
    {
     "name": "stdout",
     "output_type": "stream",
     "text": [
      "영화 제목 : 트랜스포머 : 패자의 역습\n",
      "영화 감독 : 마이클 베이\n",
      "장르 : SF, 액션\n",
      "주연 배우 : 샤이아 라보프\n",
      "개봉연도 : 2009 년\n",
      "상영시간 : 149 분\n",
      "관람등급 : 0\n"
     ]
    }
   ],
   "source": [
    "movie_info(\"트랜스포머 : 패자의 역습\", \"마이클 베이\", \"SF, 액션\", \"샤이아 라보프\", 2009, 149, 0)"
   ]
  },
  {
   "cell_type": "code",
   "execution_count": 6,
   "id": "12570e3b",
   "metadata": {
    "scrolled": true
   },
   "outputs": [
    {
     "name": "stdout",
     "output_type": "stream",
     "text": [
      "영화 제목 : 러브 액츄얼리\n",
      "영화 감독 : 리처드 커티스\n",
      "장르 : 멜로, 드라마\n",
      "주연 배우 : 앨런 릭맨\n",
      "개봉연도 : 2003 년\n",
      "상영시간 : 134 분\n",
      "관람등급 : 15세 관람가\n"
     ]
    }
   ],
   "source": [
    "movie_info(\"러브 액츄얼리\", \"리처드 커티스\", \"멜로, 드라마\", \"앨런 릭맨\", 2003, 134, \"15세 관람가\")"
   ]
  },
  {
   "cell_type": "code",
   "execution_count": 7,
   "id": "05b1ac34",
   "metadata": {},
   "outputs": [
    {
     "name": "stdout",
     "output_type": "stream",
     "text": [
      "영화 제목 : 쿵푸 팬더\n",
      "영화 감독 : 마크 오스본\n",
      "장르 : 애니메이션\n",
      "주연 배우 : 잭 블랙\n",
      "개봉연도 : 0 년\n",
      "상영시간 : 0 분\n",
      "관람등급 : 전체 관람가\n"
     ]
    }
   ],
   "source": [
    "movie_info(\"쿵푸 팬더\", \"마크 오스본\", \"애니메이션\", \"잭 블랙\", 0, 0,\"전체 관람가\")"
   ]
  },
  {
   "cell_type": "code",
   "execution_count": 8,
   "id": "09d93cf4",
   "metadata": {},
   "outputs": [],
   "source": [
    "class movie_info :\n",
    "    def __init__(self, title=\"\", director=\"\", genre=\"\", actor=\"\", releaseYear=0, runTime=0, rating=\"\"):\n",
    "        self.title = title\n",
    "        self.director = director\n",
    "        self.genre = genre\n",
    "        self.actor = actor\n",
    "        self.releaseYear = releaseYear\n",
    "        self.runTime = runTime\n",
    "        self.rating = rating\n",
    "        \n",
    "        print(title, director, genre, actor, releaseYear, runTime, rating)"
   ]
  },
  {
   "cell_type": "code",
   "execution_count": 9,
   "id": "8b4fc990",
   "metadata": {},
   "outputs": [
    {
     "name": "stdout",
     "output_type": "stream",
     "text": [
      "<<전체 영화 정보 조회>>\n",
      "=====================================================================================\n",
      "     제목       감독      장르     주연       개봉연도    상영시간      관람등급     \n",
      "-------------------------------------------------------------------------------------\n",
      "반지의 제왕 - 반지 원정대 피터 잭슨 판타지, 모험 일라이저 우드 2001 178 12세 관람가\n",
      "트랜스포머 : 패자의 역습 마이클 베이 SF, 액션 샤이아 라보프 2009 149 \n",
      "러브 액츄얼리 리처드 커티스 멜로, 드라마 앨런 릭맨 2003 134 15세 관람가\n",
      "쿵푸 팬더 마크 오스본 애니메이션 잭 블랙 0 0 전체 관람가\n",
      "=====================================================================================\n"
     ]
    }
   ],
   "source": [
    "print(\"<<전체 영화 정보 조회>>\")\n",
    "print(\"=====================================================================================\")\n",
    "print(\"     제목       감독      장르     주연       개봉연도    상영시간      관람등급     \")\n",
    "print(\"-------------------------------------------------------------------------------------\")\n",
    "movie_info(\"반지의 제왕 - 반지 원정대\", \"피터 잭슨\", \"판타지, 모험\", \"일라이저 우드\", 2001, 178, \"12세 관람가\")\n",
    "movie_info(\"트랜스포머 : 패자의 역습\", \"마이클 베이\", \"SF, 액션\", \"샤이아 라보프\", 2009, 149, \"\")\n",
    "movie_info(\"러브 액츄얼리\", \"리처드 커티스\", \"멜로, 드라마\", \"앨런 릭맨\", 2003, 134, \"15세 관람가\")\n",
    "movie_info(\"쿵푸 팬더\", \"마크 오스본\", \"애니메이션\", \"잭 블랙\", 0, 0,\"전체 관람가\")\n",
    "print(\"=====================================================================================\")"
   ]
  },
  {
   "cell_type": "code",
   "execution_count": 10,
   "id": "98e6c185",
   "metadata": {
    "scrolled": true
   },
   "outputs": [
    {
     "ename": "SyntaxError",
     "evalue": "invalid syntax (Temp/ipykernel_10208/3323433427.py, line 6)",
     "output_type": "error",
     "traceback": [
      "\u001b[1;36m  File \u001b[1;32m\"C:\\Users\\B-23\\AppData\\Local\\Temp/ipykernel_10208/3323433427.py\"\u001b[1;36m, line \u001b[1;32m6\u001b[0m\n\u001b[1;33m    if releaseYear >== 2005 :\u001b[0m\n\u001b[1;37m                     ^\u001b[0m\n\u001b[1;31mSyntaxError\u001b[0m\u001b[1;31m:\u001b[0m invalid syntax\n"
     ]
    }
   ],
   "source": [
    "# 리스트화하고 싶은데 각 abcd 주고 moive_list = [a, b, c, d] 로 되나 /// 해봤는데 안된다... 걍 리스트박스에 생으로 넣어야된다..\n",
    "\n",
    "moive_list = []\n",
    "\n",
    "def releaseYear1 (title, director, genre, actor, releaseYear, runTime, rating) :\n",
    "    if releaseYear >== 2005 :\n",
    "        print\n",
    "\n",
    "# print(\"<<2005년 이전 개봉작 조회>>\")  # list 인덱스 [4]가 2005 이상이면 출력\n",
    "\n",
    "# print(\"<<애니메이션 조회>>\")  # list 인덱스 [2] = 장르 에 \"애니메이션\"이 있으면 출력\n",
    "\n",
    "# print(\"<<런타임 140분 이상 영화 조회>>\")  # list 인덱스 [5]가 140 이상이면 출력"
   ]
  },
  {
   "cell_type": "markdown",
   "id": "377e1aeb",
   "metadata": {},
   "source": [
    "#### 선생님 정답"
   ]
  },
  {
   "cell_type": "code",
   "execution_count": 8,
   "id": "f635f228",
   "metadata": {},
   "outputs": [
    {
     "name": "stdout",
     "output_type": "stream",
     "text": [
      "<<전체 영화 정보 조회>>\n",
      "-------------------------------------------------------------------------------------------------------\n",
      "\t제목\t\t\t감독\t\t장르\t\t주연\t개봉년도  런타임\t 등급\n",
      "-------------------------------------------------------------------------------------------------------\n",
      "반지의 제왕 - 반지 원정대   피터 잭슨     판타지, 모험   일라이저 우드   2001 년 178 분  12세관람가   \n",
      "트랜스포머:패자의 역습      마이클 베이    SF, 액션    샤이아 라보프   2009 년 149 분  N/A      \n",
      "러브 액츄얼리           리처드 커티스   멜로, 드라마   앨런 릭맨     2003 년 134 분  15세관람가   \n",
      "쿵푸 팬더             마크 오스본    애니메이션     잭 블랙      N/A  년 N/A 분  전체관람가    \n",
      "-------------------------------------------------------------------------------------------------------\n",
      "\n",
      "\n",
      "<<2005년 이전 개봉작 조회>>\n",
      "-------------------------------------------------------------------------------------------------------\n",
      "\t제목\t\t\t감독\t\t장르\t\t주연\t개봉년도  런타임\t 등급\n",
      "-------------------------------------------------------------------------------------------------------\n",
      "반지의 제왕 - 반지 원정대   피터 잭슨     판타지, 모험   일라이저 우드   2001 년 178 분  12세관람가   \n",
      "러브 액츄얼리           리처드 커티스   멜로, 드라마   앨런 릭맨     2003 년 134 분  15세관람가   \n",
      "-------------------------------------------------------------------------------------------------------\n",
      "\n",
      "\n",
      "<<애니메이션 조회>>\n",
      "-------------------------------------------------------------------------------------------------------\n",
      "\t제목\t\t\t감독\t\t장르\t\t주연\t개봉년도  런타임\t 등급\n",
      "-------------------------------------------------------------------------------------------------------\n",
      "쿵푸 팬더             마크 오스본    애니메이션     잭 블랙      N/A  년 N/A 분  전체관람가    \n",
      "-------------------------------------------------------------------------------------------------------\n",
      "\n",
      "\n",
      "<<러닝타임 140분 이상 영화 조회>>\n",
      "-------------------------------------------------------------------------------------------------------\n",
      "\t제목\t\t\t감독\t\t장르\t\t주연\t개봉년도  런타임\t 등급\n",
      "-------------------------------------------------------------------------------------------------------\n",
      "반지의 제왕 - 반지 원정대   피터 잭슨     판타지, 모험   일라이저 우드   2001 년 178 분  12세관람가   \n",
      "트랜스포머:패자의 역습      마이클 베이    SF, 액션    샤이아 라보프   2009 년 149 분  N/A      \n"
     ]
    }
   ],
   "source": [
    "class Movie :\n",
    "    def __init__(self, title, director, genre, actor, rating, releaseYear=0, runTime=0) :\n",
    "        self.title = title\n",
    "        self.director = director\n",
    "        self.genre = genre\n",
    "        self.actor = actor\n",
    "        self.rating = rating\n",
    "        self.releaseYear = releaseYear\n",
    "        self.runTime = runTime\n",
    "    \n",
    "    @staticmethod\n",
    "    def printHead() :\n",
    "        print(\"-------------------------------------------------------------------------------------------------------\")\n",
    "        print(\"\\t제목\\t\\t\\t감독\\t\\t장르\\t\\t주연\\t개봉년도  런타임\\t 등급\")\n",
    "        print(\"-------------------------------------------------------------------------------------------------------\")\n",
    "        \n",
    "    def __str__(self) :\n",
    "        if self.releaseYear==0 and self.runTime ==0 :\n",
    "            return \"{0:<15}   {1:<7}   {2:<7}   {3:<7}   {4:<5}년 {5:<4}분  {6:<7}  \".format(self.title , self.director, self.genre,  self.actor, \"N/A\" ,  \"N/A\" , self.rating )\n",
    "        elif self.rating==\"\" :\n",
    "            return \"{0:<15}   {1:<7}   {2:<7}   {3:<7}   {4:<5}년 {5:<4}분  {6:<7}  \".format(self.title , self.director, self.genre,  self.actor, self.releaseYear ,  self.runTime , \"N/A\" )\n",
    "        else :\n",
    "            return \"{0:<15}   {1:<7}   {2:<7}   {3:<7}   {4:<5}년 {5:<4}분  {6:<7}  \".format(self.title , self.director, self.genre,  self.actor, self.releaseYear ,  self.runTime , self.rating )\n",
    "\n",
    "movies = [ Movie(\"반지의 제왕 - 반지 원정대\", \"피터 잭슨\", \"판타지, 모험\", \"일라이저 우드\", \"12세관람가\", 2001, 178) ,\n",
    "          Movie(\"트랜스포머:패자의 역습\", \"마이클 베이\", \"SF, 액션\", \"샤이아 라보프\",  \"\", 2009, 149),\n",
    "          Movie(\"러브 액츄얼리\", \"리처드 커티스\", \"멜로, 드라마\", \"앨런 릭맨\", \"15세관람가\", 2003, 134),\n",
    "          Movie(\"쿵푸 팬더\", \"마크 오스본\", \"애니메이션\", \"잭 블랙\", \"전체관람가\") ]\n",
    "\n",
    "print(\"<<전체 영화 정보 조회>>\")\n",
    "Movie.printHead()\n",
    "for m in movies :\n",
    "    print(m)\n",
    "print(\"-------------------------------------------------------------------------------------------------------\\n\\n\")\n",
    "print(\"<<2005년 이전 개봉작 조회>>\")\n",
    "Movie.printHead()\n",
    "for m in movies :\n",
    "    if m.releaseYear < 2005 and   m.releaseYear != 0 :\n",
    "        print(m)    \n",
    "print(\"-------------------------------------------------------------------------------------------------------\\n\\n\")\n",
    "print(\"<<애니메이션 조회>>\")  \n",
    "Movie.printHead()\n",
    "for m in movies :\n",
    "    if m.genre ==\"애니메이션\" :\n",
    "        print(m)  \n",
    "print(\"-------------------------------------------------------------------------------------------------------\\n\\n\")\n",
    "print(\"<<러닝타임 140분 이상 영화 조회>>\")  \n",
    "Movie.printHead()\n",
    "for m in movies :\n",
    "    if m.runTime >= 140 :\n",
    "        print(m)"
   ]
  },
  {
   "cell_type": "markdown",
   "id": "e512afb1",
   "metadata": {},
   "source": [
    "### [ random 모듈 ]\n",
    "random.seed([정수]) : 임의의 숫자 생성을 위한 초기화 작업을 위한 값 설정\\\n",
    "random.random() : 0<= float <1 사이의 임의의 float 값을 반환\\\n",
    "random.randint(start, end) : start<= int <=end 사이의 임의의 int 값을 반환\\\n",
    "random.randrange(start, end, [step])\\\n",
    "random.gauss(m, sb) : 가우스 분포를 따르는 임의의 수 반환\\\n",
    "random.choice(sequence객체) :  sequence자료형인 리스트내부의 data로부터 임의의 data를 선택해서 반환\\\n",
    "random.shuffle(sequence객체 [, random]) 시퀀스 객체의 데이터를 섞음"
   ]
  },
  {
   "cell_type": "code",
   "execution_count": 1,
   "id": "232784e4",
   "metadata": {},
   "outputs": [
    {
     "name": "stdout",
     "output_type": "stream",
     "text": [
      "4.276238171370037\n",
      "57\n",
      "[1, 2, 3, 4, 5, 6, 7, 8, 9]\n",
      "[5, 1, 9, 7, 6, 4, 2, 8, 3]\n",
      "사과\n",
      "['배', '포도']\n"
     ]
    }
   ],
   "source": [
    "from random import *\n",
    "\n",
    "nums = uniform(1.0, 36.5) # 균등분포를 따르는 난수 생성\n",
    "print(nums)\n",
    "\n",
    "nums = randrange(1, 101, 2)\n",
    "print(nums)\n",
    "\n",
    "numlist = [i for i in range(1, 10)]\n",
    "print(numlist)\n",
    "shuffle(numlist)\n",
    "print(numlist)\n",
    "\n",
    "fruites = ('사과', '바나나', '귤', '포도', '배', '딸기')\n",
    "print(choice(fruites))\n",
    "print(sample(fruites, 2))"
   ]
  },
  {
   "cell_type": "code",
   "execution_count": 2,
   "id": "6f052122",
   "metadata": {},
   "outputs": [
    {
     "name": "stdout",
     "output_type": "stream",
     "text": [
      "배\n",
      "['포도', '사과']\n"
     ]
    }
   ],
   "source": [
    "fruites = ('사과', '바나나', '귤', '포도', '배', '딸기')\n",
    "print(choice(fruites))\n",
    "print(sample(fruites, 2))"
   ]
  },
  {
   "cell_type": "code",
   "execution_count": 3,
   "id": "1a42d0e5",
   "metadata": {},
   "outputs": [
    {
     "name": "stdout",
     "output_type": "stream",
     "text": [
      "사과\n",
      "['사과', '배']\n"
     ]
    }
   ],
   "source": [
    "fruites = ('사과', '바나나', '귤', '포도', '배', '딸기')\n",
    "print(choice(fruites))\n",
    "print(sample(fruites, 2))"
   ]
  },
  {
   "cell_type": "markdown",
   "id": "5509fd0e",
   "metadata": {},
   "source": [
    "### [ datetime 내장 모듈 ]\n",
    "date 클래스는 날짜를 표현하는 데 사용됨\n",
    "#### from datetime import date"
   ]
  },
  {
   "cell_type": "code",
   "execution_count": 1,
   "id": "1aa8a1ab",
   "metadata": {},
   "outputs": [
    {
     "name": "stdout",
     "output_type": "stream",
     "text": [
      "2021-12-29\n",
      "2021-12-29\n",
      "2021-12-29\n",
      "2022-01-03 <class 'str'>\n",
      "2022-01-03 <class 'datetime.date'>\n"
     ]
    }
   ],
   "source": [
    "from datetime import date\n",
    "d1 = date(2021, 12, 29)   # 날짜 객체 생성\n",
    "print(d1)\n",
    "\n",
    "d2 = date.today()   # 오늘날짜 반환\n",
    "print(d2)\n",
    "\n",
    "#국제표준 iso-     DD-MON-YY, YY/MM/DD\n",
    "print(d2.isoformat())   # YYYY-MM-DD\n",
    "\n",
    "\n",
    "#날짜형식의 문자열을 date 객체로 변환 : fromisoformat{}\n",
    "\n",
    "print('2022-01-03', type('2022-01-03'))\n",
    "d3 = date.fromisoformat('2022-01-03')\n",
    "print(d3, type(d3))"
   ]
  },
  {
   "cell_type": "code",
   "execution_count": 2,
   "id": "e8ca98fe",
   "metadata": {},
   "outputs": [
    {
     "name": "stdout",
     "output_type": "stream",
     "text": [
      "datetime.IsoCalendarDate(year=2021, week=52, weekday=3)\n"
     ]
    }
   ],
   "source": [
    "today = date.today()\n",
    "print(date(2021, 12, 29).isocalendar())"
   ]
  },
  {
   "cell_type": "markdown",
   "id": "a122a73a",
   "metadata": {},
   "source": [
    "#### 문자열 형식의 날짜와 시간을 datetime 객체로 변환 : strptime()"
   ]
  },
  {
   "cell_type": "code",
   "execution_count": 4,
   "id": "b0cb018b",
   "metadata": {},
   "outputs": [
    {
     "name": "stdout",
     "output_type": "stream",
     "text": [
      "2021-12-09 <class 'datetime.date'>\n",
      "2021-12-29 <class 'datetime.date'>\n",
      "138 days, 0:00:00 <class 'datetime.timedelta'>\n"
     ]
    }
   ],
   "source": [
    "from datetime import timedelta\n",
    "\n",
    "today = date.today()\n",
    "result = today - timedelta(days=20)\n",
    "print(result, type(result))\n",
    "\n",
    "result = today - timedelta(hours=2)\n",
    "print(result, type(result))\n",
    "\n",
    "result2 = datetime(2021, 11, 23) - datetime(2021, 7, 8)\n",
    "print(result2, type(result2))"
   ]
  },
  {
   "cell_type": "markdown",
   "id": "e4e3d3c2",
   "metadata": {},
   "source": [
    "* %y, %Y 년도\n",
    "* %b, %B 축약월, fullname 월\n",
    "* %m 숫자표현 월\n",
    "* %d 일(1~31)\n",
    "* %H (00~23) 시간\n",
    "* %I(01~12) 시간\n",
    "* %M 분 (00~59)\n",
    "* %S 초 (00~61)\n",
    "* %p  AM / PM\n",
    "* %a, %A  축약된 요일 이름, full요일이름\n",
    "* %w  요일을 숫자로 표시\n",
    "* %j  1월 1일부터 누적된 날짜 (001~366)"
   ]
  },
  {
   "cell_type": "markdown",
   "id": "a54d44fd",
   "metadata": {},
   "source": [
    "### [ time 내장 모듈 ]\n",
    "* time.time() : 1970년 1월 1일 자정 이후로부터 누적된 초를 float 단위로 반환\n",
    "* time.sleep(seconds) : 동작 중인 프로세스를 주어진 초만큼 정지시킴\n",
    "* time.gmtime([seconds]) : 초를 입력받아서 UTC 기준의 struct_time 시퀀스 객체로 반환\n",
    "* time.localtime([seconds]) : 초를 입력받아 지방표준시 기준의 struct_time 시퀀스 객체로 반환\n",
    "* time.asctime(struct_time 시퀀스 객체) : '축약요일 축약월 일 시:분:초 연도' 형태로 반환\n",
    "* time.mktime(struct_time 시퀀스 객체) : 1970년 1월 1일 자정 이후부터 누적된 초를 반환"
   ]
  },
  {
   "cell_type": "code",
   "execution_count": 5,
   "id": "e1143439",
   "metadata": {},
   "outputs": [
    {
     "name": "stdout",
     "output_type": "stream",
     "text": [
      "1640758138.9314692 <class 'float'>\n",
      "time.struct_time(tm_year=2021, tm_mon=12, tm_mday=29, tm_hour=6, tm_min=8, tm_sec=58, tm_wday=2, tm_yday=363, tm_isdst=0) <class 'time.struct_time'>\n",
      "time.struct_time(tm_year=2021, tm_mon=12, tm_mday=29, tm_hour=15, tm_min=8, tm_sec=58, tm_wday=2, tm_yday=363, tm_isdst=0) <class 'time.struct_time'>\n",
      "time.struct_time(tm_year=2009, tm_mon=2, tm_mday=13, tm_hour=23, tm_min=31, tm_sec=30, tm_wday=4, tm_yday=44, tm_isdst=0) <class 'time.struct_time'>\n",
      "2\n",
      "23\n",
      "Fri Feb 13 23:31:30 2009\n",
      "1234535490.0\n"
     ]
    }
   ],
   "source": [
    "import time\n",
    "t1 =time.time()\n",
    "print(t1, type(t1))\n",
    "t2 = time.gmtime()\n",
    "print(t2, type(t2))\n",
    "t3 = time.localtime()\n",
    "print(t3, type(t2))\n",
    "t4 = time.gmtime(1234567890)\n",
    "print(t4, type(t4))\n",
    "print(t4.tm_mon)\n",
    "print(t4.tm_hour)\n",
    "print(time.asctime(t4))\n",
    "print(time.mktime(t4))"
   ]
  },
  {
   "cell_type": "markdown",
   "id": "2d125f64",
   "metadata": {},
   "source": [
    "### 여행사 뭐시기 만들기"
   ]
  },
  {
   "cell_type": "markdown",
   "id": "013ffccf",
   "metadata": {},
   "source": [
    "#### 일단 여기저기서 다 긁어와본다.. (입금출금 + 영화정보조회)"
   ]
  },
  {
   "cell_type": "code",
   "execution_count": 2,
   "id": "21d184f4",
   "metadata": {},
   "outputs": [
    {
     "ename": "IndentationError",
     "evalue": "unexpected indent (Temp/ipykernel_10320/900061360.py, line 25)",
     "output_type": "error",
     "traceback": [
      "\u001b[1;36m  File \u001b[1;32m\"C:\\Users\\B-23\\AppData\\Local\\Temp/ipykernel_10320/900061360.py\"\u001b[1;36m, line \u001b[1;32m25\u001b[0m\n\u001b[1;33m    @staticmethod\u001b[0m\n\u001b[1;37m    ^\u001b[0m\n\u001b[1;31mIndentationError\u001b[0m\u001b[1;31m:\u001b[0m unexpected indent\n"
     ]
    }
   ],
   "source": [
    "class Travel :\n",
    "    individual = 0\n",
    "    package = 1\n",
    "    \n",
    "    def __init__(self, travelCode, cityName, flight, travelType, maxPeople=0, reserved=0) :\n",
    "        self.travelCode = travelCode\n",
    "        self.cityName = cityName\n",
    "        self.flight = flight\n",
    "        self.travelType = travelType\n",
    "        self.maxPeople = maxPeople\n",
    "        self.reserved = reserved\n",
    "\n",
    "    def __str__(self) :\n",
    "        if self.travelType == Travel.individual :\n",
    "            return \"{0:<6} {1:<4} {2:<5} {3:<6} {4:>2}명 {5:>2}명\".format(self.travelCode,self.cityName, self.flight,\"개별자유여행\", self.maxPeople, self.reserved )\n",
    "        else :\n",
    "            return \"{0:<6} {1:<4} {2:<5} {3:<6} {4:>2}명 {5:>2}명\".format(self.travelCode,self.cityName, self.flight,\"패키지여행\", self.maxPeople, self.reserved )\n",
    "\n",
    "travels = [Travel(\"TRV001\", \"뮌헨\", \"독일항공\", \"개별자유여행\", 10, 0),\n",
    "              Travel(\"TRV002\", \"프라하\", \"에어프랑스\", \"개별자유여행\", 20, 0),\n",
    "              Travel(\"TRV003\", \"로스엔젤레스\", \"델타항공\", \"패키지여행\", 12, 0),\n",
    "              Travel(\"TRV004\", \"후쿠오카\", \"대한항공\", \"개별자유여행\", 15, 0),\n",
    "              Travel(\"TRV005\", \"상해\", \"남방항공\", \"패키지여행\", 10, 0)]\n",
    "\n",
    "    @staticmethod\n",
    "    def getMenuItem() :\n",
    "        print(\"=============<< M E N U >>============\")\n",
    "        print(\"1. 전체 여행 상품 조회\")\n",
    "        print(\"2. 개별 자유여행 상품 조회\")\n",
    "        print(\"3. 패키지여행 상품 조회\")\n",
    "        print(\"4. 여행 상품 예약\")\n",
    "        print(\"9. 종료\")\n",
    "        print(\"======================================\")\n",
    "\n",
    "        def getMenuInput() :\n",
    "            return int(input(\"## 메뉴를 선택하세요. :\" ))\n",
    "    @staticmethod\n",
    "    def printHead() :\n",
    "        print(\"-------------------------------------------------------------------------------------------------------\")\n",
    "        print(\"\\t여행코드\\t\\t\\t도시명\\\\tt\\t항공편\\t\\t여행유형\\tt\\최대예약가능인원\\t예약\")\n",
    "        print(\"-------------------------------------------------------------------------------------------------------\")\n",
    "\n",
    "\n",
    "print(\"Welcome. 환영합니다. 파이썬 여행사입니다.\")\n",
    "\n",
    "while True :\n",
    "    Travel.getMenuItem()\n",
    "    menu = Travel.getMenuInput()\n",
    "    if menu == 9 :\n",
    "        print(\"Bye~~\")\n",
    "        break\n",
    "    elif menu == 1:\n",
    "        Travel.printHead()\n",
    "    elif menu == 2:\n",
    "        Travel.printHead()"
   ]
  },
  {
   "cell_type": "markdown",
   "id": "691fb086",
   "metadata": {},
   "source": [
    "### 클래스(객체) 관계\n",
    "\n",
    "#### 1. 상속 (is a) : child 객체 is a 부모 클래스\n",
    "#### 2. 객체가 다른 객체의 멤버(인스턴스 변수)가 될 수 있습니다. : has a\n",
    "\n",
    "    class TravelBiz :\n",
    "        def __init__(self) :\n",
    "            self.travel = Travel(...)\n",
    "\n",
    "#### 3. 객체가 다른 객체를 사용 : Use\n",
    "\n",
    "    class Test :\n",
    "        def func(travel) :\n",
    "            travel.flight\n",
    "            travel.method()"
   ]
  },
  {
   "cell_type": "code",
   "execution_count": null,
   "id": "a1629795",
   "metadata": {},
   "outputs": [],
   "source": []
  }
 ],
 "metadata": {
  "kernelspec": {
   "display_name": "Python 3 (ipykernel)",
   "language": "python",
   "name": "python3"
  },
  "language_info": {
   "codemirror_mode": {
    "name": "ipython",
    "version": 3
   },
   "file_extension": ".py",
   "mimetype": "text/x-python",
   "name": "python",
   "nbconvert_exporter": "python",
   "pygments_lexer": "ipython3",
   "version": "3.9.7"
  }
 },
 "nbformat": 4,
 "nbformat_minor": 5
}
