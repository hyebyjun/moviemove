{
 "cells": [
  {
   "cell_type": "code",
   "execution_count": 1,
   "id": "302afb79",
   "metadata": {
    "scrolled": true
   },
   "outputs": [
    {
     "name": "stdout",
     "output_type": "stream",
     "text": [
      "현빈 의 총점은 270 점, 평균은 90 점 입니다.\n",
      "원빈 의 총점은 240 점, 평균은 80 점 입니다.\n",
      "우빈 의 총점은 258 점, 평균은 86 점 입니다.\n",
      "혜빈 의 총점은 235 점, 평균은 78 점 입니다.\n"
     ]
    }
   ],
   "source": [
    "scores = {'현빈' : [80, 90, 100],\n",
    "          '원빈' : [70, 80, 90],\n",
    "          '우빈' : [75, 88, 95],\n",
    "          '혜빈' : [80, 70, 85]}\n",
    "\n",
    "# def getTotalAvg(scores) :  # 파라미터로 전달 받은 dict로부터 학생 당 총점과 평균을 연산\n",
    "                             # 새로운 dict에 키는 이름, value는 tuple 객체에 총점과 평균을 저장해서 리턴\n",
    "\n",
    "for k, v in scores.items() :\n",
    "\n",
    "    name = k\n",
    "    total = v[0]+v[1]+v[2]\n",
    "    avg = total/3\n",
    "    \n",
    "    print(k,\"의 총점은\",total,\"점, 평균은\",round(avg),\"점 입니다.\")\n",
    "    \n",
    "newdict = {}"
   ]
  },
  {
   "cell_type": "markdown",
   "id": "3b4a69d8",
   "metadata": {},
   "source": [
    "#### 선생님 정답"
   ]
  },
  {
   "cell_type": "code",
   "execution_count": 2,
   "id": "648fad14",
   "metadata": {},
   "outputs": [
    {
     "name": "stdout",
     "output_type": "stream",
     "text": [
      "{'현빈': (270, 90.0), '원빈': (240, 80.0), '우빈': (258, 86.0), '혜빈': (235, 78.33333333333333)}\n"
     ]
    }
   ],
   "source": [
    "scores = {\"현빈\" : [80,90,100],\n",
    "          \"원빈\" : [70,80,90],\n",
    "          \"우빈\" : [75,88,95],\n",
    "          \"혜빈\" : [80,70,85]}\n",
    "\n",
    "def getTotalAvg(scores) :       # 함수 정의\n",
    "    result = {}\n",
    "    for k, v in scores.items() :\n",
    "        data  = (sum(v), sum(v)/len(v))\n",
    "        result[k] = data\n",
    "    return result\n",
    "\n",
    "sungjuk = getTotalAvg(scores)   # 함수 호출\n",
    "print(sungjuk)"
   ]
  },
  {
   "cell_type": "markdown",
   "id": "a5dc6094",
   "metadata": {},
   "source": [
    "### 모듈 하나 만들어보기\n",
    "\n",
    "def convert_c_to_f(celcius_value) :\\\n",
    "    return celcius_value*9.0/5+32\n",
    "    \n",
    "#### 를 fah_converter.py로 아나콘다 립 폴더에 저장했습니다."
   ]
  },
  {
   "cell_type": "code",
   "execution_count": 6,
   "id": "d9bae922",
   "metadata": {},
   "outputs": [
    {
     "name": "stdout",
     "output_type": "stream",
     "text": [
      "섭씨 온도를 입력해보세요. :10\n",
      "10.0 => 화씨 온도로는 50.0\n"
     ]
    }
   ],
   "source": [
    "import fah_converter as ctoh    # 네임 스페이스? 범위 지정을 해준다!\n",
    "\n",
    "celcius = float(input('섭씨 온도를 입력해보세요. :'))\n",
    "fahrenheit = fah_converter.convert_c_to_f(celcius)\n",
    "print(celcius,'=>','화씨 온도로는',fahrenheit)"
   ]
  },
  {
   "cell_type": "markdown",
   "id": "e960c1ac",
   "metadata": {},
   "source": [
    "### 패키지를 만들어볼까요?\n",
    "\n",
    "roboadvisor(D)--- __init__.py(F)\\\n",
    "                       crawling(D)---__init__.py(F)\\\n",
    "                                        parser.py\\\n",
    "                                        scrap.py\\\n",
    "                       database(D)---__init__.py(F)\\\n",
    "                                         connection.py\\\n",
    "                                         query.py\\\n",
    "                       analysis(D)---__init__.py(F)\\\n",
    "                                         regression.py\\\n",
    "                                         statics.py"
   ]
  },
  {
   "cell_type": "code",
   "execution_count": 1,
   "id": "1129a4ce",
   "metadata": {
    "scrolled": true
   },
   "outputs": [
    {
     "name": "stdout",
     "output_type": "stream",
     "text": [
      "analysis.statics_test() called\n"
     ]
    }
   ],
   "source": [
    "from roboadvisor.analysis import statics\n",
    "statics.statics_test()"
   ]
  },
  {
   "cell_type": "code",
   "execution_count": 2,
   "id": "a82a637b",
   "metadata": {},
   "outputs": [
    {
     "name": "stdout",
     "output_type": "stream",
     "text": [
      "crawling.parser_test() called\n"
     ]
    }
   ],
   "source": [
    "from roboadvisor.crawling import parser\n",
    "parser.parser_test()"
   ]
  },
  {
   "cell_type": "code",
   "execution_count": 26,
   "id": "592ea0d5",
   "metadata": {
    "scrolled": true
   },
   "outputs": [
    {
     "name": "stdout",
     "output_type": "stream",
     "text": [
      "Cooking Light\n",
      "Auto Bild\n",
      "The Confession\n",
      "Les Miserables\n",
      "Breakthrough\n",
      "The Racketeer\n"
     ]
    }
   ],
   "source": [
    " Books = [[\"Cooking Light\", \"livig, cooking\", \"\", 15000, \"America Cooking\"],\n",
    "          [\"Auto Bild\", \"science, car\", \"\", 16000, \"Germany Car\"],\n",
    "          [\"The Confession\", \"\", \"Grisham, John\", 10500, \"\"],\n",
    "          [\"Les Miserables\", \"\", \"Hugo, Victor\", 17500, \"\"],\n",
    "          [\"Breakthrough\", \"\", \"Ifill, Gwen\", 47200, \"\"],\n",
    "          [\"The Racketeer\", \"\", \"Grisham, John\", 38000, \"\"]]\n",
    "\n",
    "for i in Books :\n",
    "    print(i[0])"
   ]
  },
  {
   "cell_type": "markdown",
   "id": "9a61144b",
   "metadata": {},
   "source": [
    "### 도서정보조회 : 선생님 정답"
   ]
  },
  {
   "cell_type": "code",
   "execution_count": null,
   "id": "9c2c9764",
   "metadata": {},
   "outputs": [
    {
     "name": "stdout",
     "output_type": "stream",
     "text": [
      "==== << 도서 정보 프로그램 >> ====\n",
      "1. 전체 도서 정보 조회 \n",
      "2. 전체 잡지 조회 \n",
      "3. 전체 소설 조회\n",
      "4. 잡지 연간 구독료 조회 \n",
      "5. 소설 저자명 검색 \n",
      "6. 소설 가격 검색 (최소값 ~ 최대값)\n",
      "9. 시스템 종료 \n",
      "==================================\n",
      "## 메뉴 입력: "
     ]
    }
   ],
   "source": [
    "class Book :                           # 클래스 정의\n",
    "    \n",
    "    def __init__(self, title, price) : # 멤버변수(인스턴스변수) 선언 및 초기화\n",
    "        self.title = title\n",
    "        self.price = price\n",
    "   \n",
    "    def __str__(self) :                # Book클래스로부터 생성된 객체의 상태를 표현하는 문자열 리턴\n",
    "        pass\n",
    "\n",
    "\n",
    "class Magazine(Book) :                 #클래스 정의\n",
    "\n",
    "    def __init__(self, title, price, category, description) : # 멤버변수(인스턴스변수) 선언 및 초기화\n",
    "        super().__init__(title, price)\n",
    "        self.category = category\n",
    "        self.description = description\n",
    "         \n",
    "    def __str__(self) :                # Magazine클래스로부터 생성된 객체의 상태를 표현하는 문자열 리턴\n",
    "         return \"[제목]{0:<15}   [분류]{1:<15}    [가격] {2:>5}   [비고]{3:<15}\".format(self.title, self.category , self.price, self.description)\n",
    "\n",
    "        \n",
    "class Novel(Book) :\n",
    "\n",
    "    def __init__(self, title, price, author) : # 멤버변수(인스턴스변수) 선언 및 초기화\n",
    "        super().__init__(title, price)\n",
    "        self.author = author\n",
    "         \n",
    "    def __str__(self) :                # Novel클래스로부터 생성된 객체의 상태를 표현하는 문자열 리턴\n",
    "        return \"[제목]{0:<15}   [저자]{1:<15}    [가격] {2:>5} \".format(self.title, self.author , self.price )\n",
    "\n",
    "    \n",
    "class BookBiz :\n",
    "    \n",
    "    def __init__(self, magazines, novels) : # 멤버변수(인스턴스변수) 선언 및 초기화\n",
    "        magazines.extend(novels)\n",
    "        self.books = magazines\n",
    "\n",
    "    def printAllBooks(self) :          # 모든 도서 정보 출력하는 메소드        \n",
    "        for idx, bk in enumerate(self.books) :\n",
    "            print(\"{0}.{1}\".format(idx+1, bk))\n",
    "\n",
    "    def printAllMagazines(self) :      # 도서중 잡지만 출력하는 메소드         \n",
    "        for idx,bk in enumerate(self.books) :\n",
    "            if isinstance(bk  , Magazine) :\n",
    "                 print(\"{0}.{1}\".format(idx+1, bk))\n",
    "             \n",
    "    def printAllNovels(self) :         # 도서중 소설만 출력하는 메소드\n",
    "        idx = 1\n",
    "        for bk in self.books:             \n",
    "            if isinstance(bk  , Novel) :\n",
    "                print(\"{0}.{1}\".format(idx, bk))\n",
    "                idx+=1\n",
    "\n",
    "    def printMagazineOneYearSubscription(self) : #잡지의 1년 구독료를 출력하는 메소드\n",
    "        idx = 1\n",
    "        for bk in self.books :\n",
    "            if isinstance(bk  , Magazine) :\n",
    "                print( \"{0}.{1}:{2}원\".format(idx, bk.title,  self.calculateOneYearSubscriptionPrice(bk.price))) \n",
    "                idx+=1\n",
    "\n",
    "    def searchNovelByAuthor(self, author) :      # 소설중 작가로 검색된 소설객체를 출력하는 메소드\n",
    "        idx = 1\n",
    "        for bk in self.books :\n",
    "            if isinstance(bk  , Novel)  and bk.author == author :\n",
    "                print(\"{0}.{1}\".format(idx, bk))\n",
    "                idx += 1\n",
    "            \n",
    "    def searchNovelByPrice(self, minPrice, maxPrice) : # 소설중 최대가격과 최소가격사이의 소설 검색 후 결과를 출력하는 메소드\n",
    "        idx = 1\n",
    "        for bk in self.books:\n",
    "            if isinstance(bk  , Novel) and bk.price >=minPrice and bk.price <=maxPrice:\n",
    "                print(\"{0}.{1}\".format(idx, bk))\n",
    "                idx += 1\n",
    "\n",
    "    def calculateOneYearSubscriptionPrice(self, price) : # 잡지의 가격을 파라미터로 받아서 1년 구독료 계산해서 리턴하는 메소드\n",
    "        return price * 12\n",
    "\n",
    "\n",
    "    @staticmethod\n",
    "    def getUserInput() :               # 사용자로부터 키보드 입력을 받아서 리턴하는 메소드\n",
    "        return input('')\n",
    "   \n",
    "    @staticmethod\n",
    "    def printHead() :                  # 도서정보 출력할때 heading만 출력하는 메소드\n",
    "        print(\"-------------------------------------도서 정보 -------------------------------------------\")\n",
    "\n",
    "\n",
    "    @staticmethod\n",
    "    def printTail() :                  # 모든 도서정보 출력후 밑줄 출력하는 메소드\n",
    "        print(\"------------------------------------------------------------------------------------------\")\n",
    "\n",
    "    @staticmethod\n",
    "    def printMenu() :                  # 메뉴 출력하는 메소드\n",
    "        print(\"==== << 도서 정보 프로그램 >> ====\")\n",
    "        print(\"1. 전체 도서 정보 조회 \")\n",
    "        print(\"2. 전체 잡지 조회 \")\n",
    "        print(\"3. 전체 소설 조회\")\n",
    "        print(\"4. 잡지 연간 구독료 조회 \")\n",
    "        print(\"5. 소설 저자명 검색 \")\n",
    "        print(\"6. 소설 가격 검색 (최소값 ~ 최대값)\")\n",
    "        print(\"9. 시스템 종료 \")        \n",
    "        print(\"==================================\")\n",
    "        \n",
    "\n",
    "# 객체 생성하고 메서드 호출하는 실행코드 (Sample Run 참고)\n",
    "\n",
    "magazines = [ Magazine('Cooking Light', 15000 , \"living, cooking\" , \"America Cooking\"),\n",
    "              Magazine('Auto Bild', 16000, 'science, car', 'Germany Car') ]\n",
    "novels = [ Novel('The Confession', 10500, 'Grisham, John'), \n",
    "           Novel('Les Miserables', 17500, 'Hugo, Victor'), \n",
    "           Novel('Breakthrough', 47200, 'Ifill, Gwen'),\n",
    "           Novel('The Racketeer', 38000, 'Grisham, John') ]\n",
    "\n",
    "\n",
    "biz = BookBiz(magazines,novels)\n",
    "\n",
    "while True : \n",
    "    BookBiz.printMenu()\n",
    "    print(\"## 메뉴 입력:\", end=\" \")\n",
    "    menu = int( biz.getUserInput())\n",
    "    if menu == 9 :\n",
    "        print(\"=================================\")\n",
    "        print(\"프로그램을 종료합니다. Bye~ Bye~\")\n",
    "        print(\"=================================\")\n",
    "        break\n",
    "    elif menu ==1 :\n",
    "        BookBiz.printHead()\n",
    "        biz.printAllBooks()\n",
    "        BookBiz.printTail()\n",
    "    elif menu ==2 :\n",
    "        BookBiz.printHead()\n",
    "        biz.printAllMagazines()\n",
    "        BookBiz.printTail()\n",
    "    elif menu ==3 :\n",
    "        BookBiz.printHead()\n",
    "        biz.printAllNovels()\n",
    "        BookBiz.printTail()\n",
    "    elif menu ==4 :\n",
    "        print(\"------------------------------.\")\n",
    "        biz.printMagazineOneYearSubscription()\n",
    "        print(\"------------------------------.\")\n",
    "    elif menu == 5 :\n",
    "        print(\"검색할 저자명을 입력하세요 : \", end=\" \")\n",
    "        author = biz.getUserInput()\n",
    "        BookBiz.printHead()\n",
    "        biz.searchNovelByAuthor(author)\n",
    "        BookBiz.printTail()\n",
    "    elif menu == 6 :\n",
    "        print(\"검색할 소설 가격의 최소값을 입력하세요 : \", end=\" \")\n",
    "        minPrice = int(biz.getUserInput())\n",
    "        print(\"검색할 소설 가격의 최대값을 입력하세요 : \", end=\" \")\n",
    "        maxPrice = int(biz.getUserInput())\n",
    "        BookBiz.printHead()\n",
    "        biz.searchNovelByPrice( minPrice, maxPrice)\n",
    "        BookBiz.printTail()"
   ]
  },
  {
   "cell_type": "code",
   "execution_count": null,
   "id": "0af6651c",
   "metadata": {},
   "outputs": [],
   "source": []
  }
 ],
 "metadata": {
  "kernelspec": {
   "display_name": "Python 3 (ipykernel)",
   "language": "python",
   "name": "python3"
  },
  "language_info": {
   "codemirror_mode": {
    "name": "ipython",
    "version": 3
   },
   "file_extension": ".py",
   "mimetype": "text/x-python",
   "name": "python",
   "nbconvert_exporter": "python",
   "pygments_lexer": "ipython3",
   "version": "3.9.7"
  }
 },
 "nbformat": 4,
 "nbformat_minor": 5
}
