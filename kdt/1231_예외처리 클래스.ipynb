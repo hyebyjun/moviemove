{
 "cells": [
  {
   "cell_type": "code",
   "execution_count": null,
   "id": "0825397c",
   "metadata": {
    "scrolled": true
   },
   "outputs": [],
   "source": [
    "def evenCheck(num) :\n",
    "    if num%2 == 0 :\n",
    "        print(num, \"Even\")\n",
    "    else :\n",
    "        print(num, \"Odd\")\n",
    "\n",
    "n = int(input(\"짝홀수 판별할 정수를 입력하세요. :\"))      # 실수, 입력값이 없을 때, 문자일 때는? Value Error\n",
    "evenCheck(n)\n",
    "\n",
    "\n",
    "for i in range(10) :\n",
    "    print(10/i)                                           # division by zero 발생"
   ]
  },
  {
   "cell_type": "code",
   "execution_count": 1,
   "id": "62af004d",
   "metadata": {},
   "outputs": [
    {
     "ename": "SyntaxError",
     "evalue": "invalid syntax (Temp/ipykernel_8708/1985571547.py, line 1)",
     "output_type": "error",
     "traceback": [
      "\u001b[1;36m  File \u001b[1;32m\"C:\\Users\\B-23\\AppData\\Local\\Temp/ipykernel_8708/1985571547.py\"\u001b[1;36m, line \u001b[1;32m1\u001b[0m\n\u001b[1;33m    for in in range(10) :\u001b[0m\n\u001b[1;37m        ^\u001b[0m\n\u001b[1;31mSyntaxError\u001b[0m\u001b[1;31m:\u001b[0m invalid syntax\n"
     ]
    }
   ],
   "source": [
    "for in in range(10) :\n",
    "    try :\n",
    "        print(10/i)\n",
    "    except ZeroDivisionError :\n",
    "        print(10/-(i+1))"
   ]
  },
  {
   "cell_type": "code",
   "execution_count": 2,
   "id": "6a558634",
   "metadata": {},
   "outputs": [
    {
     "name": "stdout",
     "output_type": "stream",
     "text": [
      "before execute code\n",
      "예외처리 코드\n",
      "10.0\n",
      "other execute code\n",
      "another execute code\n"
     ]
    }
   ],
   "source": [
    "print(\"before execute code\")\n",
    "for i in range(2) :\n",
    "    try :\n",
    "        print(10/i)\n",
    "        print(\"other execute code\")\n",
    "    except ZeroDivisionError :\n",
    "        print(\"예외처리 코드\")\n",
    "            \n",
    "print(\"another execute code\")"
   ]
  },
  {
   "cell_type": "code",
   "execution_count": 5,
   "id": "b54b310a",
   "metadata": {},
   "outputs": [
    {
     "name": "stdout",
     "output_type": "stream",
     "text": [
      "10.0\n",
      "예외가 발생하지 않았을때 실행 코드\n",
      "5.0\n",
      "예외가 발생하지 않았을때 실행 코드\n"
     ]
    }
   ],
   "source": [
    "for  i in range(1, 3): \n",
    "    try :\n",
    "        print(10/i)        \n",
    "    except ZeroDivisionError :\n",
    "        print(\"예외처리 코드\")\n",
    "    else : \n",
    "        print(\"예외가 발생하지 않았을때 실행 코드\")"
   ]
  },
  {
   "cell_type": "code",
   "execution_count": null,
   "id": "14276d04",
   "metadata": {},
   "outputs": [],
   "source": [
    "while True :\n",
    "    value = input(\"변환할 정수 입력 :\")\n",
    "    for digit in value :\n",
    "        if digit not in \"0123456789\" :\n",
    "            raise ValueError(\"숫자값을 입력하지 않았습니다.\")\n",
    "    print(\"정수값으로 변환된 수 :\", int(value))"
   ]
  },
  {
   "cell_type": "code",
   "execution_count": 24,
   "id": "e0be959d",
   "metadata": {},
   "outputs": [
    {
     "name": "stdout",
     "output_type": "stream",
     "text": [
      "2021년도 중학생 평균 키 : 159.41666666666666\n"
     ]
    }
   ],
   "source": [
    "class OutOfRangeTall (BaseException) :\n",
    "    def __init__(self) :\n",
    "        self.tall = 160.5\n",
    "        \n",
    "    def __str__(self) :\n",
    "        return \"중학생 평균키 범위는 130 이상 180 이하입니다.\"\n",
    "\n",
    "talls = [150, 155.5, 148, 117, 161, 163.5, 185, 164, 170, 169, 159, 152]\n",
    "\n",
    "\n",
    "def checkTall(middleTalls) :          # 범위는 130 이상 180 이하면 트라이, 아니면 예외\n",
    "    if middleTalls < 130 or middleTalls > 180 :\n",
    "        raise OutOfRangeTall\n",
    "        \n",
    "\n",
    "def getAvgTall(talls) :\n",
    "    for idx, t in enumerate(talls) :\n",
    "        try :\n",
    "            checkTall(t)\n",
    "        except OutOfRangeTall as e:\n",
    "                talls[idx] = e.tall\n",
    "                \n",
    "    return sum(talls)/len(talls)\n",
    "    \n",
    "print(\"2021년도 중학생 평균 키 :\", getAvgTall(talls))"
   ]
  },
  {
   "cell_type": "code",
   "execution_count": 2,
   "id": "e398e97a",
   "metadata": {
    "scrolled": true
   },
   "outputs": [
    {
     "name": "stdout",
     "output_type": "stream",
     "text": [
      "150\n",
      "155.5\n",
      "148\n",
      "161\n",
      "163.5\n",
      "164\n",
      "170\n",
      "169\n",
      "159\n",
      "152\n"
     ]
    }
   ],
   "source": [
    "talls = [150, 155.5, 148, 117, 161, 163.5, 185, 164, 170, 169, 159, 152]\n",
    "\n",
    "try :\n",
    "    for i in talls :\n",
    "        if 130 <= i <= 180 :\n",
    "            print(i)\n",
    "\n",
    "except :\n",
    "    print(\"예외가 발생했습니다.\")"
   ]
  }
 ],
 "metadata": {
  "kernelspec": {
   "display_name": "Python 3 (ipykernel)",
   "language": "python",
   "name": "python3"
  },
  "language_info": {
   "codemirror_mode": {
    "name": "ipython",
    "version": 3
   },
   "file_extension": ".py",
   "mimetype": "text/x-python",
   "name": "python",
   "nbconvert_exporter": "python",
   "pygments_lexer": "ipython3",
   "version": "3.9.7"
  }
 },
 "nbformat": 4,
 "nbformat_minor": 5
}
