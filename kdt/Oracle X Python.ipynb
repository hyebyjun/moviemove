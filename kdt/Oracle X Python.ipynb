{
 "cells": [
  {
   "cell_type": "code",
   "execution_count": 2,
   "id": "76478bcd",
   "metadata": {},
   "outputs": [],
   "source": [
    "import cx_Oracle"
   ]
  },
  {
   "cell_type": "code",
   "execution_count": 5,
   "id": "4ee16504",
   "metadata": {},
   "outputs": [
    {
     "name": "stdout",
     "output_type": "stream",
     "text": [
      "<cx_Oracle.Connection to user scott@local>\n",
      "<class 'cx_Oracle.Connection'>\n",
      "[(7369, 'SMITH', 'CLERK', 7902, datetime.datetime(1980, 12, 17, 0, 0), 800.0, None, 20), (7499, 'ALLEN', 'SALESMAN', 7698, datetime.datetime(1981, 2, 20, 0, 0), 1600.0, 300.0, 30), (7521, 'WARD', 'SALESMAN', 7698, datetime.datetime(1981, 2, 22, 0, 0), 1250.0, 500.0, 30), (7566, 'JONES', 'MANAGER', 7839, datetime.datetime(1981, 4, 2, 0, 0), 2975.0, None, 20), (7654, 'MARTIN', 'SALESMAN', 7698, datetime.datetime(1981, 9, 28, 0, 0), 1250.0, 1400.0, 30), (7698, 'BLAKE', 'MANAGER', 7839, datetime.datetime(1981, 5, 1, 0, 0), 2850.0, None, 30), (7782, 'CLARK', 'MANAGER', 7839, datetime.datetime(1981, 6, 9, 0, 0), 2450.0, None, 10), (7788, 'SCOTT', 'ANALYST', 7566, datetime.datetime(87, 7, 13, 0, 0), 3000.0, None, 20), (7839, 'KING', 'PRESIDENT', None, datetime.datetime(1981, 11, 17, 0, 0), 5000.0, None, 10), (7844, 'TURNER', 'SALESMAN', 7698, datetime.datetime(1981, 9, 8, 0, 0), 1500.0, 0.0, 30), (7876, 'ADAMS', 'CLERK', 7788, datetime.datetime(87, 7, 13, 0, 0), 1100.0, None, 20), (7900, 'JAMES', 'CLERK', 7698, datetime.datetime(1981, 12, 3, 0, 0), 950.0, None, 30), (7902, 'FORD', 'ANALYST', 7566, datetime.datetime(1981, 12, 3, 0, 0), 3000.0, None, 20), (7934, 'MILLER', 'CLERK', 7782, datetime.datetime(1982, 1, 23, 0, 0), 1300.0, None, 10)]\n",
      "<class 'list'>\n",
      "[('EMPNO', <cx_Oracle.DbType DB_TYPE_NUMBER>, 5, None, 4, 0, 0), ('ENAME', <cx_Oracle.DbType DB_TYPE_VARCHAR>, 10, 10, None, None, 1), ('JOB', <cx_Oracle.DbType DB_TYPE_VARCHAR>, 9, 9, None, None, 1), ('MGR', <cx_Oracle.DbType DB_TYPE_NUMBER>, 5, None, 4, 0, 1), ('HIREDATE', <cx_Oracle.DbType DB_TYPE_DATE>, 23, None, None, None, 1), ('SAL', <cx_Oracle.DbType DB_TYPE_NUMBER>, 11, None, 7, 2, 1), ('COMM', <cx_Oracle.DbType DB_TYPE_NUMBER>, 11, None, 7, 2, 1), ('DEPTNO', <cx_Oracle.DbType DB_TYPE_NUMBER>, 3, None, 2, 0, 1)]\n",
      "<class 'list'>\n"
     ]
    }
   ],
   "source": [
    "try :\n",
    "    dsn=cx_Oracle.makedsn('localhost',1521,'xe')  # protocol://host ip:port:db\n",
    "    db=cx_Oracle.connect('scott','oracle')        # session 반환\n",
    "    print(db)\n",
    "    print(type(db))\n",
    "    cursor=db.cursor()\n",
    "    cursor.execute(\"\"\"select * from emp\"\"\") \n",
    "    row=cursor.fetchall() \n",
    "    print(row)\n",
    "    print(type(row))\n",
    "\n",
    "    colname=cursor.description                    # 조회 결과 메타정보\n",
    "    print(colname)\n",
    "    print(type(colname))\n",
    "    col=[] \n",
    "    for i in colname: \n",
    "        col.append(i[0])  \n",
    "\n",
    "except Exception as ex :                         # db 연동 error 처리\n",
    "     print('db 연동 error', ex)\n",
    "     db.rollback()                                # db 반영 취소\n",
    "finally :                                        # db 연동 객체 close - 나중에 만들어진 객체를 먼저 닫는게 일반적\n",
    "     cursor.close()\n",
    "     db.close()"
   ]
  },
  {
   "cell_type": "code",
   "execution_count": 8,
   "id": "601458d3",
   "metadata": {},
   "outputs": [
    {
     "name": "stdout",
     "output_type": "stream",
     "text": [
      "ORA-00001: unique constraint (SCOTT.PK_DEPT) violated\n"
     ]
    }
   ],
   "source": [
    "sql = \"insert into dept (deptno, dname, loc) values (:don, :dnm, :dloc)\"\n",
    "\n",
    "try :\n",
    "    dsn=cx_Oracle.makedsn('localhost',1521,'xe')   \n",
    "    connection=cx_Oracle.connect('scott','oracle')     \n",
    "    cursor=connection.cursor()\n",
    "    cursor.execute(sql, [71, 'ERP', '부산'])\n",
    "    connection.commit()\n",
    "except cx_Oracle.Error as error :\n",
    "    print(error)\n",
    "finally :\n",
    "    cursor.close()\n",
    "    connection.close()"
   ]
  },
  {
   "cell_type": "code",
   "execution_count": null,
   "id": "726b45fb",
   "metadata": {},
   "outputs": [],
   "source": []
  }
 ],
 "metadata": {
  "kernelspec": {
   "display_name": "Python 3 (ipykernel)",
   "language": "python",
   "name": "python3"
  },
  "language_info": {
   "codemirror_mode": {
    "name": "ipython",
    "version": 3
   },
   "file_extension": ".py",
   "mimetype": "text/x-python",
   "name": "python",
   "nbconvert_exporter": "python",
   "pygments_lexer": "ipython3",
   "version": "3.9.7"
  }
 },
 "nbformat": 4,
 "nbformat_minor": 5
}
