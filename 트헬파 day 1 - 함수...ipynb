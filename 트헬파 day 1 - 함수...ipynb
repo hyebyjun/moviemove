{
 "cells": [
  {
   "cell_type": "code",
   "execution_count": 1,
   "id": "db1d9472",
   "metadata": {},
   "outputs": [
    {
     "name": "stdout",
     "output_type": "stream",
     "text": [
      "해는 2.0 또는 -4.0입니다.\n"
     ]
    }
   ],
   "source": [
    "a = 1\n",
    "b = 2\n",
    "c = -8\n",
    "\n",
    "# a*x**2 + b*x + c = 0 / a != 0 인 x에 관한 이차방정식에서 근의 공식으로 해를 구해보자.\n",
    "\n",
    "r1 = (-b + (b ** 2 - 4 * a * c) ** 0.5) / (2 * a)\n",
    "r2 = (-b - (b ** 2 - 4 * a * c) ** 0.5) / (2 * a)\n",
    "\n",
    "print('해는 {} 또는 {}입니다.'.format(r1, r2))"
   ]
  },
  {
   "cell_type": "markdown",
   "id": "0e38d0e9",
   "metadata": {},
   "source": [
    "### 함수 만들기 : 근의 공식\n",
    "a*x**2 + b*x + c = 0 / a != 0 인 x에 관한 이차방정식에서 근의 공식으로 해를 구해보자."
   ]
  },
  {
   "cell_type": "code",
   "execution_count": 2,
   "id": "80c68077",
   "metadata": {},
   "outputs": [],
   "source": [
    "def print_root() :\n",
    "    r1 = (-b + (b**2 - 4*a*c)**0.5) / (2*a)\n",
    "    r2 = (-b - (b**2 - 4*a*c)**0.5) / (2*a)\n",
    "    \n",
    "    print('해는 {} 또는 {}입니다.'.format(r1, r2))"
   ]
  },
  {
   "cell_type": "code",
   "execution_count": 5,
   "id": "dac2273e",
   "metadata": {},
   "outputs": [
    {
     "name": "stdout",
     "output_type": "stream",
     "text": [
      "해는 2.0 또는 -4.0입니다.\n",
      "해는 4.0 또는 -1.0입니다.\n"
     ]
    }
   ],
   "source": [
    "a = 1\n",
    "b = 2\n",
    "c = -8\n",
    "\n",
    "print_root()\n",
    "\n",
    "a = 2\n",
    "b = -6\n",
    "c = -8\n",
    "\n",
    "print_root()"
   ]
  },
  {
   "cell_type": "code",
   "execution_count": 6,
   "id": "3159cc40",
   "metadata": {},
   "outputs": [],
   "source": [
    "def func() :\n",
    "    print('안녕, 함수!')"
   ]
  },
  {
   "cell_type": "code",
   "execution_count": 8,
   "id": "b4fe84d1",
   "metadata": {
    "scrolled": true
   },
   "outputs": [
    {
     "name": "stdout",
     "output_type": "stream",
     "text": [
      "안녕, 함수!\n"
     ]
    }
   ],
   "source": [
    "func()"
   ]
  },
  {
   "cell_type": "markdown",
   "id": "3498abab",
   "metadata": {},
   "source": [
    "#### 함수 만들기~~"
   ]
  },
  {
   "cell_type": "code",
   "execution_count": 12,
   "id": "d48d4fc8",
   "metadata": {},
   "outputs": [
    {
     "name": "stdout",
     "output_type": "stream",
     "text": [
      "-2\n",
      "12\n"
     ]
    }
   ],
   "source": [
    "a = 5\n",
    "b = 7\n",
    "\n",
    "def add(a, b) :\n",
    "    result = a+b   # 실질적으로 중요한 공식은 a+b이지만,\n",
    "    print(result)  # 출력하라고 할 때, 저 공식(a+b)을 출력하라고 공식 이름을 부르기 위해 변수이름 할당한 게 result\n",
    "    \n",
    "def minus(a, b) :  # 궁금해서 해본 것, 테스트\n",
    "    print(a-b)     # 공식 자체를 네이밍(변수 할당)하지 않고, 출력명령어에 바로 공식을 써버려도 되지 않나?\n",
    "\n",
    "add(a, b)\n",
    "minus(a, b)        # 되긴 된다.\n",
    "                   # 그럼 왜 굳이 코드가 길어지게 공식에 네이밍(변수명 할당, 5번 줄 참고)을 할까?\n",
    "                   # 실제 프로그래밍은 훨씬 복잡하고 기니까.. 뭐 필요하니까 .. 쓸 데가 있어서 했겠지..?"
   ]
  },
  {
   "cell_type": "markdown",
   "id": "20416931",
   "metadata": {},
   "source": [
    "### 매개변수(parameter)와 실행인자(argument)\n",
    "\n",
    "* 매개변수 parameter : 함수를 \"정의\"할 때 쓰는 표식, 이름\n",
    "* 실행인자 argument : 함수를 \"실행\"할 때 함수 속 공식에 넘기는 변수, 값\n",
    "\n",
    "매개변수와 실행인자의 수는 같아야 한다. 다르면 사고다."
   ]
  },
  {
   "cell_type": "markdown",
   "id": "ca320096",
   "metadata": {},
   "source": [
    "#### Q. 변수 할당을 하지 않으면?"
   ]
  },
  {
   "cell_type": "code",
   "execution_count": 1,
   "id": "5774d47a",
   "metadata": {
    "scrolled": true
   },
   "outputs": [
    {
     "ename": "NameError",
     "evalue": "name 'b' is not defined",
     "output_type": "error",
     "traceback": [
      "\u001b[1;31m---------------------------------------------------------------------------\u001b[0m",
      "\u001b[1;31mNameError\u001b[0m                                 Traceback (most recent call last)",
      "\u001b[1;32m~\\AppData\\Local\\Temp/ipykernel_11580/2170901363.py\u001b[0m in \u001b[0;36m<module>\u001b[1;34m\u001b[0m\n\u001b[0;32m     10\u001b[0m \u001b[1;31m# 근의 공식에서 변수 a, b, c를 지정하지 않으면 실행이 안 된다.\u001b[0m\u001b[1;33m\u001b[0m\u001b[1;33m\u001b[0m\u001b[0m\n\u001b[0;32m     11\u001b[0m \u001b[1;33m\u001b[0m\u001b[0m\n\u001b[1;32m---> 12\u001b[1;33m \u001b[0mprint_root\u001b[0m\u001b[1;33m(\u001b[0m\u001b[1;33m)\u001b[0m\u001b[1;33m\u001b[0m\u001b[1;33m\u001b[0m\u001b[0m\n\u001b[0m",
      "\u001b[1;32m~\\AppData\\Local\\Temp/ipykernel_11580/2170901363.py\u001b[0m in \u001b[0;36mprint_root\u001b[1;34m()\u001b[0m\n\u001b[0;32m      1\u001b[0m \u001b[1;32mdef\u001b[0m \u001b[0mprint_root\u001b[0m\u001b[1;33m(\u001b[0m\u001b[1;33m)\u001b[0m \u001b[1;33m:\u001b[0m\u001b[1;33m\u001b[0m\u001b[1;33m\u001b[0m\u001b[0m\n\u001b[1;32m----> 2\u001b[1;33m     \u001b[0mr1\u001b[0m \u001b[1;33m=\u001b[0m \u001b[1;33m(\u001b[0m\u001b[1;33m-\u001b[0m\u001b[0mb\u001b[0m \u001b[1;33m+\u001b[0m \u001b[1;33m(\u001b[0m\u001b[0mb\u001b[0m\u001b[1;33m**\u001b[0m\u001b[1;36m2\u001b[0m \u001b[1;33m-\u001b[0m \u001b[1;36m4\u001b[0m\u001b[1;33m*\u001b[0m\u001b[0ma\u001b[0m\u001b[1;33m*\u001b[0m\u001b[0mc\u001b[0m\u001b[1;33m)\u001b[0m\u001b[1;33m**\u001b[0m\u001b[1;36m0.5\u001b[0m\u001b[1;33m)\u001b[0m \u001b[1;33m/\u001b[0m \u001b[1;33m(\u001b[0m\u001b[1;36m2\u001b[0m\u001b[1;33m*\u001b[0m\u001b[0ma\u001b[0m\u001b[1;33m)\u001b[0m\u001b[1;33m\u001b[0m\u001b[1;33m\u001b[0m\u001b[0m\n\u001b[0m\u001b[0;32m      3\u001b[0m     \u001b[0mr2\u001b[0m \u001b[1;33m=\u001b[0m \u001b[1;33m(\u001b[0m\u001b[1;33m-\u001b[0m\u001b[0mb\u001b[0m \u001b[1;33m-\u001b[0m \u001b[1;33m(\u001b[0m\u001b[0mb\u001b[0m\u001b[1;33m**\u001b[0m\u001b[1;36m2\u001b[0m \u001b[1;33m-\u001b[0m \u001b[1;36m4\u001b[0m\u001b[1;33m*\u001b[0m\u001b[0ma\u001b[0m\u001b[1;33m*\u001b[0m\u001b[0mc\u001b[0m\u001b[1;33m)\u001b[0m\u001b[1;33m**\u001b[0m\u001b[1;36m0.5\u001b[0m\u001b[1;33m)\u001b[0m \u001b[1;33m/\u001b[0m \u001b[1;33m(\u001b[0m\u001b[1;36m2\u001b[0m\u001b[1;33m*\u001b[0m\u001b[0ma\u001b[0m\u001b[1;33m)\u001b[0m\u001b[1;33m\u001b[0m\u001b[1;33m\u001b[0m\u001b[0m\n\u001b[0;32m      4\u001b[0m \u001b[1;33m\u001b[0m\u001b[0m\n\u001b[0;32m      5\u001b[0m     \u001b[0mprint\u001b[0m\u001b[1;33m(\u001b[0m\u001b[1;34m'해는 {} 또는 {}입니다.'\u001b[0m\u001b[1;33m.\u001b[0m\u001b[0mformat\u001b[0m\u001b[1;33m(\u001b[0m\u001b[0mr1\u001b[0m\u001b[1;33m,\u001b[0m \u001b[0mr2\u001b[0m\u001b[1;33m)\u001b[0m\u001b[1;33m)\u001b[0m\u001b[1;33m\u001b[0m\u001b[1;33m\u001b[0m\u001b[0m\n",
      "\u001b[1;31mNameError\u001b[0m: name 'b' is not defined"
     ]
    }
   ],
   "source": [
    "def print_root() :\n",
    "    r1 = (-b + (b**2 - 4*a*c)**0.5) / (2*a)\n",
    "    r2 = (-b - (b**2 - 4*a*c)**0.5) / (2*a)\n",
    "    \n",
    "    print('해는 {} 또는 {}입니다.'.format(r1, r2))\n",
    "\n",
    "# a = 1\n",
    "# b = 2\n",
    "# c = -8\n",
    "# 근의 공식에서 변수 a, b, c를 지정하지 않으면 실행이 안 된다.\n",
    "# 이건 당연한 것 같다. 넣은 게 없으니까 뱉을 게 없다.. this is not magic hat..\n",
    "\n",
    "print_root()"
   ]
  },
  {
   "cell_type": "markdown",
   "id": "fd41b4bb",
   "metadata": {},
   "source": [
    "#### Q. 함수를 만들 때(=정의할 때, 공식을 만들 때) 문법 형식 \"def 함수명(parameter)) :\" 함수 밖에서 쓰는 변수(argument=미지수, 요기랑) 생긴 게 같으면?"
   ]
  },
  {
   "cell_type": "code",
   "execution_count": 2,
   "id": "09e23e69",
   "metadata": {},
   "outputs": [
    {
     "ename": "TypeError",
     "evalue": "print_root() missing 3 required positional arguments: 'a', 'b', and 'c'",
     "output_type": "error",
     "traceback": [
      "\u001b[1;31m---------------------------------------------------------------------------\u001b[0m",
      "\u001b[1;31mTypeError\u001b[0m                                 Traceback (most recent call last)",
      "\u001b[1;32m~\\AppData\\Local\\Temp/ipykernel_944/3580376444.py\u001b[0m in \u001b[0;36m<module>\u001b[1;34m\u001b[0m\n\u001b[0;32m     11\u001b[0m \u001b[0mc\u001b[0m \u001b[1;33m=\u001b[0m \u001b[1;36m4\u001b[0m\u001b[1;33m\u001b[0m\u001b[1;33m\u001b[0m\u001b[0m\n\u001b[0;32m     12\u001b[0m \u001b[1;33m\u001b[0m\u001b[0m\n\u001b[1;32m---> 13\u001b[1;33m \u001b[0mprint_root\u001b[0m\u001b[1;33m(\u001b[0m\u001b[1;33m)\u001b[0m   \u001b[1;31m# 안 되더라. 왜 안 되냐고요.\u001b[0m\u001b[1;33m\u001b[0m\u001b[1;33m\u001b[0m\u001b[0m\n\u001b[0m",
      "\u001b[1;31mTypeError\u001b[0m: print_root() missing 3 required positional arguments: 'a', 'b', and 'c'"
     ]
    }
   ],
   "source": [
    "def print_root(a, b, c) :   # 안 될 게 뭐야 싶은데\n",
    "                            # 프린트루트(a, b, c) : 라는 공식(함수)에는 a, b, c라는 미지수가 있어요. <== 로 ㅇㅇ 그래. 하고 넘어갔음.\n",
    "    r1 = (-b + (b**2 - 4*a*c)**0.5) / (2*a)    # 미지수 abc가 있는 상세 공식 r1\n",
    "    r2 = (-b - (b**2 - 4*a*c)**0.5) / (2*a)    # 미지수 abc가 있는 상세 공식 r1\n",
    "    \n",
    "    print('해는 {} 또는 {}입니다.'.format(r1, r2))\n",
    "\n",
    "# 그 담에 미지수 a, b, c에 2, 3, 4를 넣었을 뿐인데, 출력이 안되나?\n",
    "a = 2\n",
    "b = 3\n",
    "c = 4\n",
    "\n",
    "print_root()   # 안 되더라. 왜 안 되냐고요.\n",
    "# 2022.02.24에 다시 쓰는 추가 코멘트 : 지금 생각하면.. 당연히 안된다.. a,b,c를 선언하면 뭐하니 넣질 않았는데.....\n",
    "# a = 2, b = 3, c = 4라는 요리를 만들면 뭐하니 먹질 않았는데..\n",
    "# 먹은 게 없는데 왜 응아가 안 나오냐고 하는 것 같다..."
   ]
  },
  {
   "cell_type": "markdown",
   "id": "078622e0",
   "metadata": {},
   "source": [
    "#### print_root() missing 3 required positional arguments: 'a', 'b', and 'c'\n",
    "위치가 지정된 실행인자가 3개 필요합니다~~ 그게 없어요~ 라는데..\\\n",
    "아무래도 저는 동의할 수가 없다.\\\n",
    "a, b, c 위치에 a=2, b=3, c=4 를 넣었는데 왜 안 될까요? 왜.. ? 왜지..?\n",
    "#### 일단 실제로 실행하는 진짜 실행문에서 변수를 x, y, z로 바꿔보자"
   ]
  },
  {
   "cell_type": "code",
   "execution_count": 2,
   "id": "8bf32543",
   "metadata": {},
   "outputs": [
    {
     "name": "stdout",
     "output_type": "stream",
     "text": [
      "해는 (-0.7499999999999999+1.1989578808281798j) 또는 (-0.7500000000000001-1.1989578808281798j)입니다.\n"
     ]
    }
   ],
   "source": [
    "def print_root(a, b, c) :    # 매개변수 a, b, c\n",
    "\n",
    "    r1 = (-b + (b**2 - 4*a*c)**0.5) / (2*a)\n",
    "    r2 = (-b - (b**2 - 4*a*c)**0.5) / (2*a)\n",
    "    \n",
    "    print('해는 {} 또는 {}입니다.'.format(r1, r2))\n",
    "\n",
    "x = 2\n",
    "y = 3\n",
    "z = 4\n",
    "\n",
    "print_root(x, y, z)          # 실행인자 x, y, z\n",
    "# 아니 이러면 잘 되는 건 알겠다! 근데 왜 그러냐고요?\n",
    "# a = b = c 는 맞는데, a = c 는 틀렸다고 하는 것 같음."
   ]
  },
  {
   "cell_type": "code",
   "execution_count": 7,
   "id": "a9a5404d",
   "metadata": {},
   "outputs": [
    {
     "name": "stdout",
     "output_type": "stream",
     "text": [
      "해는 (-0.7499999999999999+1.1989578808281798j) 또는 (-0.7500000000000001-1.1989578808281798j)입니다.\n"
     ]
    }
   ],
   "source": [
    "def print_root(a, b, c) :    # 매개변수 a, b, c\n",
    "\n",
    "    r1 = (-b + (b**2 - 4*a*c)**0.5) / (2*a)\n",
    "    r2 = (-b - (b**2 - 4*a*c)**0.5) / (2*a)\n",
    "    \n",
    "    print('해는 {} 또는 {}입니다.'.format(r1, r2))\n",
    "\n",
    "a = 2\n",
    "b = 3\n",
    "c = 4\n",
    "\n",
    "print_root(a, b, c)"
   ]
  },
  {
   "cell_type": "code",
   "execution_count": 3,
   "id": "507f9032",
   "metadata": {},
   "outputs": [
    {
     "name": "stdout",
     "output_type": "stream",
     "text": [
      "해는 (-0.7499999999999999+1.1989578808281798j) 또는 (-0.7500000000000001-1.1989578808281798j)입니다.\n"
     ]
    }
   ],
   "source": [
    "def print_root(a, b, c) :\n",
    "\n",
    "    r1 = (-b + (b**2 - 4*a*c)**0.5) / (2*a)\n",
    "    r2 = (-b - (b**2 - 4*a*c)**0.5) / (2*a)\n",
    "    \n",
    "    print('해는 {} 또는 {}입니다.'.format(r1, r2))\n",
    "\n",
    "print_root(2, 3, 4)   # 이건 또 된다. 이게 되는 건 또 왠지 당연한 것 같다.\n",
    "# 어느 미묘한 차이로 내 뇌가 인식을 달리 하는지 연구가 필요하다.."
   ]
  },
  {
   "cell_type": "markdown",
   "id": "60c12f7a",
   "metadata": {},
   "source": [
    "#### 이해가 안 되면 일단은 외우자. 외우고 쓰다 보면 불현듯 깨치는 날이 올 거야...\n",
    "이걸 연구하는 데에 시간을 많이 쏟기엔 지금 내가 시간이 없다..\\\n",
    "나는 1+1이 왜 2인지 증명하는 수학자 수준이 아니다.."
   ]
  },
  {
   "cell_type": "code",
   "execution_count": 9,
   "id": "7002a0df",
   "metadata": {},
   "outputs": [
    {
     "name": "stdout",
     "output_type": "stream",
     "text": [
      "5\n",
      "2\n",
      "4\n"
     ]
    }
   ],
   "source": [
    "def print_round(number) :\n",
    "    rounded = round(number)\n",
    "    print(rounded)\n",
    "    \n",
    "print_round(4.6)\n",
    "print_round(2.2)\n",
    "print_round(3.6)"
   ]
  },
  {
   "cell_type": "code",
   "execution_count": 2,
   "id": "b9080b12",
   "metadata": {},
   "outputs": [
    {
     "name": "stdout",
     "output_type": "stream",
     "text": [
      "15\n",
      "15\n"
     ]
    }
   ],
   "source": [
    "def add(a, b) :\n",
    "    result = a+b\n",
    "    print(result)\n",
    "\n",
    "add(10, 5)\n",
    "\n",
    "def add(a, b) :\n",
    "    print(a+b)\n",
    "\n",
    "add(5, 10)"
   ]
  },
  {
   "cell_type": "markdown",
   "id": "0839ddaa",
   "metadata": {},
   "source": [
    "(잡소리) 근데 a = a + 1 이거 재귀함수같아요.. 몹시 싫다!\\\n",
    "a += 1 으으"
   ]
  },
  {
   "cell_type": "code",
   "execution_count": 1,
   "id": "3936c800",
   "metadata": {},
   "outputs": [
    {
     "data": {
      "text/plain": [
       "52"
      ]
     },
     "execution_count": 1,
     "metadata": {},
     "output_type": "execute_result"
    }
   ],
   "source": [
    "def add_10(value) :    # value에 10을 더한 값을 돌려주는 함수\n",
    "    result = value + 10\n",
    "    return result\n",
    "\n",
    "add_10(42)"
   ]
  },
  {
   "cell_type": "code",
   "execution_count": 3,
   "id": "e513e95c",
   "metadata": {},
   "outputs": [
    {
     "name": "stdout",
     "output_type": "stream",
     "text": [
      "52\n"
     ]
    }
   ],
   "source": [
    "def add_10(value) :    # value에 10을 더한 값을 돌려주는 함수\n",
    "    result = value + 10\n",
    "    print(result)\n",
    "\n",
    "add_10(42)"
   ]
  },
  {
   "cell_type": "markdown",
   "id": "a3f313c4",
   "metadata": {},
   "source": [
    "### return의 의미 : 내가 def 정의한 함수에서 최종 퉤 하는 결과물"
   ]
  },
  {
   "cell_type": "code",
   "execution_count": 5,
   "id": "575ed3fa",
   "metadata": {},
   "outputs": [
    {
     "data": {
      "text/plain": [
       "10"
      ]
     },
     "execution_count": 5,
     "metadata": {},
     "output_type": "execute_result"
    }
   ],
   "source": [
    "def add_10(value) :    # value에 10을 더한 값을 돌려주는 함수\n",
    "    return 10          # 그래서 사실 아래 'value + 10' 공식이 있지만 'return 10'이 먼저 실행됐기 때문에\n",
    "    result = value + 10\n",
    "    return result      # (하나의 def 속에서 return은 하나. 1:1 대응? 위에 이미 써서 아래꺼 작동 안됨.)\n",
    "\n",
    "add_10(42)             # 실행인자에 뭘 넣든, 아묻따 10 이 나온다."
   ]
  },
  {
   "cell_type": "code",
   "execution_count": 10,
   "id": "7a3cc720",
   "metadata": {},
   "outputs": [
    {
     "name": "stdout",
     "output_type": "stream",
     "text": [
      "return 앞\n"
     ]
    },
    {
     "data": {
      "text/plain": [
       "10"
      ]
     },
     "execution_count": 10,
     "metadata": {},
     "output_type": "execute_result"
    }
   ],
   "source": [
    "def add_10(value) :\n",
    "    print('return 앞')\n",
    "    return 10\n",
    "    print('return 뒤')    # 아니 얘는 왜 안 나옴????\n",
    "    result = value + 10   # 여기부터 아래까지 안 나오는 건 알겠다\n",
    "    return result         # 근데 4번줄 print('return 뒤')는 왜 안 나옴??\n",
    "\n",
    "add_10(42)                # 그냥 return 은 최종 땅땅 도장. 뒤로는 잘라서 버린다고 생각하자."
   ]
  }
 ],
 "metadata": {
  "kernelspec": {
   "display_name": "Python 3 (ipykernel)",
   "language": "python",
   "name": "python3"
  },
  "language_info": {
   "codemirror_mode": {
    "name": "ipython",
    "version": 3
   },
   "file_extension": ".py",
   "mimetype": "text/x-python",
   "name": "python",
   "nbconvert_exporter": "python",
   "pygments_lexer": "ipython3",
   "version": "3.9.7"
  }
 },
 "nbformat": 4,
 "nbformat_minor": 5
}
