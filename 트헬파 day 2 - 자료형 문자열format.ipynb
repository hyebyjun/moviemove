{
 "cells": [
  {
   "cell_type": "markdown",
   "metadata": {},
   "source": [
    "#### format 알아보기"
   ]
  },
  {
   "cell_type": "code",
   "execution_count": 1,
   "metadata": {},
   "outputs": [
    {
     "name": "stdout",
     "output_type": "stream",
     "text": [
      "20 번 손님 안녕하세요 . 문자열 포맷의 세계 에 오신 것을 환영합니다 !\n",
      "{0}번 손님, {1}. {2}에 오신 것을 {3}!\n",
      "20번 손님, 안녕하세요. 문자열 포맷의 세계에 오신 것을 환영합니다!\n"
     ]
    }
   ],
   "source": [
    "number = 20\n",
    "greeting = '안녕하세요'\n",
    "place = '문자열 포맷의 세계'\n",
    "welcome = '환영합니다'\n",
    "\n",
    "# 예전 방식\n",
    "print(number, '번 손님', greeting, '.', place, '에 오신 것을', welcome, '!')\n",
    "\n",
    "# format 방식\n",
    "base = '{0}번 손님, {1}. {2}에 오신 것을 {3}!'               # {} 중괄호를 넘버링할 때 0부터 해야된다. 1부터 하면 오류난다.\n",
    "new_way = base.format(number, greeting, place, welcome)     # 기억하세요.. 기계어에서 첫번째는 1이 아니다.. 0이다..\n",
    "\n",
    "print(base)                                                 # print() 가 소괄호 안의 내용을 하나씩 \"출력\"했다면\n",
    "print(new_way)                                              # 어쩌구변수.format() 은 소괄호 안의 내용을 하나씩 변수의 {} 중괄호 안에 \"넣는다!\"\n",
    "\n",
    "# 어쩌구변수.format()  <== 점으로 앞 변수를 콕 찍고 매달려간다~~"
   ]
  },
  {
   "cell_type": "code",
   "execution_count": 9,
   "metadata": {},
   "outputs": [
    {
     "name": "stdout",
     "output_type": "stream",
     "text": [
      "나는 ㅎㅎ, 너는 ㅋㅋ, 그래서.\n"
     ]
    }
   ],
   "source": [
    "mine = 'ㅎㅎ'\n",
    "yours = 'ㅋㅋ'\n",
    "result = 'ㅠㅠ'\n",
    "\n",
    "print('나는 {0}, 너는 {1}, 그래서.'.format(mine, yours, result))  # 중괄호 박스는 2개, 포맷 속 변수는 3개\n",
    "\n",
    "# 변수가 들어갈 곳이 없는 건 괜찮다. 왠진 모르는데 아무튼 괜찮다."
   ]
  },
  {
   "cell_type": "code",
   "execution_count": 11,
   "metadata": {},
   "outputs": [
    {
     "ename": "IndexError",
     "evalue": "Replacement index 3 out of range for positional args tuple",
     "output_type": "error",
     "traceback": [
      "\u001b[1;31m---------------------------------------------------------------------------\u001b[0m",
      "\u001b[1;31mIndexError\u001b[0m                                Traceback (most recent call last)",
      "\u001b[1;32m~\\AppData\\Local\\Temp/ipykernel_2284/3072519875.py\u001b[0m in \u001b[0;36m<module>\u001b[1;34m\u001b[0m\n\u001b[0;32m      3\u001b[0m \u001b[0mresult\u001b[0m \u001b[1;33m=\u001b[0m \u001b[1;34m'ㅠㅠ'\u001b[0m\u001b[1;33m\u001b[0m\u001b[1;33m\u001b[0m\u001b[0m\n\u001b[0;32m      4\u001b[0m \u001b[1;33m\u001b[0m\u001b[0m\n\u001b[1;32m----> 5\u001b[1;33m \u001b[0mprint\u001b[0m\u001b[1;33m(\u001b[0m\u001b[1;34m'나는 {0}, 너는 {1}, 그래서 {2}{3}.'\u001b[0m\u001b[1;33m.\u001b[0m\u001b[0mformat\u001b[0m\u001b[1;33m(\u001b[0m\u001b[0mmine\u001b[0m\u001b[1;33m,\u001b[0m \u001b[0myours\u001b[0m\u001b[1;33m,\u001b[0m \u001b[0mresult\u001b[0m\u001b[1;33m)\u001b[0m\u001b[1;33m)\u001b[0m\u001b[1;33m\u001b[0m\u001b[1;33m\u001b[0m\u001b[0m\n\u001b[0m",
      "\u001b[1;31mIndexError\u001b[0m: Replacement index 3 out of range for positional args tuple"
     ]
    }
   ],
   "source": [
    "mine = 'ㅎㅎ'\n",
    "yours = 'ㅋㅋ'\n",
    "result = 'ㅠㅠ'\n",
    "\n",
    "print('나는 {0}, 너는 {1}, 그래서 {2} {3}.'.format(mine, yours, result))\n",
    "\n",
    "# 방은 4개인데 변수는 3개. {방}이 남는 건 안 되나보다. 그런 줄 알자.. 그럴 것 같다.."
   ]
  },
  {
   "cell_type": "code",
   "execution_count": 2,
   "metadata": {},
   "outputs": [
    {
     "name": "stdout",
     "output_type": "stream",
     "text": [
      "Some text 어떤 텍스트 Some text도 어떤 텍스트도 지금 이것도 문자열\n"
     ]
    }
   ],
   "source": [
    "string1 = 'Some text'\n",
    "string2 = '어떤 텍스트'\n",
    "string3 = '{0}도 {1}도 지금 이것도 문자열'.format(string1, string2)       # 중괄호 안에 숫자는 안 써도 되긴 함. 알아서 하자..\n",
    "\n",
    "print(string1, string2, string3)"
   ]
  },
  {
   "cell_type": "markdown",
   "metadata": {},
   "source": [
    "##### 문자열 감쌀 때 '~', \"~\" 보다 '''~'''이나 \"\"\"~\"\"\"이 만능키라는 뭐 그런 내용.. rgrg.."
   ]
  },
  {
   "cell_type": "code",
   "execution_count": 3,
   "metadata": {},
   "outputs": [
    {
     "name": "stdout",
     "output_type": "stream",
     "text": [
      "다스베이더가 말했다.\n",
      "\"내가 네 애비다!\"\n",
      "그 말을 들은 루크는 '깜짝' 놀랐다.\n"
     ]
    }
   ],
   "source": [
    "string = '''다스베이더가 말했다.\n",
    "\"내가 네 애비다!\"\n",
    "그 말을 들은 루크는 '깜짝' 놀랐다.'''\n",
    "\n",
    "print(string)     # 예문 왜 이러냐ㅋㅋㅋㅋㅋㅋ 공부가 지루하지 않게 해주네요.. 저자 좋은 사람.."
   ]
  },
  {
   "cell_type": "markdown",
   "metadata": {},
   "source": [
    "#### 다들 아는 문정실 한 명쯤은 있잖아?\n",
    "문 %s - String 문자열\\\n",
    "정 %d - Int~ 정수인데 여기선 0~9 단위의 digit으로 d를 사용\\\n",
    "실 %f - float, 그러나 float == 실수라고 하긴 어렵고 사실 부동소수점인데 실수로 퉁친다는 느낌"
   ]
  },
  {
   "cell_type": "code",
   "execution_count": 3,
   "metadata": {},
   "outputs": [
    {
     "name": "stdout",
     "output_type": "stream",
     "text": [
      "True\n",
      "False\n",
      "False\n"
     ]
    }
   ],
   "source": [
    "print(0.1 + 0.1 == 0.2)            # 참트루\n",
    "print(0.1 + 0.1 + 0.1 == 0.3)      # 미쳤냐\n",
    "print(0.1 + 0.2 == 0.3)            # 왜 틀리다고 하냐!"
   ]
  },
  {
   "cell_type": "markdown",
   "metadata": {},
   "source": [
    "* 정확해야 하고, 정수만 써도 될 때\n",
    "* 정확하지 않아도 되고, 실수가 필요할 때"
   ]
  },
  {
   "cell_type": "code",
   "execution_count": 12,
   "metadata": {},
   "outputs": [
    {
     "name": "stdout",
     "output_type": "stream",
     "text": [
      "5\n",
      "5.0\n",
      "5.0\n"
     ]
    }
   ],
   "source": [
    "print(int(5.0))\n",
    "print(float(5))\n",
    "print(5 * 1.0)"
   ]
  },
  {
   "cell_type": "code",
   "execution_count": null,
   "metadata": {},
   "outputs": [],
   "source": []
  }
 ],
 "metadata": {
  "interpreter": {
   "hash": "f6464f4180baccb35eb9baa7edf1b5c2be21a1baf284135cf76c038e007385bd"
  },
  "kernelspec": {
   "display_name": "Python 3 (ipykernel)",
   "language": "python",
   "name": "python3"
  },
  "language_info": {
   "codemirror_mode": {
    "name": "ipython",
    "version": 3
   },
   "file_extension": ".py",
   "mimetype": "text/x-python",
   "name": "python",
   "nbconvert_exporter": "python",
   "pygments_lexer": "ipython3",
   "version": "3.9.7"
  }
 },
 "nbformat": 4,
 "nbformat_minor": 2
}
