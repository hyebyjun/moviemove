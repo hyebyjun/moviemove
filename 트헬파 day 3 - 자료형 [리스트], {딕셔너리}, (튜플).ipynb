{
 "cells": [
  {
   "cell_type": "markdown",
   "metadata": {},
   "source": [
    "### [리스트]는 대괄호[]에."
   ]
  },
  {
   "cell_type": "code",
   "execution_count": 14,
   "metadata": {},
   "outputs": [
    {
     "name": "stdout",
     "output_type": "stream",
     "text": [
      "['가위', '바위', '보']\n",
      "[37, 23, 10, 33, 29, 40]\n",
      "['바위', '바위', '보']\n"
     ]
    }
   ],
   "source": [
    "list1 = ['가위', '바위', '보']\n",
    "list2 = [37, 23, 10, 33, 29, 40]\n",
    "\n",
    "print(list1)\n",
    "print(list2)\n",
    "\n",
    "list1[0] = '바위'\n",
    "print(list1)"
   ]
  },
  {
   "cell_type": "code",
   "execution_count": 5,
   "metadata": {},
   "outputs": [
    {
     "name": "stdout",
     "output_type": "stream",
     "text": [
      "무지개의 첫번째 색은 빨강이다.\n",
      "무지개의 마지막 색은 보라이다.\n"
     ]
    }
   ],
   "source": [
    "rainbow = ['빨강', '주황', '노랑', '초록', '파랑', '남', '보라']      # rainbow를 이용해서 first_color에 값을 저장해보자\n",
    "first_color = rainbow[0]\n",
    "last_color = rainbow[-1]\n",
    "\n",
    "print('무지개의 첫번째 색은 {}이다.'.format(first_color))\n",
    "print('무지개의 마지막 색은 {}이다.'.format(last_color))"
   ]
  },
  {
   "cell_type": "markdown",
   "metadata": {},
   "source": [
    "##### 리스트에 값을 더하는 방법\n",
    "1. 원래 리스트에 append 함수 사용해서 포크로 찍고 따라가기 = 리스트명은 안 변함\n",
    "2. 원래 리스트에 대괄호 []로 더하고 새로운 리스트명으로 명명하기"
   ]
  },
  {
   "cell_type": "code",
   "execution_count": 15,
   "metadata": {},
   "outputs": [
    {
     "name": "stdout",
     "output_type": "stream",
     "text": [
      "[37, 23, 10, 33, 29, 40, 20]\n",
      "[37, 23, 10, 33, 29, 40, 20, 99]\n"
     ]
    }
   ],
   "source": [
    "list2.append(20)\n",
    "print(list2)\n",
    "\n",
    "list3 = list2 + [99]\n",
    "print(list3)"
   ]
  },
  {
   "cell_type": "code",
   "execution_count": 16,
   "metadata": {},
   "outputs": [
    {
     "name": "stdout",
     "output_type": "stream",
     "text": [
      "[37, 23, 10, 29, 40, 20, 99]\n",
      "[37, 23, 10, 33, 29, 20]\n",
      "[]\n"
     ]
    }
   ],
   "source": [
    "del list3[3]\n",
    "print(list3)               # 딜리트는 위치(인덱스) 지정해서 대상 삭제\n",
    "\n",
    "list2.remove(40)           # 리무브는 고녀석 중 콕 집어서 지목 대상 삭제\n",
    "print(list2)\n",
    "\n",
    "list2.clear()              # 클리어는 걍.. 싹 밀어버린다...\n",
    "print(list2)               # 클리어 뒤 소괄호에 지목해봤는데 실행인자 객체를 가질 수 없다 나왔음.."
   ]
  },
  {
   "cell_type": "markdown",
   "metadata": {},
   "source": [
    "### DICT 딕 셔 너 리 {Key : Value} 딕셔너리는 중괄호 중괄호는 딕셔너리.."
   ]
  },
  {
   "cell_type": "code",
   "execution_count": 33,
   "metadata": {},
   "outputs": [
    {
     "name": "stdout",
     "output_type": "stream",
     "text": [
      "[1, 2, 3, 4, 5]\n",
      "[1, 2, 3, 9, 5]\n",
      "{'one': 1, 'two': 2}\n",
      "{'one': 11, 'two': 2}\n"
     ]
    }
   ],
   "source": [
    "days_in_month = {'1월':31, '2월':28, '3월':31}\n",
    "\n",
    "list = [1, 2, 3, 4, 5]\n",
    "dict = {'one':1, 'two':2}\n",
    "\n",
    "print(list)\n",
    "list[3] = 9\n",
    "print(list)\n",
    "\n",
    "print(dict)\n",
    "dict['one'] = 11       # 리스트에서 n번째 인덱스의 값을 대체하듯, 딕셔너리도 인덱스 대신 키를 부르고 값 입력하면 된다.\n",
    "print(dict)"
   ]
  },
  {
   "cell_type": "markdown",
   "metadata": {},
   "source": [
    "방금은 대체 방법을 확인했음. n번째 값 '대체' 말고, '추가'는 그러면??\\\n",
    "리스트에서 추가하는 방법 2가지 있었다. append 사용하거나, 대괄호로 더하되 새로운 리스트명으로 명명하기.\\\n",
    "그럼 딕셔너리에서는 어떨까? 일단 똑같은 방법 두 가지를 시도해보겠음."
   ]
  },
  {
   "cell_type": "code",
   "execution_count": 35,
   "metadata": {},
   "outputs": [
    {
     "ename": "SyntaxError",
     "evalue": "invalid syntax (Temp/ipykernel_240/2442870297.py, line 1)",
     "output_type": "error",
     "traceback": [
      "\u001b[1;36m  File \u001b[1;32m\"C:\\Users\\parkh\\AppData\\Local\\Temp/ipykernel_240/2442870297.py\"\u001b[1;36m, line \u001b[1;32m1\u001b[0m\n\u001b[1;33m    dict.append('three':3)\u001b[0m\n\u001b[1;37m                       ^\u001b[0m\n\u001b[1;31mSyntaxError\u001b[0m\u001b[1;31m:\u001b[0m invalid syntax\n"
     ]
    }
   ],
   "source": [
    "dict.append('three':3)                     # 안 된당 ㅎ\n",
    "print(dict)"
   ]
  },
  {
   "cell_type": "code",
   "execution_count": 34,
   "metadata": {},
   "outputs": [
    {
     "ename": "TypeError",
     "evalue": "unsupported operand type(s) for +: 'dict' and 'dict'",
     "output_type": "error",
     "traceback": [
      "\u001b[1;31m---------------------------------------------------------------------------\u001b[0m",
      "\u001b[1;31mTypeError\u001b[0m                                 Traceback (most recent call last)",
      "\u001b[1;32m~\\AppData\\Local\\Temp/ipykernel_240/748249444.py\u001b[0m in \u001b[0;36m<module>\u001b[1;34m\u001b[0m\n\u001b[1;32m----> 1\u001b[1;33m \u001b[0mnew_dict\u001b[0m \u001b[1;33m=\u001b[0m \u001b[0mdict\u001b[0m \u001b[1;33m+\u001b[0m \u001b[1;33m{\u001b[0m\u001b[1;34m'three'\u001b[0m\u001b[1;33m:\u001b[0m\u001b[1;36m3\u001b[0m\u001b[1;33m}\u001b[0m\u001b[1;33m\u001b[0m\u001b[1;33m\u001b[0m\u001b[0m\n\u001b[0m\u001b[0;32m      2\u001b[0m \u001b[0mprint\u001b[0m\u001b[1;33m(\u001b[0m\u001b[0mnew_dict\u001b[0m\u001b[1;33m)\u001b[0m\u001b[1;33m\u001b[0m\u001b[1;33m\u001b[0m\u001b[0m\n",
      "\u001b[1;31mTypeError\u001b[0m: unsupported operand type(s) for +: 'dict' and 'dict'"
     ]
    }
   ],
   "source": [
    "new_dict = dict + {'three':3}              # 이것도 안 된다 ㅎ\n",
    "print(new_dict)"
   ]
  },
  {
   "cell_type": "code",
   "execution_count": 37,
   "metadata": {},
   "outputs": [
    {
     "name": "stdout",
     "output_type": "stream",
     "text": [
      "{'one': 11, 'two': 2, 'three': 3}\n"
     ]
    }
   ],
   "source": [
    "                                    # 그렇다면 세 번째 방법. 기존에 n개까지의 키가 있었다면, \n",
    "dict['three'] = 3                   # '딕셔너리명 [n+1번째 키 이름] = 밸류'를 냅다 써버리기\n",
    "print(dict)                         # 잘 된다. 근데 위의 리스트 추가방법이 딕셔너리에서 안 됐듯이, 이 방법은 리스트에서 안 된다."
   ]
  },
  {
   "cell_type": "code",
   "execution_count": 38,
   "metadata": {},
   "outputs": [
    {
     "ename": "IndexError",
     "evalue": "list assignment index out of range",
     "output_type": "error",
     "traceback": [
      "\u001b[1;31m---------------------------------------------------------------------------\u001b[0m",
      "\u001b[1;31mIndexError\u001b[0m                                Traceback (most recent call last)",
      "\u001b[1;32m~\\AppData\\Local\\Temp/ipykernel_240/3124039287.py\u001b[0m in \u001b[0;36m<module>\u001b[1;34m\u001b[0m\n\u001b[0;32m      1\u001b[0m \u001b[1;31m# 지금 리스트에 인덱스 01234 가 있는데, 바로 위의 딕셔너리 추가방법으로 인덱스5를 추가 시도해보겠음.\u001b[0m\u001b[1;33m\u001b[0m\u001b[1;33m\u001b[0m\u001b[0m\n\u001b[0;32m      2\u001b[0m \u001b[1;33m\u001b[0m\u001b[0m\n\u001b[1;32m----> 3\u001b[1;33m \u001b[0mlist\u001b[0m\u001b[1;33m[\u001b[0m\u001b[1;36m5\u001b[0m\u001b[1;33m]\u001b[0m \u001b[1;33m=\u001b[0m \u001b[1;36m7\u001b[0m\u001b[1;33m\u001b[0m\u001b[1;33m\u001b[0m\u001b[0m\n\u001b[0m\u001b[0;32m      4\u001b[0m \u001b[0mprint\u001b[0m\u001b[1;33m(\u001b[0m\u001b[0mlist\u001b[0m\u001b[1;33m)\u001b[0m\u001b[1;33m\u001b[0m\u001b[1;33m\u001b[0m\u001b[0m\n",
      "\u001b[1;31mIndexError\u001b[0m: list assignment index out of range"
     ]
    }
   ],
   "source": [
    "# 지금 리스트에 인덱스 01234 가 있는데, 바로 위의 딕셔너리 추가방법으로 인덱스5를 추가 시도해보겠음.\n",
    "\n",
    "list[5] = 7                         # 리스트에 0~4 인덱스까지만 자리가 있고, 인덱스 5는 애초에 터조차 없어서 추가고 자시고 짤 없다.\n",
    "print(list)                         # 딕셔너리는 냅다 추가해버리기가 되는데 리스트는 안 봐준다. 걍 알고는 있자."
   ]
  },
  {
   "cell_type": "code",
   "execution_count": 1,
   "metadata": {},
   "outputs": [
    {
     "name": "stdout",
     "output_type": "stream",
     "text": [
      "봄\n",
      "여름\n",
      "가을\n",
      "겨울\n"
     ]
    }
   ],
   "source": [
    "seasons = ['봄', '여름', '가을', '겨울']\n",
    "\n",
    "for season in seasons :           # for문 정리할 때 다시 하겠지만, for a in b 의미 알아두기\n",
    "    print(season)                 # b의 범위에 있는 것들을 a라는 이름으로 하나씩 어쩌구(여기서는 print) 해줄 것이다."
   ]
  },
  {
   "cell_type": "code",
   "execution_count": 9,
   "metadata": {},
   "outputs": [
    {
     "name": "stdout",
     "output_type": "stream",
     "text": [
      "{'Tod': 35, 'Jane': 23, 'Paul': 62}\n",
      "Tod\n",
      "Jane\n",
      "Paul\n",
      "35\n",
      "23\n",
      "62\n",
      "Tod의 나이는 35살입니다.\n",
      "Jane의 나이는 23살입니다.\n",
      "Paul의 나이는 62살입니다.\n",
      "Tod의 나이는 35살입니다.\n",
      "Jane의 나이는 23살입니다.\n",
      "Paul의 나이는 62살입니다.\n"
     ]
    }
   ],
   "source": [
    "ages = { 'Tod':35, 'Jane':23, 'Paul':62 }\n",
    "print(ages)\n",
    "\n",
    "for k in ages.keys() :\n",
    "    print(k)\n",
    "\n",
    "for v in ages.values() :\n",
    "    print(v)\n",
    "\n",
    "for k in ages.keys() :\n",
    "    print('{}의 나이는 {}살입니다.'.format(k, ages[k]))\n",
    "\n",
    "for k, v in ages.items() :\n",
    "    print('{}의 나이는 {}살입니다.'.format(k, v))"
   ]
  },
  {
   "cell_type": "markdown",
   "metadata": {},
   "source": [
    "#### 리스트와 리스트 더하기, 혹은 딕셔너리 더하기 딕셔너리 // 튜플은 안되는거 알제?"
   ]
  },
  {
   "cell_type": "code",
   "execution_count": 6,
   "metadata": {},
   "outputs": [
    {
     "name": "stdout",
     "output_type": "stream",
     "text": [
      "[1, 2, 3, 4]\n",
      "[1, 2, 3, 4]\n",
      "None\n",
      "{1: 'one', 2: 'two', 3: 'three', 4: 'four'}\n"
     ]
    }
   ],
   "source": [
    "list12 = [1, 2]\n",
    "list34 = [3, 4]\n",
    "list1234 = list12 + list34\n",
    "print(list12 + list34)\n",
    "print(list1234)\n",
    "\n",
    "dict12 = {1:'one', 2:'two'}\n",
    "dict34 = {3:'three', 4:'four'}\n",
    "# dict1234 = dict12 + dict34              # 해보니까 딕셔너리는 리스트와 같은 단순 덧셈식으로는 안 된다.\n",
    "# print(dict1234)\n",
    "\n",
    "dict1234 = dict12.update(dict34)          # dict12에 dict34를 업뎃해준다.\n",
    "print(dict1234)                           # 이거 왜 none 나오냐..? 저는 {1: 'one', 2: 'two', 3: 'three', 4: 'fout'}를 예상했는데!!\n",
    "\n",
    "dict12.update(dict34)                     # 위 예상한 결과값이 나오려면 이렇게 해야됨..\n",
    "print(dict12)                             # 올바른 방법은 알겠는데 저렇게 변수명 dict1234하면 왜 None인지 아시는 분?.."
   ]
  },
  {
   "cell_type": "markdown",
   "metadata": {},
   "source": [
    "### 튜플!!! (튜플)은 (소괄호)"
   ]
  },
  {
   "cell_type": "code",
   "execution_count": 7,
   "metadata": {},
   "outputs": [
    {
     "name": "stdout",
     "output_type": "stream",
     "text": [
      "<class 'tuple'>\n",
      "<class 'tuple'>\n",
      "<class 'int'>\n",
      "<class 'str'>\n",
      "<class 'tuple'>\n",
      "<class 'tuple'>\n"
     ]
    }
   ],
   "source": [
    "tuple1 = (1, 2, 3, 4, 5)\n",
    "tuple2 = 6, 7, 8, 9, 0       # 대상이 여러개인 튜플은 소괄호를 쓰지 않아도\n",
    "\n",
    "print(type(tuple1))\n",
    "print(type(tuple2))          # 튜플로 인정해준다!!\n",
    "\n",
    "a = 1                        # 하지만 값이 1개인 경우에는 정수\n",
    "b = 'string'                 # 혹은 문자열과 구분할 수 없으므로\n",
    "\n",
    "c = 2,                       # 콤마를 써줘야 된다고 하네요...\n",
    "d = 'stri',\n",
    "\n",
    "print(type(a))\n",
    "print(type(b))\n",
    "print(type(c))               # 콤마를 찍어주면\n",
    "print(type(d))               # 쟈가쟈가장.. 근데 뭐 쓸 일이 있나 아직은 잘 모르겠다."
   ]
  },
  {
   "cell_type": "markdown",
   "metadata": {},
   "source": [
    "### 리스트 <----> 튜플 체인지~!!!"
   ]
  },
  {
   "cell_type": "code",
   "execution_count": 8,
   "metadata": {},
   "outputs": [
    {
     "name": "stdout",
     "output_type": "stream",
     "text": [
      "(1, 2, 3)\n",
      "<class 'list'>\n",
      "<class 'tuple'>\n",
      "[1, 2, 3]\n"
     ]
    }
   ],
   "source": [
    "list123 = [1, 2, 3]\n",
    "                                # 리스트를 튜플로 바꾸기\n",
    "tuple123 = tuple(list123)       # 튜플로 만들 것의 변수명 = tuple(튜플로 바꿀 리스트명)\n",
    "print(tuple123)\n",
    "\n",
    "print(type(list123))\n",
    "print(type(tuple123))\n",
    "                                # 튜플을 리스트로 바꾸기\n",
    "list123 = list(tuple123)        # 리스트로 만들 것의 변수명 = list(리스트로 바꿀 튜플명)\n",
    "print(list123)"
   ]
  },
  {
   "cell_type": "markdown",
   "metadata": {},
   "source": [
    "#### 사소한 의문입니다만\n",
    "- new 변수명 = 함수(객체)  <--- 이거랑\\\n",
    "- new 변수명 = 대상.함수(객체 있을 때도 있고 없을 때도 있고)  <--- 이거랑\\\n",
    "##### 정확한 차이가 뭔지?"
   ]
  },
  {
   "cell_type": "markdown",
   "metadata": {},
   "source": [
    "#### 튜플 활용법 : 패킹과 언패킹"
   ]
  },
  {
   "cell_type": "code",
   "execution_count": 9,
   "metadata": {},
   "outputs": [],
   "source": [
    "a, b = 1, 2"
   ]
  },
  {
   "cell_type": "code",
   "execution_count": 16,
   "metadata": {},
   "outputs": [
    {
     "name": "stdout",
     "output_type": "stream",
     "text": [
      "10 5\n"
     ]
    }
   ],
   "source": [
    "x = 5                                        # x 상자에 5가 담겨 있어요\n",
    "y = 10                                       # y 상자에는 10이 담겨 있어요\n",
    "\n",
    "temp = x          # ? 템프 뭔데?..            # 템프 상자에 5를 옮겨?담아요! x 상자가 비게 되었다는 뜻은 아니지만,\n",
    "x = y                                        # x 상자에 뭐가 들었든? 이제부터 x 상자에는 y, 즉 10이 들었어요.\n",
    "y = temp                                     # 마찬가지로 y 상자에는 10이 들어있었지만 이제부터는 템프다. 템프는 지금 5\n",
    "\n",
    "print(x, y)       # ??? 마술쇼?"
   ]
  },
  {
   "cell_type": "code",
   "execution_count": 15,
   "metadata": {},
   "outputs": [
    {
     "name": "stdout",
     "output_type": "stream",
     "text": [
      "5 10\n"
     ]
    }
   ],
   "source": [
    "x, y = y, x\n",
    "print(x, y)            # 이건 이해가 되는데.... 템프 뭔데..? // 이제는 이해했습니다.."
   ]
  },
  {
   "cell_type": "code",
   "execution_count": 25,
   "metadata": {},
   "outputs": [
    {
     "name": "stdout",
     "output_type": "stream",
     "text": [
      "0 1\n",
      "0번 인덱스의 값은 1\n",
      "1 2\n",
      "1번 인덱스의 값은 2\n",
      "2 3\n",
      "2번 인덱스의 값은 3\n",
      "3 4\n",
      "3번 인덱스의 값은 4\n",
      "4 5\n",
      "4번 인덱스의 값은 5\n",
      "(0, 1)\n",
      "0번 인덱스의 값은 1\n",
      "(1, 2)\n",
      "1번 인덱스의 값은 2\n",
      "(2, 3)\n",
      "2번 인덱스의 값은 3\n",
      "(3, 4)\n",
      "3번 인덱스의 값은 4\n",
      "(4, 5)\n",
      "4번 인덱스의 값은 5\n"
     ]
    }
   ],
   "source": [
    "list = [1, 2, 3, 4, 5]\n",
    "\n",
    "for i, v in enumerate(list) :\n",
    "    print(i, v)\n",
    "    print('{}번 인덱스의 값은 {}'.format(i, v))"
   ]
  },
  {
   "cell_type": "code",
   "execution_count": null,
   "metadata": {},
   "outputs": [],
   "source": []
  }
 ],
 "metadata": {
  "interpreter": {
   "hash": "0fe239acb2c733ddeb4fbdb8941f4499ff76b52fd3486f7f320659e35620f99f"
  },
  "kernelspec": {
   "display_name": "Python 3.9.7 64-bit ('base': conda)",
   "language": "python",
   "name": "python3"
  },
  "language_info": {
   "codemirror_mode": {
    "name": "ipython",
    "version": 3
   },
   "file_extension": ".py",
   "mimetype": "text/x-python",
   "name": "python",
   "nbconvert_exporter": "python",
   "pygments_lexer": "ipython3",
   "version": "3.9.7"
  },
  "orig_nbformat": 4
 },
 "nbformat": 4,
 "nbformat_minor": 2
}
