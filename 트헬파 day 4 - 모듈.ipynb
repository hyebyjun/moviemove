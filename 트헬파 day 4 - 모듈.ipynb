{
 "cells": [
  {
   "cell_type": "code",
   "execution_count": 9,
   "metadata": {},
   "outputs": [
    {
     "name": "stdout",
     "output_type": "stream",
     "text": [
      "가위\n"
     ]
    }
   ],
   "source": [
    "import random\n",
    "candidates = ['가위', '바위', '보']\n",
    "selected = random.choice(candidates)                # 랜덤 초이스는 내가 위에 만든 리스트명 중에서 무작위로 하나 뽑는 함수\n",
    "print(selected)"
   ]
  },
  {
   "cell_type": "markdown",
   "metadata": {},
   "source": [
    "random_elements가 아래 리스트 중 하나를 갖도록 만들어보기"
   ]
  },
  {
   "cell_type": "code",
   "execution_count": 7,
   "metadata": {},
   "outputs": [
    {
     "name": "stdout",
     "output_type": "stream",
     "text": [
      "남\n"
     ]
    }
   ],
   "source": [
    "import random\n",
    "list = ['빨', '주', '노', '초', '파', '남', '보']\n",
    "\n",
    "# rainbow_elements = list.random.choice()    # 내가 처음 쓴 답\n",
    "rainbow_elements = random.choice(list)\n",
    "print(rainbow_elements)\n",
    "\n",
    "# 아직 .함수명() 에서 ()괄호 안에 뭘 넣어야 하는지, 비워두는지 많이 헷갈린다ㅠㅠ"
   ]
  },
  {
   "cell_type": "code",
   "execution_count": 10,
   "metadata": {},
   "outputs": [
    {
     "name": "stdout",
     "output_type": "stream",
     "text": [
      "2\n"
     ]
    }
   ],
   "source": [
    "import random\n",
    "random_number = random.randint(2, 5)  # 요거는 로또 생성할 때 썼던 기억 난다\n",
    "print(random_number)                  # (a, b)에서 보통 b-1인 것 과 달리 b까지 포함함"
   ]
  },
  {
   "cell_type": "code",
   "execution_count": 12,
   "metadata": {},
   "outputs": [
    {
     "name": "stdout",
     "output_type": "stream",
     "text": [
      "['주', '노', '보', '빨', '파', '초', '남']\n"
     ]
    }
   ],
   "source": [
    "random.shuffle(list)\n",
    "print(list)"
   ]
  },
  {
   "cell_type": "code",
   "execution_count": null,
   "metadata": {},
   "outputs": [],
   "source": []
  }
 ],
 "metadata": {
  "interpreter": {
   "hash": "0fe239acb2c733ddeb4fbdb8941f4499ff76b52fd3486f7f320659e35620f99f"
  },
  "kernelspec": {
   "display_name": "Python 3.9.7 64-bit ('base': conda)",
   "language": "python",
   "name": "python3"
  },
  "language_info": {
   "codemirror_mode": {
    "name": "ipython",
    "version": 3
   },
   "file_extension": ".py",
   "mimetype": "text/x-python",
   "name": "python",
   "nbconvert_exporter": "python",
   "pygments_lexer": "ipython3",
   "version": "3.9.7"
  },
  "orig_nbformat": 4
 },
 "nbformat": 4,
 "nbformat_minor": 2
}
